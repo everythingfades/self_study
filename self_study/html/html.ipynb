{
 "cells": [
  {
   "cell_type": "markdown",
   "id": "09854162",
   "metadata": {},
   "source": [
    "查东西: https://www.w3schools.com/html/html_intro.asp\n",
    "## import note:\n",
    "由于jupyter notebook本质上用html,如果在jupyter里加载css会直接把整个notebook的css全改了,所以记得重置,除非你能忍受你设置的奇怪css\n",
    "### 重置"
   ]
  },
  {
   "cell_type": "code",
   "execution_count": 73,
   "id": "9c1f833f",
   "metadata": {},
   "outputs": [
    {
     "name": "stdout",
     "output_type": "stream",
     "text": [
      "Reset css and font defaults in:\r\n",
      "/root/.jupyter/custom &\r\n",
      "/root/.local/share/jupyter/nbextensions\r\n"
     ]
    }
   ],
   "source": [
    "#! pip install --upgrade jupyterthemes\n",
    "# 也可以用这个设置jupyter风格,不过我习惯默认\n",
    "!jt -r\n",
    "# refresh the page to reload css\n",
    "# remember to save!!!"
   ]
  },
  {
   "cell_type": "markdown",
   "id": "3074c2b4",
   "metadata": {},
   "source": [
    "# html结构\n",
    "大致如下"
   ]
  },
  {
   "cell_type": "code",
   "execution_count": null,
   "id": "0f179e1a",
   "metadata": {},
   "outputs": [],
   "source": [
    "%%html \n",
    "<!-- 这行不算 -->\n",
    "<!DOCTYPE html>\n",
    "<html>\n",
    "    <head>\n",
    "    </head> <!-- 用来存metadata,相当于各种import和各种配置,比如<title> -->\n",
    "    <body><!-- 你能看到的html-->\n",
    "    </body>\n",
    "</html>"
   ]
  },
  {
   "cell_type": "markdown",
   "id": "5e62ebfa",
   "metadata": {},
   "source": [
    "# 标签\n",
    "## 注释:\n",
    "< !-- 这是注释 -->,不会在html里显示,但是由于访问网页相当于下载html文件,于是注释其实可以被看到(不要发电)\n",
    "## 非空标签\n",
    "必须是前后配对的,例如< p>< /p>\n",
    "### 基本标签:\n",
    "#### < !DOCTYPE html>\n",
    "用来标识这是一个html文件\n",
    "#### < html>\n",
    "html正文,除了< !DOCTYPE html>以外的第一行,< /html>是最后一行"
   ]
  },
  {
   "cell_type": "code",
   "execution_count": 27,
   "id": "5b3f747e",
   "metadata": {},
   "outputs": [
    {
     "data": {
      "text/html": [
       "<!DOCTYPE html>\n",
       "<html lang=\"ch\">\n",
       "<head>\n",
       "<title>Page Title</title>\n",
       "</head>\n",
       "<body>\n",
       "\n",
       "<h1>第一标题</h1>\n",
       "<h2>第二标题</h2>\n",
       "<h3>第三标题</h3>\n",
       "<h4>第四标题</h4>\n",
       "<h5>第五标题</h5>\n",
       "<h6>第六标题</h6>\n",
       "</body>\n",
       "</html>\n"
      ],
      "text/plain": [
       "<IPython.core.display.HTML object>"
      ]
     },
     "metadata": {},
     "output_type": "display_data"
    }
   ],
   "source": [
    "%%html\n",
    "<!DOCTYPE html>\n",
    "<html lang=\"ch\">\n",
    "<head>\n",
    "<title>Page Title</title>\n",
    "</head>\n",
    "<body>\n",
    "\n",
    "<h1>第一标题</h1>\n",
    "<h2>第二标题</h2>\n",
    "<h3>第三标题</h3>\n",
    "<h4>第四标题</h4>\n",
    "<h5>第五标题</h5>\n",
    "<h6>第六标题</h6>\n",
    "</body>\n",
    "</html>"
   ]
  },
  {
   "cell_type": "markdown",
   "id": "59b1e861",
   "metadata": {},
   "source": [
    "#### < head>\n",
    "头标签,用来存metadata\n",
    "- lang: 指定整个html的语言\n",
    "#### < body>\n",
    "html的主题,你能看到的东西"
   ]
  },
  {
   "cell_type": "markdown",
   "id": "bf40f25e",
   "metadata": {},
   "source": [
    "#### < h>\n",
    "用来表示标题,和这里markdown的#标题差不多\n",
    "- style: 用来定义颜色,字体,大小等等,相当于把< head>里的< style>移到标签里面(不过建议直接放到css里)"
   ]
  },
  {
   "cell_type": "code",
   "execution_count": 46,
   "id": "a477719e",
   "metadata": {},
   "outputs": [
    {
     "data": {
      "text/html": [
       "<!DOCTYPE html>\n",
       "<html>\n",
       "<head>\n",
       "<title>Page Title</title>\n",
       "</head>\n",
       "<body>\n",
       "\n",
       "<h1 style=\"background-color:tomato;\">第一标题</h1>\n",
       "<h2>第二标题</h2>\n",
       "<h3>第三标题</h3>\n",
       "<h4>第四标题</h4>\n",
       "<h5>第五标题</h5>\n",
       "<h6>第六标题</h6>\n",
       "</body>\n",
       "</html>\n"
      ],
      "text/plain": [
       "<IPython.core.display.HTML object>"
      ]
     },
     "metadata": {},
     "output_type": "display_data"
    }
   ],
   "source": [
    "%%html\n",
    "<!DOCTYPE html>\n",
    "<html>\n",
    "<head>\n",
    "<title>Page Title</title>\n",
    "</head>\n",
    "<body>\n",
    "\n",
    "<h1 style=\"background-color:tomato;\">第一标题</h1>\n",
    "<h2>第二标题</h2>\n",
    "<h3>第三标题</h3>\n",
    "<h4>第四标题</h4>\n",
    "<h5>第五标题</h5>\n",
    "<h6>第六标题</h6>\n",
    "</body>\n",
    "</html>"
   ]
  },
  {
   "cell_type": "markdown",
   "id": "0e99f2d9",
   "metadata": {},
   "source": [
    "#### < p>\n",
    "用来定义段落,p标签会自动移除多余的空格和缩进,和jupyter notebook里一样\n",
    "- style: 用来定义颜色,字体,大小等等,相当于把< head>里的< style>移到标签里面(不过建议直接放到css里)\n",
    "- title: 标题,当鼠标移到这个元素上时会显示的文字\n"
   ]
  },
  {
   "cell_type": "code",
   "execution_count": 50,
   "id": "6274ec91",
   "metadata": {},
   "outputs": [
    {
     "data": {
      "text/html": [
       "<!DOCTYPE html>\n",
       "<html>\n",
       "    <head>\n",
       "        <title>Page Title</title>\n",
       "    </head>\n",
       "    <body>\n",
       "        <p style=\"text-align:center;font-family:SimSun\" title=\"example\">段落1</p>\n",
       "        <p style=\"text-indent:30px;color:red;\">段落2</p>\n",
       "        <div>这是不用p的样式</div>\n",
       "    </body>\n",
       "</html>\n"
      ],
      "text/plain": [
       "<IPython.core.display.HTML object>"
      ]
     },
     "metadata": {},
     "output_type": "display_data"
    }
   ],
   "source": [
    "%%html\n",
    "<!DOCTYPE html>\n",
    "<html>\n",
    "    <head>\n",
    "        <title>Page Title</title>\n",
    "    </head>\n",
    "    <body>\n",
    "        <p style=\"text-align:center;font-family:SimSun\" title=\"example\">段落1</p>\n",
    "        <p style=\"text-indent:30px;color:red;\">段落2</p>\n",
    "        <div>这是不用p的样式</div>\n",
    "    </body>\n",
    "</html>"
   ]
  },
  {
   "cell_type": "markdown",
   "id": "009aaf2a",
   "metadata": {},
   "source": [
    "#### < a>\n",
    "用来定义链接\n",
    "\n",
    "不过这个是在jupyter的服务器上跑,链接可能会有点问题,jupyter会自己在前面加上localhost:端口之类的东西定位到当前jupyter notebook里的锚点,如果要避免这个,在前面加上https:// 或者 http://\n",
    "- href:链接地址\n",
    "  - 绝对URL:加上https://, 会连接到其他网页获取图片\n",
    "  - 相对URL:相当于相对路径\n",
    "  - 也可以把包一层< img>把图片当做链接\n",
    "  - 甚至可以放邮箱链接,只不过要加mailto:,< a href=\"mailto:someone@example.com\">邮件</a>会自动调调出邮箱应用让你写邮件\n",
    "  - 书签:访问书签,可以直接跳转到网页的某个位置\n",
    "    - 例:<a href=\"#temp\">跳到这个页面的书签</a>\n",
    "    - 当然也可以跳到别的网页的书签\n",
    "- target:从以下四个里选:\n",
    "  - \"_self\": 默认,在相同窗口打开页面,它使得目标文档载入并显示在相同的框架或者窗口中作为源文档。这个目标是多余且不必要的，除非和文档标题 < base> 标签中的 target 属性一起使用。\n",
    "  - \"_blank\": 在新窗口打开页面\n",
    "  - \"_parent\": 在父架构中发开链接网页,如果这个引用是在窗口或者在顶级框架中，那么它与目标 _self 等效。\n",
    "  - \"_top\": 在整个窗口中打开链接网页\n",
    "  - 其他:直接声明在那个架构里打开,例如view_frame\n",
    "- a的style可以有特殊的css\n",
    "  - a:link    默认样子\n",
    "  - a:visited  访问过这个链接之后的样子\n",
    "  - a:hover   把鼠标放上去时的样子\n",
    "  - a:active   点击链接那一瞬间的样子\n"
   ]
  },
  {
   "cell_type": "code",
   "execution_count": 47,
   "id": "340780c1",
   "metadata": {},
   "outputs": [
    {
     "data": {
      "text/html": [
       "<!DOCTYPE html>\n",
       "<html>\n",
       "    <head>\n",
       "        <title>Page Title</title>\n",
       "        <meta http-equiv=\"Content-Type\" content=\"text/html; charset=utf-8\" />\n",
       "    </head>\n",
       "    <body>\n",
       "        <a href=\"https://www.bing.com\" style=\"color:red;background-color:powderblue\">链接</a>\n",
       "    </body>\n",
       "</html>\n"
      ],
      "text/plain": [
       "<IPython.core.display.HTML object>"
      ]
     },
     "metadata": {},
     "output_type": "display_data"
    }
   ],
   "source": [
    "%%html\n",
    "<!DOCTYPE html>\n",
    "<html>\n",
    "    <head>\n",
    "        <title>Page Title</title>\n",
    "        <meta http-equiv=\"Content-Type\" content=\"text/html; charset=utf-8\" />\n",
    "    </head>\n",
    "    <body>\n",
    "        <a href=\"https://www.bing.com\" style=\"color:red;background-color:powderblue\">链接</a>\n",
    "    </body>\n",
    "</html>"
   ]
  },
  {
   "cell_type": "markdown",
   "id": "f7678985",
   "metadata": {},
   "source": [
    "#### < img>\n",
    "用来定义图片,可以是网络上给定地址的图片,也可是本地图片\n",
    "\n",
    "- src: 图片地址,可以url也可以是本地地址,可以是动图(.gif)\n",
    "- alt: 规定图像无法显示时的替代文本(例如网速过慢等)\n",
    "- width: 图片宽度\n",
    "- height: 图片高度\n",
    "- 当然可以用style的css定义格式,推荐用这个\n",
    "  - 用float属性可以让图片悬浮在文字上,(和word排版类似)"
   ]
  },
  {
   "cell_type": "code",
   "execution_count": 48,
   "id": "5bf0534c",
   "metadata": {},
   "outputs": [
    {
     "data": {
      "text/html": [
       "<!DOCTYPE html>\n",
       "<html>\n",
       "    <head>\n",
       "        <title>Page Title</title>\n",
       "        <meta http-equiv=\"Content-Type\" content=\"text/html; charset=utf-8\" />\n",
       "    </head>\n",
       "    <body>\n",
       "        <img src=\"https://prts.wiki/images/ak.png?8efd0\" alt=\"测试图片\" width=\"100\" height=\"100\" style=\"color:red;background-color:powderblue\">\n",
       "        <img src=\"https://prts.wi_ki/images/ak.png?8efd0\" alt=\"测试图片\" width=\"100\" height=\"100\" style=\"color:red\">\n",
       "    </body>\n",
       "</html>\n"
      ],
      "text/plain": [
       "<IPython.core.display.HTML object>"
      ]
     },
     "metadata": {},
     "output_type": "display_data"
    }
   ],
   "source": [
    "%%html\n",
    "<!DOCTYPE html>\n",
    "<html>\n",
    "    <head>\n",
    "        <title>Page Title</title>\n",
    "        <meta http-equiv=\"Content-Type\" content=\"text/html; charset=utf-8\" />\n",
    "    </head>\n",
    "    <body>\n",
    "        <img src=\"https://prts.wiki/images/ak.png?8efd0\" alt=\"测试图片\" width=\"100\" height=\"100\" style=\"color:red;background-color:powderblue\">\n",
    "        <img src=\"https://prts.wi_ki/images/ak.png?8efd0\" alt=\"测试图片\" width=\"100\" height=\"100\" style=\"color:red\">\n",
    "    </body>\n",
    "</html>"
   ]
  },
  {
   "cell_type": "markdown",
   "id": "ae439723",
   "metadata": {},
   "source": [
    "### 各种文字格式\n",
    "#### < pre>\n",
    "可以显示文字,带格式"
   ]
  },
  {
   "cell_type": "code",
   "execution_count": 35,
   "id": "1ee54b8f",
   "metadata": {},
   "outputs": [
    {
     "data": {
      "text/html": [
       "<!DOCTYPE html>\n",
       "<html>\n",
       "    <head>\n",
       "        <title>Page Title</title>\n",
       "    </head>\n",
       "    <body>\n",
       "        <pre>\n",
       "        `1234567890-=\n",
       "        \n",
       "        qwertyuiop[]\\\n",
       "        \n",
       "        asdfghjkl;''\n",
       "        </pre>\n",
       "        <p style=\"text-indent:30px;color:red\">段落2</p>\n",
       "        <div>这是不用p的样式</div>\n",
       "    </body>\n",
       "</html>\n"
      ],
      "text/plain": [
       "<IPython.core.display.HTML object>"
      ]
     },
     "metadata": {},
     "output_type": "display_data"
    }
   ],
   "source": [
    "%%html\n",
    "<!DOCTYPE html>\n",
    "<html>\n",
    "    <head>\n",
    "        <title>Page Title</title>\n",
    "    </head>\n",
    "    <body>\n",
    "        <pre>\n",
    "        `1234567890-=\n",
    "        \n",
    "        qwertyuiop[]\\\n",
    "        \n",
    "        asdfghjkl;''\n",
    "        </pre>\n",
    "        <p style=\"text-indent:30px;color:red\">段落2</p>\n",
    "        <div>这是不用p的样式</div>\n",
    "    </body>\n",
    "</html>"
   ]
  },
  {
   "cell_type": "markdown",
   "id": "43393e13",
   "metadata": {},
   "source": [
    "#### < b>\n",
    "加粗"
   ]
  },
  {
   "cell_type": "code",
   "execution_count": 52,
   "id": "1096c020",
   "metadata": {},
   "outputs": [
    {
     "data": {
      "text/html": [
       "<!DOCTYPE html>\n",
       "<html>\n",
       "    <head>\n",
       "        <title>Page Title</title>\n",
       "    </head>\n",
       "    <body>\n",
       "        <b style=\"text-align:center\" title=\"example\">段落1</b>\n",
       "        <p style=\"text-indent:30px;color:red\">段落2</p>\n",
       "        <div>这是不用p的样式</div>\n",
       "    </body>\n",
       "</html>\n"
      ],
      "text/plain": [
       "<IPython.core.display.HTML object>"
      ]
     },
     "metadata": {},
     "output_type": "display_data"
    }
   ],
   "source": [
    "%%html\n",
    "<!DOCTYPE html>\n",
    "<html>\n",
    "    <head>\n",
    "        <title>Page Title</title>\n",
    "    </head>\n",
    "    <body>\n",
    "        <b style=\"text-align:center\" title=\"example\">段落1</b>\n",
    "        <p style=\"text-indent:30px;color:red\">段落2</p>\n",
    "        <div>这是不用p的样式</div>\n",
    "    </body>\n",
    "</html>"
   ]
  },
  {
   "cell_type": "markdown",
   "id": "c17779db",
   "metadata": {},
   "source": [
    "#### < strong>\n",
    "重要的文字,一般来说是加粗的,感觉没用\n"
   ]
  },
  {
   "cell_type": "code",
   "execution_count": 53,
   "id": "132716df",
   "metadata": {},
   "outputs": [
    {
     "data": {
      "text/html": [
       "<!DOCTYPE html>\n",
       "<html>\n",
       "    <head>\n",
       "        <title>Page Title</title>\n",
       "    </head>\n",
       "    <body>\n",
       "        <strong style=\"text-align:center\" title=\"example\">段落1</strong>\n",
       "        <p style=\"text-indent:30px;color:red\">段落2</p>\n",
       "        <div>这是不用p的样式</div>\n",
       "    </body>\n",
       "</html>\n"
      ],
      "text/plain": [
       "<IPython.core.display.HTML object>"
      ]
     },
     "metadata": {},
     "output_type": "display_data"
    }
   ],
   "source": [
    "%%html\n",
    "<!DOCTYPE html>\n",
    "<html>\n",
    "    <head>\n",
    "        <title>Page Title</title>\n",
    "    </head>\n",
    "    <body>\n",
    "        <strong style=\"text-align:center\" title=\"example\">段落1</strong>\n",
    "        <p style=\"text-indent:30px;color:red\">段落2</p>\n",
    "        <div>这是不用p的样式</div>\n",
    "    </body>\n",
    "</html>"
   ]
  },
  {
   "cell_type": "markdown",
   "id": "41214f2d",
   "metadata": {},
   "source": [
    "#### < i>\n",
    "斜体"
   ]
  },
  {
   "cell_type": "code",
   "execution_count": 59,
   "id": "fde19b85",
   "metadata": {},
   "outputs": [
    {
     "data": {
      "text/html": [
       "<!DOCTYPE html>\n",
       "<html>\n",
       "    <head>\n",
       "        <title>Page Title</title>\n",
       "    </head>\n",
       "    <body>\n",
       "        <i style=\"text-align:center\" title=\"example\">段落1</i>\n",
       "        <p style=\"text-indent:30px;color:red\">段落2</p>\n",
       "        <div>这是不用p的样式</div>\n",
       "    </body>\n",
       "</html>\n"
      ],
      "text/plain": [
       "<IPython.core.display.HTML object>"
      ]
     },
     "metadata": {},
     "output_type": "display_data"
    }
   ],
   "source": [
    "%%html\n",
    "<!DOCTYPE html>\n",
    "<html>\n",
    "    <head>\n",
    "        <title>Page Title</title>\n",
    "    </head>\n",
    "    <body>\n",
    "        <i style=\"text-align:center\" title=\"example\">段落1</i>\n",
    "        <p style=\"text-indent:30px;color:red\">段落2</p>\n",
    "        <div>这是不用p的样式</div>\n",
    "    </body>\n",
    "</html>"
   ]
  },
  {
   "cell_type": "markdown",
   "id": "d98baa8c",
   "metadata": {},
   "source": [
    "#### < em>\n",
    "表强调"
   ]
  },
  {
   "cell_type": "code",
   "execution_count": 60,
   "id": "8dcd4555",
   "metadata": {},
   "outputs": [
    {
     "data": {
      "text/html": [
       "<!DOCTYPE html>\n",
       "<html>\n",
       "    <head>\n",
       "        <title>Page Title</title>\n",
       "    </head>\n",
       "    <body>\n",
       "        <em style=\"text-align:center\" title=\"example\">段落1</em>\n",
       "        <p style=\"text-indent:30px;color:red\">段落2</p>\n",
       "        <div>这是不用p的样式</div>\n",
       "    </body>\n",
       "</html>\n"
      ],
      "text/plain": [
       "<IPython.core.display.HTML object>"
      ]
     },
     "metadata": {},
     "output_type": "display_data"
    }
   ],
   "source": [
    "%%html\n",
    "<!DOCTYPE html>\n",
    "<html>\n",
    "    <head>\n",
    "        <title>Page Title</title>\n",
    "    </head>\n",
    "    <body>\n",
    "        <em style=\"text-align:center\" title=\"example\">段落1</em>\n",
    "        <p style=\"text-indent:30px;color:red\">段落2</p>\n",
    "        <div>这是不用p的样式</div>\n",
    "    </body>\n",
    "</html>"
   ]
  },
  {
   "cell_type": "markdown",
   "id": "f0df3b42",
   "metadata": {},
   "source": [
    "#### < small>\n",
    "小号字"
   ]
  },
  {
   "cell_type": "code",
   "execution_count": 62,
   "id": "e4a131d2",
   "metadata": {},
   "outputs": [
    {
     "data": {
      "text/html": [
       "<!DOCTYPE html>\n",
       "<html>\n",
       "    <head>\n",
       "        <title>Page Title</title>\n",
       "    </head>\n",
       "    <body>\n",
       "        <small title=\"example\">段落1</small>\n",
       "        <p style=\"text-indent:30px;color:red\">段落2</p>\n",
       "        <div>这是不用p的样式</div>\n",
       "    </body>\n",
       "</html>\n"
      ],
      "text/plain": [
       "<IPython.core.display.HTML object>"
      ]
     },
     "metadata": {},
     "output_type": "display_data"
    }
   ],
   "source": [
    "%%html\n",
    "<!DOCTYPE html>\n",
    "<html>\n",
    "    <head>\n",
    "        <title>Page Title</title>\n",
    "    </head>\n",
    "    <body>\n",
    "        <small title=\"example\">段落1</small>\n",
    "        <p style=\"text-indent:30px;color:red\">段落2</p>\n",
    "        <div>这是不用p的样式</div>\n",
    "    </body>\n",
    "</html>"
   ]
  },
  {
   "cell_type": "markdown",
   "id": "8ff1ea73",
   "metadata": {},
   "source": [
    "##### < mark>\n",
    "高亮,但是可以在p标签里面使用"
   ]
  },
  {
   "cell_type": "code",
   "execution_count": 63,
   "id": "bf36862f",
   "metadata": {},
   "outputs": [
    {
     "data": {
      "text/html": [
       "<!DOCTYPE html>\n",
       "<html>\n",
       "    <head>\n",
       "        <title>Page Title</title>\n",
       "    </head>\n",
       "    <body>\n",
       "        <p style=\"text-indent:30px;color:red\">段<mark>落</mark>2</p>\n",
       "        <div>这是不用p的样式</div>\n",
       "    </body>\n",
       "</html>\n"
      ],
      "text/plain": [
       "<IPython.core.display.HTML object>"
      ]
     },
     "metadata": {},
     "output_type": "display_data"
    }
   ],
   "source": [
    "%%html\n",
    "<!DOCTYPE html>\n",
    "<html>\n",
    "    <head>\n",
    "        <title>Page Title</title>\n",
    "    </head>\n",
    "    <body>\n",
    "        <p style=\"text-indent:30px;color:red\">段<mark>落</mark>2</p>\n",
    "        <div>这是不用p的样式</div>\n",
    "    </body>\n",
    "</html>"
   ]
  },
  {
   "cell_type": "markdown",
   "id": "8ec79593",
   "metadata": {},
   "source": [
    "#### < del>\n",
    "划掉"
   ]
  },
  {
   "cell_type": "code",
   "execution_count": 64,
   "id": "98a94f41",
   "metadata": {},
   "outputs": [
    {
     "data": {
      "text/html": [
       "<!DOCTYPE html>\n",
       "<html>\n",
       "    <head>\n",
       "        <title>Page Title</title>\n",
       "    </head>\n",
       "    <body>\n",
       "        <del title=\"example\">段落1</del>\n",
       "        <p style=\"text-indent:30px;color:red\">段<mark>落</mark>2</p>\n",
       "        <div>这是不用p的样式</div>\n",
       "    </body>\n",
       "</html>\n"
      ],
      "text/plain": [
       "<IPython.core.display.HTML object>"
      ]
     },
     "metadata": {},
     "output_type": "display_data"
    }
   ],
   "source": [
    "%%html\n",
    "<!DOCTYPE html>\n",
    "<html>\n",
    "    <head>\n",
    "        <title>Page Title</title>\n",
    "    </head>\n",
    "    <body>\n",
    "        <del title=\"example\">段落1</del>\n",
    "        <p style=\"text-indent:30px;color:red\">段<mark>落</mark>2</p>\n",
    "        <div>这是不用p的样式</div>\n",
    "    </body>\n",
    "</html>"
   ]
  },
  {
   "cell_type": "markdown",
   "id": "ddc321ec",
   "metadata": {},
   "source": [
    "##### < ins>\n",
    "下划线"
   ]
  },
  {
   "cell_type": "code",
   "execution_count": 65,
   "id": "fc22811f",
   "metadata": {},
   "outputs": [
    {
     "data": {
      "text/html": [
       "<!DOCTYPE html>\n",
       "<html>\n",
       "    <head>\n",
       "        <title>Page Title</title>\n",
       "    </head>\n",
       "    <body>\n",
       "        <ins title=\"example\">段落1</ins>\n",
       "        <p style=\"text-indent:30px;color:red\">段<mark>落</mark>2</p>\n",
       "        <div>这是不用p的样式</div>\n",
       "    </body>\n",
       "</html>\n"
      ],
      "text/plain": [
       "<IPython.core.display.HTML object>"
      ]
     },
     "metadata": {},
     "output_type": "display_data"
    }
   ],
   "source": [
    "%%html\n",
    "<!DOCTYPE html>\n",
    "<html>\n",
    "    <head>\n",
    "        <title>Page Title</title>\n",
    "    </head>\n",
    "    <body>\n",
    "        <ins title=\"example\">段落1</ins>\n",
    "        <p style=\"text-indent:30px;color:red\">段<mark>落</mark>2</p>\n",
    "        <div>这是不用p的样式</div>\n",
    "    </body>\n",
    "</html>"
   ]
  },
  {
   "cell_type": "markdown",
   "id": "b30f303b",
   "metadata": {},
   "source": [
    "#### < sub>\n",
    "下标"
   ]
  },
  {
   "cell_type": "code",
   "execution_count": 1,
   "id": "82b1696f",
   "metadata": {},
   "outputs": [
    {
     "data": {
      "text/html": [
       "<!DOCTYPE html>\n",
       "<html>\n",
       "    <head>\n",
       "        <title>Page Title</title>\n",
       "    </head>\n",
       "    <body>\n",
       "        <p title=\"example\">段落<sub>1</sub></p>\n",
       "        <p style=\"text-indent:30px;color:red\">段落<sub>2</sub></p>\n",
       "        <div>这是不用p的样式</div>\n",
       "    </body>\n",
       "</html>\n"
      ],
      "text/plain": [
       "<IPython.core.display.HTML object>"
      ]
     },
     "metadata": {},
     "output_type": "display_data"
    }
   ],
   "source": [
    "%%html\n",
    "<!DOCTYPE html>\n",
    "<html>\n",
    "    <head>\n",
    "        <title>Page Title</title>\n",
    "    </head>\n",
    "    <body>\n",
    "        <p title=\"example\">段落<sub>1</sub></p>\n",
    "        <p style=\"text-indent:30px;color:red\">段落<sub>2</sub></p>\n",
    "        <div>这是不用p的样式</div>\n",
    "    </body>\n",
    "</html>"
   ]
  },
  {
   "cell_type": "markdown",
   "id": "6bebf2a5",
   "metadata": {},
   "source": [
    "#### < sup>\n",
    "上标"
   ]
  },
  {
   "cell_type": "code",
   "execution_count": 2,
   "id": "703b9824",
   "metadata": {
    "scrolled": true
   },
   "outputs": [
    {
     "data": {
      "text/html": [
       "<!DOCTYPE html>\n",
       "<html>\n",
       "    <head>\n",
       "        <title>Page Title</title>\n",
       "    </head>\n",
       "    <body>\n",
       "        <p title=\"example\">段落<sup>1</sup></p>\n",
       "        <p style=\"text-indent:30px;color:red\">段<mark>落</mark>2</p>\n",
       "        <div>这是不用p的样式</div>\n",
       "    </body>\n",
       "</html>\n"
      ],
      "text/plain": [
       "<IPython.core.display.HTML object>"
      ]
     },
     "metadata": {},
     "output_type": "display_data"
    }
   ],
   "source": [
    "%%html\n",
    "<!DOCTYPE html>\n",
    "<html>\n",
    "    <head>\n",
    "        <title>Page Title</title>\n",
    "    </head>\n",
    "    <body>\n",
    "        <p title=\"example\">段落<sup>1</sup></p>\n",
    "        <p style=\"text-indent:30px;color:red\">段<mark>落</mark>2</p>\n",
    "        <div>这是不用p的样式</div>\n",
    "    </body>\n",
    "</html>"
   ]
  },
  {
   "cell_type": "markdown",
   "id": "236c2095",
   "metadata": {},
   "source": [
    "#### < article>\n",
    "创建一块区域,这块区域是一个单独的文章,不渲染任何东西,但是可以用css"
   ]
  },
  {
   "cell_type": "code",
   "execution_count": 93,
   "id": "4fe01979",
   "metadata": {},
   "outputs": [
    {
     "data": {
      "text/html": [
       "<p> a</p>\n",
       "<article>\n",
       "    <h2>Google Chrome</h2>\n",
       "    <p>Google Chrome is a web browser developed by Google, released in 2008. Chrome is the world's most popular web browser today!</p>\n",
       "</article>\n"
      ],
      "text/plain": [
       "<IPython.core.display.HTML object>"
      ]
     },
     "metadata": {},
     "output_type": "display_data"
    }
   ],
   "source": [
    "%%html\n",
    "<p> a</p>\n",
    "<article>\n",
    "    <h2>Google Chrome</h2>\n",
    "    <p>Google Chrome is a web browser developed by Google, released in 2008. Chrome is the world's most popular web browser today!</p>\n",
    "</article>"
   ]
  },
  {
   "cell_type": "markdown",
   "id": "8f42046a",
   "metadata": {},
   "source": [
    "#### < aside>\n",
    "用来呈现一些东西除了当前这个内容之外的内容,同样不渲染任何东西,但是可以用css"
   ]
  },
  {
   "cell_type": "code",
   "execution_count": 94,
   "id": "22d4a500",
   "metadata": {},
   "outputs": [
    {
     "data": {
      "text/html": [
       "<aside>\n",
       "<h4>Epcot Center</h4>\n",
       "<p>Epcot is a theme park at Walt Disney World Resort featuring exciting attractions, international pavilions, award-winning fireworks and seasonal special events.</p>\n",
       "</aside>\n"
      ],
      "text/plain": [
       "<IPython.core.display.HTML object>"
      ]
     },
     "metadata": {},
     "output_type": "display_data"
    }
   ],
   "source": [
    "%%html\n",
    "<aside>\n",
    "<h4>Epcot Center</h4>\n",
    "<p>Epcot is a theme park at Walt Disney World Resort featuring exciting attractions, international pavilions, award-winning fireworks and seasonal special events.</p>\n",
    "</aside>"
   ]
  },
  {
   "cell_type": "markdown",
   "id": "40d97338",
   "metadata": {},
   "source": []
  },
  {
   "cell_type": "markdown",
   "id": "461bffd2",
   "metadata": {},
   "source": [
    "### 各种引用:\n",
    "#### < blockquote>\n",
    "用于带网页的引用,注意网页不会显示,需要跳转那种的再套一个< a>"
   ]
  },
  {
   "cell_type": "code",
   "execution_count": 4,
   "id": "1d234bf2",
   "metadata": {},
   "outputs": [
    {
     "data": {
      "text/html": [
       "<!DOCTYPE html>\n",
       "<html>\n",
       "    <head>\n",
       "        <title>Page Title</title>\n",
       "    </head>\n",
       "    <body>\n",
       "        <p>以下是引用</p>\n",
       "        <a href=\"https://www.bing.com\">\n",
       "            <blockquote cite=\"https://www.bing.com\">\n",
       "            这里是必应\n",
       "            </blockquote>\n",
       "        </a>\n",
       "    </body>\n",
       "</html>\n"
      ],
      "text/plain": [
       "<IPython.core.display.HTML object>"
      ]
     },
     "metadata": {},
     "output_type": "display_data"
    }
   ],
   "source": [
    "%%html\n",
    "<!DOCTYPE html>\n",
    "<html>\n",
    "    <head>\n",
    "        <title>Page Title</title>\n",
    "    </head>\n",
    "    <body>\n",
    "        <p>以下是引用</p>\n",
    "        <a href=\"https://www.bing.com\">\n",
    "            <blockquote cite=\"https://www.bing.com\">\n",
    "            这里是必应\n",
    "            </blockquote>\n",
    "        </a>\n",
    "    </body>\n",
    "</html>"
   ]
  },
  {
   "cell_type": "markdown",
   "id": "b341c041",
   "metadata": {},
   "source": [
    "#### < q>\n",
    "定义一个短问题"
   ]
  },
  {
   "cell_type": "code",
   "execution_count": 5,
   "id": "d3aad749",
   "metadata": {},
   "outputs": [
    {
     "data": {
      "text/html": [
       "<!DOCTYPE html>\n",
       "<html>\n",
       "    <head>\n",
       "        <title>Page Title</title>\n",
       "    </head>\n",
       "    <body>\n",
       "        <p>以下是引用</p>\n",
       "        <a href=\"https://www.bing.com\">\n",
       "            <q cite=\"https://www.bing.com\">\n",
       "            这里是必应\n",
       "            </q>\n",
       "        </a>\n",
       "    </body>\n",
       "</html>\n"
      ],
      "text/plain": [
       "<IPython.core.display.HTML object>"
      ]
     },
     "metadata": {},
     "output_type": "display_data"
    }
   ],
   "source": [
    "%%html\n",
    "<!DOCTYPE html>\n",
    "<html>\n",
    "    <head>\n",
    "        <title>Page Title</title>\n",
    "    </head>\n",
    "    <body>\n",
    "        <p>以下是引用</p>\n",
    "        <a href=\"https://www.bing.com\">\n",
    "            <q cite=\"https://www.bing.com\">\n",
    "            这里是必应\n",
    "            </q>\n",
    "        </a>\n",
    "    </body>\n",
    "</html>"
   ]
  },
  {
   "cell_type": "markdown",
   "id": "71435195",
   "metadata": {},
   "source": [
    "#### < abbr>\n",
    "用来表示简称,Mr.Ms.之类的"
   ]
  },
  {
   "cell_type": "code",
   "execution_count": 13,
   "id": "44db9afb",
   "metadata": {},
   "outputs": [
    {
     "data": {
      "text/html": [
       "<!DOCTYPE html>\n",
       "<html>\n",
       "    <head>\n",
       "        <title>Page Title</title>\n",
       "    </head>\n",
       "    <body>\n",
       "        <p>以下是\n",
       "        <a href=\"https://www.bing.com\">\n",
       "            <abbr title=\"bing\">\n",
       "            这里是必应\n",
       "            </abbr>\n",
       "            的网址\n",
       "        </a>\n",
       "        </p>\n",
       "    </body>\n",
       "</html>\n"
      ],
      "text/plain": [
       "<IPython.core.display.HTML object>"
      ]
     },
     "metadata": {},
     "output_type": "display_data"
    }
   ],
   "source": [
    "%%html\n",
    "<!DOCTYPE html>\n",
    "<html>\n",
    "    <head>\n",
    "        <title>Page Title</title>\n",
    "    </head>\n",
    "    <body>\n",
    "        <p>以下是\n",
    "        <a href=\"https://www.bing.com\">\n",
    "            <abbr title=\"bing\">\n",
    "            这里是必应\n",
    "            </abbr>\n",
    "            的网址\n",
    "        </a>\n",
    "        </p>\n",
    "    </body>\n",
    "</html>"
   ]
  },
  {
   "cell_type": "markdown",
   "id": "7b5470e4",
   "metadata": {},
   "source": [
    "#### < address>\n",
    "用来写联系方式之类的东西,一般是写提的,会在之前换行"
   ]
  },
  {
   "cell_type": "code",
   "execution_count": 10,
   "id": "9469a681",
   "metadata": {},
   "outputs": [
    {
     "data": {
      "text/html": [
       "<!DOCTYPE html>\n",
       "<html>\n",
       "    <head>\n",
       "        <title>Page Title</title>\n",
       "    </head>\n",
       "    <body>\n",
       "        <p>以下是\n",
       "            <address title=\"J\">\n",
       "            J\n",
       "            </address>的地址\n",
       "        </p>\n",
       "    </body>\n",
       "</html>\n"
      ],
      "text/plain": [
       "<IPython.core.display.HTML object>"
      ]
     },
     "metadata": {},
     "output_type": "display_data"
    }
   ],
   "source": [
    "%%html\n",
    "<!DOCTYPE html>\n",
    "<html>\n",
    "    <head>\n",
    "        <title>Page Title</title>\n",
    "    </head>\n",
    "    <body>\n",
    "        <p>以下是\n",
    "            <address title=\"J\">\n",
    "            J\n",
    "            </address>的地址\n",
    "        </p>\n",
    "    </body>\n",
    "</html>"
   ]
  },
  {
   "cell_type": "markdown",
   "id": "ef8436d7",
   "metadata": {},
   "source": [
    "#### < cite>\n",
    "用来表示引用"
   ]
  },
  {
   "cell_type": "code",
   "execution_count": 14,
   "id": "234e1e15",
   "metadata": {},
   "outputs": [
    {
     "data": {
      "text/html": [
       "<!DOCTYPE html>\n",
       "<html>\n",
       "    <head>\n",
       "        <title>Page Title</title>\n",
       "    </head>\n",
       "    <body>\n",
       "        <p>以下是引用</p>\n",
       "            <address title=\"J\">\n",
       "            alkslkl\n",
       "            </address>\n",
       "            的论文\n",
       "    </body>\n",
       "</html>\n"
      ],
      "text/plain": [
       "<IPython.core.display.HTML object>"
      ]
     },
     "metadata": {},
     "output_type": "display_data"
    }
   ],
   "source": [
    "%%html\n",
    "<!DOCTYPE html>\n",
    "<html>\n",
    "    <head>\n",
    "        <title>Page Title</title>\n",
    "    </head>\n",
    "    <body>\n",
    "        <p>以下是引用</p>\n",
    "            <address title=\"J\">\n",
    "            alkslkl\n",
    "            </address>\n",
    "            的论文\n",
    "    </body>\n",
    "</html>"
   ]
  },
  {
   "cell_type": "markdown",
   "id": "20452511",
   "metadata": {},
   "source": [
    "#### < bdo>\n",
    "双向重载???"
   ]
  },
  {
   "cell_type": "code",
   "execution_count": 25,
   "id": "88aebc57",
   "metadata": {},
   "outputs": [
    {
     "data": {
      "text/html": [
       "<!DOCTYPE html>\n",
       "<html>\n",
       "    <head>\n",
       "        <title>Page Title</title>\n",
       "    </head>\n",
       "    <body>\n",
       "        <p>以下是引用</p>\n",
       "            <bdo dir=\"rtl\"  ><!-- lrt -->\n",
       "            alkslkl\n",
       "            </bdo>\n",
       "            的论文\n",
       "    </body>\n",
       "</html>\n"
      ],
      "text/plain": [
       "<IPython.core.display.HTML object>"
      ]
     },
     "metadata": {},
     "output_type": "display_data"
    }
   ],
   "source": [
    "%%html\n",
    "<!DOCTYPE html>\n",
    "<html>\n",
    "    <head>\n",
    "        <title>Page Title</title>\n",
    "    </head>\n",
    "    <body>\n",
    "        <p>以下是引用</p>\n",
    "            <bdo dir=\"rtl\"  ><!-- lrt -->\n",
    "            alkslkl\n",
    "            </bdo>\n",
    "            的论文\n",
    "    </body>\n",
    "</html>"
   ]
  },
  {
   "cell_type": "markdown",
   "id": "1a3d4b1a",
   "metadata": {},
   "source": [
    "### 图片类:\n",
    "#### < area>\n",
    "用于在< map>标签类内部定义区域,可点击的区域,一般会在< map>标签内部"
   ]
  },
  {
   "cell_type": "code",
   "execution_count": 91,
   "id": "c30f235d",
   "metadata": {
    "scrolled": false
   },
   "outputs": [
    {
     "data": {
      "text/html": [
       "<img src=\"./html_resources/workplace.jpg\" alt=\"Workplace\" usemap=\"#workmap\" width=\"400\" height=\"379\">\n",
       "\n",
       "<map name=\"workmap\">\n",
       "  <area shape=\"rect\" coords=\"34,44,270,350\" alt=\"Computer\" href=\"./html_resources/computer.html\">\n",
       "  <area shape=\"rect\" coords=\"290,172,333,250\" alt=\"Phone\" href=\"./html_resources/phone.html\">\n",
       "  <area shape=\"circle\" coords=\"337,300,44\" alt=\"Cup of coffee\" href=\"./html_resources/coffee.html\">\n",
       "</map>\n"
      ],
      "text/plain": [
       "<IPython.core.display.HTML object>"
      ]
     },
     "metadata": {},
     "output_type": "display_data"
    }
   ],
   "source": [
    "%%html\n",
    "<img src=\"./html_resources/workplace.jpg\" alt=\"Workplace\" usemap=\"#workmap\" width=\"400\" height=\"379\">\n",
    "\n",
    "<map name=\"workmap\">\n",
    "  <area shape=\"rect\" coords=\"34,44,270,350\" alt=\"Computer\" href=\"./html_resources/computer.html\">\n",
    "  <area shape=\"rect\" coords=\"290,172,333,250\" alt=\"Phone\" href=\"./html_resources/phone.html\">\n",
    "  <area shape=\"circle\" coords=\"337,300,44\" alt=\"Cup of coffee\" href=\"./html_resources/coffee.html\">\n",
    "</map>"
   ]
  },
  {
   "cell_type": "markdown",
   "id": "5697dda3",
   "metadata": {},
   "source": [
    "### 连接类\n",
    "#### <a>"
   ]
  },
  {
   "cell_type": "markdown",
   "id": "8f0de8e6",
   "metadata": {},
   "source": [
    "### 多媒体类\n",
    "#### < audio>\n",
    "这里edge不支持wav,换成chrome就可以了,具体哪个浏览器支持什么得查https://www.w3schools.com/html/html5_audio.asp"
   ]
  },
  {
   "cell_type": "code",
   "execution_count": 97,
   "id": "4554d11b",
   "metadata": {},
   "outputs": [
    {
     "data": {
      "text/html": [
       "<audio controls>\n",
       "    <source src=\"./kop.wav\" type=\"audio/ogg\">\n",
       "    <source src=\"./html_resources/sample.wav\" type=\"audio/wav\">\n",
       "</audio>\n"
      ],
      "text/plain": [
       "<IPython.core.display.HTML object>"
      ]
     },
     "metadata": {},
     "output_type": "display_data"
    }
   ],
   "source": [
    "%%html\n",
    "<audio controls>\n",
    "    <source src=\"./kop.wav\" type=\"audio/ogg\">\n",
    "    <source src=\"./html_resources/sample.wav\" type=\"audio/wav\">\n",
    "</audio>"
   ]
  },
  {
   "cell_type": "markdown",
   "id": "ac8e1b71",
   "metadata": {},
   "source": [
    "## 空标签\n",
    "这类标签不需要配对,自己就是一个完整的标签,例如< hr>\n",
    "\n",
    "### < br>\n",
    "换行\"\\n\""
   ]
  },
  {
   "cell_type": "code",
   "execution_count": 57,
   "id": "b3207e4e",
   "metadata": {},
   "outputs": [
    {
     "data": {
      "text/html": [
       "<!DOCTYPE html>\n",
       "<html>\n",
       "    <head>\n",
       "        <title>Page Title</title>\n",
       "    </head>\n",
       "    <body>\n",
       "        <p style=\"text-align:center\" title=\"example\">段<br/>落1</p>\n",
       "        <p style=\"text-indent:30px;color:red\">段落2</p>\n",
       "        <div>这是不用p的样式</div>\n",
       "    </body>\n",
       "</html>\n"
      ],
      "text/plain": [
       "<IPython.core.display.HTML object>"
      ]
     },
     "metadata": {},
     "output_type": "display_data"
    }
   ],
   "source": [
    "%%html\n",
    "<!DOCTYPE html>\n",
    "<html>\n",
    "    <head>\n",
    "        <title>Page Title</title>\n",
    "    </head>\n",
    "    <body>\n",
    "        <p style=\"text-align:center\" title=\"example\">段<br>落1</p>\n",
    "        <p style=\"text-indent:30px;color:red\">段落2</p>\n",
    "        <div>这是不用p的样式</div>\n",
    "    </body>\n",
    "</html>"
   ]
  },
  {
   "cell_type": "markdown",
   "id": "e8b081ff",
   "metadata": {},
   "source": [
    "### < hr>\n",
    "分开内容"
   ]
  },
  {
   "cell_type": "code",
   "execution_count": 34,
   "id": "b6902500",
   "metadata": {},
   "outputs": [
    {
     "data": {
      "text/html": [
       "<!DOCTYPE html>\n",
       "<html>\n",
       "    <head>\n",
       "        <title>Page Title</title>\n",
       "    </head>\n",
       "    <body>\n",
       "        <p style=\"text-align:center\" title=\"example\">段<hr>落1</p>\n",
       "        <hr>\n",
       "        <p style=\"text-indent:30px;color:red\">段落2</p>\n",
       "        <div>这是不用p的样式</div>\n",
       "    </body>\n",
       "</html>\n"
      ],
      "text/plain": [
       "<IPython.core.display.HTML object>"
      ]
     },
     "metadata": {},
     "output_type": "display_data"
    }
   ],
   "source": [
    "%%html\n",
    "<!DOCTYPE html>\n",
    "<html>\n",
    "    <head>\n",
    "        <title>Page Title</title>\n",
    "    </head>\n",
    "    <body>\n",
    "        <p style=\"text-align:center\" title=\"example\">段<hr>落1</p>\n",
    "        <hr>\n",
    "        <p style=\"text-indent:30px;color:red\">段落2</p>\n",
    "        <div>这是不用p的样式</div>\n",
    "    </body>\n",
    "</html>"
   ]
  },
  {
   "cell_type": "markdown",
   "id": "5a237b68",
   "metadata": {},
   "source": [
    "# 标签属性\n",
    "- href, < a>标签网页的地址\n",
    "- src, < img>标签图片的地址\n",
    "- width/height, < img>标签图片的宽度,高度\n",
    "- style, 所有标签自定义css\n",
    "  - color\n",
    "    - 各种颜色: 查表https://www.w3schools.com/colors/colors_names.asp\n",
    "    - 背景颜色: style里加上background-color:颜色\n",
    "      - < p style=\"background-color:Tomato\">html< /p><p style=\"background-color:Tomato\">html</p>\n",
    "    - 文本颜色: style里加上color:颜色\n",
    "      - < p style=\"color:Tomato\">html< /p>:<p style=\"color:Tomato\">html</p>\n",
    "    - 边框颜色: style里定义border\n",
    "      - < p style=\"border:2px solid Tomato\">html< /p>:<p style=\"border:2px solid Tomato\">html</p>\n",
    "    - 色值:(色值有5中写法)\n",
    "      - RGB值:rgb(255,99,71),三个值分别对应rgb三个值,取值范围0-255\n",
    "        - < p style=\"background-color:rgb(255, 99, 71)\">html< /p>:<p style=\"background-color:rgb(255,99,71)\">rgb(255,99,71)</p>\n",
    "      - HEX值:#ff6347,和上面差不多,每两位表示RGB中的一个值,前面加上井号\n",
    "        - < p style=\"background-color:#ff6347\">html< /p>:<p style=\"background-color:#ff6347\">#ff6347</p>\n",
    "      - HSL值:hsl(9, 100%, 64%), 三个值分别对应色调(0-360),饱和度,亮度(这个应该是可以的,但是jupyter不知道为什么会把style吞掉,如果%%html没问题,直接markdown不显示颜色)\n",
    "        - < p style=\"background-color:hsl(9, 100%, 64%)\">html< /p>:<p style=\"background-color:hsl(9, 100%, 64%)\">hsl(9,100%, 64%)</p>\n",
    "      - RGBA值:rgba(255,99,71,1),rgba加上透明度(这个应该是可以的,但是jupyter不知道为什么会把style吞掉,如果%%html没问题,直接markdown不显示颜色)\n",
    "        - < p style=\"background-color:rgba(255, 99, 71, 0.5)\">< /p>:<p style=\"background-color:hsla(9, 100%, 64%, 0.5)\">rgba(9, 100%, 64%, 0.5)</p>\n",
    "      - HSLA值:hsla(9, 100%, 64%, 1)(这个应该是可以的,但是jupyter不知道为什么会把style吞掉,如果%%html没问题,直接markdown不显示颜色)\n",
    "        - < p style=\"background-color:hsla(9, 100%, 64%, 0.5)\">hsla(9, 100%, 64%, 0.5)< /p>:<p style=\"background-color:hsla(9, 100%, 64%, 0.5)\">hsla(9, 100%, 64%, 1)</p>\n",
    "      - 后面三个这里无法显示的看下一格\n",
    "  - font\n",
    "  - font-size\n",
    "  - ...''\n",
    "- id, 创建书签\n",
    "  - 例:<h2 id=\"temp\">temp</h2>(这个在jupyter里就是一个二级标题,内容是temp)\n",
    "- lang, < html>标签,定义整个网页的语言\n",
    "- title, 所有标签,定义标题,鼠标指针放上去会显示的东西"
   ]
  },
  {
   "cell_type": "code",
   "execution_count": 54,
   "id": "3cb54b54",
   "metadata": {},
   "outputs": [
    {
     "data": {
      "text/html": [
       "<!--别删-->\n",
       "<p style=\"background-color:rgba(255, 99, 71, 0.5)\">rgba(255, 99, 71, 0.5)</p>\n",
       "<p style=\"background-color:hsl(9, 100%, 64%)\">hsl(9, 100%, 64%)</p>\n",
       "<p style=\"background-color:hsla(9, 60%, 64%, 0.5)\">hsla(9, 100%, 64%, 0.5)</p>\n"
      ],
      "text/plain": [
       "<IPython.core.display.HTML object>"
      ]
     },
     "metadata": {},
     "output_type": "display_data"
    }
   ],
   "source": [
    "%%html\n",
    "<!--别删-->\n",
    "<p style=\"background-color:rgba(255, 99, 71, 0.5)\">rgba(255, 99, 71, 0.5)</p>\n",
    "<p style=\"background-color:hsl(9, 100%, 64%)\">hsl(9, 100%, 64%)</p>\n",
    "<p style=\"background-color:hsla(9, 60%, 64%, 0.5)\">hsla(9, 100%, 64%, 0.5)</p>"
   ]
  },
  {
   "cell_type": "markdown",
   "id": "5a80ed01",
   "metadata": {},
   "source": [
    "## css in html\n",
    "这块不包含css语法,css在另外一个文档里\n",
    "\n",
    "### 使用\n",
    "一共有三种使用css的方式\n",
    "- 行里:用style\n",
    "- 文档里,行外:用< head>里的< style>\n",
    "- 文档外:< link>\n",
    "一般建议单独写css,在html外,原因和你import python一样\n",
    "\n",
    "#### 行间:"
   ]
  },
  {
   "cell_type": "code",
   "execution_count": 58,
   "id": "9893efac",
   "metadata": {},
   "outputs": [
    {
     "data": {
      "text/html": [
       "<p style=\"color:red\">html</p>\n"
      ],
      "text/plain": [
       "<IPython.core.display.HTML object>"
      ]
     },
     "metadata": {},
     "output_type": "display_data"
    }
   ],
   "source": [
    "%%html\n",
    "<p style=\"color:red\">html</p>"
   ]
  },
  {
   "cell_type": "markdown",
   "id": "8bdef28a",
   "metadata": {},
   "source": [
    "#### html内的css"
   ]
  },
  {
   "cell_type": "code",
   "execution_count": 69,
   "id": "8239a285",
   "metadata": {},
   "outputs": [
    {
     "data": {
      "text/html": [
       "<!DOCTYPE html>\n",
       "<html>\n",
       "    <head>\n",
       "        <style>\n",
       "body {\n",
       "        font-size: 20px;\n",
       "    }\n",
       "h1   {\n",
       "        color: blue;\n",
       "        font-size: 20px;\n",
       "        font-family: SimHei;\n",
       "     }\n",
       "p    {\n",
       "        background-color: powderblue;\n",
       "        color: red;\n",
       "        font-family:SimSun;\n",
       "    }\n",
       "        </style>\n",
       "    </head>\n",
       "    <body>\n",
       "\n",
       "        <h1>This is a heading</h1>\n",
       "        <p>This is a paragraph.</p>\n",
       "\n",
       "    </body>\n",
       "</html>\n"
      ],
      "text/plain": [
       "<IPython.core.display.HTML object>"
      ]
     },
     "metadata": {},
     "output_type": "display_data"
    }
   ],
   "source": [
    "%%html\n",
    "<!DOCTYPE html>\n",
    "<html>\n",
    "    <head>\n",
    "        <style>\n",
    "body {\n",
    "        font-size: 20px;\n",
    "    }\n",
    "h1   {\n",
    "        color: blue;\n",
    "        font-size: 20px;\n",
    "        font-family: SimHei;\n",
    "     }\n",
    "p    {\n",
    "        background-color: powderblue;\n",
    "        color: red;\n",
    "        font-family:SimSun;\n",
    "    }\n",
    "        </style>\n",
    "    </head>\n",
    "    <body>\n",
    "\n",
    "        <h1>This is a heading</h1>\n",
    "        <p>This is a paragraph.</p>\n",
    "\n",
    "    </body>\n",
    "</html>"
   ]
  },
  {
   "cell_type": "markdown",
   "id": "311b82fa",
   "metadata": {},
   "source": [
    "#### 外置css"
   ]
  },
  {
   "cell_type": "code",
   "execution_count": 72,
   "id": "408c23a6",
   "metadata": {},
   "outputs": [
    {
     "data": {
      "text/html": [
       "<!DOCTYPE html>\n",
       "<html>\n",
       "    <head>\n",
       "        <link rel=\"stylesheet\" href=\"styles.css\">\n",
       "    </head>\n",
       "    <body>\n",
       "\n",
       "        <h1>This is a heading</h1>\n",
       "        <p>This is a paragraph.</p>\n",
       "\n",
       "    </body>\n",
       "</html>\n"
      ],
      "text/plain": [
       "<IPython.core.display.HTML object>"
      ]
     },
     "metadata": {},
     "output_type": "display_data"
    }
   ],
   "source": [
    "%%html\n",
    "<!DOCTYPE html>\n",
    "<html>\n",
    "    <head>\n",
    "        <link rel=\"stylesheet\" href=\"styles.css\">\n",
    "    </head>\n",
    "    <body>\n",
    "\n",
    "        <h1>This is a heading</h1>\n",
    "        <p>This is a paragraph.</p>\n",
    "\n",
    "    </body>\n",
    "</html>"
   ]
  },
  {
   "cell_type": "code",
   "execution_count": 79,
   "id": "69019dda",
   "metadata": {},
   "outputs": [
    {
     "data": {
      "text/html": [
       "<!DOCTYPE html>\n",
       "<html>\n",
       "    <head>\n",
       "    </head>\n",
       "    <body>\n",
       "\n",
       "        <h1>This is a heading</h1>\n",
       "        <a href=\"https://www.bing.com\" target=\"_top\">这里是知乎</a>\n",
       "        <p>This is a paragraph.</p>\n",
       "\n",
       "    </body>\n",
       "</html>\n"
      ],
      "text/plain": [
       "<IPython.core.display.HTML object>"
      ]
     },
     "metadata": {},
     "output_type": "display_data"
    }
   ],
   "source": [
    "%%html\n",
    "<!DOCTYPE html>\n",
    "<html>\n",
    "    <head>\n",
    "    </head>\n",
    "    <body>\n",
    "\n",
    "        <h1>This is a heading</h1>\n",
    "        <a href=\"https://www.bing.com\" target=\"_top\">这里是知乎</a>\n",
    "        <p>This is a paragraph.</p>\n",
    "\n",
    "    </body>\n",
    "</html>"
   ]
  },
  {
   "cell_type": "code",
   "execution_count": null,
   "id": "0889a944",
   "metadata": {},
   "outputs": [],
   "source": []
  }
 ],
 "metadata": {
  "hide_input": false,
  "kernelspec": {
   "display_name": "Python 3 (ipykernel)",
   "language": "python",
   "name": "python3"
  },
  "language_info": {
   "codemirror_mode": {
    "name": "ipython",
    "version": 3
   },
   "file_extension": ".py",
   "mimetype": "text/x-python",
   "name": "python",
   "nbconvert_exporter": "python",
   "pygments_lexer": "ipython3",
   "version": "3.9.18"
  },
  "toc": {
   "base_numbering": 1,
   "nav_menu": {},
   "number_sections": true,
   "sideBar": true,
   "skip_h1_title": false,
   "title_cell": "Table of Contents",
   "title_sidebar": "Contents",
   "toc_cell": false,
   "toc_position": {},
   "toc_section_display": true,
   "toc_window_display": true
  }
 },
 "nbformat": 4,
 "nbformat_minor": 5
}
