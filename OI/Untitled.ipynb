{
 "cells": [
  {
   "cell_type": "markdown",
   "id": "aebc6c85",
   "metadata": {},
   "source": [
    "## \n",
    "有部分是之前不小心手快rm -r了,二周目可能有点急躁\n",
    "# 复杂度:\n",
    "考虑复杂度而不是直接看执行时间的主要原因是在不同机器上执行速度不一样\n",
    "## 复杂度:\n",
    "一般会考虑最坏时间复杂度,也会考虑平均时间复杂度\n",
    "## 渐进符号\n",
    "虽然一般只用大$O$,不过还是都介绍一下\n",
    "\n",
    "简单的记忆方式是,包含等于(非严格)用大写,相等是$\\Theta$,小于是$O$,大于是$\\Omega$\n",
    "### 大$\\Theta$\n",
    "对于函数$f(n)$和$g(n)$,$f(n) = \\Theta(g(n)) \\Leftrightarrow \\exists c_1,c_2,n_0\\ge 0, \\forall n\\ge n_0, 0 \\le c_1\\bullet g(n)\\le f(n)\\le c_2\\bullet g(n)$\n",
    "\n",
    "或者换个方式$c_1\\le\\frac{f(n)}{g(n)}\\le c_2$\n",
    "\n",
    "#### 例:\n",
    "$3n^2 + 5n + 3 = \\Theta(n^2)$\n",
    "\n",
    "### 大$O$\n",
    "这个只关心上界,也就是最坏时间复杂度\n",
    "\n",
    "对于函数$f(n)$和$g(n)$,$f(n) = \\Theta(g(n)) \\Leftrightarrow \\exists c,n_0\\ge 0, \\forall n\\ge n_0, 0 \\le f(n)\\le c\\bullet g(n)$\n",
    "### 大$\\Pi$\n",
    "这个只关心下界\n",
    "### 小$o$\n",
    "大$O$除去等于\n",
    "### 小$\\omega$\n",
    "大$\\Omega$除去等于\n",
    "## 常见性质:\n",
    "- $f(n) = \\Theta(g(n)) \\Leftrightarrow f(n)=O(g(n))\\wedge f(n) = \\Omega(g(n))$\n",
    "- $f_1(n) + f_2(n) = O(\\max(f_1(n),f_2(n)))$\n",
    "- $f_1(n)\\times f_2(n) = O(f_1(n)\\times f_2(n))$\n",
    "- $\\forall a\\neq 1,\\log_an=O(\\log_2n)$\n",
    "\n",
    "# 枚举\n",
    "这东西基本上就是暴力破解,万策尽的对算法用最终兵器,天敌是超时\n"
   ]
  },
  {
   "cell_type": "markdown",
   "id": "42aa7b50",
   "metadata": {},
   "source": [
    "# 数组和字符串\n",
    "## 数组简介:\n",
    "### 集合,列表和数组:\n",
    "- 集合无序,不一定是同种元素类型,不能重复\n",
    "- 列表元素个数有限,性质相同,位置线性,如果连续储存就是链表,不然是顺序表\n",
    "- 数组是列表的表示形式之一,有序,有索引,连续储存"
   ]
  },
  {
   "cell_type": "markdown",
   "id": "5f31b2d2",
   "metadata": {},
   "source": [
    "## 数组操作\n",
    "### 读取元素:\n",
    "数组的话调索引,时间复杂度$O(1)$\n",
    "\n",
    "链表的话得慢慢找,最坏时间复杂度$O(n)$\n",
    "### 查找元素:\n",
    "顺序查找的最坏时间复杂度是$O(n)$\n",
    "### 插入元素\n",
    "如果频繁插入用链表会更好,对于数组,最坏时间复杂度为$O(n)$,对于链表,时间复杂度为$O(1)$改个next就行了\n",
    "### 删除元素:\n",
    "数组最坏时间复杂度为$O(n)$\n",
    "\n",
    "链表感觉还是$O(1)$\n",
    "### 实现(这部分只考虑数组,链表放后面)\n",
    "#### python"
   ]
  },
  {
   "cell_type": "code",
   "execution_count": 1,
   "id": "50ba6089",
   "metadata": {},
   "outputs": [
    {
     "name": "stdout",
     "output_type": "stream",
     "text": [
      "1\n",
      "[1, 2, 3, 3, 4, 5]\n",
      "[1, 2, 3, 3, 4, 5, 10]\n",
      "[1, 2, 3, 4, 5, 10]\n"
     ]
    }
   ],
   "source": [
    "# python的数组默认是动态的,不需要考虑长度之类的\n",
    "a = [1,2,3,4,5]# 新建数组\n",
    "print(a[0]) # 根据索引找元素\n",
    "for i in range(len(a)):\n",
    "    if a[i] == 2:\n",
    "        print(f\"要查找的元素索引值为{i}\")\n",
    "a.insert(2,3)# 在索引2处插入3\n",
    "print(a)\n",
    "a.append(10) # 在末尾加入元素\n",
    "print(a)\n",
    "del a[2]#删除元素\n",
    "print(a)"
   ]
  },
  {
   "cell_type": "markdown",
   "id": "33bf6f15",
   "metadata": {},
   "source": [
    "#### java:"
   ]
  },
  {
   "cell_type": "code",
   "execution_count": 29,
   "id": "2151efc1",
   "metadata": {},
   "outputs": [
    {
     "name": "stdout",
     "output_type": "stream",
     "text": [
      "3\n",
      "1  2  3  100  4  5  \n",
      "要查找的元素索引值为2\n",
      "删之前\n",
      "1  2  3  4  5  \n",
      "删之后\n",
      "1  2  3  5  5  \n",
      "删之前\n",
      "1  2  3  5  5  \n",
      "删之后\n",
      "1  2  5  5  5  \n"
     ]
    }
   ],
   "source": [
    "int[] a = new int[5]; //声明新数组\n",
    "int[] a = new int[]{1,2,3,4,5}; // 带初始值的声明新数组\n",
    "System.out.println(a[2]); // 按照索引值找元素\n",
    "// java里数组要提前声明大小,如果要插入的话必须新建一个大小+1的数组\n",
    "public int[] insert(int[] a, int key, int index){\n",
    "    int[] rtrn = new int[a.length+1];\n",
    "    for (int i = 0; i < index; i++){ // 前半部分不动\n",
    "        rtrn[i] = a[i];\n",
    "    }\n",
    "    rtrn[index] = key; // 插入元素\n",
    "    for (int i = index; i < a.length; i++){\n",
    "        rtrn[i+1] = a[i]; // 后面的元素往后移动\n",
    "    }\n",
    "    return rtrn;\n",
    "}\n",
    "int[] ainsert = insert(a, 100, 3);\n",
    "for (int i: ainsert){\n",
    "    System.out.printf(\"%d  \",i);\n",
    "}\n",
    "System.out.println(\"\");\n",
    "\n",
    "public void find(int[] a, int target){\n",
    "    for (int i = 0; i < a.length; i++){\n",
    "        if (a[i] == target){\n",
    "            System.out.printf(\"要查找的元素索引值为%d\\n\",i);\n",
    "            return;\n",
    "        }\n",
    "    }\n",
    "    System.out.println(\"查不到要查的元素\");\n",
    "}\n",
    "\n",
    "find(a, 3);\n",
    "\n",
    "public void deleteIndex(int[] a, int index){// 删除指定索引值的元素, 后面的元素不用管,反正不用\n",
    "    for (int i = index; i < a.length -1; i++){\n",
    "        a[i] = a[i+1];\n",
    "    }\n",
    "}\n",
    "System.out.println(\"删之前\");\n",
    "for (int i: a){\n",
    "    System.out.printf(\"%d  \",i);\n",
    "}\n",
    "System.out.println(\"\");\n",
    "deleteIndex(a,3);\n",
    "System.out.println(\"删之后\");\n",
    "for (int i: a){\n",
    "    System.out.printf(\"%d  \",i);\n",
    "}\n",
    "System.out.println(\"\");\n",
    "\n",
    "public void deleteValue(int[] a, int val){// 删除指定值的元素, 后面的元素不用管,反正不用\n",
    "    int i = 0;\n",
    "    while(i< a.length && a[i]!= val){\n",
    "        i++;\n",
    "    }\n",
    "    while(i<a.length-1){\n",
    "        a[i] = a[i+1];\n",
    "        i++;\n",
    "    }\n",
    "}\n",
    "\n",
    "System.out.println(\"删之前\");\n",
    "for (int i: a){\n",
    "    System.out.printf(\"%d  \",i);\n",
    "}\n",
    "System.out.println(\"\");\n",
    "deleteValue(a,3);\n",
    "System.out.println(\"删之后\");\n",
    "for (int i: a){\n",
    "    System.out.printf(\"%d  \",i);\n",
    "}\n",
    "System.out.println(\"\");"
   ]
  },
  {
   "cell_type": "markdown",
   "id": "9a139086",
   "metadata": {
    "solution2": "hidden",
    "solution2_first": true
   },
   "source": [
    "### 练习题:寻找数组的中心索引\n",
    "链接：https://leetcode.cn/leetbook/read/array-and-string/yf47s/\n",
    "\n",
    "给你一个整数数组 nums ，请计算数组的 中心下标 。\n",
    "\n",
    "数组 中心下标 是数组的一个下标，其左侧所有元素相加的和等于右侧所有元素相加的和。\n",
    "\n",
    "如果中心下标位于数组最左端，那么左侧数之和视为 0 ，因为在下标的左侧不存在元素。这一点对于中心下标位于数组最右端同样适用。\n",
    "\n",
    "如果数组有多个中心下标，应该返回 最靠近左边 的那一个。如果数组不存在中心下标，返回 -1 \n",
    "\n",
    "示例 1：\n",
    "\n",
    "- 输入：nums = [1, 7, 3, 6, 5, 6]\n",
    "- 输出：3\n",
    "- 解释：\n",
    "  - 中心下标是 3 。\n",
    "  - 左侧数之和 sum = nums[0] + nums[1] + nums[2] = 1 + 7 + 3 = 11 ，\n",
    "  - 右侧数之和 sum = nums[4] + nums[5] = 5 + 6 = 11 ，二者相等。\n",
    "  \n",
    "示例 2：\n",
    "\n",
    "- 输入：nums = [1, 2, 3]\n",
    "- 输出：-1\n",
    "- 解释：\n",
    "  - 数组中不存在满足此条件的中心下标。\n",
    "  \n",
    "示例 3：\n",
    "\n",
    "- 输入：nums = [2, 1, -1]\n",
    "- 输出：0\n",
    "- 解释：\n",
    "  - 中心下标是 0 。\n",
    "  - 左侧数之和 sum = 0 ，（下标 0 左侧不存在元素），\n",
    "  - 右侧数之和 sum = nums[1] + nums[2] = 1 + -1 = 0 。\n",
    "  \n",
    "提示：\n",
    "\n",
    "- 1 <= nums.length <= 104\n",
    "- -1000 <= nums[i] <= 1000\n",
    " "
   ]
  },
  {
   "cell_type": "markdown",
   "id": "735be2dd",
   "metadata": {
    "solution2": "hidden"
   },
   "source": [
    "#### 解法1:枚举:\n",
    "求和,砍半,遍历,简单粗暴\n",
    "##### python:"
   ]
  },
  {
   "cell_type": "code",
   "execution_count": 10,
   "id": "119d4a39",
   "metadata": {
    "solution2": "hidden"
   },
   "outputs": [
    {
     "name": "stdout",
     "output_type": "stream",
     "text": [
      "-1\n"
     ]
    }
   ],
   "source": [
    "#from typing import List\n",
    "class Solution:\n",
    "    def pivotIndex(self, a: List[int]) -> int:\n",
    "        total = sum(a);\n",
    "        temp = 0;\n",
    "        for i in range(len(a)):\n",
    "            if (temp*2 + a[i] == total):\n",
    "                return i\n",
    "            temp += a[i]\n",
    "        return -1\n",
    "a = Solution()\n",
    "input1 = [1,2,3]\n",
    "print(a.pivotIndex(input1))"
   ]
  },
  {
   "cell_type": "markdown",
   "id": "9898afba",
   "metadata": {
    "solution2": "hidden"
   },
   "source": [
    "##### java:"
   ]
  },
  {
   "cell_type": "code",
   "execution_count": 2,
   "id": "dcd74f1f",
   "metadata": {
    "solution2": "hidden"
   },
   "outputs": [
    {
     "data": {
      "text/plain": [
       "-1"
      ]
     },
     "execution_count": 2,
     "metadata": {},
     "output_type": "execute_result"
    }
   ],
   "source": [
    "class Solution {\n",
    "    public int pivotIndex(int[] nums) {\n",
    "        int total = 0;\n",
    "        // 求数组总和\n",
    "        for(int i = 0; i < nums.length; i++){\n",
    "            total += nums[i];\n",
    "        }\n",
    "        // 遍历求解\n",
    "        int sum = 0;\n",
    "        for(int i = 0; i < nums.length; i++){\n",
    "            if (sum*2 + nums[i] == total){\n",
    "                return i;\n",
    "            }\n",
    "            sum += nums[i];\n",
    "        }\n",
    "        return -1;\n",
    "    }\n",
    "}\n",
    "Solution a = new Solution();\n",
    "int[] input = new int[]{1,2,3};\n",
    "a.pivotIndex(input)"
   ]
  },
  {
   "cell_type": "markdown",
   "id": "ea43cba3",
   "metadata": {
    "solution2": "hidden"
   },
   "source": [
    "#### 解法二:双指针\n",
    "左右指针, 如果都是正数可能还考虑一下,有了正负既要考虑下个元素的正负,还要比较大小,傻子才会这么做\n"
   ]
  },
  {
   "cell_type": "markdown",
   "id": "988df1a9",
   "metadata": {
    "solution2": "hidden",
    "solution2_first": true
   },
   "source": [
    "### 练习题:搜索插入位置\n",
    "给定一个排序数组和一个目标值，在数组中找到目标值，并返回其索引。如果目标值不存在于数组中，返回它将会被按顺序插入的位置。\n",
    "\n",
    "请必须使用时间复杂度为 O(log n) 的算法。\n",
    "\n",
    "示例 1:\n",
    "\n",
    "- 输入: nums = [1,3,5,6], target = 5\n",
    "- 输出: 2\n",
    "\n",
    "示例 2:\n",
    "\n",
    "- 输入: nums = [1,3,5,6], target = 2\n",
    "- 输出: 1\n",
    "\n",
    "示例 3:\n",
    "\n",
    "- 输入: nums = [1,3,5,6], target = 7\n",
    "- 输出: 4\n",
    "\n",
    "提示:\n",
    "\n",
    "- 1 <= nums.length <= 104\n",
    "- -104 <= nums[i] <= 104\n",
    "- nums 为 无重复元素 的 升序 排列数组\n",
    "- -104 <= target <= 104"
   ]
  },
  {
   "cell_type": "markdown",
   "id": "deccc89f",
   "metadata": {
    "solution2": "hidden"
   },
   "source": [
    "#### 解法:\n",
    "这个数组是升序排列的,顺序遍历就行了\n",
    "##### python:"
   ]
  },
  {
   "cell_type": "code",
   "execution_count": 9,
   "id": "0c61b9ce",
   "metadata": {
    "solution2": "hidden"
   },
   "outputs": [
    {
     "data": {
      "text/plain": [
       "4"
      ]
     },
     "execution_count": 9,
     "metadata": {},
     "output_type": "execute_result"
    }
   ],
   "source": [
    "#from typing import List\n",
    "class Solution:\n",
    "    def searchInsert(self, nums: List[int], target: int) -> int:\n",
    "        for i in range(len(nums)):\n",
    "            if (nums[i] >= target):\n",
    "                return i # 如果顺序遍历遍历到了大于或者等于目标值的元素,\n",
    "                         # 说明上一个位置就是应该插入的位置,反正又不用真的插入,\n",
    "                         # 不用判断是否相等\n",
    "        return len(nums)\n",
    "    \n",
    "a = Solution()\n",
    "input = [1,3,5,6]\n",
    "a.searchInsert(input, 7)"
   ]
  },
  {
   "cell_type": "markdown",
   "id": "5ad139c5",
   "metadata": {
    "solution2": "hidden"
   },
   "source": [
    "##### java"
   ]
  },
  {
   "cell_type": "code",
   "execution_count": 2,
   "id": "994be851",
   "metadata": {
    "solution2": "hidden"
   },
   "outputs": [
    {
     "data": {
      "text/plain": [
       "4"
      ]
     },
     "execution_count": 2,
     "metadata": {},
     "output_type": "execute_result"
    }
   ],
   "source": [
    "class Solution {\n",
    "    public int searchInsert(int[] nums, int target) {\n",
    "        for(int i = 0; i < nums.length; i++){\n",
    "            if (nums[i] >= target) return i;\n",
    "        }\n",
    "        return nums.length;\n",
    "    }\n",
    "}\n",
    "Solution a = new Solution();\n",
    "int[] input = new int[]{1,3,5,6};\n",
    "a.searchInsert(input, 7);\n"
   ]
  },
  {
   "cell_type": "markdown",
   "id": "7af9ab42",
   "metadata": {
    "solution2": "hidden",
    "solution2_first": true
   },
   "source": [
    "### 练习题:合并区间\n",
    "以数组 intervals 表示若干个区间的集合，其中单个区间为 intervals[i] = [starti, endi] 。请你合并所有重叠的区间，并返回 一个不重叠的区间数组，该数组需恰好覆盖输入中的所有区间 。\n",
    "\n",
    " \n",
    "\n",
    "示例 1：\n",
    "\n",
    "- 输入：intervals = [[1,3],[2,6],[8,10],[15,18]]\n",
    "- 输出：[[1,6],[8,10],[15,18]]\n",
    "- 解释：区间 [1,3] 和 [2,6] 重叠, 将它们合并为 [1,6].\n",
    "\n",
    "示例 2：\n",
    "\n",
    "- 输入：intervals = [[1,4],[4,5]]\n",
    "- 输出：[[1,5]]\n",
    "- 解释：区间 [1,4] 和 [4,5] 可被视为重叠区间。\n",
    "\n"
   ]
  },
  {
   "cell_type": "markdown",
   "id": "f018e4ac",
   "metadata": {
    "solution2": "hidden"
   },
   "source": [
    "#### 解法:\n",
    "先排下序,然后就没那么难了\n",
    "##### python:"
   ]
  },
  {
   "cell_type": "code",
   "execution_count": 12,
   "id": "dff807f0",
   "metadata": {
    "solution2": "hidden"
   },
   "outputs": [
    {
     "data": {
      "text/plain": [
       "[[1, 6], [8, 10], [15, 18]]"
      ]
     },
     "execution_count": 12,
     "metadata": {},
     "output_type": "execute_result"
    }
   ],
   "source": [
    "#from typing import List\n",
    "class Solution:\n",
    "    def merge(self, intervals: List[List[int]]) -> List[List[int]]:\n",
    "        intervals = sorted(intervals)\n",
    "        temp = intervals[0]\n",
    "        rtrn = []\n",
    "        for i in range(len(intervals)):\n",
    "            if temp[1] < intervals[i][0]: # 这种情况说明这两个区间没有关系,直接扔进数组就行\n",
    "                rtrn.append(temp)\n",
    "                temp = intervals[i]\n",
    "            else:\n",
    "                temp[1] = max(temp[1],intervals[i][1]) # 两个数组有相交取最大上界\n",
    "        rtrn.append(temp)\n",
    "        return rtrn\n",
    "a = Solution()\n",
    "input = [[1,3],[2,6],[8,10],[15,18]]\n",
    "a.merge(input)"
   ]
  },
  {
   "cell_type": "markdown",
   "id": "81b3d199",
   "metadata": {
    "solution2": "hidden"
   },
   "source": [
    "##### java:\n"
   ]
  },
  {
   "cell_type": "code",
   "execution_count": 4,
   "id": "41ec2754",
   "metadata": {
    "solution2": "hidden"
   },
   "outputs": [
    {
     "name": "stdout",
     "output_type": "stream",
     "text": [
      "1 6 | 8 10 | 15 18 | "
     ]
    }
   ],
   "source": [
    "class Solution {\n",
    "    public int[][] merge(int[][] intervals) {\n",
    "        if (intervals.length <= 1) return intervals;\n",
    "        Arrays.sort(intervals, (a, b) -> a[0] - b[0]);\n",
    "        int[] temp = intervals[0];\n",
    "        List<int []> list = new ArrayList<>();\n",
    "        for (int i = 1; i < intervals.length; i++){\n",
    "            if (temp[1] < intervals[i][0]){\n",
    "                list.add(temp);\n",
    "                // 新建一个数据\n",
    "                temp = intervals[i];\n",
    "            }\n",
    "            else{\n",
    "                // 更改数组\n",
    "                temp[1] = Math.max(temp[1], intervals[i][1]);\n",
    "            }\n",
    "        }\n",
    "        list.add(temp);\n",
    "        return list.toArray(new int[list.size()][2]);\n",
    "    }\n",
    "}\n",
    "Solution a = new Solution();\n",
    "int[][] input = new int[][]{{1,3},{2,6},{8,10},{15,18}};\n",
    "int[][] output = a.merge(input);\n",
    "for (int[] i: output){\n",
    "    System.out.printf(\"%d %d | \",i[0],i[1]);\n",
    "}"
   ]
  },
  {
   "cell_type": "markdown",
   "id": "977976b6",
   "metadata": {
    "solution2": "hidden",
    "solution2_first": true
   },
   "source": [
    "## 二维数组:\n",
    "### 简介:\n",
    "一维数组把里面存的东西换成一维数组, 方法和一维数组一样\n",
    "### 练习题:旋转矩阵\n",
    "给你一幅由 N × N 矩阵表示的图像，其中每个像素的大小为 4 字节。请你设计一种算法，将图像旋转 90 度。\n",
    "\n",
    "不占用额外内存空间能否做到？\n",
    "\n",
    "示例 1:\n",
    "\n",
    "- 给定 matrix = \n",
    "    [\n",
    "    \n",
    "      [1,2,3],\n",
    "      [4,5,6],\n",
    "      [7,8,9]\n",
    "    ],\n",
    "\n",
    "- 原地旋转输入矩阵，使其变为:\n",
    "    [\n",
    "    \n",
    "      [7,4,1],\n",
    "      [8,5,2],\n",
    "      [9,6,3]\n",
    "    ]\n",
    "示例 2:\n",
    "\n",
    "- 给定 matrix =\n",
    "    [\n",
    "    \n",
    "      [ 5, 1, 9,11],\n",
    "      [ 2, 4, 8,10],\n",
    "      [13, 3, 6, 7],\n",
    "      [15,14,12,16]\n",
    "      \n",
    "    ], \n",
    "\n",
    "- 原地旋转输入矩阵，使其变为:\n",
    "    [\n",
    "    \n",
    "      [15,13, 2, 5],\n",
    "      [14, 3, 4, 1],\n",
    "      [12, 6, 8, 9],\n",
    "      [16, 7,10,11]\n",
    "      \n",
    "    ]"
   ]
  },
  {
   "cell_type": "markdown",
   "id": "b960ee20",
   "metadata": {
    "solution2": "hidden"
   },
   "source": [
    "#### 解法1:临时数组\n",
    "用一个临时数组存储每个元素应该被放置在什么地方,然后返回那个数组\n",
    "\n",
    "跳过\n",
    "#### 解法2:两次翻转:\n",
    "对角线翻转加横向翻转\n",
    "##### python:"
   ]
  },
  {
   "cell_type": "code",
   "execution_count": 8,
   "id": "70e81e76",
   "metadata": {
    "solution2": "hidden"
   },
   "outputs": [
    {
     "data": {
      "text/plain": [
       "[[7, 4, 1], [8, 5, 2], [9, 6, 3]]"
      ]
     },
     "execution_count": 8,
     "metadata": {},
     "output_type": "execute_result"
    }
   ],
   "source": [
    "from typing import List\n",
    "class Solution:\n",
    "    def rotate(self, matrix: List[List[int]]) -> None:\n",
    "        n = len(matrix)\n",
    "        m = len(matrix[0])\n",
    "        for i in range(n):\n",
    "            for j in range(i):\n",
    "                temp = matrix[i][j]\n",
    "                matrix[i][j] = matrix[j][i]\n",
    "                matrix[j][i] = temp\n",
    "        for i in range(n):\n",
    "            for j in range(int(m/2)):\n",
    "                temp = matrix[i][j]\n",
    "                matrix[i][j] = matrix[i][n - j - 1]\n",
    "                matrix[i][n - j - 1] = temp\n",
    "input = [\n",
    "            [1,2,3],\n",
    "            [4,5,6],\n",
    "            [7,8,9]\n",
    "        ]\n",
    "a = Solution()\n",
    "a.rotate(input)\n",
    "input"
   ]
  },
  {
   "cell_type": "markdown",
   "id": "c90eab85",
   "metadata": {
    "solution2": "hidden"
   },
   "source": [
    "##### java:"
   ]
  },
  {
   "cell_type": "code",
   "execution_count": 1,
   "id": "52690a7b",
   "metadata": {
    "solution2": "hidden"
   },
   "outputs": [
    {
     "name": "stdout",
     "output_type": "stream",
     "text": [
      "7 4 1 \n",
      "8 5 2 \n",
      "9 6 3 \n"
     ]
    }
   ],
   "source": [
    "class Solution {\n",
    "    public void rotate(int[][] matrix) {\n",
    "        // 对角线翻转\n",
    "        int temp;\n",
    "        for (int i = 0; i < matrix.length; i++){\n",
    "            for (int j = 0; j < i; j++){\n",
    "                temp = matrix[i][j];\n",
    "                matrix[i][j] = matrix[j][i];\n",
    "                matrix[j][i] = temp;\n",
    "            }\n",
    "        }\n",
    "        // 横向翻转\n",
    "        for (int i = 0; i < matrix.length; i++){\n",
    "            for (int j = 0; j < matrix.length/2; j++){\n",
    "                //System.out.println(j);\n",
    "                temp = matrix[i][j];\n",
    "                matrix[i][j] = matrix[i][matrix.length - j - 1];\n",
    "                matrix[i][matrix.length - j - 1] = temp;\n",
    "            }\n",
    "        }\n",
    "    }\n",
    "}\n",
    "Solution a = new Solution();\n",
    "int[][] input = new int[][]{{1,2,3},{4,5,6},{7,8,9}};\n",
    "a.rotate(input);\n",
    "for (int[] i: input){\n",
    "    for(int j: i){\n",
    "        System.out.printf(\"%d \",j);\n",
    "    }\n",
    "    System.out.println(\"\");\n",
    "}"
   ]
  },
  {
   "cell_type": "markdown",
   "id": "41340def",
   "metadata": {
    "solution2": "hidden",
    "solution2_first": true
   },
   "source": [
    "### 练习题:零矩阵\n",
    "编写一种算法，若M × N矩阵中某个元素为0，则将其所在的行与列清零。\n",
    "\n",
    "\n",
    "示例 1：\n",
    "\n",
    "- 输入：\n",
    "    [\n",
    "    \n",
    "      [1,1,1],\n",
    "      [1,0,1],\n",
    "      [1,1,1]\n",
    "      \n",
    "    ]\n",
    "- 输出：\n",
    "    [\n",
    "    \n",
    "      [1,0,1],\n",
    "      [0,0,0],\n",
    "      [1,0,1]\n",
    "      \n",
    "    ]\n",
    "示例 2：\n",
    "\n",
    "- 输入：\n",
    "    [\n",
    "    \n",
    "      [0,1,2,0],\n",
    "      [3,4,5,2],\n",
    "      [1,3,1,5]\n",
    "      \n",
    "    ]\n",
    "- 输出：\n",
    "    [\n",
    "    \n",
    "      [0,0,0,0],\n",
    "      [0,4,5,0],\n",
    "      [0,3,1,0]\n",
    "      \n",
    "    ]\n"
   ]
  },
  {
   "cell_type": "markdown",
   "id": "e35e0473",
   "metadata": {
    "solution2": "hidden"
   },
   "source": [
    "#### 解法:临时数组\n",
    "用一个同等大小的数组去存要变成的值\n",
    "##### python:"
   ]
  },
  {
   "cell_type": "code",
   "execution_count": 5,
   "id": "0d617e14",
   "metadata": {
    "solution2": "hidden"
   },
   "outputs": [
    {
     "data": {
      "text/plain": [
       "[[1, 0, 1], [0, 0, 0], [1, 0, 1]]"
      ]
     },
     "execution_count": 5,
     "metadata": {},
     "output_type": "execute_result"
    }
   ],
   "source": [
    "from typing import List\n",
    "class Solution:\n",
    "    def setZeroes(self, matrix: List[List[int]]) -> List[List[int]]:\n",
    "        n = len(matrix)\n",
    "        m = len(matrix[0])\n",
    "        colRecord = [0] * m\n",
    "        rowRecord = [0] * n\n",
    "        for i in range(n):\n",
    "            for j in range(m):\n",
    "                if matrix[i][j] == 0:\n",
    "                    rowRecord[i] = 1\n",
    "                    colRecord[j] = 1\n",
    "        for i in range(n):\n",
    "            for j in range(m):\n",
    "                if(rowRecord[i] == 1 or colRecord[j] == 1):\n",
    "                    matrix[i][j] = 0\n",
    "a = Solution()\n",
    "input = [\n",
    "            [1,1,1],\n",
    "            [1,0,1],\n",
    "            [1,1,1]\n",
    "        ]\n",
    "a.setZeroes(input)\n",
    "input"
   ]
  },
  {
   "cell_type": "markdown",
   "id": "9d05b217",
   "metadata": {
    "solution2": "hidden"
   },
   "source": [
    "##### java:\n"
   ]
  },
  {
   "cell_type": "code",
   "execution_count": 2,
   "id": "ad27a8bf",
   "metadata": {
    "solution2": "hidden"
   },
   "outputs": [
    {
     "name": "stdout",
     "output_type": "stream",
     "text": [
      "1 0 1 \n",
      "0 0 0 \n",
      "1 0 1 \n"
     ]
    }
   ],
   "source": [
    "class Solution {\n",
    "    public void setZeroes(int[][] matrix) {\n",
    "        //记录哪行哪列要变成0\n",
    "        int n = matrix.length;\n",
    "        int m = matrix[0].length;\n",
    "        int[] colRecord = new int[m];\n",
    "        int[] rowRecord = new int[n];\n",
    "        for (int i = 0; i < n; i++){\n",
    "            for (int j = 0; j < m; j++){\n",
    "                if (matrix[i][j] == 0){\n",
    "                    rowRecord[i] = 1;\n",
    "                    colRecord[j] = 1;\n",
    "                }\n",
    "            }\n",
    "        }\n",
    "        for (int i = 0; i < n; i++){\n",
    "            for (int j = 0; j < m; j++){\n",
    "                if (rowRecord[i] == 1 || colRecord[j] == 1){\n",
    "                    matrix[i][j] = 0;\n",
    "                }\n",
    "            }\n",
    "        } \n",
    "    }\n",
    "}\n",
    "Solution a = new Solution();\n",
    "int[][] input = new int[][]{{1,1,1},{1,0,1},{1,1,1}};\n",
    "a.setZeroes(input);\n",
    "for (int[] i: input){\n",
    "    for(int j: i){\n",
    "        System.out.printf(\"%d \",j);\n",
    "    }\n",
    "    System.out.println(\"\");\n",
    "}"
   ]
  },
  {
   "cell_type": "markdown",
   "id": "30eafa9f",
   "metadata": {
    "solution2": "hidden",
    "solution2_first": true
   },
   "source": [
    "### 练习题:对角线遍历\n",
    "给你一个大小为 m x n 的矩阵 mat ，请以对角线遍历的顺序，用一个数组返回这个矩阵中的所有元素。\n",
    "\n",
    "示例1:\n",
    "- 输入：mat = [[1,2,3],[4,5,6],[7,8,9]]\n",
    "- 输出：[1,2,4,7,5,3,6,8,9]\n",
    "示例 2：\n",
    "- 输入：mat = [[1,2],[3,4]]\n",
    "- 输出：[1,2,3,4]\n",
    " \n",
    "提示：\n",
    "\n",
    "- m == mat.length\n",
    "- n == mat[i].length\n",
    "- 1 <= m, n <= $10^4$\n",
    "- 1 <= m * n <= $10^4$\n",
    "- -105 <= mat[i][j] <= $10^5$"
   ]
  },
  {
   "cell_type": "markdown",
   "id": "d5a93478",
   "metadata": {
    "solution2": "hidden"
   },
   "source": [
    "#### 解法:\n",
    "按照题目说的遍历就行\n",
    "##### python:"
   ]
  },
  {
   "cell_type": "code",
   "execution_count": 1,
   "id": "0a2dc678",
   "metadata": {
    "solution2": "hidden"
   },
   "outputs": [
    {
     "data": {
      "text/plain": [
       "[1, 2, 4, 7, 5, 3, 6, 8, 9]"
      ]
     },
     "execution_count": 1,
     "metadata": {},
     "output_type": "execute_result"
    }
   ],
   "source": [
    "class Solution:\n",
    "    def findDiagonalOrder(self, mat: list[list[int]]) -> list[int]:\n",
    "        up = True\n",
    "        n = len(mat)\n",
    "        m = len(mat[0])\n",
    "        # 记录哪行哪列要变成0\n",
    "        res = []\n",
    "        row = 0\n",
    "        col = 0\n",
    "        # 遍历存储\n",
    "        for i in range(n*m):\n",
    "            res.append(mat[row][col])\n",
    "            # 向上走\n",
    "            if up:\n",
    "                # 撞墙情况1: 撞右边墙\n",
    "                if col == m-1:\n",
    "                    up = not up\n",
    "                    row += 1\n",
    "                # 撞墙情况2: 撞上边墙\n",
    "                elif row == 0:\n",
    "                    up = not up\n",
    "                    col += 1\n",
    "                else:\n",
    "                    row -= 1\n",
    "                    col += 1\n",
    "            # 向下走\n",
    "            else:\n",
    "                # 撞墙情况3: 撞下面墙\n",
    "                if row == n-1:\n",
    "                    up = not up\n",
    "                    col += 1\n",
    "                elif col == 0:\n",
    "                    up = not up\n",
    "                    row += 1\n",
    "                else:\n",
    "                    col -= 1\n",
    "                    row += 1\n",
    "        return res\n",
    "a = Solution()\n",
    "input = [[1,2,3],[4,5,6],[7,8,9]]\n",
    "a.findDiagonalOrder(input)"
   ]
  },
  {
   "cell_type": "markdown",
   "id": "f9dd2fac",
   "metadata": {
    "solution2": "hidden"
   },
   "source": [
    "##### java"
   ]
  },
  {
   "cell_type": "code",
   "execution_count": 4,
   "id": "730428ef",
   "metadata": {
    "solution2": "hidden"
   },
   "outputs": [
    {
     "name": "stdout",
     "output_type": "stream",
     "text": [
      "1 2 4 7 5 3 6 8 9 "
     ]
    }
   ],
   "source": [
    "class Solution {\n",
    "    public int[] findDiagonalOrder(int[][] mat) {\n",
    "        boolean up = true;\n",
    "        int n = mat.length;\n",
    "        int m = mat[0].length;\n",
    "        int[] res = new int[n*m];\n",
    "        int row = 0;\n",
    "        int col = 0;\n",
    "        for (int i = 0; i < n*m; i++){\n",
    "            res[i] = mat[row][col];\n",
    "            if(up){\n",
    "                if(col == m - 1){\n",
    "                    up = !up;\n",
    "                    row += 1;\n",
    "                }\n",
    "                else if(row == 0){\n",
    "                    up = !up;\n",
    "                    col += 1;\n",
    "                }\n",
    "                else{\n",
    "                    row -= 1;\n",
    "                    col += 1;\n",
    "                }\n",
    "            }\n",
    "            else{\n",
    "                if(row == n-1){\n",
    "                    up = !up;\n",
    "                    col += 1;\n",
    "                }\n",
    "                else if(col == 0){\n",
    "                    up = !up;\n",
    "                    row += 1;\n",
    "                }\n",
    "                else{\n",
    "                    col -= 1;\n",
    "                    row += 1;\n",
    "                }\n",
    "            }\n",
    "        }\n",
    "        return res;\n",
    "    }\n",
    "}\n",
    "\n",
    "Solution a = new Solution();\n",
    "int[][] matrix = new int[][]{{1,2,3},{4,5,6},{7,8,9}};\n",
    "int[] output = a.findDiagonalOrder(matrix);\n",
    "for (int i: output){\n",
    "    System.out.printf(\"%d \", i);\n",
    "}"
   ]
  },
  {
   "cell_type": "code",
   "execution_count": null,
   "id": "278c4e00",
   "metadata": {},
   "outputs": [],
   "source": []
  }
 ],
 "metadata": {
  "hide_input": false,
  "kernelspec": {
   "display_name": "Python 3 (ipykernel)",
   "language": "python",
   "name": "python3"
  },
  "language_info": {
   "codemirror_mode": {
    "name": "ipython",
    "version": 3
   },
   "file_extension": ".py",
   "mimetype": "text/x-python",
   "name": "python",
   "nbconvert_exporter": "python",
   "pygments_lexer": "ipython3",
   "version": "3.9.18"
  },
  "toc": {
   "base_numbering": 1,
   "nav_menu": {},
   "number_sections": true,
   "sideBar": true,
   "skip_h1_title": false,
   "title_cell": "Table of Contents",
   "title_sidebar": "Contents",
   "toc_cell": false,
   "toc_position": {},
   "toc_section_display": true,
   "toc_window_display": false
  }
 },
 "nbformat": 4,
 "nbformat_minor": 5
}
