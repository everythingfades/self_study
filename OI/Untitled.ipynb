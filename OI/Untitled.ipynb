{
 "cells": [
  {
   "cell_type": "markdown",
   "id": "c82cad87",
   "metadata": {},
   "source": [
    "## \n",
    "有部分是之前不小心手快rm -r了,二周目可能有点急躁\n",
    "## 部分常用代码:\n",
    "### 栈(python):\n",
    "python是没有栈的概念的,自己定义:"
   ]
  },
  {
   "cell_type": "code",
   "execution_count": 7,
   "id": "c5b41a6c",
   "metadata": {},
   "outputs": [],
   "source": [
    "class Stack(object):\n",
    "    # 初始化栈为空列表\n",
    "    def __init__(self):\n",
    "        self.items = []\n",
    "\n",
    "    # 判断栈是否为空，返回布尔值\n",
    "    def is_empty(self):\n",
    "        return self.items == []\n",
    "\n",
    "    # 返回栈顶元素\n",
    "    def peek(self):\n",
    "        return self.items[len(self.items) - 1]\n",
    "\n",
    "    # 返回栈的大小\n",
    "    def size(self):\n",
    "        return len(self.items)\n",
    "\n",
    "    # 把新的元素堆进栈里面（程序员喜欢把这个过程叫做压栈，入栈，进栈……）\n",
    "    def add(self, item):\n",
    "        self.items.append(item)\n",
    "\n",
    "    # 把栈顶元素丢出去（程序员喜欢把这个过程叫做出栈……）\n",
    "    def pop(self):\n",
    "        return self.items.pop()"
   ]
  },
  {
   "cell_type": "markdown",
   "id": "aebc6c85",
   "metadata": {},
   "source": [
    "# 复杂度:\n",
    "考虑复杂度而不是直接看执行时间的主要原因是在不同机器上执行速度不一样\n",
    "## 复杂度:\n",
    "一般会考虑最坏时间复杂度,也会考虑平均时间复杂度\n",
    "## 渐进符号\n",
    "虽然一般只用大$O$,不过还是都介绍一下\n",
    "\n",
    "简单的记忆方式是,包含等于(非严格)用大写,相等是$\\Theta$,小于是$O$,大于是$\\Omega$\n",
    "### 大$\\Theta$\n",
    "对于函数$f(n)$和$g(n)$,$f(n) = \\Theta(g(n)) \\Leftrightarrow \\exists c_1,c_2,n_0\\ge 0, \\forall n\\ge n_0, 0 \\le c_1\\bullet g(n)\\le f(n)\\le c_2\\bullet g(n)$\n",
    "\n",
    "或者换个方式$c_1\\le\\frac{f(n)}{g(n)}\\le c_2$\n",
    "\n",
    "#### 例:\n",
    "$3n^2 + 5n + 3 = \\Theta(n^2)$\n",
    "\n",
    "### 大$O$\n",
    "这个只关心上界,也就是最坏时间复杂度\n",
    "\n",
    "对于函数$f(n)$和$g(n)$,$f(n) = \\Theta(g(n)) \\Leftrightarrow \\exists c,n_0\\ge 0, \\forall n\\ge n_0, 0 \\le f(n)\\le c\\bullet g(n)$\n",
    "### 大$\\Pi$\n",
    "这个只关心下界\n",
    "### 小$o$\n",
    "大$O$除去等于\n",
    "### 小$\\omega$\n",
    "大$\\Omega$除去等于\n",
    "## 常见性质:\n",
    "- $f(n) = \\Theta(g(n)) \\Leftrightarrow f(n)=O(g(n))\\wedge f(n) = \\Omega(g(n))$\n",
    "- $f_1(n) + f_2(n) = O(\\max(f_1(n),f_2(n)))$\n",
    "- $f_1(n)\\times f_2(n) = O(f_1(n)\\times f_2(n))$\n",
    "- $\\forall a\\neq 1,\\log_an=O(\\log_2n)$\n",
    "\n",
    "# 枚举\n",
    "这东西基本上就是暴力破解,万策尽的对算法用最终兵器,天敌是超时\n"
   ]
  },
  {
   "cell_type": "markdown",
   "id": "42aa7b50",
   "metadata": {},
   "source": [
    "# 数组和字符串\n",
    "## 数组简介:\n",
    "### 集合,列表和数组:\n",
    "- 集合无序,不一定是同种元素类型,不能重复\n",
    "- 列表元素个数有限,性质相同,位置线性,如果连续储存就是链表,不然是顺序表\n",
    "- 数组是列表的表示形式之一,有序,有索引,连续储存"
   ]
  },
  {
   "cell_type": "markdown",
   "id": "5f31b2d2",
   "metadata": {},
   "source": [
    "## 数组操作\n",
    "### 读取元素:\n",
    "数组的话调索引,时间复杂度$O(1)$\n",
    "\n",
    "链表的话得慢慢找,最坏时间复杂度$O(n)$\n",
    "### 查找元素:\n",
    "顺序查找的最坏时间复杂度是$O(n)$\n",
    "### 插入元素\n",
    "如果频繁插入用链表会更好,对于数组,最坏时间复杂度为$O(n)$,对于链表,时间复杂度为$O(1)$改个next就行了\n",
    "### 删除元素:\n",
    "数组最坏时间复杂度为$O(n)$\n",
    "\n",
    "链表感觉还是$O(1)$\n",
    "### 实现(这部分只考虑数组,链表放后面)\n",
    "#### python"
   ]
  },
  {
   "cell_type": "code",
   "execution_count": 1,
   "id": "50ba6089",
   "metadata": {},
   "outputs": [
    {
     "name": "stdout",
     "output_type": "stream",
     "text": [
      "1\n",
      "[1, 2, 3, 3, 4, 5]\n",
      "[1, 2, 3, 3, 4, 5, 10]\n",
      "[1, 2, 3, 4, 5, 10]\n"
     ]
    }
   ],
   "source": [
    "# python的数组默认是动态的,不需要考虑长度之类的\n",
    "a = [1,2,3,4,5]# 新建数组\n",
    "print(a[0]) # 根据索引找元素\n",
    "for i in range(len(a)):\n",
    "    if a[i] == 2:\n",
    "        print(f\"要查找的元素索引值为{i}\")\n",
    "a.insert(2,3)# 在索引2处插入3\n",
    "print(a)\n",
    "a.append(10) # 在末尾加入元素\n",
    "print(a)\n",
    "del a[2]#删除元素\n",
    "print(a)"
   ]
  },
  {
   "cell_type": "markdown",
   "id": "33bf6f15",
   "metadata": {},
   "source": [
    "#### java:"
   ]
  },
  {
   "cell_type": "code",
   "execution_count": 29,
   "id": "2151efc1",
   "metadata": {},
   "outputs": [
    {
     "name": "stdout",
     "output_type": "stream",
     "text": [
      "3\n",
      "1  2  3  100  4  5  \n",
      "要查找的元素索引值为2\n",
      "删之前\n",
      "1  2  3  4  5  \n",
      "删之后\n",
      "1  2  3  5  5  \n",
      "删之前\n",
      "1  2  3  5  5  \n",
      "删之后\n",
      "1  2  5  5  5  \n"
     ]
    }
   ],
   "source": [
    "int[] a = new int[5]; //声明新数组\n",
    "int[] a = new int[]{1,2,3,4,5}; // 带初始值的声明新数组\n",
    "System.out.println(a[2]); // 按照索引值找元素\n",
    "// java里数组要提前声明大小,如果要插入的话必须新建一个大小+1的数组\n",
    "public int[] insert(int[] a, int key, int index){\n",
    "    int[] rtrn = new int[a.length+1];\n",
    "    for (int i = 0; i < index; i++){ // 前半部分不动\n",
    "        rtrn[i] = a[i];\n",
    "    }\n",
    "    rtrn[index] = key; // 插入元素\n",
    "    for (int i = index; i < a.length; i++){\n",
    "        rtrn[i+1] = a[i]; // 后面的元素往后移动\n",
    "    }\n",
    "    return rtrn;\n",
    "}\n",
    "int[] ainsert = insert(a, 100, 3);\n",
    "for (int i: ainsert){\n",
    "    System.out.printf(\"%d  \",i);\n",
    "}\n",
    "System.out.println(\"\");\n",
    "\n",
    "public void find(int[] a, int target){\n",
    "    for (int i = 0; i < a.length; i++){\n",
    "        if (a[i] == target){\n",
    "            System.out.printf(\"要查找的元素索引值为%d\\n\",i);\n",
    "            return;\n",
    "        }\n",
    "    }\n",
    "    System.out.println(\"查不到要查的元素\");\n",
    "}\n",
    "\n",
    "find(a, 3);\n",
    "\n",
    "public void deleteIndex(int[] a, int index){// 删除指定索引值的元素, 后面的元素不用管,反正不用\n",
    "    for (int i = index; i < a.length -1; i++){\n",
    "        a[i] = a[i+1];\n",
    "    }\n",
    "}\n",
    "System.out.println(\"删之前\");\n",
    "for (int i: a){\n",
    "    System.out.printf(\"%d  \",i);\n",
    "}\n",
    "System.out.println(\"\");\n",
    "deleteIndex(a,3);\n",
    "System.out.println(\"删之后\");\n",
    "for (int i: a){\n",
    "    System.out.printf(\"%d  \",i);\n",
    "}\n",
    "System.out.println(\"\");\n",
    "\n",
    "public void deleteValue(int[] a, int val){// 删除指定值的元素, 后面的元素不用管,反正不用\n",
    "    int i = 0;\n",
    "    while(i< a.length && a[i]!= val){\n",
    "        i++;\n",
    "    }\n",
    "    while(i<a.length-1){\n",
    "        a[i] = a[i+1];\n",
    "        i++;\n",
    "    }\n",
    "}\n",
    "\n",
    "System.out.println(\"删之前\");\n",
    "for (int i: a){\n",
    "    System.out.printf(\"%d  \",i);\n",
    "}\n",
    "System.out.println(\"\");\n",
    "deleteValue(a,3);\n",
    "System.out.println(\"删之后\");\n",
    "for (int i: a){\n",
    "    System.out.printf(\"%d  \",i);\n",
    "}\n",
    "System.out.println(\"\");"
   ]
  },
  {
   "cell_type": "markdown",
   "id": "9a139086",
   "metadata": {
    "solution2": "hidden",
    "solution2_first": true
   },
   "source": [
    "### 练习题:寻找数组的中心索引\n",
    "链接：https://leetcode.cn/leetbook/read/array-and-string/yf47s/\n",
    "\n",
    "给你一个整数数组 nums ，请计算数组的 中心下标 。\n",
    "\n",
    "数组 中心下标 是数组的一个下标，其左侧所有元素相加的和等于右侧所有元素相加的和。\n",
    "\n",
    "如果中心下标位于数组最左端，那么左侧数之和视为 0 ，因为在下标的左侧不存在元素。这一点对于中心下标位于数组最右端同样适用。\n",
    "\n",
    "如果数组有多个中心下标，应该返回 最靠近左边 的那一个。如果数组不存在中心下标，返回 -1 \n",
    "\n",
    "示例 1：\n",
    "\n",
    "- 输入：nums = [1, 7, 3, 6, 5, 6]\n",
    "- 输出：3\n",
    "- 解释：\n",
    "  - 中心下标是 3 。\n",
    "  - 左侧数之和 sum = nums[0] + nums[1] + nums[2] = 1 + 7 + 3 = 11 ，\n",
    "  - 右侧数之和 sum = nums[4] + nums[5] = 5 + 6 = 11 ，二者相等。\n",
    "  \n",
    "示例 2：\n",
    "\n",
    "- 输入：nums = [1, 2, 3]\n",
    "- 输出：-1\n",
    "- 解释：\n",
    "  - 数组中不存在满足此条件的中心下标。\n",
    "  \n",
    "示例 3：\n",
    "\n",
    "- 输入：nums = [2, 1, -1]\n",
    "- 输出：0\n",
    "- 解释：\n",
    "  - 中心下标是 0 。\n",
    "  - 左侧数之和 sum = 0 ，（下标 0 左侧不存在元素），\n",
    "  - 右侧数之和 sum = nums[1] + nums[2] = 1 + -1 = 0 。\n",
    "  \n",
    "提示：\n",
    "\n",
    "- 1 <= nums.length <= 104\n",
    "- -1000 <= nums[i] <= 1000\n",
    " "
   ]
  },
  {
   "cell_type": "markdown",
   "id": "735be2dd",
   "metadata": {
    "solution2": "hidden"
   },
   "source": [
    "#### 解法1:枚举:\n",
    "求和,砍半,遍历,简单粗暴\n",
    "##### python:"
   ]
  },
  {
   "cell_type": "code",
   "execution_count": 10,
   "id": "119d4a39",
   "metadata": {
    "solution2": "hidden"
   },
   "outputs": [
    {
     "name": "stdout",
     "output_type": "stream",
     "text": [
      "-1\n"
     ]
    }
   ],
   "source": [
    "#from typing import List\n",
    "class Solution:\n",
    "    def pivotIndex(self, a: List[int]) -> int:\n",
    "        total = sum(a);\n",
    "        temp = 0;\n",
    "        for i in range(len(a)):\n",
    "            if (temp*2 + a[i] == total):\n",
    "                return i\n",
    "            temp += a[i]\n",
    "        return -1\n",
    "a = Solution()\n",
    "input1 = [1,2,3]\n",
    "print(a.pivotIndex(input1))"
   ]
  },
  {
   "cell_type": "markdown",
   "id": "9898afba",
   "metadata": {
    "solution2": "hidden"
   },
   "source": [
    "##### java:"
   ]
  },
  {
   "cell_type": "code",
   "execution_count": 2,
   "id": "dcd74f1f",
   "metadata": {
    "solution2": "hidden"
   },
   "outputs": [
    {
     "data": {
      "text/plain": [
       "-1"
      ]
     },
     "execution_count": 2,
     "metadata": {},
     "output_type": "execute_result"
    }
   ],
   "source": [
    "class Solution {\n",
    "    public int pivotIndex(int[] nums) {\n",
    "        int total = 0;\n",
    "        // 求数组总和\n",
    "        for(int i = 0; i < nums.length; i++){\n",
    "            total += nums[i];\n",
    "        }\n",
    "        // 遍历求解\n",
    "        int sum = 0;\n",
    "        for(int i = 0; i < nums.length; i++){\n",
    "            if (sum*2 + nums[i] == total){\n",
    "                return i;\n",
    "            }\n",
    "            sum += nums[i];\n",
    "        }\n",
    "        return -1;\n",
    "    }\n",
    "}\n",
    "Solution a = new Solution();\n",
    "int[] input = new int[]{1,2,3};\n",
    "a.pivotIndex(input)"
   ]
  },
  {
   "cell_type": "markdown",
   "id": "ea43cba3",
   "metadata": {},
   "source": [
    "#### 解法二:双指针\n",
    "左右指针, 如果都是正数可能还考虑一下,有了正负既要考虑下个元素的正负,还要比较大小,傻子才会这么做\n"
   ]
  },
  {
   "cell_type": "markdown",
   "id": "988df1a9",
   "metadata": {
    "solution2": "hidden",
    "solution2_first": true
   },
   "source": [
    "### 练习题:搜索插入位置\n",
    "给定一个排序数组和一个目标值，在数组中找到目标值，并返回其索引。如果目标值不存在于数组中，返回它将会被按顺序插入的位置。\n",
    "\n",
    "请必须使用时间复杂度为 O(log n) 的算法。\n",
    "\n",
    "示例 1:\n",
    "\n",
    "- 输入: nums = [1,3,5,6], target = 5\n",
    "- 输出: 2\n",
    "\n",
    "示例 2:\n",
    "\n",
    "- 输入: nums = [1,3,5,6], target = 2\n",
    "- 输出: 1\n",
    "\n",
    "示例 3:\n",
    "\n",
    "- 输入: nums = [1,3,5,6], target = 7\n",
    "- 输出: 4\n",
    "\n",
    "提示:\n",
    "\n",
    "- 1 <= nums.length <= 104\n",
    "- -104 <= nums[i] <= 104\n",
    "- nums 为 无重复元素 的 升序 排列数组\n",
    "- -104 <= target <= 104"
   ]
  },
  {
   "cell_type": "markdown",
   "id": "deccc89f",
   "metadata": {
    "solution2": "hidden"
   },
   "source": [
    "#### 解法:\n",
    "这个数组是升序排列的,顺序遍历就行了\n",
    "##### python:"
   ]
  },
  {
   "cell_type": "code",
   "execution_count": 9,
   "id": "0c61b9ce",
   "metadata": {
    "solution2": "hidden"
   },
   "outputs": [
    {
     "data": {
      "text/plain": [
       "4"
      ]
     },
     "execution_count": 9,
     "metadata": {},
     "output_type": "execute_result"
    }
   ],
   "source": [
    "#from typing import List\n",
    "class Solution:\n",
    "    def searchInsert(self, nums: List[int], target: int) -> int:\n",
    "        for i in range(len(nums)):\n",
    "            if (nums[i] >= target):\n",
    "                return i # 如果顺序遍历遍历到了大于或者等于目标值的元素,\n",
    "                         # 说明上一个位置就是应该插入的位置,反正又不用真的插入,\n",
    "                         # 不用判断是否相等\n",
    "        return len(nums)\n",
    "    \n",
    "a = Solution()\n",
    "input = [1,3,5,6]\n",
    "a.searchInsert(input, 7)"
   ]
  },
  {
   "cell_type": "markdown",
   "id": "5ad139c5",
   "metadata": {
    "solution2": "hidden"
   },
   "source": [
    "##### java"
   ]
  },
  {
   "cell_type": "code",
   "execution_count": 2,
   "id": "994be851",
   "metadata": {
    "solution2": "hidden"
   },
   "outputs": [
    {
     "data": {
      "text/plain": [
       "4"
      ]
     },
     "execution_count": 2,
     "metadata": {},
     "output_type": "execute_result"
    }
   ],
   "source": [
    "class Solution {\n",
    "    public int searchInsert(int[] nums, int target) {\n",
    "        for(int i = 0; i < nums.length; i++){\n",
    "            if (nums[i] >= target) return i;\n",
    "        }\n",
    "        return nums.length;\n",
    "    }\n",
    "}\n",
    "Solution a = new Solution();\n",
    "int[] input = new int[]{1,3,5,6};\n",
    "a.searchInsert(input, 7);\n"
   ]
  },
  {
   "cell_type": "markdown",
   "id": "7af9ab42",
   "metadata": {
    "solution2": "hidden",
    "solution2_first": true
   },
   "source": [
    "### 练习题:合并区间\n",
    "以数组 intervals 表示若干个区间的集合，其中单个区间为 intervals[i] = [starti, endi] 。请你合并所有重叠的区间，并返回 一个不重叠的区间数组，该数组需恰好覆盖输入中的所有区间 。\n",
    "\n",
    " \n",
    "\n",
    "示例 1：\n",
    "\n",
    "- 输入：intervals = [[1,3],[2,6],[8,10],[15,18]]\n",
    "- 输出：[[1,6],[8,10],[15,18]]\n",
    "- 解释：区间 [1,3] 和 [2,6] 重叠, 将它们合并为 [1,6].\n",
    "\n",
    "示例 2：\n",
    "\n",
    "- 输入：intervals = [[1,4],[4,5]]\n",
    "- 输出：[[1,5]]\n",
    "- 解释：区间 [1,4] 和 [4,5] 可被视为重叠区间。\n",
    "\n"
   ]
  },
  {
   "cell_type": "markdown",
   "id": "f018e4ac",
   "metadata": {
    "solution2": "hidden"
   },
   "source": [
    "#### 解法:\n",
    "先排下序,然后就没那么难了\n",
    "##### python:"
   ]
  },
  {
   "cell_type": "code",
   "execution_count": 12,
   "id": "dff807f0",
   "metadata": {
    "solution2": "hidden"
   },
   "outputs": [
    {
     "data": {
      "text/plain": [
       "[[1, 6], [8, 10], [15, 18]]"
      ]
     },
     "execution_count": 12,
     "metadata": {},
     "output_type": "execute_result"
    }
   ],
   "source": [
    "#from typing import List\n",
    "class Solution:\n",
    "    def merge(self, intervals: List[List[int]]) -> List[List[int]]:\n",
    "        intervals = sorted(intervals)\n",
    "        temp = intervals[0]\n",
    "        rtrn = []\n",
    "        for i in range(len(intervals)):\n",
    "            if temp[1] < intervals[i][0]: # 这种情况说明这两个区间没有关系,直接扔进数组就行\n",
    "                rtrn.append(temp)\n",
    "                temp = intervals[i]\n",
    "            else:\n",
    "                temp[1] = max(temp[1],intervals[i][1]) # 两个数组有相交取最大上界\n",
    "        rtrn.append(temp)\n",
    "        return rtrn\n",
    "a = Solution()\n",
    "input = [[1,3],[2,6],[8,10],[15,18]]\n",
    "a.merge(input)"
   ]
  },
  {
   "cell_type": "markdown",
   "id": "81b3d199",
   "metadata": {
    "solution2": "hidden"
   },
   "source": [
    "##### java:\n"
   ]
  },
  {
   "cell_type": "code",
   "execution_count": 4,
   "id": "41ec2754",
   "metadata": {
    "solution2": "hidden"
   },
   "outputs": [
    {
     "name": "stdout",
     "output_type": "stream",
     "text": [
      "1 6 | 8 10 | 15 18 | "
     ]
    }
   ],
   "source": [
    "class Solution {\n",
    "    public int[][] merge(int[][] intervals) {\n",
    "        if (intervals.length <= 1) return intervals;\n",
    "        Arrays.sort(intervals, (a, b) -> a[0] - b[0]);\n",
    "        int[] temp = intervals[0];\n",
    "        List<int []> list = new ArrayList<>();\n",
    "        for (int i = 1; i < intervals.length; i++){\n",
    "            if (temp[1] < intervals[i][0]){\n",
    "                list.add(temp);\n",
    "                // 新建一个数据\n",
    "                temp = intervals[i];\n",
    "            }\n",
    "            else{\n",
    "                // 更改数组\n",
    "                temp[1] = Math.max(temp[1], intervals[i][1]);\n",
    "            }\n",
    "        }\n",
    "        list.add(temp);\n",
    "        return list.toArray(new int[list.size()][2]);\n",
    "    }\n",
    "}\n",
    "Solution a = new Solution();\n",
    "int[][] input = new int[][]{{1,3},{2,6},{8,10},{15,18}};\n",
    "int[][] output = a.merge(input);\n",
    "for (int[] i: output){\n",
    "    System.out.printf(\"%d %d | \",i[0],i[1]);\n",
    "}"
   ]
  },
  {
   "cell_type": "markdown",
   "id": "977976b6",
   "metadata": {
    "solution2": "hidden",
    "solution2_first": true
   },
   "source": [
    "## 二维数组:\n",
    "### 简介:\n",
    "一维数组把里面存的东西换成一维数组, 方法和一维数组一样\n",
    "### 练习题:旋转矩阵\n",
    "给你一幅由 N × N 矩阵表示的图像，其中每个像素的大小为 4 字节。请你设计一种算法，将图像旋转 90 度。\n",
    "\n",
    "不占用额外内存空间能否做到？\n",
    "\n",
    "示例 1:\n",
    "\n",
    "- 给定 matrix = \n",
    "    [\n",
    "    \n",
    "      [1,2,3],\n",
    "      [4,5,6],\n",
    "      [7,8,9]\n",
    "    ],\n",
    "\n",
    "- 原地旋转输入矩阵，使其变为:\n",
    "    [\n",
    "    \n",
    "      [7,4,1],\n",
    "      [8,5,2],\n",
    "      [9,6,3]\n",
    "    ]\n",
    "示例 2:\n",
    "\n",
    "- 给定 matrix =\n",
    "    [\n",
    "    \n",
    "      [ 5, 1, 9,11],\n",
    "      [ 2, 4, 8,10],\n",
    "      [13, 3, 6, 7],\n",
    "      [15,14,12,16]\n",
    "      \n",
    "    ], \n",
    "\n",
    "- 原地旋转输入矩阵，使其变为:\n",
    "    [\n",
    "    \n",
    "      [15,13, 2, 5],\n",
    "      [14, 3, 4, 1],\n",
    "      [12, 6, 8, 9],\n",
    "      [16, 7,10,11]\n",
    "      \n",
    "    ]"
   ]
  },
  {
   "cell_type": "markdown",
   "id": "b960ee20",
   "metadata": {
    "solution2": "hidden"
   },
   "source": [
    "#### 解法1:临时数组\n",
    "用一个临时数组存储每个元素应该被放置在什么地方,然后返回那个数组\n",
    "\n",
    "跳过\n",
    "#### 解法2:两次翻转:\n",
    "对角线翻转加横向翻转\n",
    "##### python:"
   ]
  },
  {
   "cell_type": "code",
   "execution_count": 8,
   "id": "70e81e76",
   "metadata": {
    "solution2": "hidden"
   },
   "outputs": [
    {
     "data": {
      "text/plain": [
       "[[7, 4, 1], [8, 5, 2], [9, 6, 3]]"
      ]
     },
     "execution_count": 8,
     "metadata": {},
     "output_type": "execute_result"
    }
   ],
   "source": [
    "from typing import List\n",
    "class Solution:\n",
    "    def rotate(self, matrix: List[List[int]]) -> None:\n",
    "        n = len(matrix)\n",
    "        m = len(matrix[0])\n",
    "        for i in range(n):\n",
    "            for j in range(i):\n",
    "                temp = matrix[i][j]\n",
    "                matrix[i][j] = matrix[j][i]\n",
    "                matrix[j][i] = temp\n",
    "        for i in range(n):\n",
    "            for j in range(int(m/2)):\n",
    "                temp = matrix[i][j]\n",
    "                matrix[i][j] = matrix[i][n - j - 1]\n",
    "                matrix[i][n - j - 1] = temp\n",
    "input = [\n",
    "            [1,2,3],\n",
    "            [4,5,6],\n",
    "            [7,8,9]\n",
    "        ]\n",
    "a = Solution()\n",
    "a.rotate(input)\n",
    "input"
   ]
  },
  {
   "cell_type": "markdown",
   "id": "c90eab85",
   "metadata": {
    "solution2": "hidden"
   },
   "source": [
    "##### java:"
   ]
  },
  {
   "cell_type": "code",
   "execution_count": 1,
   "id": "52690a7b",
   "metadata": {
    "solution2": "hidden"
   },
   "outputs": [
    {
     "name": "stdout",
     "output_type": "stream",
     "text": [
      "7 4 1 \n",
      "8 5 2 \n",
      "9 6 3 \n"
     ]
    }
   ],
   "source": [
    "class Solution {\n",
    "    public void rotate(int[][] matrix) {\n",
    "        // 对角线翻转\n",
    "        int temp;\n",
    "        for (int i = 0; i < matrix.length; i++){\n",
    "            for (int j = 0; j < i; j++){\n",
    "                temp = matrix[i][j];\n",
    "                matrix[i][j] = matrix[j][i];\n",
    "                matrix[j][i] = temp;\n",
    "            }\n",
    "        }\n",
    "        // 横向翻转\n",
    "        for (int i = 0; i < matrix.length; i++){\n",
    "            for (int j = 0; j < matrix.length/2; j++){\n",
    "                //System.out.println(j);\n",
    "                temp = matrix[i][j];\n",
    "                matrix[i][j] = matrix[i][matrix.length - j - 1];\n",
    "                matrix[i][matrix.length - j - 1] = temp;\n",
    "            }\n",
    "        }\n",
    "    }\n",
    "}\n",
    "Solution a = new Solution();\n",
    "int[][] input = new int[][]{{1,2,3},{4,5,6},{7,8,9}};\n",
    "a.rotate(input);\n",
    "for (int[] i: input){\n",
    "    for(int j: i){\n",
    "        System.out.printf(\"%d \",j);\n",
    "    }\n",
    "    System.out.println(\"\");\n",
    "}"
   ]
  },
  {
   "cell_type": "markdown",
   "id": "41340def",
   "metadata": {
    "solution2": "hidden",
    "solution2_first": true
   },
   "source": [
    "### 练习题:零矩阵\n",
    "编写一种算法，若M × N矩阵中某个元素为0，则将其所在的行与列清零。\n",
    "\n",
    "\n",
    "示例 1：\n",
    "\n",
    "- 输入：\n",
    "    [\n",
    "    \n",
    "      [1,1,1],\n",
    "      [1,0,1],\n",
    "      [1,1,1]\n",
    "      \n",
    "    ]\n",
    "- 输出：\n",
    "    [\n",
    "    \n",
    "      [1,0,1],\n",
    "      [0,0,0],\n",
    "      [1,0,1]\n",
    "      \n",
    "    ]\n",
    "示例 2：\n",
    "\n",
    "- 输入：\n",
    "    [\n",
    "    \n",
    "      [0,1,2,0],\n",
    "      [3,4,5,2],\n",
    "      [1,3,1,5]\n",
    "      \n",
    "    ]\n",
    "- 输出：\n",
    "    [\n",
    "    \n",
    "      [0,0,0,0],\n",
    "      [0,4,5,0],\n",
    "      [0,3,1,0]\n",
    "      \n",
    "    ]\n"
   ]
  },
  {
   "cell_type": "markdown",
   "id": "e35e0473",
   "metadata": {
    "solution2": "hidden"
   },
   "source": [
    "#### 解法:临时数组\n",
    "用一个同等大小的数组去存要变成的值\n",
    "##### python:"
   ]
  },
  {
   "cell_type": "code",
   "execution_count": 5,
   "id": "0d617e14",
   "metadata": {
    "solution2": "hidden"
   },
   "outputs": [
    {
     "data": {
      "text/plain": [
       "[[1, 0, 1], [0, 0, 0], [1, 0, 1]]"
      ]
     },
     "execution_count": 5,
     "metadata": {},
     "output_type": "execute_result"
    }
   ],
   "source": [
    "from typing import List\n",
    "class Solution:\n",
    "    def setZeroes(self, matrix: List[List[int]]) -> List[List[int]]:\n",
    "        n = len(matrix)\n",
    "        m = len(matrix[0])\n",
    "        colRecord = [0] * m\n",
    "        rowRecord = [0] * n\n",
    "        for i in range(n):\n",
    "            for j in range(m):\n",
    "                if matrix[i][j] == 0:\n",
    "                    rowRecord[i] = 1\n",
    "                    colRecord[j] = 1\n",
    "        for i in range(n):\n",
    "            for j in range(m):\n",
    "                if(rowRecord[i] == 1 or colRecord[j] == 1):\n",
    "                    matrix[i][j] = 0\n",
    "a = Solution()\n",
    "input = [\n",
    "            [1,1,1],\n",
    "            [1,0,1],\n",
    "            [1,1,1]\n",
    "        ]\n",
    "a.setZeroes(input)\n",
    "input"
   ]
  },
  {
   "cell_type": "markdown",
   "id": "9d05b217",
   "metadata": {
    "solution2": "hidden"
   },
   "source": [
    "##### java:\n"
   ]
  },
  {
   "cell_type": "code",
   "execution_count": 2,
   "id": "ad27a8bf",
   "metadata": {
    "solution2": "hidden"
   },
   "outputs": [
    {
     "name": "stdout",
     "output_type": "stream",
     "text": [
      "1 0 1 \n",
      "0 0 0 \n",
      "1 0 1 \n"
     ]
    }
   ],
   "source": [
    "class Solution {\n",
    "    public void setZeroes(int[][] matrix) {\n",
    "        //记录哪行哪列要变成0\n",
    "        int n = matrix.length;\n",
    "        int m = matrix[0].length;\n",
    "        int[] colRecord = new int[m];\n",
    "        int[] rowRecord = new int[n];\n",
    "        for (int i = 0; i < n; i++){\n",
    "            for (int j = 0; j < m; j++){\n",
    "                if (matrix[i][j] == 0){\n",
    "                    rowRecord[i] = 1;\n",
    "                    colRecord[j] = 1;\n",
    "                }\n",
    "            }\n",
    "        }\n",
    "        for (int i = 0; i < n; i++){\n",
    "            for (int j = 0; j < m; j++){\n",
    "                if (rowRecord[i] == 1 || colRecord[j] == 1){\n",
    "                    matrix[i][j] = 0;\n",
    "                }\n",
    "            }\n",
    "        } \n",
    "    }\n",
    "}\n",
    "Solution a = new Solution();\n",
    "int[][] input = new int[][]{{1,1,1},{1,0,1},{1,1,1}};\n",
    "a.setZeroes(input);\n",
    "for (int[] i: input){\n",
    "    for(int j: i){\n",
    "        System.out.printf(\"%d \",j);\n",
    "    }\n",
    "    System.out.println(\"\");\n",
    "}"
   ]
  },
  {
   "cell_type": "markdown",
   "id": "f68496ad",
   "metadata": {
    "solution2": "hidden",
    "solution2_first": true
   },
   "source": [
    "### 练习题:对角线遍历\n",
    "给你一个大小为 m x n 的矩阵 mat ，请以对角线遍历的顺序，用一个数组返回这个矩阵中的所有元素。\n",
    "\n",
    "示例1:\n",
    "- 输入：mat = [[1,2,3],[4,5,6],[7,8,9]]\n",
    "- 输出：[1,2,4,7,5,3,6,8,9]\n",
    "示例 2：\n",
    "- 输入：mat = [[1,2],[3,4]]\n",
    "- 输出：[1,2,3,4]\n",
    " \n",
    "提示：\n",
    "\n",
    "- m == mat.length\n",
    "- n == mat[i].length\n",
    "- 1 <= m, n <= $10^4$\n",
    "- 1 <= m * n <= $10^4$\n",
    "- -105 <= mat[i][j] <= $10^5$"
   ]
  },
  {
   "cell_type": "markdown",
   "id": "83fe906c",
   "metadata": {},
   "source": [
    "## 字符串"
   ]
  },
  {
   "cell_type": "markdown",
   "id": "7417aeff",
   "metadata": {
    "solution2": "hidden"
   },
   "source": [
    "#### 解法:\n",
    "按照题目说的遍历就行\n",
    "##### python:"
   ]
  },
  {
   "cell_type": "code",
   "execution_count": 1,
   "id": "f36019d9",
   "metadata": {
    "solution2": "hidden"
   },
   "outputs": [
    {
     "data": {
      "text/plain": [
       "[1, 2, 4, 7, 5, 3, 6, 8, 9]"
      ]
     },
     "execution_count": 1,
     "metadata": {},
     "output_type": "execute_result"
    }
   ],
   "source": [
    "class Solution:\n",
    "    def findDiagonalOrder(self, mat: list[list[int]]) -> list[int]:\n",
    "        up = True\n",
    "        n = len(mat)\n",
    "        m = len(mat[0])\n",
    "        # 记录哪行哪列要变成0\n",
    "        res = []\n",
    "        row = 0\n",
    "        col = 0\n",
    "        # 遍历存储\n",
    "        for i in range(n*m):\n",
    "            res.append(mat[row][col])\n",
    "            # 向上走\n",
    "            if up:\n",
    "                # 撞墙情况1: 撞右边墙\n",
    "                if col == m-1:\n",
    "                    up = not up\n",
    "                    row += 1\n",
    "                # 撞墙情况2: 撞上边墙\n",
    "                elif row == 0:\n",
    "                    up = not up\n",
    "                    col += 1\n",
    "                else:\n",
    "                    row -= 1\n",
    "                    col += 1\n",
    "            # 向下走\n",
    "            else:\n",
    "                # 撞墙情况3: 撞下面墙\n",
    "                if row == n-1:\n",
    "                    up = not up\n",
    "                    col += 1\n",
    "                elif col == 0:\n",
    "                    up = not up\n",
    "                    row += 1\n",
    "                else:\n",
    "                    col -= 1\n",
    "                    row += 1\n",
    "        return res\n",
    "a = Solution()\n",
    "input = [[1,2,3],[4,5,6],[7,8,9]]\n",
    "a.findDiagonalOrder(input)"
   ]
  },
  {
   "cell_type": "markdown",
   "id": "26a6c556",
   "metadata": {
    "solution2": "hidden"
   },
   "source": [
    "##### java"
   ]
  },
  {
   "cell_type": "code",
   "execution_count": 4,
   "id": "5e6c9ca5",
   "metadata": {
    "solution2": "hidden"
   },
   "outputs": [
    {
     "name": "stdout",
     "output_type": "stream",
     "text": [
      "1 2 4 7 5 3 6 8 9 "
     ]
    }
   ],
   "source": [
    "class Solution {\n",
    "    public int[] findDiagonalOrder(int[][] mat) {\n",
    "        boolean up = true;\n",
    "        int n = mat.length;\n",
    "        int m = mat[0].length;\n",
    "        int[] res = new int[n*m];\n",
    "        int row = 0;\n",
    "        int col = 0;\n",
    "        for (int i = 0; i < n*m; i++){\n",
    "            res[i] = mat[row][col];\n",
    "            if(up){\n",
    "                if(col == m - 1){\n",
    "                    up = !up;\n",
    "                    row += 1;\n",
    "                }\n",
    "                else if(row == 0){\n",
    "                    up = !up;\n",
    "                    col += 1;\n",
    "                }\n",
    "                else{\n",
    "                    row -= 1;\n",
    "                    col += 1;\n",
    "                }\n",
    "            }\n",
    "            else{\n",
    "                if(row == n-1){\n",
    "                    up = !up;\n",
    "                    col += 1;\n",
    "                }\n",
    "                else if(col == 0){\n",
    "                    up = !up;\n",
    "                    row += 1;\n",
    "                }\n",
    "                else{\n",
    "                    col -= 1;\n",
    "                    row += 1;\n",
    "                }\n",
    "            }\n",
    "        }\n",
    "        return res;\n",
    "    }\n",
    "}\n",
    "\n",
    "Solution a = new Solution();\n",
    "int[][] matrix = new int[][]{{1,2,3},{4,5,6},{7,8,9}};\n",
    "int[] output = a.findDiagonalOrder(matrix);\n",
    "for (int i: output){\n",
    "    System.out.printf(\"%d \", i);\n",
    "}"
   ]
  },
  {
   "cell_type": "markdown",
   "id": "927e5fed",
   "metadata": {
    "solution2": "hidden",
    "solution2_first": true
   },
   "source": [
    "### 练习题:最长公共前缀\n",
    "编写一个函数来查找字符串数组中的最长公共前缀。\n",
    "\n",
    "如果不存在公共前缀，返回空字符串 \"\"。\n",
    "\n",
    "示例 1：\n",
    "\n",
    "- 输入：strs = [\"flower\",\"flow\",\"flight\"]\n",
    "- 输出：\"fl\"\n",
    "\n",
    "示例 2：\n",
    "\n",
    "- 输入：strs = [\"dog\",\"racecar\",\"car\"]\n",
    "- 输出：\"\"\n",
    "- 解释：输入不存在公共前缀。\n",
    " \n",
    "\n",
    "提示：\n",
    "\n",
    "- 1 <= strs.length <= 200\n",
    "- 0 <= strs[i].length <= 200\n",
    "- strs[i] 仅由小写英文字母组成\n"
   ]
  },
  {
   "cell_type": "markdown",
   "id": "2ed6dbe0",
   "metadata": {
    "solution2": "hidden"
   },
   "source": [
    "#### 解法:\n",
    "挨个取最长公共前缀,最后的都所有的公共前缀\n",
    "##### python:"
   ]
  },
  {
   "cell_type": "code",
   "execution_count": 3,
   "id": "7a887785",
   "metadata": {
    "solution2": "hidden"
   },
   "outputs": [
    {
     "data": {
      "text/plain": [
       "'fl'"
      ]
     },
     "execution_count": 3,
     "metadata": {},
     "output_type": "execute_result"
    }
   ],
   "source": [
    "from typing import List\n",
    "class Solution:\n",
    "    def longestCommonPrefix(self, strs: List[str]) -> str:\n",
    "        common_prefix = strs[0]\n",
    "        for i in range(1,len(strs)):\n",
    "            if len(self.get_common_prefix(strs[0],strs[i])) < len(common_prefix):\n",
    "                #print(\"______\",self.get_common_prefix(strs[0],strs[i]))\n",
    "                common_prefix = self.get_common_prefix(strs[0],strs[i])\n",
    "                #print(common_prefix)\n",
    "        return common_prefix\n",
    "            \n",
    "    def get_common_prefix(self, str1: str,str2: str):\n",
    "        str = \"\"\n",
    "        i = 0\n",
    "        while(i <= len(str1) and i <= len(str2)):\n",
    "            #print(str1[:1],str2[:i])\n",
    "            if str1[:i] == str2[:i]:\n",
    "                #print(str1[:i],\"++++++++\",i)\n",
    "                #print(\"not break\")\n",
    "                str = str1[:i]\n",
    "                i += 1\n",
    "            else:\n",
    "                #print(\"break\")\n",
    "                break\n",
    "        #print(str)\n",
    "        return str\n",
    "a = Solution()\n",
    "input = [\"flower\",\"flow\",\"flight\"]\n",
    "a.longestCommonPrefix(input)"
   ]
  },
  {
   "cell_type": "markdown",
   "id": "fad12fb8",
   "metadata": {
    "solution2": "hidden"
   },
   "source": [
    "##### java:\n"
   ]
  },
  {
   "cell_type": "code",
   "execution_count": 1,
   "id": "e2a42a56",
   "metadata": {
    "solution2": "hidden"
   },
   "outputs": [
    {
     "data": {
      "text/plain": [
       "fl"
      ]
     },
     "execution_count": 1,
     "metadata": {},
     "output_type": "execute_result"
    }
   ],
   "source": [
    "class Solution {\n",
    "    public String longestCommonPrefix(String[] strs) {\n",
    "        String prefix = strs[0];\n",
    "        for (int i = 0; i < strs.length; i++){\n",
    "            prefix = commonPrefix(prefix, strs[i]);\n",
    "        }\n",
    "        return prefix;\n",
    "    }\n",
    "    public String commonPrefix(String str1, String str2) {\n",
    "        int substring = 0;\n",
    "        for (int i = 0; i < str1.length() && i < str2.length(); i++){\n",
    "            if(str1.charAt(i) == str2.charAt(i)){\n",
    "                substring += 1;\n",
    "            }\n",
    "            else{\n",
    "                break;\n",
    "            }\n",
    "        }\n",
    "        return str1.substring(0,substring);\n",
    "    }\n",
    "}\n",
    "\n",
    "Solution a = new Solution();\n",
    "String[] input = new String[]{\"flower\",\"flow\",\"flight\"};\n",
    "a.longestCommonPrefix(input);"
   ]
  },
  {
   "cell_type": "markdown",
   "id": "90b65250",
   "metadata": {
    "solution2": "hidden",
    "solution2_first": true
   },
   "source": [
    "### 练习题:最长回文子串\n",
    "给你一个字符串 s，找到 s 中最长的回文子串。\n",
    "\n",
    "如果字符串的反序与原始字符串相同，则该字符串称为回文字符串。\n",
    "\n",
    "示例 1：\n",
    "\n",
    "- 输入：s = \"babad\"\n",
    "- 输出：\"bab\"\n",
    "- 解释：\"aba\" 同样是符合题意的答案。\n",
    "\n",
    "示例 2：\n",
    "\n",
    "- 输入：s = \"cbbd\"\n",
    "- 输出：\"bb\"\n",
    " \n",
    "提示：\n",
    "\n",
    "- 1 <= s.length <= 1000\n",
    "- s 仅由数字和英文字母组成"
   ]
  },
  {
   "cell_type": "markdown",
   "id": "44070177",
   "metadata": {
    "cell_style": "split",
    "solution2": "hidden"
   },
   "source": [
    "#### 解法:遍历,从中心往两边查找\n",
    "##### java:"
   ]
  },
  {
   "cell_type": "code",
   "execution_count": 3,
   "id": "922dd99f",
   "metadata": {
    "solution2": "hidden"
   },
   "outputs": [
    {
     "data": {
      "text/plain": [
       "bab"
      ]
     },
     "execution_count": 3,
     "metadata": {},
     "output_type": "execute_result"
    }
   ],
   "source": [
    "class Solution {\n",
    "    public String longestPalindrome(String s) {\n",
    "        if (s == null || s.length() < 2) { // s的长度不足以包括回文串\n",
    "            return s;\n",
    "        }\n",
    "        int resIdx = 0, resLen = 1; // 决定最终的返回值\n",
    "        for (int idx = 0; idx < s.length() - 1; idx++) {\n",
    "            //奇数最长回文长度\n",
    "            int len1 = longestLen(s, idx, idx);\n",
    "            //偶数最长回文长度\n",
    "            int len2 = longestLen(s, idx, idx + 1);\n",
    "            if (len1 > resLen) { // 如果是奇数长度回文串\n",
    "                resLen = len1; // 长度\n",
    "                resIdx = idx - resLen / 2; // 开始的索引值\n",
    "            }\n",
    "            if (len2 > resLen) {\n",
    "                resLen = len2; // 长度\n",
    "                resIdx = idx - (resLen / 2 - 1); // 起始索引值\n",
    "            }\n",
    "        }\n",
    "        return s.substring(resIdx, resIdx + resLen);\n",
    "    }\n",
    "    //左右探索最长回文子串长度\n",
    "    private int longestLen(String s, int left, int right) {\n",
    "        while (left >= 0 && right < s.length()) { // 不断向两边探索,直到两边的字符不相等为止\n",
    "            if (s.charAt(left) != s.charAt(right)) {\n",
    "                break;\n",
    "            }\n",
    "            left--;\n",
    "            right++;\n",
    "        }\n",
    "        return right - left - 1; // 返回的是探索到的改中心的最长子回文串长度\n",
    "    }\n",
    "}\n",
    "\n",
    "Solution a = new Solution();\n",
    "String input = \"babad\";\n",
    "a.longestPalindrome(input);"
   ]
  },
  {
   "cell_type": "markdown",
   "id": "6812052b",
   "metadata": {
    "solution2": "hidden"
   },
   "source": [
    "##### python:\n"
   ]
  },
  {
   "cell_type": "code",
   "execution_count": 7,
   "id": "a5329c2d",
   "metadata": {
    "solution2": "hidden"
   },
   "outputs": [
    {
     "data": {
      "text/plain": [
       "'bab'"
      ]
     },
     "execution_count": 7,
     "metadata": {},
     "output_type": "execute_result"
    }
   ],
   "source": [
    "class Solution:\n",
    "    def longestPalindrome(self,s):\n",
    "        if not s or len(s) < 2:\n",
    "            return s;\n",
    "        resIdx = 0\n",
    "        resLen = 0\n",
    "        for idx in range(len(s) - 1):\n",
    "            len1 = self.longestLen(s, idx, idx)\n",
    "            len2 = self.longestLen(s, idx, idx + 1)\n",
    "            if len1 > resLen:\n",
    "                resLen = len1\n",
    "                resIdx = idx - int(resLen / 2)\n",
    "            if len2 > resLen:\n",
    "                resLen = len2\n",
    "                resIdx = idx - int(resLen / 2 - 1)\n",
    "        return s[resIdx:resIdx+resLen]\n",
    "            \n",
    "    def longestLen(self, s, left, right):\n",
    "        while (left >= 0 and right < len(s)):\n",
    "            if(s[left] != s[right]):\n",
    "                break\n",
    "            left -= 1;\n",
    "            right += 1;\n",
    "        return right - left - 1\n",
    "a = Solution()\n",
    "input = \"babad\"\n",
    "a.longestPalindrome(input)"
   ]
  },
  {
   "cell_type": "markdown",
   "id": "7b59a402",
   "metadata": {
    "solution2": "hidden",
    "solution2_first": true
   },
   "source": [
    "### 练习题:翻转字符串里的单词\n",
    "给你一个字符串 s ，请你反转字符串中 单词 的顺序。\n",
    "\n",
    "单词 是由非空格字符组成的字符串。s 中使用至少一个空格将字符串中的 单词 分隔开。\n",
    "\n",
    "返回 单词 顺序颠倒且 单词 之间用单个空格连接的结果字符串。\n",
    "\n",
    "注意：输入字符串 s中可能会存在前导空格、尾随空格或者单词间的多个空格。返回的结果字符串中，单词间应当仅用单个空格分隔，且不包含任何额外的空格。\n",
    "\n",
    "\n",
    "示例 1：\n",
    "\n",
    "- 输入：s = \"the sky is blue\"\n",
    "- 输出：\"blue is sky the\"\n",
    "\n",
    "示例 2：\n",
    "\n",
    "- 输入：s = \"  hello world  \"\n",
    "- 输出：\"world hello\"\n",
    "- 解释：反转后的字符串中不能存在前导空格和尾随空格。\n",
    "\n",
    "示例 3：\n",
    "\n",
    "- 输入：s = \"a good   example\"\n",
    "- 输出：\"example good a\"\n",
    "- 解释：如果两个单词间有多余的空格，反转后的字符串需要将单词间的空格减少到仅有一个。\n"
   ]
  },
  {
   "cell_type": "markdown",
   "id": "501e8088",
   "metadata": {
    "solution2": "hidden"
   },
   "source": [
    "#### 解法1:\n",
    "用split方法然后当做数组\n",
    "##### java:"
   ]
  },
  {
   "cell_type": "code",
   "execution_count": 2,
   "id": "8cd59923",
   "metadata": {
    "solution2": "hidden"
   },
   "outputs": [
    {
     "data": {
      "text/plain": [
       "blue is sky the"
      ]
     },
     "execution_count": 2,
     "metadata": {},
     "output_type": "execute_result"
    }
   ],
   "source": [
    "class Solution {\n",
    "    public String reverseWords(String s) {\n",
    "        String[] list = s.split(\"\\\\s+\");\n",
    "        int n = list.length;\n",
    "        StringBuffer sb = new StringBuffer();\n",
    "        for (int i = n-1; i >= 0; i--){\n",
    "            sb.append(\" \");\n",
    "            sb.append(list[i]);\n",
    "        }\n",
    "        return sb.toString().trim();\n",
    "    }\n",
    "}\n",
    "\n",
    "Solution a = new Solution();\n",
    "String input = \"the sky is blue\";\n",
    "a.reverseWords(input);"
   ]
  },
  {
   "cell_type": "markdown",
   "id": "666e9462",
   "metadata": {
    "solution2": "hidden"
   },
   "source": [
    "##### python:"
   ]
  },
  {
   "cell_type": "code",
   "execution_count": 2,
   "id": "82fa33a1",
   "metadata": {
    "solution2": "hidden"
   },
   "outputs": [
    {
     "data": {
      "text/plain": [
       "'blue is sky the'"
      ]
     },
     "execution_count": 2,
     "metadata": {},
     "output_type": "execute_result"
    }
   ],
   "source": [
    "class Solution:\n",
    "    def reverseWords(self, s):\n",
    "        return \" \".join(s.split(\" \")[::-1])\n",
    "a = Solution()\n",
    "input = \"the sky is blue\"\n",
    "a.reverseWords(input)"
   ]
  },
  {
   "cell_type": "markdown",
   "id": "cfecbb4b",
   "metadata": {
    "solution2": "hidden"
   },
   "source": [
    "#### 解法2:\n",
    "双指针,虽然由于java和python不能直接数组一样给字符串赋值所以要先转数组再转回去或者每次都新建字符串,但是可行,这里略过\n",
    "#### 解法3:\n",
    "递归,先处理最后一个单词,然后扔到前面在处理剩下的\n",
    "##### java:"
   ]
  },
  {
   "cell_type": "code",
   "execution_count": 12,
   "id": "46a6e1b3",
   "metadata": {
    "solution2": "hidden"
   },
   "outputs": [
    {
     "data": {
      "text/plain": [
       "blue is sky the"
      ]
     },
     "execution_count": 12,
     "metadata": {},
     "output_type": "execute_result"
    }
   ],
   "source": [
    "class Solution{\n",
    "    public String reverseWords(String s){\n",
    "        int len = s.length();\n",
    "        while (len-- > 0){\n",
    "            if (s.charAt(len) == ' '){\n",
    "                String word = s.substring(len + 1, s.length());\n",
    "                return word += \" \" + reverseWords(s.substring(0,len));\n",
    "            }\n",
    "        }\n",
    "        return s;\n",
    "    }\n",
    "}\n",
    "Solution a = new Solution();\n",
    "String input = \"the sky is blue\";\n",
    "a.reverseWords(input);"
   ]
  },
  {
   "cell_type": "markdown",
   "id": "464a4ff2",
   "metadata": {
    "solution2": "hidden"
   },
   "source": [
    "##### python"
   ]
  },
  {
   "cell_type": "code",
   "execution_count": 5,
   "id": "81a73138",
   "metadata": {
    "solution2": "hidden"
   },
   "outputs": [
    {
     "data": {
      "text/plain": [
       "'blue is sky the'"
      ]
     },
     "execution_count": 5,
     "metadata": {},
     "output_type": "execute_result"
    }
   ],
   "source": [
    "class Solution:\n",
    "    def reverseWords(self, s):\n",
    "        length = len(s)\n",
    "        while length > 0:\n",
    "            length-=1;\n",
    "            if s[length] == ' ':\n",
    "                return s[length+1:len(s)] + \" \" + self.reverseWords(s[0:length])\n",
    "        return s\n",
    "a = Solution()\n",
    "input = \"the sky is blue\"\n",
    "a.reverseWords(input)"
   ]
  },
  {
   "cell_type": "markdown",
   "id": "70e4bcbd",
   "metadata": {
    "solution2": "hidden"
   },
   "source": [
    "#### 解法4:\n",
    "##### java:"
   ]
  },
  {
   "cell_type": "code",
   "execution_count": 2,
   "id": "043fb419",
   "metadata": {
    "solution2": "hidden"
   },
   "outputs": [
    {
     "data": {
      "text/plain": [
       "blue is sky the"
      ]
     },
     "execution_count": 2,
     "metadata": {},
     "output_type": "execute_result"
    }
   ],
   "source": [
    "class Solution{\n",
    "    public String reverseWords(String s){\n",
    "        // 设置一个栈存放单词\n",
    "        Stack<String> stack = new Stack<>();\n",
    "        s.trim();\n",
    "        String[] wordArray = s.split(\" \");\n",
    "        for (String word : wordArray) {\n",
    "            if (!word.isEmpty()) {\n",
    "                stack.add(word);\n",
    "            }\n",
    "        }\n",
    "        StringBuffer stringBuffer = new StringBuffer();\n",
    "        while (!stack.isEmpty()) {\n",
    "            stringBuffer.append(stack.pop());\n",
    "            if (!stack.isEmpty()){\n",
    "                stringBuffer.append(\" \");\n",
    "            }\n",
    "        }\n",
    "        return stringBuffer.toString();\n",
    "    }\n",
    "}\n",
    "\n",
    "Solution a = new Solution();\n",
    "String input = \"the sky is blue\";\n",
    "a.reverseWords(input);"
   ]
  },
  {
   "cell_type": "markdown",
   "id": "8d0b234b",
   "metadata": {
    "solution2": "hidden"
   },
   "source": [
    "##### python:"
   ]
  },
  {
   "cell_type": "code",
   "execution_count": 6,
   "id": "283efe5e",
   "metadata": {
    "solution2": "hidden"
   },
   "outputs": [
    {
     "data": {
      "text/plain": [
       "'blue is sky the'"
      ]
     },
     "execution_count": 6,
     "metadata": {},
     "output_type": "execute_result"
    }
   ],
   "source": [
    "class Stack(object):\n",
    "    # 初始化栈为空列表\n",
    "    def __init__(self):\n",
    "        self.items = []\n",
    "\n",
    "    # 判断栈是否为空，返回布尔值\n",
    "    def is_empty(self):\n",
    "        return self.items == []\n",
    "\n",
    "    # 返回栈顶元素\n",
    "    def peek(self):\n",
    "        return self.items[len(self.items) - 1]\n",
    "\n",
    "    # 返回栈的大小\n",
    "    def size(self):\n",
    "        return len(self.items)\n",
    "\n",
    "    # 把新的元素堆进栈里面（程序员喜欢把这个过程叫做压栈，入栈，进栈……）\n",
    "    def add(self, item):\n",
    "        self.items.append(item)\n",
    "\n",
    "    # 把栈顶元素丢出去（程序员喜欢把这个过程叫做出栈……）\n",
    "    def pop(self):\n",
    "        return self.items.pop()\n",
    "\n",
    "class Solution:\n",
    "    def reverseWords(self, s):\n",
    "        stack = Stack()\n",
    "        s = s.strip();\n",
    "        strs = s.split(\" \")\n",
    "        for i in strs:\n",
    "            stack.add(i)\n",
    "        rtrn = \"\"\n",
    "        while not stack.is_empty():\n",
    "            rtrn += stack.pop()\n",
    "            if not stack.is_empty():\n",
    "                rtrn += \" \"\n",
    "        return rtrn\n",
    "a = Solution()\n",
    "input = \"the sky is blue\"\n",
    "a.reverseWords(input)"
   ]
  },
  {
   "cell_type": "markdown",
   "id": "8523d5c7",
   "metadata": {
    "solution2": "hidden",
    "solution2_first": true
   },
   "source": [
    "### KMP:\n",
    "简单来说就是实现IndexOf\n",
    "\n",
    "这个算法的时间复杂度为$O(m+n)$\n",
    "\n",
    "存储一个数组next来保存要匹配的字符串中元素不匹配时,下一步应该重新开始的下标\n",
    "#### 构造next数组\n",
    "假设目前是在字符串S里找P\n",
    "\n",
    "将$P[0...i-1]$的最长公共前后缀作为next[i]的下标\n",
    "#### 练习题:实现 strStr()\n",
    "给你两个字符串 haystack 和 needle ，请你在 haystack 字符串中找出 needle 字符串的第一个匹配项的下标（下标从 0 开始）。如果 needle 不是 haystack 的一部分，则返回  -1 。\n",
    "\n",
    "示例 1：\n",
    "\n",
    "- 输入：haystack = \"sadbutsad\", needle = \"sad\"\n",
    "- 输出：0\n",
    "- 解释：\"sad\" 在下标 0 和 6 处匹配。第一个匹配项的下标是 0 ，所以返回 0 。\n",
    "\n",
    "示例 2：\n",
    "\n",
    "- 输入：haystack = \"leetcode\", needle = \"leeto\"\n",
    "- 输出：-1\n",
    "- 解释：\"leeto\" 没有在 \"leetcode\" 中出现，所以返回 -1 。\n",
    "\n",
    "提示：\n",
    "\n",
    "- 1 <= haystack.length, needle.length <= 104\n",
    "- haystack 和 needle 仅由小写英文字符组成\n",
    "\n"
   ]
  },
  {
   "cell_type": "markdown",
   "id": "77c45ae8",
   "metadata": {},
   "source": [
    "## ArrayList动态数组(java, python不需要这个)\n",
    "数组长度可变,不需要像之前一样固定长度\n"
   ]
  },
  {
   "cell_type": "code",
   "execution_count": 12,
   "id": "e0538825",
   "metadata": {},
   "outputs": [
    {
     "name": "stdout",
     "output_type": "stream",
     "text": [
      "add:\n",
      "    [1, 2, 3, 4, 5, 6]\n",
      "get:\n",
      "    2\n",
      "set:\n",
      "    [100, 2, 3, 4, 5, 6]\n",
      "remove:\n",
      "    [100, 2, 4, 5, 6]\n",
      "size:\n",
      "    5\n",
      "clear:\n",
      "    []\n"
     ]
    }
   ],
   "source": [
    "// ArrayList<T>()\n",
    "// 新建一个ArrayList对象\n",
    "ArrayList<Integer> list = new ArrayList<Integer>();\n",
    "\n",
    "// void add(T element)\n",
    "// 添加某个元素:\n",
    "list.add(1);\n",
    "list.add(2);\n",
    "list.add(3);\n",
    "list.add(4);\n",
    "list.add(5);\n",
    "list.add(6);\n",
    "System.out.println(\"add:\");\n",
    "System.out.print(\"    \");\n",
    "System.out.println(list);\n",
    "\n",
    "// T get(int index)\n",
    "// 获取特定索引的元素\n",
    "System.out.println(\"get:\");\n",
    "System.out.print(\"    \");\n",
    "System.out.println(list.get(1));\n",
    "\n",
    "\n",
    "// void set(int index, T element)\n",
    "// 改变index下标的元素\n",
    "list.set(0,100);\n",
    "System.out.println(\"set:\");\n",
    "System.out.print(\"    \");\n",
    "System.out.println(list);\n",
    "\n",
    "// void remove(int index)\n",
    "// 删除特定下标的元素\n",
    "list.remove(2);\n",
    "System.out.println(\"remove:\");\n",
    "System.out.print(\"    \");\n",
    "System.out.println(list);\n",
    "\n",
    "// int size()\n",
    "// 获取ArrayList大小\n",
    "System.out.println(\"size:\");\n",
    "System.out.print(\"    \");\n",
    "System.out.println(list.size());\n",
    "\n",
    "// void clear()\n",
    "// 清空ArrayList\n",
    "list.clear();\n",
    "System.out.println(\"clear:\");\n",
    "System.out.print(\"    \");\n",
    "System.out.println(list);"
   ]
  },
  {
   "cell_type": "markdown",
   "id": "96369df9",
   "metadata": {
    "solution2": "hidden"
   },
   "source": [
    "偷懒的话可以直接调python的find和java的indexof\n",
    "\n",
    "不过这里还是把kmp写一遍\n",
    "##### python:"
   ]
  },
  {
   "cell_type": "code",
   "execution_count": 17,
   "id": "b59ca7ef",
   "metadata": {
    "solution2": "hidden"
   },
   "outputs": [
    {
     "data": {
      "text/plain": [
       "6"
      ]
     },
     "execution_count": 17,
     "metadata": {},
     "output_type": "execute_result"
    }
   ],
   "source": [
    "class Solution:\n",
    "    def strStr(self, haystack, needle):\n",
    "        if (len(needle) == 0):\n",
    "            return 0\n",
    "        m = len(haystack)\n",
    "        n = len(needle)\n",
    "        i = 0\n",
    "        j = 0\n",
    "        next = self.nextBuilder(needle)\n",
    "        while i < m and j < n:\n",
    "            if j < 0 or haystack[i] == needle[j]:\n",
    "                i=i+1\n",
    "                j=j+1\n",
    "            else:\n",
    "                j = next[j]\n",
    "        if j ==n:\n",
    "            return i - j\n",
    "        else:\n",
    "            return -1\n",
    "    def nextBuilder(self, needle):\n",
    "        m = len(needle)\n",
    "        next = [0] * m\n",
    "        next[0] = -1\n",
    "        t = -1\n",
    "        j = 0\n",
    "        while j < m - 1:\n",
    "            if t < 0 or needle[t] == needle[j]:\n",
    "                t+=1\n",
    "                j+=1\n",
    "                next[j] = t\n",
    "            else:\n",
    "                t = next[t]\n",
    "        return next\n",
    "a = Solution()\n",
    "a.strStr(\"sadbutdad\",\"dad\")"
   ]
  },
  {
   "cell_type": "markdown",
   "id": "c13e375c",
   "metadata": {
    "solution2": "hidden"
   },
   "source": [
    "##### java:\n"
   ]
  },
  {
   "cell_type": "code",
   "execution_count": 29,
   "id": "174726d0",
   "metadata": {
    "solution2": "hidden"
   },
   "outputs": [
    {
     "name": "stdout",
     "output_type": "stream",
     "text": [
      "-1\n"
     ]
    },
    {
     "data": {
      "text/plain": [
       "6"
      ]
     },
     "execution_count": 29,
     "metadata": {},
     "output_type": "execute_result"
    }
   ],
   "source": [
    "class Solution {\n",
    "    public int strStr(String haystack, String needle) {\n",
    "        if(needle.length()==0) return 0;\n",
    "        int m = haystack.length(), i = 0;\n",
    "        int n = needle.length(),   j = 0;\n",
    "\n",
    "        int[] next = nextBuilder(needle);\n",
    "        while(i<m && j<n) {\n",
    "            if(j<0 || haystack.charAt(i) == needle.charAt(j)) {\n",
    "                i++;j++;\n",
    "            }else{j = next[j];}\n",
    "        }\n",
    "        if(j == n) { return i - j;}\n",
    "        else return -1;\n",
    "\n",
    "    }\n",
    "    private int[] nextBuilder(String needle) {\n",
    "        int m = needle.length();\n",
    "        int[] next = new int[m];\n",
    "        next[0] = -1;\n",
    "        int t = -1, j = 0;\n",
    "        while(j < m-1) { // j是要求最长公共前后缀长度的子串长度,P[0..i-1]\n",
    "            if(t < 0 || needle.charAt(t) == needle.charAt(j)) { // 从前后双指针,如果相等更新next,否则调到下一次循环\n",
    "                t++;\n",
    "                j++;\n",
    "                next[j] = t;\n",
    "            } \n",
    "            else { \n",
    "                t = next[t]; // t回退\n",
    "            }\n",
    "        }\n",
    "        return next;\n",
    "    }\n",
    "}\n",
    "\n",
    "Solution a = new Solution();\n",
    "a.strStr(\"sadbutdad\",\"dad\")"
   ]
  },
  {
   "cell_type": "markdown",
   "id": "ed677f76",
   "metadata": {},
   "source": [
    "## StringBuffer & StringBuilder(java,python不需要这个)\n",
    "(承接3.4.3)\n",
    "线程安全,如果设计多线程且要求线程安全必须用这个, 但是StringBuilder速度更快\n",
    "### StringBuffer"
   ]
  },
  {
   "cell_type": "code",
   "execution_count": 19,
   "id": "19e69804",
   "metadata": {},
   "outputs": [
    {
     "name": "stdout",
     "output_type": "stream",
     "text": [
      "append:\n",
      "    hello world goodbye world\n",
      "delete:\n",
      "    world goodbye world\n",
      "insert(int):\n",
      "    wor8ld goodbye world\n",
      "insert(str):\n",
      "    worlol8ld goodbye world\n",
      "replace:\n",
      "    get lost, world,goodbye world\n",
      "capacity:\n",
      "    56\n",
      "indexOf(单参数):\n",
      "    10\n",
      "indexOf(双参数):\n",
      "    24\n",
      "lastIndexOf(单参数):\n",
      "    24\n",
      "substring:\n",
      "    rld,goodbye world\n"
     ]
    }
   ],
   "source": [
    "// StringBuffer(String s)\n",
    "// 新建一个StringBuffer对象\n",
    "StringBuffer sb = new StringBuffer(\"hello world\");\n",
    "\n",
    "// void append(String s)\n",
    "// 在末尾加上某个字符串\n",
    "sb.append(\" goodbye world\");\n",
    "System.out.println(\"append:\");\n",
    "System.out.print(\"    \");\n",
    "System.out.println(sb);\n",
    "\n",
    "// void delete(int start, int end)\n",
    "// 删掉start索引到end索引的字符串\n",
    "sb.delete(0,6);\n",
    "System.out.println(\"delete:\");\n",
    "System.out.print(\"    \");\n",
    "System.out.println(sb);\n",
    "\n",
    "\n",
    "// insert(int offset, int i)\n",
    "// 在索引offest处插入int类型的参数i\n",
    "sb.insert(3,8);\n",
    "System.out.println(\"insert(int):\");\n",
    "System.out.print(\"    \");\n",
    "System.out.println(sb);\n",
    "\n",
    "\n",
    "// insert(int offset, String str)\n",
    "// 在索引offset处插入Stiring类型的参数\n",
    "sb.insert(3,\"lol\");\n",
    "System.out.println(\"insert(str):\");\n",
    "System.out.print(\"    \");\n",
    "System.out.println(sb);\n",
    "\n",
    "// replace(int start, int end, String str)\n",
    "// 把索引start到end之间的东西换成字符串str\n",
    "sb.replace(0,10,\"get lost, world,\");\n",
    "System.out.println(\"replace:\");\n",
    "System.out.print(\"    \");\n",
    "System.out.println(sb);\n",
    "\n",
    "// int capacity()\n",
    "// 获取当前容量\n",
    "System.out.println(\"capacity:\");\n",
    "System.out.print(\"    \");\n",
    "System.out.println(sb.capacity());\n",
    "\n",
    "// int indexOf(String str)\n",
    "// 获取第一次出现str的索引\n",
    "System.out.println(\"indexOf(单参数):\");\n",
    "System.out.print(\"    \");\n",
    "System.out.println(sb.indexOf(\"world\"));\n",
    "\n",
    "// int indexOf(String str, int fromIndex)\n",
    "// 获取在fromIndex之后第一次出现str的索引\n",
    "System.out.println(\"indexOf(双参数):\");\n",
    "System.out.print(\"    \");\n",
    "System.out.println(sb.indexOf(\"world\", 12));\n",
    "\n",
    "// int lastIndexOf(String str)\n",
    "// 获取最后一次str出现的索引\n",
    "System.out.println(\"lastIndexOf(单参数):\");\n",
    "System.out.print(\"    \");\n",
    "System.out.println(sb.lastIndexOf(\"world\"));\n",
    "\n",
    "// String substring(int start)\n",
    "// 和字符串的substring方法一样,也可以传两个参数来获取两个索引之间的字符串\n",
    "System.out.println(\"substring:\");\n",
    "System.out.print(\"    \");\n",
    "System.out.println(sb.substring(12))\n",
    "\n",
    "// String toString()\n",
    "// 返回这个东西的字符串形式(不然你也不能输出)"
   ]
  },
  {
   "cell_type": "code",
   "execution_count": 23,
   "id": "b0acfc4e",
   "metadata": {},
   "outputs": [
    {
     "name": "stdout",
     "output_type": "stream",
     "text": [
      "append:\n",
      "    hello world goodbye world\n",
      "delete:\n",
      "    world goodbye world\n",
      "insert(int):\n",
      "    wor8ld goodbye world\n",
      "insert(str):\n",
      "    worlol8ld goodbye world\n",
      "replace:\n",
      "    get lost, world,goodbye world\n",
      "capacity:\n",
      "    56\n",
      "indexOf(单参数):\n",
      "    10\n",
      "indexOf(双参数):\n",
      "    24\n",
      "lastIndexOf(单参数):\n",
      "    24\n",
      "substring:\n",
      "    rld,goodbye world\n"
     ]
    }
   ],
   "source": [
    "// StringBuffer(String s)\n",
    "// 新建一个StringBuilder对象\n",
    "// 可以通过声明初始容量定义一个空的sb\n",
    "// 也可以之间和StringBuffer一样\n",
    "StringBuilder sb = new StringBuilder(10);\n",
    "StringBuilder sb = new StringBuilder(\"hello world\");\n",
    "\n",
    "\n",
    "// void append(String s)\n",
    "// 在末尾加上某个字符串\n",
    "sb.append(\" goodbye world\");\n",
    "System.out.println(\"append:\");\n",
    "System.out.print(\"    \");\n",
    "System.out.println(sb);\n",
    "\n",
    "// void delete(int start, int end)\n",
    "// 删掉start索引到end索引的字符串\n",
    "sb.delete(0,6);\n",
    "System.out.println(\"delete:\");\n",
    "System.out.print(\"    \");\n",
    "System.out.println(sb);\n",
    "\n",
    "\n",
    "// insert(int offset, int i)\n",
    "// 在索引offest处插入int类型的参数i\n",
    "sb.insert(3,8);\n",
    "System.out.println(\"insert(int):\");\n",
    "System.out.print(\"    \");\n",
    "System.out.println(sb);\n",
    "\n",
    "\n",
    "// insert(int offset, String str)\n",
    "// 在索引offset处插入Stiring类型的参数\n",
    "sb.insert(3,\"lol\");\n",
    "System.out.println(\"insert(str):\");\n",
    "System.out.print(\"    \");\n",
    "System.out.println(sb);\n",
    "\n",
    "// replace(int start, int end, String str)\n",
    "// 把索引start到end之间的东西换成字符串str\n",
    "sb.replace(0,10,\"get lost, world,\");\n",
    "System.out.println(\"replace:\");\n",
    "System.out.print(\"    \");\n",
    "System.out.println(sb);\n",
    "\n",
    "// int capacity()\n",
    "// 获取当前容量\n",
    "System.out.println(\"capacity:\");\n",
    "System.out.print(\"    \");\n",
    "System.out.println(sb.capacity());\n",
    "\n",
    "// int indexOf(String str)\n",
    "// 获取第一次出现str的索引\n",
    "System.out.println(\"indexOf(单参数):\");\n",
    "System.out.print(\"    \");\n",
    "System.out.println(sb.indexOf(\"world\"));\n",
    "\n",
    "// int indexOf(String str, int fromIndex)\n",
    "// 获取在fromIndex之后第一次出现str的索引\n",
    "System.out.println(\"indexOf(双参数):\");\n",
    "System.out.print(\"    \");\n",
    "System.out.println(sb.indexOf(\"world\", 12));\n",
    "\n",
    "// int lastIndexOf(String str)\n",
    "// 获取最后一次str出现的索引\n",
    "System.out.println(\"lastIndexOf(单参数):\");\n",
    "System.out.print(\"    \");\n",
    "System.out.println(sb.lastIndexOf(\"world\"));\n",
    "\n",
    "// String substring(int start)\n",
    "// 和字符串的substring方法一样,也可以传两个参数来获取两个索引之间的字符串\n",
    "System.out.println(\"substring:\");\n",
    "System.out.print(\"    \");\n",
    "System.out.println(sb.substring(12))\n",
    "\n",
    "// String toString()\n",
    "// 返回这个东西的字符串形式(不然你也不能输出)"
   ]
  },
  {
   "cell_type": "markdown",
   "id": "d5da2089",
   "metadata": {
    "solution2": "hidden",
    "solution2_first": true
   },
   "source": [
    "## 双指针\n",
    "其实应该单开一块,但是和leetbook里这个在字符串里,之后写双指针和移动窗口的时候再移过去吧\n",
    "\n",
    "一共就两种情景,左右指针和快慢指针\n",
    "### 练习题:反转字符串\n",
    "编写一个函数，其作用是将输入的字符串反转过来。输入字符串以字符数组 s 的形式给出。\n",
    "\n",
    "不要给另外的数组分配额外的空间，你必须原地修改输入数组、使用 O(1) 的额外空间解决这一问题。\n",
    "\n",
    "示例 1：\n",
    "\n",
    "- 输入：s = [\"h\",\"e\",\"l\",\"l\",\"o\"]\n",
    "- 输出：[\"o\",\"l\",\"l\",\"e\",\"h\"]\n",
    "示例 2：\n",
    "\n",
    "- 输入：s = [\"H\",\"a\",\"n\",\"n\",\"a\",\"h\"]\n",
    "- 输出：[\"h\",\"a\",\"n\",\"n\",\"a\",\"H\"]\n",
    " \n",
    "\n",
    "提示：\n",
    "\n",
    "1 <= s.length <= 105\n",
    "s[i] 都是 ASCII 码表中的可打印字符\n",
    "\n",
    "温馨提示:python直接s = s[::-1]就没意思了,虽然这道题要求原地改变数组所以其实调函数也不行"
   ]
  },
  {
   "cell_type": "markdown",
   "id": "4e161bf3",
   "metadata": {
    "solution2": "hidden"
   },
   "source": [
    "#### 解法1:\n",
    "前后指针\n",
    "##### python"
   ]
  },
  {
   "cell_type": "code",
   "execution_count": 5,
   "id": "78657e54",
   "metadata": {
    "solution2": "hidden"
   },
   "outputs": [
    {
     "data": {
      "text/plain": [
       "['g', 'n', 'i', 'r', 't', 'S']"
      ]
     },
     "execution_count": 5,
     "metadata": {},
     "output_type": "execute_result"
    }
   ],
   "source": [
    "class Solution:\n",
    "    def reverseString(self, s) -> None:\n",
    "        left = len(s) - 1\n",
    "        right = 0\n",
    "        while right < left:\n",
    "            s[right],s[left] = s[left],s[right]\n",
    "            right+=1\n",
    "            left-=1\n",
    "a = Solution()\n",
    "input = list(\"String\")\n",
    "a.reverseString(input);\n",
    "input"
   ]
  },
  {
   "cell_type": "markdown",
   "id": "08456d72",
   "metadata": {
    "solution2": "hidden"
   },
   "source": [
    "##### java"
   ]
  },
  {
   "cell_type": "code",
   "execution_count": 10,
   "id": "6c8f7165",
   "metadata": {
    "solution2": "hidden"
   },
   "outputs": [
    {
     "name": "stdout",
     "output_type": "stream",
     "text": [
      "g n i r t S "
     ]
    }
   ],
   "source": [
    "class Solution{\n",
    "    public void reverseString(char[] s){\n",
    "        int left = s.length - 1;\n",
    "        int right = 0;\n",
    "        while (right < left) {\n",
    "            char temp = s[right];\n",
    "            s[right] = s[left];\n",
    "            s[left] = temp;\n",
    "            right++;\n",
    "            left--;\n",
    "        }\n",
    "    }\n",
    "}\n",
    "\n",
    "Solution a = new Solution();\n",
    "char[] input = new char[]{'S','t','r','i','n','g'};\n",
    "a.reverseString(input);\n",
    "for (char i: input){\n",
    "    System.out.print(i);\n",
    "    System.out.print(\" \");\n",
    "}"
   ]
  },
  {
   "cell_type": "markdown",
   "id": "9a74a107",
   "metadata": {
    "solution2": "hidden"
   },
   "source": [
    "#### 解法2:\n",
    "双指针,但是注意java的字符串是不可更改的,每次要更改只能重新赋值\n",
    "\n",
    "懒得写了,跳过"
   ]
  },
  {
   "cell_type": "markdown",
   "id": "d5626383",
   "metadata": {
    "solution2": "hidden"
   },
   "source": [
    "#### 解法3:\n",
    "从末尾找单词扔到前面, 但是递归\n",
    "##### java:"
   ]
  },
  {
   "cell_type": "code",
   "execution_count": 5,
   "id": "3a560874",
   "metadata": {
    "solution2": "hidden"
   },
   "outputs": [
    {
     "data": {
      "text/plain": [
       "blue is sky the"
      ]
     },
     "execution_count": 5,
     "metadata": {},
     "output_type": "execute_result"
    }
   ],
   "source": [
    "class Solution{\n",
    "    public String reverseWords(String s){\n",
    "        s = s.trim();\n",
    "        int len = s.length();\n",
    "        while(len-- > 0){\n",
    "            if(s.charAt(len) == ' '){\n",
    "                String word = s.substring(len + 1, s.length());\n",
    "                return word + \" \" + reverseWords(s.substring(0,len)); // 这个是从后往前找,所以是0到len\n",
    "            }\n",
    "        }\n",
    "        return s;\n",
    "    }\n",
    "}\n",
    "Solution a = new Solution();\n",
    "String input = \"the sky is blue\";\n",
    "a.reverseWords(input)"
   ]
  },
  {
   "cell_type": "code",
   "execution_count": 7,
   "id": "3df9d3ab",
   "metadata": {
    "solution2": "hidden"
   },
   "outputs": [
    {
     "data": {
      "text/plain": [
       "'blue is sky the'"
      ]
     },
     "execution_count": 7,
     "metadata": {},
     "output_type": "execute_result"
    }
   ],
   "source": [
    "class Solution:\n",
    "    def reverseWords(self,s):\n",
    "        s = s.strip()\n",
    "        length = len(s) - 1\n",
    "        while(length > 0):\n",
    "            if s[length] == ' ':\n",
    "                word = s[length + 1: len(s)]\n",
    "                return word + \" \" + self.reverseWords(s[:length])\n",
    "            length-=1\n",
    "        return s\n",
    "a = Solution()\n",
    "input = \"the sky is blue\"\n",
    "a.reverseWords(input)"
   ]
  },
  {
   "cell_type": "markdown",
   "id": "1a9239f0",
   "metadata": {
    "solution2": "hidden"
   },
   "source": [
    "#### 解法4:栈\n",
    "毕竟要反转,肯定得想到栈\n",
    "##### python\n",
    "python没有栈的定义,所以必须自己定义或者外部引入"
   ]
  },
  {
   "cell_type": "code",
   "execution_count": 12,
   "id": "83dbbb21",
   "metadata": {
    "solution2": "hidden"
   },
   "outputs": [
    {
     "data": {
      "text/plain": [
       "'blue is sky the'"
      ]
     },
     "execution_count": 12,
     "metadata": {},
     "output_type": "execute_result"
    }
   ],
   "source": [
    "class Stack(object):\n",
    "    # 初始化栈为空列表\n",
    "    def __init__(self):\n",
    "        self.items = []\n",
    "\n",
    "    # 判断栈是否为空，返回布尔值\n",
    "    def is_empty(self):\n",
    "        return self.items == []\n",
    "\n",
    "    # 返回栈顶元素\n",
    "    def peek(self):\n",
    "        return self.items[len(self.items) - 1]\n",
    "\n",
    "    # 返回栈的大小\n",
    "    def size(self):\n",
    "        return len(self.items)\n",
    "\n",
    "    # 把新的元素堆进栈里面（程序员喜欢把这个过程叫做压栈，入栈，进栈……）\n",
    "    def add(self, item):\n",
    "        self.items.append(item)\n",
    "\n",
    "    # 把栈顶元素丢出去（程序员喜欢把这个过程叫做出栈……）\n",
    "    def pop(self):\n",
    "        return self.items.pop()\n",
    "    \n",
    "class Solution:\n",
    "    def reverseWords(self, s):\n",
    "        wordList = s.split(\" \");\n",
    "        # 其实这里直接wordList = wordList[::-1]就行,不过为了和java一致还是用栈写一遍\n",
    "        rtrn = \"\"\n",
    "        stack = Stack()\n",
    "        for i in wordList:\n",
    "            stack.add(i)\n",
    "        while not stack.is_empty():\n",
    "            rtrn += stack.pop()\n",
    "            if not stack.is_empty(): # 为了最后没有空格,strip()一下其实也行\n",
    "                rtrn += \" \"\n",
    "        return rtrn\n",
    "a = Solution()\n",
    "input = \"the sky is blue\"\n",
    "a.reverseWords(input)"
   ]
  },
  {
   "cell_type": "markdown",
   "id": "86b37e8a",
   "metadata": {
    "solution2": "hidden"
   },
   "source": [
    "##### java:\n",
    "java有自己的内置栈,不用自己定义\n"
   ]
  },
  {
   "cell_type": "code",
   "execution_count": 3,
   "id": "6aae62d5",
   "metadata": {
    "solution2": "hidden"
   },
   "outputs": [
    {
     "data": {
      "text/plain": [
       "blue is sky the"
      ]
     },
     "execution_count": 3,
     "metadata": {},
     "output_type": "execute_result"
    }
   ],
   "source": [
    "class Solution{\n",
    "    public String reverseWords(String s) {\n",
    "        // 设置一个栈存放单词\n",
    "        Stack<String> stack = new Stack<>();\n",
    "        s.trim();\n",
    "        String[] wordArray = s.split(\" \");\n",
    "        for (String word : wordArray) {\n",
    "            if (!word.isEmpty()) {\n",
    "                stack.add(word);\n",
    "            }\n",
    "        }\n",
    "        StringBuffer stringBuffer = new StringBuffer();\n",
    "        while (!stack.isEmpty()) {\n",
    "            stringBuffer.append(stack.pop());\n",
    "            if (!stack.isEmpty()){\n",
    "                stringBuffer.append(\" \");\n",
    "            }\n",
    "        }\n",
    "        return stringBuffer.toString();\n",
    "    }\n",
    "}\n",
    "Solution a = new Solution();\n",
    "String input = \"the sky is blue\";\n",
    "a.reverseWords(input);"
   ]
  },
  {
   "cell_type": "markdown",
   "id": "efd1e49d",
   "metadata": {
    "solution2": "hidden",
    "solution2_first": true
   },
   "source": [
    "### 练习题: 数组拆分 I\n",
    "给定长度为 2n 的整数数组 nums ，你的任务是将这些数分成 n 对, 例如 (a1, b1), (a2, b2), ..., (an, bn) ，使得从 1 到 n 的 min(ai, bi) 总和最大。\n",
    "\n",
    "返回该 最大总和 。\n",
    "\n",
    "示例 1：\n",
    "\n",
    "- 输入：nums = [1,4,3,2]\n",
    "- 输出：4\n",
    "- 解释：所有可能的分法（忽略元素顺序）为：\n",
    "  - 1. (1, 4), (2, 3) -> min(1, 4) + min(2, 3) = 1 + 2 = 3\n",
    "  - 2. (1, 3), (2, 4) -> min(1, 3) + min(2, 4) = 1 + 2 = 3\n",
    "  - 3. (1, 2), (3, 4) -> min(1, 2) + min(3, 4) = 1 + 3 = 4\n",
    "  - 所以最大总和为 4\n",
    "  \n",
    "示例 2：\n",
    "\n",
    "- 输入：nums = [6,2,6,5,1,2]\n",
    "- 输出：9\n",
    "- 解释：最优的分法为 (2, 1), (2, 5), (6, 6). min(2, 1) + min(2, 5) + min(6, 6) = 1 + 2 + 6 = 9\n",
    " \n",
    "提示：\n",
    "\n",
    "- 1 <= n <= 104\n",
    "- nums.length == 2 * n\n",
    "- -104 <= nums[i] <= 104\n"
   ]
  },
  {
   "cell_type": "markdown",
   "id": "6c8def2d",
   "metadata": {
    "solution2": "hidden"
   },
   "source": [
    "#### 解法1:\n",
    "排序,然后找奇数位和\n",
    "##### python:"
   ]
  },
  {
   "cell_type": "code",
   "execution_count": 5,
   "id": "b0d7366e",
   "metadata": {
    "solution2": "hidden"
   },
   "outputs": [
    {
     "data": {
      "text/plain": [
       "4"
      ]
     },
     "execution_count": 5,
     "metadata": {},
     "output_type": "execute_result"
    }
   ],
   "source": [
    "class Solution:\n",
    "    def arrayPairSum(self, nums):\n",
    "        nums = sorted(nums);\n",
    "        return sum(nums[::2])\n",
    "    \n",
    "a = Solution()\n",
    "a.arrayPairSum([1,4,3,2])"
   ]
  },
  {
   "cell_type": "markdown",
   "id": "7e5ef36b",
   "metadata": {
    "solution2": "hidden"
   },
   "source": [
    "##### java:"
   ]
  },
  {
   "cell_type": "code",
   "execution_count": 1,
   "id": "ce989f66",
   "metadata": {
    "solution2": "hidden"
   },
   "outputs": [
    {
     "data": {
      "text/plain": [
       "4"
      ]
     },
     "execution_count": 1,
     "metadata": {},
     "output_type": "execute_result"
    }
   ],
   "source": [
    "class Solution {\n",
    "    public int arrayPairSum(int[] nums) {\n",
    "        Arrays.sort(nums);\n",
    "        int sum = 0;\n",
    "        for (int i = 0; i < nums.length /2; i++){\n",
    "            sum += nums[2*i];\n",
    "        }\n",
    "        return sum;\n",
    "    }\n",
    "}\n",
    "\n",
    "Solution a = new Solution();\n",
    "int[] input = new int[]{1,4,2,3};\n",
    "a.arrayPairSum(input);"
   ]
  },
  {
   "cell_type": "markdown",
   "id": "90c97e21",
   "metadata": {
    "solution2": "hidden",
    "solution2_first": true
   },
   "source": [
    "### 练习题:两数之和 II - 输入有序数组\n",
    "给你一个下标从 1 开始的整数数组 numbers ，该数组已按 非递减顺序排列  ，请你从数组中找出满足相加之和等于目标数 target 的两个数。如果设这两个数分别是 numbers[index1] 和 numbers[index2] ，则 1 <= index1 < index2 <= numbers.length 。\n",
    "\n",
    "以长度为 2 的整数数组 [index1, index2] 的形式返回这两个整数的下标 index1 和 index2。\n",
    "\n",
    "你可以假设每个输入 只对应唯一的答案 ，而且你 不可以 重复使用相同的元素。\n",
    "\n",
    "你所设计的解决方案必须只使用常量级的额外空间。\n",
    "\n",
    " \n",
    "示例 1：\n",
    "\n",
    "- 输入：numbers = [2,7,11,15], target = 9\n",
    "- 输出：[1,2]\n",
    "- 解释：2 与 7 之和等于目标数 9 。因此 index1 = 1, index2 = 2 。返回 [1, 2] 。\n",
    "\n",
    "示例 2：\n",
    "\n",
    "- 输入：numbers = [2,3,4], target = 6\n",
    "- 输出：[1,3]\n",
    "- 解释：2 与 4 之和等于目标数 6 。因此 index1 = 1, index2 = 3 。返回 [1, 3] 。\n",
    "\n",
    "示例 3：\n",
    "\n",
    "- 输入：numbers = [-1,0], target = -1\n",
    "- 输出：[1,2]\n",
    "- 解释：-1 与 0 之和等于目标数 -1 。因此 index1 = 1, index2 = 2 。返回 [1, 2] 。\n",
    "\n",
    "提示：\n",
    "\n",
    "- 2 <= numbers.length <= 3 * 104\n",
    "- -1000 <= numbers[i] <= 1000\n",
    "- numbers 按 非递减顺序 排列\n",
    "- -1000 <= target <= 1000\n",
    "- 仅存在一个有效答案"
   ]
  },
  {
   "cell_type": "markdown",
   "id": "685a8549",
   "metadata": {
    "solution2": "hidden"
   },
   "source": [
    "#### 解法:\n",
    "数组是递增的\n",
    "##### python:\n"
   ]
  },
  {
   "cell_type": "code",
   "execution_count": 21,
   "id": "eca1235c",
   "metadata": {
    "solution2": "hidden"
   },
   "outputs": [
    {
     "data": {
      "text/plain": [
       "[1, 2]"
      ]
     },
     "execution_count": 21,
     "metadata": {},
     "output_type": "execute_result"
    }
   ],
   "source": [
    "class Solution:\n",
    "    def twoSum(self, numbers, target):\n",
    "        left = 0\n",
    "        right = len(numbers)- 1;\n",
    "        while left - right:\n",
    "            if (numbers[left] + numbers[right] > target):\n",
    "                right-=1\n",
    "            elif (numbers[left] + numbers[right] < target):\n",
    "                left+=1\n",
    "            else:\n",
    "                return [left+1,right+1]\n",
    "        return [-1,-1]\n",
    "a = Solution()\n",
    "input = [2,7,11,15]\n",
    "a.twoSum(input,9)"
   ]
  },
  {
   "cell_type": "markdown",
   "id": "7c86a845",
   "metadata": {
    "solution2": "hidden"
   },
   "source": [
    "##### java:"
   ]
  },
  {
   "cell_type": "code",
   "execution_count": 5,
   "id": "29f0ed56",
   "metadata": {
    "solution2": "hidden"
   },
   "outputs": [
    {
     "name": "stdout",
     "output_type": "stream",
     "text": [
      "[1, 2]"
     ]
    },
    {
     "data": {
      "text/plain": [
       "java.io.PrintStream@b799b85"
      ]
     },
     "execution_count": 5,
     "metadata": {},
     "output_type": "execute_result"
    }
   ],
   "source": [
    "class Solution {\n",
    "    public int[] twoSum(int[] numbers, int target) {\n",
    "        int left = 0;\n",
    "        int right = numbers.length - 1;\n",
    "        while(left < right){\n",
    "            if (numbers[left] + numbers[right] > target){\n",
    "                right--;\n",
    "            }\n",
    "            else if (numbers[left] + numbers[right] < target){\n",
    "                left++;\n",
    "            }\n",
    "            else{\n",
    "                return new int[]{left+1,right+1};\n",
    "            }\n",
    "        }\n",
    "        return new int[]{-1,-1};\n",
    "    }\n",
    "}\n",
    "Solution a = new Solution();\n",
    "int[] input = new int[]{2,7,11,15};\n",
    "int[] output = a.twoSum(input, 9);\n",
    "System.out.printf(\"[%d, %d]\", output[0], output[1]);"
   ]
  },
  {
   "cell_type": "markdown",
   "id": "b4ccdc56",
   "metadata": {
    "solution2": "hidden",
    "solution2_first": true
   },
   "source": [
    "### 练习题:移除元素\n",
    "给你一个数组 nums 和一个值 val，你需要 原地 移除所有数值等于 val 的元素，并返回移除后数组的新长度。\n",
    "\n",
    "不要使用额外的数组空间，你必须仅使用 O(1) 额外空间并 原地 修改输入数组。\n",
    "\n",
    "元素的顺序可以改变。你不需要考虑数组中超出新长度后面的元素。\n",
    "\n",
    " \n",
    "\n",
    "说明:\n",
    "\n",
    "为什么返回数值是整数，但输出的答案是数组呢?\n",
    "\n",
    "请注意，输入数组是以「引用」方式传递的，这意味着在函数里修改输入数组对于调用者是可见的。\n",
    "\n",
    "你可以想象内部操作如下:\n",
    "```java\n",
    "// nums 是以“引用”方式传递的。也就是说，不对实参作任何拷贝\n",
    "int len = removeElement(nums, val);\n",
    "\n",
    "// 在函数里修改输入数组对于调用者是可见的。\n",
    "// 根据你的函数返回的长度, 它会打印出数组中 该长度范围内 的所有元素。\n",
    "for (int i = 0; i < len; i++) {\n",
    "    print(nums[i]);\n",
    "}\n",
    "```\n",
    "\n",
    "示例 1：\n",
    "\n",
    "- 输入：nums = [3,2,2,3], val = 3\n",
    "- 输出：2, nums = [2,2]\n",
    "- 解释：函数应该返回新的长度 2, 并且 nums 中的前两个元素均为 2。你不需要考虑数组中超出新长度后面的元素。例如，函数返回的新长度为 2 ，而 nums = [2,2,3,3] 或 nums = [2,2,0,0]，也会被视作正确答案。\n",
    "\n",
    "示例 2：\n",
    "\n",
    "- 输入：nums = [0,1,2,2,3,0,4,2], val = 2\n",
    "- 输出：5, nums = [0,1,3,0,4]\n",
    "- 解释：函数应该返回新的长度 5, 并且 nums 中的前五个元素为 0, 1, 3, 0, 4。注意这五个元素可为任意顺序。你不需要考虑数组中超出新长度后面的元素。\n",
    " \n",
    "\n",
    "提示：\n",
    "\n",
    "- 0 <= nums.length <= 100\n",
    "- 0 <= nums[i] <= 50\n",
    "- 0 <= val <= 100"
   ]
  },
  {
   "cell_type": "markdown",
   "id": "4d57bc15",
   "metadata": {
    "solution2": "hidden"
   },
   "source": [
    "#### 解法1:\n",
    "不删的扔前面,反正题目说了不用管剩下的元素,那个O(1)空间就只能存扔到哪里了\n",
    "##### python"
   ]
  },
  {
   "cell_type": "code",
   "execution_count": 2,
   "id": "e46e9eac",
   "metadata": {
    "solution2": "hidden"
   },
   "outputs": [
    {
     "data": {
      "text/plain": [
       "2"
      ]
     },
     "execution_count": 2,
     "metadata": {},
     "output_type": "execute_result"
    }
   ],
   "source": [
    "class Solution:\n",
    "    def removeElement(self, nums, val):\n",
    "        curr = 0\n",
    "        n = len(nums)\n",
    "        for i in range(n):\n",
    "            if (nums[i] != val):\n",
    "                nums[curr] = nums[i]\n",
    "                curr+=1;\n",
    "        return curr # 题目要求的返回值\n",
    "    \n",
    "a = Solution()\n",
    "a.removeElement([3,2,2,3],3)"
   ]
  },
  {
   "cell_type": "markdown",
   "id": "badf6f6e",
   "metadata": {
    "solution2": "hidden"
   },
   "source": [
    "##### java:"
   ]
  },
  {
   "cell_type": "code",
   "execution_count": 2,
   "id": "548550bc",
   "metadata": {
    "solution2": "hidden"
   },
   "outputs": [
    {
     "data": {
      "text/plain": [
       "2"
      ]
     },
     "execution_count": 2,
     "metadata": {},
     "output_type": "execute_result"
    }
   ],
   "source": [
    "class Solution{\n",
    "    public int removeElement(int[] nums, int val){\n",
    "        int slow = 0;\n",
    "        int n = nums.length;\n",
    "        for (int fast = 0; fast < n; fast++){\n",
    "            if (nums[fast] != val){\n",
    "                nums[slow] = nums[fast];\n",
    "                slow += 1;\n",
    "            }\n",
    "        }\n",
    "        return slow;\n",
    "    }\n",
    "}\n",
    "Solution a = new Solution();\n",
    "int[] input = new int[]{3,2,2,3};\n",
    "a.removeElement(input, 3);"
   ]
  },
  {
   "cell_type": "markdown",
   "id": "078820fd",
   "metadata": {
    "solution2": "hidden"
   },
   "source": [
    "#### 如果只要求返回值的话直接从长度扣除要删的元素个数,但是和题目不符"
   ]
  },
  {
   "cell_type": "markdown",
   "id": "8c39d225",
   "metadata": {
    "solution2": "hidden",
    "solution2_first": true
   },
   "source": [
    "### 练习题:最大连续1的个数\n",
    "给定一个二进制数组 nums ， 计算其中最大连续 1 的个数。\n",
    "\n",
    " \n",
    "\n",
    "示例 1：\n",
    "\n",
    "- 输入：nums = [1,1,0,1,1,1]\n",
    "- 输出：3\n",
    "- 解释：开头的两位和最后的三位都是连续 1 ，所以最大连续 1 的个数是 3.\n",
    "\n",
    "示例 2:\n",
    "\n",
    "- 输入：nums = [1,0,1,1,0,1]\n",
    "- 输出：2\n",
    " \n",
    "\n",
    "提示：\n",
    "\n",
    "- 1 <= nums.length <= 105\n",
    "- nums[i] 不是 0 就是 1.\n"
   ]
  },
  {
   "cell_type": "markdown",
   "id": "06a236f8",
   "metadata": {
    "solution2": "hidden"
   },
   "source": [
    "#### 解法:\n",
    "几乎已经摆明了是双指针,再额外存一个数当做目前找到的最大长度\n",
    "##### python:"
   ]
  },
  {
   "cell_type": "code",
   "execution_count": 12,
   "id": "278a74d5",
   "metadata": {
    "solution2": "hidden"
   },
   "outputs": [
    {
     "data": {
      "text/plain": [
       "3"
      ]
     },
     "execution_count": 12,
     "metadata": {},
     "output_type": "execute_result"
    }
   ],
   "source": [
    "class Solution:\n",
    "    def findMaxConsecutiveOnes(self, nums):\n",
    "        max_len = 0\n",
    "        slow = -1\n",
    "        for fast in range(len(nums)):\n",
    "            if nums[fast] != 1:\n",
    "                # temp = fast - slow\n",
    "                max_len = max(max_len, fast - slow - 1)\n",
    "                slow = fast # 每次这个赋值都会把slow复制到元素为0的索引\n",
    "                temp = 0\n",
    "                continue\n",
    "        #print(fast, slow, max_len)\n",
    "        max_len = max(max_len, fast - slow) # 处理最后一位不是0的情况\n",
    "        return max_len\n",
    "a = Solution()\n",
    "input = [1,1,0,1,1,1]\n",
    "a.findMaxConsecutiveOnes(input)"
   ]
  },
  {
   "cell_type": "markdown",
   "id": "8965cb0d",
   "metadata": {
    "solution2": "hidden"
   },
   "source": [
    "##### java:\n"
   ]
  },
  {
   "cell_type": "code",
   "execution_count": 2,
   "id": "5a08e149",
   "metadata": {
    "solution2": "hidden"
   },
   "outputs": [
    {
     "data": {
      "text/plain": [
       "3"
      ]
     },
     "execution_count": 2,
     "metadata": {},
     "output_type": "execute_result"
    }
   ],
   "source": [
    "// 其实可以通过更新最大长度的方式不用双指针\n",
    "class Solution {\n",
    "    public int findMaxConsecutiveOnes(int[] nums) {\n",
    "        int max = 0;\n",
    "        int temp = 0;\n",
    "        for (int i = 0; i < nums.length; i++){\n",
    "            if (nums[i] == 0){\n",
    "                max = Math.max(max,temp);\n",
    "                temp = 0;\n",
    "                continue;\n",
    "            }\n",
    "            temp++;\n",
    "        }\n",
    "        return Math.max(max,temp);\n",
    "    }\n",
    "}\n",
    "\n",
    "Solution a = new Solution();\n",
    "int[] input = new int[]{1,1,0,1,1,1};\n",
    "a.findMaxConsecutiveOnes(input);"
   ]
  },
  {
   "cell_type": "markdown",
   "id": "aecee7d6",
   "metadata": {
    "solution2": "hidden",
    "solution2_first": true
   },
   "source": [
    "### 练习题:长度最小的子数组\n",
    "给定一个含有 n 个正整数的数组和一个正整数 target 。\n",
    "\n",
    "找出该数组中满足其总和大于等于 target 的长度最小的 连续子数组 [numsl, numsl+1, ..., numsr-1, numsr] ，并返回其长度。如果不存在符合条件的子数组，返回 0 。\n",
    "\n",
    "示例 1：\n",
    "\n",
    "- 输入：target = 7, nums = [2,3,1,2,4,3]\n",
    "- 输出：2\n",
    "- 解释：子数组 [4,3] 是该条件下的长度最小的子数组。\n",
    "\n",
    "示例 2：\n",
    "\n",
    "- 输入：target = 4, nums = [1,4,4]\n",
    "- 输出：1\n",
    "\n",
    "示例 3：\n",
    "\n",
    "- 输入：target = 11, nums = [1,1,1,1,1,1,1,1]\n",
    "- 输出：0\n",
    " \n",
    "提示：\n",
    "\n",
    "- 1 <= target <= 109\n",
    "- 1 <= nums.length <= 105\n",
    "- 1 <= nums[i] <= 105\n",
    " \n",
    "进阶：\n",
    "\n",
    "- 如果你已经实现 O(n) 时间复杂度的解法, 请尝试设计一个 O(n log(n)) 时间复杂度的解法。\n"
   ]
  },
  {
   "cell_type": "markdown",
   "id": "ee0ff386",
   "metadata": {
    "solution2": "hidden"
   },
   "source": [
    "#### 解法:\n",
    "滑动窗口\n",
    "##### python:"
   ]
  },
  {
   "cell_type": "code",
   "execution_count": 6,
   "id": "fa640016",
   "metadata": {
    "solution2": "hidden"
   },
   "outputs": [
    {
     "data": {
      "text/plain": [
       "2"
      ]
     },
     "execution_count": 6,
     "metadata": {},
     "output_type": "execute_result"
    }
   ],
   "source": [
    "class Solution:\n",
    "    def minSubArrayLen(self, target, nums):\n",
    "        left = 0\n",
    "        right = 0\n",
    "        sum = 0\n",
    "        ans = 1000000\n",
    "        while (right < len(nums)):\n",
    "            sum += nums[right] # 每次大循环先把right往右移动\n",
    "            while (sum >= target):\n",
    "                ans = min(ans, right - left + 1)\n",
    "                sum -= nums[left] # 不断收缩,直到和小于目标值为止\n",
    "                left+=1\n",
    "            right+=1\n",
    "        if ans == 1000000:\n",
    "            return 0\n",
    "        return ans\n",
    "a = Solution()\n",
    "input = [2,3,1,2,4,3]\n",
    "a.minSubArrayLen(7,input)"
   ]
  },
  {
   "cell_type": "markdown",
   "id": "f7833d12",
   "metadata": {
    "solution2": "hidden"
   },
   "source": [
    "##### java"
   ]
  },
  {
   "cell_type": "code",
   "execution_count": 2,
   "id": "aee74956",
   "metadata": {
    "solution2": "hidden"
   },
   "outputs": [
    {
     "data": {
      "text/plain": [
       "2"
      ]
     },
     "execution_count": 2,
     "metadata": {},
     "output_type": "execute_result"
    }
   ],
   "source": [
    "class Solution {\n",
    "    public int minSubArrayLen(int target, int[] nums) {\n",
    "        // 滑动窗口\n",
    "        int left = 0, right = 0, sum = 0;\n",
    "        int min = Integer.MAX_VALUE;\n",
    "        while(right < nums.length){\n",
    "            sum += nums[right];\n",
    "            while(sum >= target){\n",
    "                min = Math.min(min, right - left + 1);\n",
    "                sum -= nums[left];\n",
    "                left++;\n",
    "            }\n",
    "            right++;\n",
    "        }\n",
    "        return min == Integer.MAX_VALUE ? 0 : min;\n",
    "    }\n",
    "}\n",
    "Solution a = new Solution();\n",
    "int[] input = new int[]{2,3,1,2,4,3};\n",
    "a.minSubArrayLen(7,input);"
   ]
  },
  {
   "cell_type": "markdown",
   "id": "37a79b7f",
   "metadata": {},
   "source": [
    "# 哈希表:\n",
    "## 实现\n",
    "- python: Set(), dict()\n",
    "- java: HashMap<>(), HashSet<>()\n",
    "### python:\n",
    "老熟人了,简单介绍下\n",
    "#### set()"
   ]
  },
  {
   "cell_type": "code",
   "execution_count": 16,
   "id": "44cd8e48",
   "metadata": {},
   "outputs": [
    {
     "name": "stdout",
     "output_type": "stream",
     "text": [
      "{1, 2, 3}\n",
      "None\n",
      "{1, 2, 3, 4}\n",
      "交集: {3, 4}\n",
      "并集 {1, 2, 3, 4, 5}\n",
      "差集 {1, 2} {5}\n",
      "True\n",
      "删之后 {1, 2, 3}\n",
      "清空 set()\n"
     ]
    }
   ],
   "source": [
    "a = set() # 新建空哈希\n",
    "a = set([1,1,2,3]) # 从列表新建哈希\n",
    "print(a)\n",
    "#-------------\n",
    "print(a.add(4)) # 和java不同的是add函数不会返回任何值,java是返回bool\n",
    "print(a)\n",
    "#-------------\n",
    "b = set([3,4,4,5])\n",
    "print(\"交集:\",a&b)\n",
    "print(\"并集\",a | b)\n",
    "print(\"差集\",a-b,b-a)\n",
    "#-------------\n",
    "print(4 in a) # 找元素\n",
    "a.remove(4) # 删除\n",
    "print(\"删之后\",a)\n",
    "a.clear()\n",
    "print(\"清空\",a)"
   ]
  },
  {
   "cell_type": "markdown",
   "id": "33bb54f3",
   "metadata": {},
   "source": [
    "#### dict()"
   ]
  },
  {
   "cell_type": "code",
   "execution_count": 17,
   "id": "64483b4f",
   "metadata": {},
   "outputs": [
    {
     "data": {
      "text/plain": [
       "dict_values([])"
      ]
     },
     "execution_count": 17,
     "metadata": {},
     "output_type": "execute_result"
    }
   ],
   "source": [
    "a = {}#dict()\n",
    "a[\"temp\"] = 1\n",
    "del a[\"temp\"]\n",
    "a.keys()\n",
    "a.values()"
   ]
  },
  {
   "cell_type": "markdown",
   "id": "21127101",
   "metadata": {},
   "source": [
    "### java:\n",
    "#### HashMap\n",
    "相当于字典"
   ]
  },
  {
   "cell_type": "code",
   "execution_count": 54,
   "id": "4f93b2ec",
   "metadata": {},
   "outputs": [
    {
     "data": {
      "text/plain": [
       "1"
      ]
     },
     "execution_count": 54,
     "metadata": {},
     "output_type": "execute_result"
    }
   ],
   "source": [
    "Map<String, Integer> map = new HashMap<String, Integer>();\n",
    "map.put(\"python\",0);// map[\"python\"] = 0\n",
    "map.put(\"java\", 1); // 添加几个值方便后续\n",
    "map.values().toArray()[1]"
   ]
  },
  {
   "cell_type": "code",
   "execution_count": 57,
   "id": "ea98c86d",
   "metadata": {},
   "outputs": [
    {
     "name": "stdout",
     "output_type": "stream",
     "text": [
      "add()\n",
      "    {python=0, java=1}\n",
      "remove()\n",
      "    {java=1}\n",
      "get()\n",
      "    null\n",
      "keySet()\n",
      "    [java]\n",
      "values()\n",
      "    [1]\n",
      "entrySet()\n",
      "    java=1\n",
      "containsKey()\n",
      "    true\n",
      "containsValue()\n",
      "    true\n",
      "isEmpty()\n",
      "    false\n",
      "clear()\n",
      "    {}\n"
     ]
    }
   ],
   "source": [
    "Map<String, Integer> map = new HashMap<String, Integer>();\n",
    "// 新建map,注意Map诗歌接口不能创建Map对象,这个情况下只能是HashMap\n",
    "map.put(\"python\",0);// map[\"python\"] = 0\n",
    "map.put(\"java\", 1); // 添加几个值方便后续\n",
    "System.out.println(\"add()\");\n",
    "System.out.print(\"    \");\n",
    "System.out.println(map); // HashMap类是有toString()方法的,和int[]之类的不同\n",
    "map.remove(\"python\");\n",
    "System.out.println(\"remove()\");\n",
    "System.out.print(\"    \");\n",
    "System.out.println(map);\n",
    "System.out.println(\"get()\");\n",
    "System.out.print(\"    \");\n",
    "System.out.println(map.get(\"ja\")); // map[\"java\"]\n",
    "System.out.println(\"keySet()\");\n",
    "System.out.print(\"    \");\n",
    "System.out.println(map.keySet()); // map.keys()获取所有的键\n",
    "System.out.println(\"values()\");\n",
    "System.out.print(\"    \");\n",
    "System.out.println(map.values()); // map.values()获取所有值\n",
    "System.out.println(\"entrySet()\");\n",
    "System.out.print(\"    \");\n",
    "System.out.println(map.entrySet().toArray()[0]); // 获取所键值对,返回值是Set<Map.Entry<K,V>>\n",
    "System.out.println(\"containsKey()\");\n",
    "System.out.print(\"    \");\n",
    "System.out.println(map.containsKey(\"java\")); // 是否包含目标键\n",
    "System.out.println(\"containsValue()\");\n",
    "System.out.print(\"    \");\n",
    "System.out.println(map.containsValue(1)); // 是否包含目标值\n",
    "System.out.println(\"isEmpty()\");\n",
    "System.out.print(\"    \");\n",
    "System.out.println(map.isEmpty()); // 是否为空\n",
    "System.out.println(\"clear()\");\n",
    "System.out.print(\"    \");\n",
    "map.clear(); // 清空,void类型\n",
    "System.out.println(map);"
   ]
  },
  {
   "cell_type": "markdown",
   "id": "62f487f4",
   "metadata": {},
   "source": [
    "#### HashSet\n",
    "相当于set()"
   ]
  },
  {
   "cell_type": "code",
   "execution_count": 47,
   "id": "2a7a4afd",
   "metadata": {},
   "outputs": [
    {
     "name": "stdout",
     "output_type": "stream",
     "text": [
      "add()\n",
      "    true\n",
      "remove()\n",
      "    true\n",
      "    false\n",
      "size()\n",
      "    5\n",
      "contains()\n",
      "    false\n",
      "isEmpty()\n",
      "    false\n",
      "add()\n",
      "    []"
     ]
    }
   ],
   "source": [
    "Set<Integer> set = new HashSet<Integer>(); // 新建空集合\n",
    "// Set<Integer> set = new HashSet<Integer>(new int[]{1,2,3,3,4,5});\n",
    "//这个会报错,必须是Collections类,把in换成Integer\n",
    "Set<Integer> set = new HashSet<Integer>(Arrays.asList(new Integer[]{1,2,3,3,4,4,5}));\n",
    "System.out.println(\"add()\");\n",
    "System.out.print(\"    \");\n",
    "set.add(1); // 添加一个元素,如果有重复则无事发生,反之直接添加进去\n",
    "System.out.println(set.add(null)); // add方法是有返回值的,返回的是是否成功添加当前值,或者可以理解为这个值原本在不在原先集合里\n",
    "System.out.println(\"remove()\");\n",
    "System.out.print(\"    \");\n",
    "System.out.println(set.remove(null)); // 移除元素\n",
    "System.out.print(\"    \");\n",
    "System.out.println(set.remove(10086)); // remove也是有返回值的,道理和add方法一样\n",
    "System.out.println(\"size()\");\n",
    "System.out.print(\"    \");\n",
    "System.out.println(set.size());\n",
    "System.out.println(\"contains()\");\n",
    "System.out.print(\"    \");\n",
    "System.out.println(set.contains(1234)); // 是否包含目标值\n",
    "System.out.println(\"isEmpty()\");\n",
    "System.out.print(\"    \");\n",
    "System.out.println(set.isEmpty()); // 是否为空\n",
    "System.out.println(\"add()\");\n",
    "System.out.print(\"    \");\n",
    "set.clear(); // 清空,没有返回值\n",
    "System.out.print(set); // 有toString()方法"
   ]
  },
  {
   "cell_type": "markdown",
   "id": "9915db02",
   "metadata": {
    "solution2": "hidden",
    "solution2_first": true
   },
   "source": [
    "### 练习题:1. 两数之和\n",
    "给定一个整数数组 nums 和一个整数目标值 target，请你在该数组中找出 和为目标值 target  的那 两个 整数，并返回它们的数组下标。\n",
    "\n",
    "你可以假设每种输入只会对应一个答案。但是，数组中同一个元素在答案里不能重复出现。\n",
    "\n",
    "你可以按任意顺序返回答案。\n",
    "\n",
    " \n",
    "\n",
    "示例 1：\n",
    "\n",
    "- 输入：nums = [2,7,11,15], target = 9\n",
    "- 输出：[0,1]\n",
    "- 解释：因为 nums[0] + nums[1] == 9 ，返回 [0, 1] 。\n",
    "\n",
    "示例 2：\n",
    "\n",
    "- 输入：nums = [3,2,4], target = 6\n",
    "- 输出：[1,2]\n",
    "\n",
    "示例 3：\n",
    "\n",
    "- 输入：nums = [3,3], target = 6\n",
    "- 输出：[0,1]"
   ]
  },
  {
   "cell_type": "markdown",
   "id": "b8e2c2ef",
   "metadata": {
    "solution2": "hidden"
   },
   "source": [
    "#### 解法:\n",
    "哈希表存,然后遍历键的集合找剩余的存不存在\n",
    "##### python:"
   ]
  },
  {
   "cell_type": "code",
   "execution_count": null,
   "id": "7e288e6f",
   "metadata": {
    "solution2": "hidden"
   },
   "outputs": [],
   "source": [
    "class Solution:\n",
    "    def twoSum(self, nums, target):\n",
    "        hashmap = {}\n",
    "        for i in range(len(nums)):\n",
    "            try:\n",
    "                return [hashmap[target - nums[i]],i]\n",
    "            except:\n",
    "                hashmap[nums[i]] = i\n",
    "        return [0,0]\n",
    "a = Solution()\n",
    "input = [2,7,11,15]\n",
    "a.twoSum(input,9)"
   ]
  },
  {
   "cell_type": "markdown",
   "id": "198ed65e",
   "metadata": {
    "solution2": "hidden"
   },
   "source": [
    "##### java:"
   ]
  },
  {
   "cell_type": "code",
   "execution_count": 10,
   "id": "53003fe5",
   "metadata": {
    "solution2": "hidden"
   },
   "outputs": [
    {
     "name": "stdout",
     "output_type": "stream",
     "text": [
      "[ 0  1 ]"
     ]
    }
   ],
   "source": [
    "class Solution{\n",
    "    public int[] twoSum(int[] nums, int target){\n",
    "        Map<Integer, Integer> map = new HashMap<Integer, Integer>();\n",
    "        for (int i = 0; i < nums.length; i++){\n",
    "            if(map.containsKey(target - nums[i])){\n",
    "                return new int[]{map.get(target - nums[i]), i};\n",
    "            }\n",
    "            map.put(nums[i], i);\n",
    "        }\n",
    "        return new int[]{0,0};\n",
    "    }\n",
    "}\n",
    "\n",
    "Solution a = new Solution();\n",
    "int[] input = new int[]{2,7,11,15};\n",
    "int[] output = a.twoSum(input, 9);\n",
    "System.out.print(\"[\");\n",
    "for (int i: output){\n",
    "    System.out.printf(\" %d \",i);\n",
    "}\n",
    "System.out.print(\"]\");"
   ]
  },
  {
   "cell_type": "code",
   "execution_count": 2,
   "id": "d8b3ca5a",
   "metadata": {
    "solution2": "hidden"
   },
   "outputs": [
    {
     "data": {
      "text/plain": [
       "2"
      ]
     },
     "execution_count": 2,
     "metadata": {},
     "output_type": "execute_result"
    }
   ],
   "source": [
    "class Solution:\n",
    "    def removeElement(self, nums, val):\n",
    "        curr = 0\n",
    "        n = len(nums)\n",
    "        for i in range(n):\n",
    "            if (nums[i] != val):\n",
    "                nums[curr] = nums[i]\n",
    "                curr+=1;\n",
    "        return curr # 题目要求的返回值\n",
    "    \n",
    "a = Solution()\n",
    "a.removeElement([3,2,2,3],3)"
   ]
  },
  {
   "cell_type": "markdown",
   "id": "c28d5921",
   "metadata": {
    "solution2": "hidden",
    "solution2_first": true
   },
   "source": [
    "### 练习题: 30. 串联所有单词的子串\n",
    "\n",
    "给定一个字符串 s 和一个字符串数组 words。 words 中所有字符串 长度相同。\n",
    "\n",
    " s 中的 串联子串 是指一个包含  words 中所有字符串以任意顺序排列连接起来的子串。\n",
    "\n",
    "例如，如果 words = [\"ab\",\"cd\",\"ef\"]， 那么 \"abcdef\"， \"abefcd\"，\"cdabef\"， \"cdefab\"，\"efabcd\"， 和 \"efcdab\" 都是串联子串。 \"acdbef\" 不是串联子串，因为他不是任何 words 排列的连接。\n",
    "返回所有串联子串在 s 中的开始索引。你可以以 任意顺序 返回答案。\n",
    "\n",
    " \n",
    "\n",
    "示例 1：\n",
    "\n",
    "- 输入：s = \"barfoothefoobarman\", words = [\"foo\",\"bar\"]\n",
    "- 输出：[0,9]\n",
    "- 解释：因为 words.length == 2 同时 words[i].length == 3，连接的子字符串的长度必须为 6。子串 \"barfoo\" 开始位置是 0。它是 words 中以 [\"bar\",\"foo\"] 顺序排列的连接。子串 \"foobar\" 开始位置是 9。它是 words 中以 [\"foo\",\"bar\"] 顺序排列的连接。输出顺序无关紧要。返回 [9,0] 也是可以的。\n",
    "\n",
    "示例 2：\n",
    "\n",
    "- 输入：s = \"wordgoodgoodgoodbestword\", words = [\"word\",\"good\",\"best\",\"word\"]\n",
    "- 输出：[]\n",
    "- 解释：因为 words.length == 4 并且 words[i].length == 4，所以串联子串的长度必须为 16。s 中没有子串长度为 16 并且等于 words 的任何顺序排列的连接。所以我们返回一个空数组。\n",
    "\n",
    "示例 3：\n",
    "\n",
    "- 输入：s = \"barfoofoobarthefoobarman\", words = [\"bar\",\"foo\",\"the\"]\n",
    "- 输出：[6,9,12]\n",
    "- 解释：因为 words.length == 3 并且 words[i].length == 3，所以串联子串的长度必须为 9。子串 \"foobarthe\" 开始位置是 6。它是 words 中以 [\"foo\",\"bar\",\"the\"] 顺序排列的连接。子串 \"barthefoo\" 开始位置是 9。它是 words 中以 [\"bar\",\"the\",\"foo\"] 顺序排列的连接。子串 \"thefoobar\" 开始位置是 12。它是 words 中以 [\"the\",\"foo\",\"bar\"] 顺序排列的连接。\n",
    " \n",
    "\n",
    "提示：\n",
    "- 1 <= s.length <= 104\n",
    "- 1 <= words.length <= 5000\n",
    "- 1 <= words[i].length <= 30\n",
    "- words[i] 和 s 由小写英文字母组成"
   ]
  },
  {
   "cell_type": "markdown",
   "id": "2c7ebc4b",
   "metadata": {
    "solution2": "hidden"
   },
   "source": [
    "自己试了n次,总是超时,最终结果也不太满意,直接上大佬的代码\n",
    "\n",
    "#### 解法1:\n",
    "- n = s.length()\n",
    "- m = words.length\n",
    "- w = words[0].length()\n",
    "寻找的目标子串长度$m\\times w$\n",
    "\n",
    "于是先用哈希表map统计words里每个单词的出现次数\n",
    "\n",
    "从每个s中字符,获取后面$m\\times w$的子串sub\n",
    "\n",
    "由于每个单词的长度固定,于是用哈希表cur可以统计sub里单词出现次数\n",
    "\n",
    "比较cur和map\n",
    "##### python:\n"
   ]
  },
  {
   "cell_type": "code",
   "execution_count": 1,
   "id": "442bbfa8",
   "metadata": {
    "solution2": "hidden"
   },
   "outputs": [
    {
     "data": {
      "text/plain": [
       "[6, 9, 12]"
      ]
     },
     "execution_count": 1,
     "metadata": {},
     "output_type": "execute_result"
    }
   ],
   "source": [
    "class Solution:\n",
    "    def findSubstring(self, s, words):\n",
    "        n = len(s)\n",
    "        m = len(words)\n",
    "        w = len(words[0])\n",
    "        # n是s的长度,m是单词数量,w是单词的公共长度\n",
    "        map = {}\n",
    "        # 新建哈希表map用来存words里的单词\n",
    "        for word in words:\n",
    "            try:\n",
    "                map[word] += 1\n",
    "            except:\n",
    "                map[word] = 1\n",
    "        ans = []\n",
    "        # 新建动态数组,如果出现合适的就往里面扔\n",
    "        # python的continue没有锚点\n",
    "        # 不过因为最后有if判断所以其实没事,就是要多执行几遍\n",
    "        for i in range(n - m * w + 1):\n",
    "            cur = {}\n",
    "            sub = s[i:i + m * w]\n",
    "            for j in range(len(sub)):\n",
    "                item = sub[j:j+w]\n",
    "                if (item not in map.keys()):\n",
    "                    continue\n",
    "                try:\n",
    "                    cur[item] += 1\n",
    "                except:\n",
    "                    cur[item] = 1\n",
    "            if map == cur:\n",
    "                ans.append(i)\n",
    "        return ans\n",
    "a = Solution()\n",
    "words = [\"bar\",\"foo\",\"the\"]\n",
    "s = \"barfoofoobarthefoobarman\"\n",
    "a.findSubstring(s,words)"
   ]
  },
  {
   "cell_type": "markdown",
   "id": "abe3b5ad",
   "metadata": {
    "solution2": "hidden"
   },
   "source": [
    "##### java:"
   ]
  },
  {
   "cell_type": "code",
   "execution_count": 4,
   "id": "095603e0",
   "metadata": {
    "solution2": "hidden"
   },
   "outputs": [
    {
     "data": {
      "text/plain": [
       "[6, 9, 12]"
      ]
     },
     "execution_count": 4,
     "metadata": {},
     "output_type": "execute_result"
    }
   ],
   "source": [
    "class Solution {\n",
    "    public List<Integer> findSubstring(String s, String[] words) {\n",
    "        int n = s.length(), m = words.length, w = words[0].length();\n",
    "        // n是s的长度,m是单词数量,w是单词的公共长度\n",
    "        Map<String, Integer> map = new HashMap<>();\n",
    "        // 新建哈希表map用来存words里的单词\n",
    "        for (String word : words) map.put(word, map.getOrDefault(word, 0) + 1);\n",
    "        // 通过getOrDefault 方法防止出现map里没有这个单词的情况\n",
    "        List<Integer> ans = new ArrayList<>();\n",
    "        // 新建动态数组,如果出现合适的就往里面扔\n",
    "        out:\n",
    "        // continue的锚点\n",
    "        for (int i = 0; i + m * w <= n; i++) {\n",
    "            // 保证在下标i处存在长度m * w的子串,所以要保证 i + m * w <= w\n",
    "            Map<String, Integer> cur = new HashMap<>();\n",
    "            // 创建哈希表cur存储sub里的单词\n",
    "            String sub = s.substring(i, i + m * w);\n",
    "            // 截取sub子串\n",
    "            for (int j = 0; j < sub.length(); j += w) {\n",
    "                // 步长是w,要保证能取到长度为w的子串,所以j < sub.length()\n",
    "                String item = sub.substring(j, j + w);\n",
    "                // 截取单词\n",
    "                if (!map.containsKey(item)) continue out;\n",
    "                // 如果不在哈希表里,调回锚点继续循环\n",
    "                cur.put(item, cur.getOrDefault(item, 0) + 1);\n",
    "                // 否则存入cur哈希表\n",
    "            }\n",
    "            if (cur.equals(map)) ans.add(i);\n",
    "            // 如果两个哈希表相等,注意不能用==,说明这个下标符合条件\n",
    "        }\n",
    "        return ans;\n",
    "    }\n",
    "}\n",
    "\n",
    "Solution a = new Solution();\n",
    "String[] words = new String[]{\"bar\",\"foo\",\"the\"};\n",
    "String s = \"barfoofoobarthefoobarman\";\n",
    "a.findSubstring(s, words);"
   ]
  },
  {
   "cell_type": "markdown",
   "id": "35fe9747",
   "metadata": {
    "solution2": "hidden"
   },
   "source": [
    "#### 解法2:\n",
    "同样建立哈希表,但是出现一个单词就把次数减一,减到0直接删掉,如果哈希表是空的说明该下标符合条件\n",
    "##### python:"
   ]
  },
  {
   "cell_type": "code",
   "execution_count": null,
   "id": "2f963c4e",
   "metadata": {
    "solution2": "hidden"
   },
   "outputs": [],
   "source": [
    "# 累了,不想写了,但是很简单"
   ]
  },
  {
   "cell_type": "markdown",
   "id": "84cf2b52",
   "metadata": {
    "solution2": "hidden"
   },
   "source": [
    "##### java:"
   ]
  },
  {
   "cell_type": "code",
   "execution_count": 1,
   "id": "30ddde96",
   "metadata": {
    "solution2": "hidden"
   },
   "outputs": [],
   "source": [
    "class Solution {\n",
    "    public List<Integer> findSubstring(String s, String[] words) {\n",
    "        Map<String, Integer> cnts = new HashMap<>();\n",
    "        for (String word: words) {\n",
    "            cnts.put(word, cnts.getOrDefault(word, 0) + 1);\n",
    "        }\n",
    "        List<Integer> ans = new ArrayList<>();\n",
    "        out:\n",
    "        for (int i = 0, step = words[0].length(), n = words.length; i <= s.length() - step * n; i++) {\n",
    "            Map<String, Integer> cur = new HashMap<>(cnts);\n",
    "            for (int j = 0; j < n; j++) {\n",
    "                String subStr = s.substring(i + step * j, i + step * (j + 1));\n",
    "                if (!cur.containsKey(subStr)) {\n",
    "                    continue out;\n",
    "                } else {\n",
    "                    int v = cur.get(subStr);\n",
    "                    if (--v == 0) {\n",
    "                        cur.remove(subStr);\n",
    "                    } else {\n",
    "                        cur.put(subStr, v);\n",
    "                    }\n",
    "                }\n",
    "            }\n",
    "            ans.add(i);\n",
    "        }\n",
    "        return ans;\n",
    "    }\n",
    "}"
   ]
  },
  {
   "cell_type": "markdown",
   "id": "04e231c1",
   "metadata": {
    "solution2": "hidden",
    "solution2_first": true
   },
   "source": [
    "### 练习题:217. 存在重复元素\n",
    "给你一个整数数组 nums 。如果任一值在数组中出现 至少两次 ，返回 true ；如果数组中每个元素互不相同，返回 false 。\n",
    " \n",
    "\n",
    "示例 1：\n",
    "\n",
    "- 输入：nums = [1,2,3,1]\n",
    "- 输出：true\n",
    "\n",
    "示例 2：\n",
    "\n",
    "- 输入：nums = [1,2,3,4]\n",
    "- 输出：false\n",
    "\n",
    "示例 3：\n",
    "\n",
    "- 输入：nums = [1,1,1,3,3,4,3,2,4,2]\n",
    "- 输出：true\n",
    " \n",
    "\n",
    "提示：\n",
    "\n",
    "- 1 <= nums.length <= 105\n",
    "- -109 <= nums[i] <= 109"
   ]
  },
  {
   "cell_type": "markdown",
   "id": "6de3254d",
   "metadata": {
    "solution2": "hidden"
   },
   "source": [
    "#### 解法1:\n",
    "调函数,排序,然后遍历一下看看相邻的两个时是否相同\n",
    "\n",
    "这个就略过了\n",
    "#### 解法2:\n",
    "存入哈希表,但是python的set.add不会返回值,需要i in set\n",
    "##### python"
   ]
  },
  {
   "cell_type": "code",
   "execution_count": 2,
   "id": "61fdd76f",
   "metadata": {
    "solution2": "hidden"
   },
   "outputs": [
    {
     "data": {
      "text/plain": [
       "True"
      ]
     },
     "execution_count": 2,
     "metadata": {},
     "output_type": "execute_result"
    }
   ],
   "source": [
    "class Solution:\n",
    "    def containsDuplicate(self, nums):\n",
    "        temp = []\n",
    "        for i in nums:\n",
    "            if i not in temp:\n",
    "                temp.append(i)\n",
    "            else:\n",
    "                return True\n",
    "        return False;\n",
    "a = Solution()\n",
    "a.containsDuplicate([1,1,1,3,3,4,3,2,4,2])"
   ]
  },
  {
   "cell_type": "markdown",
   "id": "feda3abe",
   "metadata": {
    "solution2": "hidden"
   },
   "source": [
    "##### java:"
   ]
  },
  {
   "cell_type": "code",
   "execution_count": 1,
   "id": "a368ce58",
   "metadata": {
    "solution2": "hidden"
   },
   "outputs": [
    {
     "data": {
      "text/plain": [
       "true"
      ]
     },
     "execution_count": 1,
     "metadata": {},
     "output_type": "execute_result"
    }
   ],
   "source": [
    "class Solution{\n",
    "    public boolean containsDuplicate(int[] nums){\n",
    "        Set<Integer> set = new HashSet<Integer>();\n",
    "        for (int i: nums){\n",
    "            if (!set.add(i)){\n",
    "                return true;\n",
    "            }\n",
    "        }\n",
    "        return false;\n",
    "    }\n",
    "}\n",
    "\n",
    "Solution a = new Solution();\n",
    "int[] input = new int[]{1,1,1,3,3,4,3,2,4,2};\n",
    "a.containsDuplicate(input);"
   ]
  },
  {
   "cell_type": "markdown",
   "id": "837c5448",
   "metadata": {
    "solution2": "hidden",
    "solution2_first": true
   },
   "source": [
    "# 排序算法:\n",
    "https://www.runoob.com/w3cnote/ten-sorting-algorithm.html\n",
    "## 判断是否稳定\n",
    "如果原本a在b前面,a==b,\n",
    "- 稳定: 排序之后a仍然在b前面,\n",
    "- 不稳定: 排序之后a可能在b后面\n",
    "\n",
    "如果是稳定的排序算法第一个键的排序结果可以应用到第二个键上比如基数排序先从地位排序然后逐渐按高位排序\n",
    "## 交换方法:\n",
    "在排序的时候经常要交换两个元素\n",
    "### python:"
   ]
  },
  {
   "cell_type": "code",
   "execution_count": 7,
   "id": "50379c3e",
   "metadata": {},
   "outputs": [
    {
     "name": "stdout",
     "output_type": "stream",
     "text": [
      "[1, 3, 2, 4]\n",
      "[1, 3, 2, 4]\n",
      "[1, 3, 2, 4]\n"
     ]
    }
   ],
   "source": [
    "def swap1(nums, i, j):\n",
    "    # 以下方法适用于任意类型的数组\n",
    "    #                   nums[i] = a    nums[j] = b   temp = 未初始化\n",
    "    temp = nums[i]    # nums[i] = a    nums[j] = b   temp = a\n",
    "    nums[i] = list[j] # nums[i] = b    nums[j] = b   temp = a\n",
    "    nums[j] = temp    # nums[i] = b    nums[j] = a   temp = a\n",
    "\n",
    "def swap2(nums, i, j):\n",
    "    if (i == j):\n",
    "        return # 无需操作,\n",
    "    # 以下方法适用于数字\n",
    "    #                             nums[i] = a      nums[j] = b\n",
    "    nums[i] = nums[i] + nums[j] # nums[i] = a + b  nums[j] = b\n",
    "    nums[j] = nums[i] - nums[j] # nums[i] = a + b  nums[j] = a\n",
    "    nums[i] = nums[i] - nums[j] # nums[i] = b      nums[j] = a\n",
    "\n",
    "def swap3(nums, i, j):\n",
    "    if (i == j):\n",
    "        return\n",
    "    # 以下方法适用于数字\n",
    "    #                             nums[i] = a             nums[j] = b\n",
    "    nums[i] = nums[i] ^ nums[j] # nums[i] = a ^ b         nums[j] = b\n",
    "    nums[j] = nums[i] ^ nums[j] # nums[i] = a ^ b         nums[j] = (a ^ b) ^ b \n",
    "                                #                                 = a^ (b ^ b) \n",
    "                                #                                 = a ^ 0\n",
    "                                #                                 = a\n",
    "    nums[i] = nums[i] ^ nums[j] # nums[i] = (a ^ b) ^ a   nums[j] = a\n",
    "                                #         = (a ^ a) ^ b \n",
    "                                #         = 0 ^ b \n",
    "                                #         = b\n",
    "test = [1,2,3,4]\n",
    "swap1(test,1,2)\n",
    "print(test)\n",
    "test = [1,2,3,4]\n",
    "swap2(test,1,2)\n",
    "print(test)\n",
    "test = [1,2,3,4]\n",
    "swap3(test,1,2)\n",
    "print(test)"
   ]
  },
  {
   "cell_type": "markdown",
   "id": "3c834848",
   "metadata": {},
   "source": [
    "### java:"
   ]
  },
  {
   "cell_type": "code",
   "execution_count": 4,
   "id": "9f6465b2",
   "metadata": {},
   "outputs": [
    {
     "name": "stdout",
     "output_type": "stream",
     "text": [
      "swap1:  1 3 2 4 \n",
      "swap2:  1 3 2 4 \n",
      "swap3:  1 3 2 4 \n"
     ]
    }
   ],
   "source": [
    "public void swap1 (int[] nums, int i, int j){\n",
    "    int temp = nums[i];\n",
    "    nums[i] = nums[j];\n",
    "    nums[j] = temp;\n",
    "}\n",
    "\n",
    "public void swap2 (int[] nums, int i, int j){\n",
    "    if (i == j) return;\n",
    "    // 以下方法适用于数字       \n",
    "    //                              nums[i] = a          nums[j] = b\n",
    "    nums[i] = nums[i] + nums[j]; // nums[i] = a + b      nums[j] = b\n",
    "    nums[j] = nums[i] - nums[j]; // nums[i] = a + b      nums[j] = a\n",
    "    nums[i] = nums[i] - nums[j]; // nums[i] = b          nums[j] = a\n",
    "}\n",
    "\n",
    "public void swap3 (int[] nums, int i, int j){\n",
    "    if (i == j) return;\n",
    "    // 以下方法适用于数字\n",
    "    //                           // nums[i] = a          nums[j] = b \n",
    "    nums[i] = nums[i] ^ nums[j]; // nums[i] = a ^ b      nums[j] = b\n",
    "    nums[j] = nums[i] ^ nums[j]; // nums[i] = a ^ b      nums[j] = (a ^ b) ^ b\n",
    "                                 //                              = a ^ (b ^ b)\n",
    "                                 //                              = a ^ 0\n",
    "                                 //                              = a\n",
    "    nums[i] = nums[i] ^ nums[j]; // nums[i] = a ^ b ^ a   nums[j] = b\n",
    "                                 //         = (a ^ a) ^ b\n",
    "                                 //         = 0 ^ b\n",
    "                                 //         = b\n",
    "}\n",
    "\n",
    "\n",
    "int[] test = new int[]{1,2,3,4};\n",
    "System.out.print(\"swap1:  \");\n",
    "swap1(test, 1, 2);\n",
    "for (int i : test){\n",
    "    System.out.printf(\"%d \", i);\n",
    "}\n",
    "System.out.println(\"\");\n",
    "\n",
    "int[] test = new int[]{1,2,3,4};\n",
    "System.out.print(\"swap2:  \");\n",
    "swap2(test, 1, 2);\n",
    "for (int i : test){\n",
    "    System.out.printf(\"%d \", i);\n",
    "}\n",
    "System.out.println(\"\");\n",
    "\n",
    "int[] test = new int[]{1,2,3,4};\n",
    "System.out.print(\"swap3:  \");\n",
    "swap3(test, 1, 2);\n",
    "for (int i : test){\n",
    "    System.out.printf(\"%d \", i);\n",
    "}\n",
    "System.out.println(\"\");\n"
   ]
  },
  {
   "cell_type": "markdown",
   "id": "f1fa693b",
   "metadata": {
    "solution2": "hidden",
    "solution2_first": true
   },
   "source": [
    "## 时间复杂度$O(n^2)$\n",
    "### 冒泡排序\n",
    "简单来说就是遇到相邻两个的顺序不符合我们的需求的时候,互换这两个元素,一直重复到没有需要互换的元素\n",
    "\n",
    "是稳定的排序算法"
   ]
  },
  {
   "cell_type": "markdown",
   "id": "66dfff6a",
   "metadata": {
    "solution2": "hidden"
   },
   "source": [
    "#### 最优情况\n",
    "数组排好序了\n",
    "#### 最坏情况\n",
    "数组 = 排序好的数组的倒序\n",
    "#### python"
   ]
  },
  {
   "cell_type": "code",
   "execution_count": 3,
   "id": "bc267113",
   "metadata": {
    "solution2": "hidden"
   },
   "outputs": [
    {
     "data": {
      "text/plain": [
       "[1, 2, 3, 4]"
      ]
     },
     "execution_count": 3,
     "metadata": {},
     "output_type": "execute_result"
    }
   ],
   "source": [
    "class Solution:\n",
    "    def bubbleSort(self, nums):\n",
    "        for i in range(1,len(nums)):\n",
    "            # 从1开始是因为要互换所以只用遍历len(nums)-1次\n",
    "            for j in range(0,len(nums) - i):\n",
    "                # 因为未排序的最大值肯定会逐渐被扔到最后去,\n",
    "                # 所以每次只需要遍历len(num) - i - 1\n",
    "                if (nums[j] > nums[j+1]):\n",
    "                    nums[j], nums[j + 1] = nums[j + 1], nums[j]\n",
    "                    # 互换\n",
    "        return nums\n",
    "list = [2,3,1,4]\n",
    "a = Solution()\n",
    "a.bubbleSort(list)"
   ]
  },
  {
   "cell_type": "markdown",
   "id": "5c54a95a",
   "metadata": {
    "solution2": "hidden"
   },
   "source": [
    "#### java:"
   ]
  },
  {
   "cell_type": "code",
   "execution_count": 5,
   "id": "4c641232",
   "metadata": {
    "solution2": "hidden"
   },
   "outputs": [
    {
     "name": "stdout",
     "output_type": "stream",
     "text": [
      "1 2 3 4 "
     ]
    }
   ],
   "source": [
    "class Solution{\n",
    "    public int[] bubbleSort(int[] nums){\n",
    "        int len = nums.length - 1;\n",
    "        for (int i = 0; i < len; i++){\n",
    "            // 从1开始是因为要互换所以只用遍历len(nums)-1次, 虽然其实最后一次可以去掉\n",
    "            for (int j = 0; j < len - i; j++){\n",
    "                // 因为未排序的最大值肯定会逐渐被扔到最后去,\n",
    "                // 所以每次只需要遍历len(num) - i - 1\n",
    "                if (nums[j] > nums[j+1]){ // 互换\n",
    "                    int temp = nums[j];\n",
    "                    nums[j] = nums[j+1];\n",
    "                    nums[j+1] = temp;\n",
    "                }\n",
    "            }\n",
    "        }\n",
    "        return nums;\n",
    "    }\n",
    "}\n",
    "\n",
    "Solution a = new Solution();\n",
    "int[] input = new int[]{2,3,1,4};\n",
    "int[] output = a.bubbleSort(input);\n",
    "for (int i: output)\n",
    "    System.out.printf(\"%d \",i)"
   ]
  },
  {
   "cell_type": "markdown",
   "id": "bd4a9f79",
   "metadata": {
    "solution2": "hidden",
    "solution2_first": true
   },
   "source": [
    "### 选择排序:\n",
    "每次在没有排序的序列中找到极值元素,然后扔到最前面,直到所有元素都排完序\n",
    "\n",
    "是不稳定的排序算法"
   ]
  },
  {
   "cell_type": "markdown",
   "id": "4b2cfe21",
   "metadata": {
    "solution2": "hidden"
   },
   "source": [
    "#### python:"
   ]
  },
  {
   "cell_type": "code",
   "execution_count": 1,
   "id": "b27498a0",
   "metadata": {
    "solution2": "hidden"
   },
   "outputs": [
    {
     "data": {
      "text/plain": [
       "[1, 2, 3, 4]"
      ]
     },
     "execution_count": 1,
     "metadata": {},
     "output_type": "execute_result"
    }
   ],
   "source": [
    "class Solution:\n",
    "    def selectionSort(self, nums):\n",
    "        for i in range(len(nums) - 1):\n",
    "            minIndex = i # 遍历中存最小值的索引\n",
    "            for j in range(i+1,len(nums)): # 找最小值\n",
    "                if nums[j] < nums[minIndex]:\n",
    "                    minIndex = j\n",
    "            if i != minIndex: # 如果需要互换\n",
    "                nums[i], nums[minIndex] = nums[minIndex],nums[i] # 互换\n",
    "        return nums\n",
    "list = [2,3,1,4]\n",
    "a = Solution()\n",
    "a.selectionSort(list)"
   ]
  },
  {
   "cell_type": "markdown",
   "id": "8a2c67e1",
   "metadata": {
    "solution2": "hidden"
   },
   "source": [
    "#### java:"
   ]
  },
  {
   "cell_type": "code",
   "execution_count": 4,
   "id": "f6c46635",
   "metadata": {
    "solution2": "hidden"
   },
   "outputs": [
    {
     "name": "stdout",
     "output_type": "stream",
     "text": [
      "1 2 3 4 "
     ]
    }
   ],
   "source": [
    "class Solution{\n",
    "    public int[] selectionSort(int[] nums){\n",
    "        for (int i = 0; i < nums.length - 1; i++){ // 最后一次不用排序,只用排nums.length - 2次\n",
    "            int minIndex = i;\n",
    "            for (int j = i + 1; j < nums.length; j++){ // 找最小值的索引\n",
    "                if (nums[j] < nums[minIndex]){\n",
    "                    minIndex = j;\n",
    "                }\n",
    "            }\n",
    "            if (i != minIndex){ // 如果nums[i]不是最小,则互换\n",
    "                int temp = nums[i];\n",
    "                nums[i] = nums[minIndex];\n",
    "                nums[minIndex] = temp;\n",
    "            }\n",
    "        }\n",
    "        return nums;\n",
    "    }\n",
    "}\n",
    "Solution a = new Solution();\n",
    "int[] input = new int[]{2,3,1,4};\n",
    "int[] output = a.selectionSort(input);\n",
    "for (int i: output)\n",
    "    System.out.printf(\"%d \",i)"
   ]
  },
  {
   "cell_type": "markdown",
   "id": "f733098e",
   "metadata": {
    "solution2": "hidden"
   },
   "source": [
    "### 优化:\n",
    "可以同时把最大最小扔到两边去\n",
    "#### python:"
   ]
  },
  {
   "cell_type": "code",
   "execution_count": 2,
   "id": "13b38cdd",
   "metadata": {
    "solution2": "hidden"
   },
   "outputs": [
    {
     "data": {
      "text/plain": [
       "[1, 2, 3, 4]"
      ]
     },
     "execution_count": 2,
     "metadata": {},
     "output_type": "execute_result"
    }
   ],
   "source": [
    "class Solution:\n",
    "    def selectionSort(self, nums):\n",
    "        for i in range(len(nums) - 1):\n",
    "            minIndex = i # 遍历中存最小值的索引\n",
    "            maxIndex = i # 遍历中存最大值的索引\n",
    "            for j in range(i+1,len(nums) - i): # 找最小值,最大值\n",
    "                if nums[j] < nums[minIndex]:\n",
    "                    minIndex = j\n",
    "                if nums[j] > nums[maxIndex]:\n",
    "                    maxIndex = j\n",
    "            if minIndex == maxIndex:\n",
    "                break\n",
    "            if i != minIndex: # 如果需要互换\n",
    "                nums[i], nums[minIndex] = nums[minIndex],nums[i] # 互换\n",
    "            if maxIndex == i: \n",
    "            # 如果maxIndex = i, 那么要交换的数已经被上一轮交换送走了,\n",
    "            # 要交换的索引变成了minIndex\n",
    "                maxIndex = minIndex\n",
    "            nums[len(nums) - 1 - i], nums[maxIndex] = nums[maxIndex], nums[len(nums) - 1 - i]\n",
    "        return nums\n",
    "list = [2,3,1,4]\n",
    "a = Solution()\n",
    "a.selectionSort(list)"
   ]
  },
  {
   "cell_type": "markdown",
   "id": "615c9357",
   "metadata": {
    "solution2": "hidden"
   },
   "source": [
    "#### java:"
   ]
  },
  {
   "cell_type": "code",
   "execution_count": 31,
   "id": "028b245f",
   "metadata": {
    "solution2": "hidden"
   },
   "outputs": [
    {
     "name": "stdout",
     "output_type": "stream",
     "text": [
      "1 2 3 4 5 6 7 "
     ]
    }
   ],
   "source": [
    "class Solution{\n",
    "    public int[] selectionSort(int[] nums){\n",
    "        for (int i = 0; i < nums.length - 1 - i; i++){ // 每次确定两个数字,需要确定不会重复交换/'' \n",
    "            int minIndex = i;\n",
    "            int maxIndex = i;\n",
    "            for (int j = i + 1; j < nums.length - i; j++){ // 这个区间以外都是被扔过去的数,不用再找\n",
    "                if (nums[j] < nums[minIndex]){\n",
    "                    minIndex = j;\n",
    "                }\n",
    "                if (nums[j] > nums[maxIndex]){\n",
    "                    maxIndex = j;\n",
    "                }\n",
    "            }\n",
    "            if (minIndex == maxIndex){\n",
    "                break;\n",
    "            }\n",
    "            if (i != minIndex){ // 把最小值扔到前面,这个时候i的位置是最小值,minIndex的地方是当前遍历到的位置\n",
    "                int temp = nums[i];\n",
    "                nums[i] = nums[minIndex];\n",
    "                nums[minIndex] = temp;\n",
    "            }\n",
    "            if (maxIndex == i){ // 如果maxIndex = i, 那么要交换的数已经被上一轮交换送走了,要交换的索引变成了minIndex\n",
    "                maxIndex = minIndex;\n",
    "            \n",
    "            }\n",
    "            int temp = nums[nums.length - 1 - i]; \n",
    "            nums[nums.length - 1 - i] = nums[maxIndex];\n",
    "            nums[maxIndex] = temp;\n",
    "        }\n",
    "        return nums;\n",
    "    }\n",
    "}\n",
    "Solution a = new Solution();\n",
    "int[] input = new int[]{4,2,6,3,1,7,5};\n",
    "int[] output = a.selectionSort(input);\n",
    "for (int i: output)\n",
    "    System.out.printf(\"%d \",i)"
   ]
  },
  {
   "cell_type": "markdown",
   "id": "f01fcc16",
   "metadata": {
    "solution2": "hidden",
    "solution2_first": true
   },
   "source": [
    "### 插入排序:\n",
    "对于每一个元素,把他前面的序列看做已经排好序的序列,插入到对应位置,不断插入直到所有元素都被排列好\n",
    "\n",
    "是稳定的排序算法"
   ]
  },
  {
   "cell_type": "markdown",
   "id": "840561a7",
   "metadata": {
    "solution2": "hidden"
   },
   "source": [
    "#### python:"
   ]
  },
  {
   "cell_type": "code",
   "execution_count": 5,
   "id": "839b6d63",
   "metadata": {
    "solution2": "hidden"
   },
   "outputs": [
    {
     "data": {
      "text/plain": [
       "[1, 2, 3, 4]"
      ]
     },
     "execution_count": 5,
     "metadata": {},
     "output_type": "execute_result"
    }
   ],
   "source": [
    "class Solution:\n",
    "    def insertionSort(self, nums):\n",
    "        for i in range(len(nums)): # 对于每个元素都要做一遍插入操作,于是这里是len(nums)\n",
    "            preIndex = i - 1 # 将要插入到的位置\n",
    "            current = nums[i] # 当前元素值\n",
    "            while preIndex >= 0 and nums[preIndex] > current: \n",
    "                # 一直循环到到最开始或者找到小于当前值的元素,说明我们找到了要插入的位置\n",
    "                nums[preIndex + 1] = nums[preIndex]\n",
    "                # 把剩下的元素往后面扔\n",
    "                preIndex -= 1\n",
    "                # 要把当前值扔到前面,所以是-=1\n",
    "            nums[preIndex+1] = current\n",
    "            # 最后把目标索引值的元素变成当前值,完成插入\n",
    "        return nums\n",
    "list = [2,3,1,4]\n",
    "a = Solution()\n",
    "a.insertionSort(list)"
   ]
  },
  {
   "cell_type": "markdown",
   "id": "df5d172c",
   "metadata": {
    "solution2": "hidden"
   },
   "source": [
    "#### java:"
   ]
  },
  {
   "cell_type": "code",
   "execution_count": 3,
   "id": "eadcc5b0",
   "metadata": {
    "solution2": "hidden"
   },
   "outputs": [
    {
     "name": "stdout",
     "output_type": "stream",
     "text": [
      "1 2 3 4 "
     ]
    }
   ],
   "source": [
    "class Solution{\n",
    "    public int[] insertionSort(int[] nums){\n",
    "        int preIndex = 0;\n",
    "        int current = 0;\n",
    "        for (int i = 0; i < nums.length; i++){ \n",
    "            // 对于每个元素都要做一遍插入操作,于是遍历到nums.length\n",
    "            preIndex = i - 1; // 将要插入的位置\n",
    "            current = nums[i]; // 当前值\n",
    "            while (preIndex >= 0 && nums[preIndex] > current){\n",
    "                // 一直循环到最开始或者找到小于当前值的元素, 说明我们找到了要插入的位置\n",
    "                nums[preIndex + 1] = nums[preIndex];\n",
    "                // 把剩下的元素往后面扔\n",
    "                preIndex--;\n",
    "                // 要把当前值扔到前面,所以是--\n",
    "            }\n",
    "            nums[preIndex + 1] = current;\n",
    "            // 最后把要插入的位置的元素换成当前值,剩下的已经扔到后面了\n",
    "        }\n",
    "        return nums;\n",
    "    }\n",
    "}\n",
    "\n",
    "Solution a = new Solution();\n",
    "int[] input = new int[]{2,3,1,4};\n",
    "int[] output = a.insertionSort(input);\n",
    "for (int i: output)\n",
    "    System.out.printf(\"%d \",i)"
   ]
  },
  {
   "cell_type": "markdown",
   "id": "da4685ee",
   "metadata": {
    "solution2": "hidden",
    "solution2_first": true
   },
   "source": [
    "### 时间复杂度$O(n\\log n)$\n",
    "#### 希尔排序:\n",
    "插入排序的变种,可以把插入排序想象成固定了步长为1的希尔排序\n",
    "\n",
    "插入排序对基本排列好的序列有较高的效率,但是每次简单插入排序一次比较智能把数字移动一位\n",
    "\n",
    "先把序列分成k段,每段进行插入排序,只有当k等于1的时候把整个序列当成一个整体看待\n",
    "\n",
    "是非稳定排序算法\n",
    "\n",
    "首先对原先待排序序列中相隔gap的数字进行简单插入排序,然后不断缩小gap,直到gap = 1的时候为简单插入排序\n",
    "- Shell增量:$\\frac{n}{2^k}$,最坏时间复杂度为$\\Theta(n^2)$\n",
    "- Hibbard增量:$2^k - 1$,最坏时间复杂度为$\\Theta(n^{\\frac{3}{2}})$\n",
    "- Knuth增量:$3^k - 1$,最坏时间复杂度为$\\Theta(n^{\\frac{3}{2}})$\n",
    "- Sedgewick增量:$4^k + 3*2^{k-1} + 1$,最坏时间复杂度为$\\Theta(n^{\\frac{4}{3}})$"
   ]
  },
  {
   "cell_type": "markdown",
   "id": "7340907c",
   "metadata": {
    "solution2": "hidden"
   },
   "source": [
    "##### python"
   ]
  },
  {
   "cell_type": "code",
   "execution_count": 27,
   "id": "4add3120",
   "metadata": {
    "solution2": "hidden"
   },
   "outputs": [
    {
     "data": {
      "text/plain": [
       "[1, 2, 3, 4, 5, 6, 7]"
      ]
     },
     "execution_count": 27,
     "metadata": {},
     "output_type": "execute_result"
    }
   ],
   "source": [
    "class Solution:\n",
    "    def shellSort_shell(self, nums):\n",
    "        n = len(nums) # 数组长度\n",
    "        gap = int(n / 2) # 初始化gap\n",
    "        while(gap > 0): # 一直循环到gap=0, int(1/2) = 0\n",
    "            for start in range(gap): #这里需要对gap数组进行插入排序,总共gap个数组需要排序\n",
    "                i = start + gap\n",
    "                while i < n: # 插入排序,步长为gap\n",
    "                    temp = nums[i]\n",
    "                    j = i - gap\n",
    "                    while j >= 0:\n",
    "                        if (temp < nums[j]):\n",
    "                            nums[j + gap] = nums[j]\n",
    "                        else:\n",
    "                            break\n",
    "                        j -= gap\n",
    "                    nums[j + gap] = temp\n",
    "                    i += gap\n",
    "            gap = int(gap / 2) # 更新gap值\n",
    "        return nums\n",
    "    \n",
    "    def shellSort_hibbard(self, nums):\n",
    "        n = len(nums) # 数组长度\n",
    "        gap = 1 # 初始化gap\n",
    "        while(gap < n / 2): # hibbard增量序列的最大值\n",
    "            gap = gap * 2 + 1\n",
    "        while(gap > 0): # 一直循环到gap=0, int(1/2) = 0\n",
    "            for start in range(gap): #这里需要对gap数组进行插入排序,总共gap个数组需要排序\n",
    "                i = start + gap\n",
    "                while i < n: # 插入排序,步长为gap\n",
    "                    temp = nums[i]\n",
    "                    j = i - gap\n",
    "                    while j >= 0:\n",
    "                        if (temp < nums[j]):\n",
    "                            nums[j + gap] = nums[j]\n",
    "                        else:\n",
    "                            break\n",
    "                        j -= gap\n",
    "                    nums[j + gap] = temp\n",
    "                    i += gap\n",
    "            gap = int(gap / 2) # 更新gap值\n",
    "        return nums\n",
    "    \n",
    "    def shellSort_knuth(self, nums):\n",
    "        n = len(nums) # 数组长度\n",
    "        gap = 1 # 初始化gap\n",
    "        while(gap < n / 3): # knuth增量序列的最大值\n",
    "            gap = gap * 3 + 1\n",
    "        while(gap > 0): # 一直循环到gap=0, int(1/2) = 0\n",
    "            for start in range(gap): #这里需要对gap数组进行插入排序,总共gap个数组需要排序\n",
    "                i = start + gap\n",
    "                while i < n: # 插入排序,步长为gap\n",
    "                    temp = nums[i]\n",
    "                    j = i - gap\n",
    "                    while j >= 0:\n",
    "                        if (temp < nums[j]):\n",
    "                            nums[j + gap] = nums[j]\n",
    "                        else:\n",
    "                            break\n",
    "                        j -= gap\n",
    "                    nums[j + gap] = temp\n",
    "                    i += gap\n",
    "            gap = int(gap / 3) # 更新gap值\n",
    "        return nums\n",
    "    \n",
    "    def shellSort_sedgewick(self, nums):\n",
    "        n = len(nums) # 数组长度\n",
    "        gap = 1 # 初始化gap\n",
    "        gaps = [1]\n",
    "        k = 1\n",
    "        while(gap < n): # hibbard增量序列的最大值\n",
    "            gap = int(pow(4,k) + 3 * pow(2, k - 1) + 1)\n",
    "            gaps.append(gap)\n",
    "        for idx in range(len(gaps) - 1, -1, -1): # 一直循环到gap=0, int(1/2) = 0\n",
    "            gap = gaps[idx]\n",
    "            for start in range(gap): #这里需要对gap数组进行插入排序,总共gap个数组需要排序\n",
    "                i = start + gap\n",
    "                while i < n: # 插入排序,步长为gap\n",
    "                    temp = nums[i]\n",
    "                    j = i - gap\n",
    "                    while j >= 0:\n",
    "                        if (temp < nums[j]):\n",
    "                            nums[j + gap] = nums[j]\n",
    "                        else:\n",
    "                            break\n",
    "                        j -= gap\n",
    "                    nums[j + gap] = temp\n",
    "                    i += gap\n",
    "        return nums\n",
    "list = [2,3,1,4,7,6,5]\n",
    "a = Solution()\n",
    "a.shellSort_sedgewick(list)"
   ]
  },
  {
   "cell_type": "markdown",
   "id": "c3d280e8",
   "metadata": {
    "solution2": "hidden"
   },
   "source": [
    "##### java:"
   ]
  },
  {
   "cell_type": "code",
   "execution_count": 4,
   "id": "912e0b2e",
   "metadata": {
    "solution2": "hidden"
   },
   "outputs": [
    {
     "name": "stdout",
     "output_type": "stream",
     "text": [
      " 1  2  3  4  5  6  7 "
     ]
    }
   ],
   "source": [
    "class Solution{\n",
    "    // 希尔排序：采用Shell增量 N / 2^k\n",
    "    public int[] shellSortShell(int[] arr) {\n",
    "        if (arr.length < 2) return arr;\n",
    "        int n = arr.length;\n",
    "        for (int gap = n / 2; gap > 0; gap /= 2) { // gap 初始为 n/2，缩小gap直到1\n",
    "            for(int start = 0; start < gap; start++) { // 步长增量是gap，当前增量下需要对gap组序列进行简单插入排序\n",
    "                for (int i = start + gap; i < n; i += gap) { // 此for及下一个for对当前增量序列执行简单插入排序\n",
    "                    int target = arr[i], j = i - gap;\n",
    "                    for (; j >= 0; j -= gap) { \n",
    "                        if (target < arr[j]) arr[j + gap] = arr[j];\n",
    "                        else break; \n",
    "                    }                 \n",
    "                    arr[j + gap] = target;\n",
    "                }\n",
    "            }\n",
    "        }\n",
    "        return arr;\n",
    "    }\n",
    "    // 希尔排序： 采用Hibbard增量 {1, 3, 7, 15,...}\n",
    "    public int[] shellSortHibbard(int[] arr) {\n",
    "        if (arr.length < 2) return arr;\n",
    "        int n = arr.length, gap = 1; \n",
    "        while (gap < n / 2) gap = gap * 2 + 1; // 初始化gap (Hibbard增量序列)\n",
    "        for (; gap > 0; gap /= 2) { // 缩小gap直到1\n",
    "            for(int start = 0; start < gap; start++) { // 步长增量是gap，当前增量下需要对gap组序列进行简单插入排序\n",
    "                for (int i = start + gap; i < arr.length; i += gap) { // 此for及下一个for对当前增量序列执行简单插入排序\n",
    "                    int target = arr[i], j = i - gap;\n",
    "                    for (; j >= 0; j -= gap) { \n",
    "                        if (target < arr[j]) arr[j + gap] = arr[j];\n",
    "                        else break; \n",
    "                    }                 \n",
    "                    arr[j + gap] = target;\n",
    "                }\n",
    "            }\n",
    "        }\n",
    "        return arr;\n",
    "    }\n",
    "    // 希尔排序： 采用Knuth增量 {1, 4, 13, 40,...}\n",
    "    public int[] shellSortKnuth(int[] arr) {\n",
    "        if (arr.length < 2) return arr;\n",
    "        int n = arr.length, gap = 1; \n",
    "        while (gap < n / 3) gap = gap * 3 + 1; // 初始化gap (Knuth增量序列)\n",
    "        for (; gap > 0; gap /= 3) { // 缩小gap直到1\n",
    "            for(int start = 0; start < gap; start++) { // 步长增量是gap，当前增量下需要对gap组序列进行简单插入排序\n",
    "                for (int i = start + gap; i < arr.length; i += gap) { // 此for及下一个for对当前增量序列执行简单插入排序\n",
    "                    int target = arr[i], j = i - gap;\n",
    "                    for (; j >= 0; j -= gap) { \n",
    "                        if (target < arr[j]) arr[j + gap] = arr[j];\n",
    "                        else break; \n",
    "                    }                 \n",
    "                    arr[j + gap] = target;\n",
    "                }\n",
    "            }\n",
    "        }\n",
    "        return arr;\n",
    "    }\n",
    "    public int[] shellSortSedgewick(int[] arr) {\n",
    "        if (arr.length < 2) return arr;\n",
    "        int n = arr.length, gap = 1;\n",
    "        List<Integer> gaps = new ArrayList<>();\n",
    "        gaps.add(gap);\n",
    "        for(int k = 1; gap < n; k++){ // 计算增量序列\n",
    "            gap = (int) (Math.pow(4, k) + 3 * Math.pow(2, k - 1) + 1);\n",
    "            gaps.add(gap);\n",
    "        }\n",
    "        for (int idx = gaps.size() - 1; idx >= 0; --idx) { // 缩小 gap 直到 1\n",
    "            gap = gaps.get(idx);\n",
    "            for(int start = 0; start < gap; start++) { // 步长增量是 gap ，当前增量下需要对 gap 组序列进行简单插入排序\n",
    "                for (int i = start + gap; i < n; i += gap) { // 此 for 及下一个 for 对当前增量序列执行简单插入排序\n",
    "                    int target = arr[i], j = i - gap;\n",
    "                    for (; j >= 0; j -= gap) {\n",
    "                        if (target < arr[j]) arr[j + gap] = arr[j];\n",
    "                        else break;\n",
    "                    }\n",
    "                    arr[j + gap] = target;\n",
    "                }\n",
    "            }\n",
    "        }\n",
    "        return arr;\n",
    "    }\n",
    "}\n",
    "\n",
    "int[] list = new int[]{2,3,1,4,7,5,6};\n",
    "Solution a = new Solution();\n",
    "a.shellSortHibbard(list);\n",
    "for (int i: list){\n",
    "    System.out.printf(\" %d \",i);\n",
    "}"
   ]
  },
  {
   "cell_type": "markdown",
   "id": "23fa15d7",
   "metadata": {
    "solution2": "hidden",
    "solution2_first": true
   },
   "source": [
    "#### 并归排序(mergesort)\n",
    "需要一个临时序列,大小为两个已经排序的序列之和,用来存合并后的序列\n",
    "\n",
    "然后从两个序列的开始遍历,按照顺序把元素放到临时数组里,直到指针指向某序列末尾\n",
    "\n",
    "将另一序列扔到末尾,这些不用排序\n",
    "##### python:"
   ]
  },
  {
   "cell_type": "code",
   "execution_count": 10,
   "id": "5952b355",
   "metadata": {
    "solution2": "hidden"
   },
   "outputs": [
    {
     "data": {
      "text/plain": [
       "[1, 2, 3, 4, 5, 6, 7]"
      ]
     },
     "execution_count": 10,
     "metadata": {},
     "output_type": "execute_result"
    }
   ],
   "source": [
    "class Solution:\n",
    "    def mergesort(self, nums: list[int]) -> list[int]:\n",
    "        if (len(nums) < 2): # 异常处理以及递归的终止条件\n",
    "            return nums\n",
    "        \n",
    "        middle = int(len(nums) / 2)\n",
    "        \n",
    "        left = nums[0:middle]\n",
    "        right = nums[middle:]\n",
    "        return self.merge(self.mergesort(left), self.mergesort(right))\n",
    "    def merge(self, left, right):\n",
    "        result = [] # 新建临时数组,由于是python,不用定义大小,虽然也可以[0]*(len(right) + len(left))\n",
    "        # i = 0 # python 的列表直接是动态数组,所以不需要这个值\n",
    "        while(len(left) > 0 and len(right) > 0): # 合并到其中一个序列为空\n",
    "            if left[0] <= right[0]:\n",
    "                result.append(left.pop(0))\n",
    "            else:\n",
    "                result.append(right.pop(0))\n",
    "        while(len(left) > 0):\n",
    "            result.append(left.pop(0))\n",
    "            \n",
    "        while(len(right) > 0):\n",
    "            result.append(right.pop(0))\n",
    "        \n",
    "        return result\n",
    "a = Solution()\n",
    "input = [4,2,3,5,1,7,6]\n",
    "a.mergesort(input)"
   ]
  },
  {
   "cell_type": "markdown",
   "id": "a4e5e3aa",
   "metadata": {
    "solution2": "hidden"
   },
   "source": [
    "##### java:"
   ]
  },
  {
   "cell_type": "code",
   "execution_count": 8,
   "id": "c18801d0",
   "metadata": {
    "solution2": "hidden"
   },
   "outputs": [
    {
     "name": "stdout",
     "output_type": "stream",
     "text": [
      " 1  2  3  4  5  6  7 "
     ]
    }
   ],
   "source": [
    "class Solution{\n",
    "    public int[] mergesort(int[] nums){\n",
    "        if (nums.length < 2){ // 不仅是异常处理,同时也是递归的终止条件\n",
    "            return nums;\n",
    "        }\n",
    "        int middle = (int)(nums.length/2);\n",
    "        \n",
    "        // 由于merge函数会更改数组,所以我们需要一个当前数组的复制\n",
    "        int[] left = Arrays.copyOfRange(nums, 0, middle);\n",
    "        int[] right = Arrays.copyOfRange(nums, middle, nums.length);\n",
    "        return merge(mergesort(left), mergesort(right));\n",
    "    }\n",
    "    public int[] merge(int[] left, int[] right){\n",
    "        int[] result = new int[left.length + right.length]; // 新建临时数组,大小为两个数组之和\n",
    "        // int leftidx = 0; // 第一个序列的指针\n",
    "        // int rightidx = 0; // 第二个序列的指针\n",
    "        int i = 0; // 遍历次数,用来表示存的值应该在result的哪个下标\n",
    "        while (left.length > 0 && right.length > 0){ // 合并到其中一个序列为空\n",
    "        // 这里似乎没有办法用双指针,因为要保证两个序列在合并过程中大小大于0\n",
    "            if (left[0] <= right[0]){\n",
    "                result[i++] = left[0];\n",
    "                left = Arrays.copyOfRange(left, 1, left.length); // 相当于.pop,要把第一个值去掉\n",
    "            }\n",
    "            else{\n",
    "                result[i++] = right[0];\n",
    "                right = Arrays.copyOfRange(right, 1, right.length);// 相当于.pop,要把第一个值去掉\n",
    "            }\n",
    "        }\n",
    "        while (left.length > 0){ // 这部分不需要判断,如果为空则不会执行,把剩余部分直接扔到末尾\n",
    "            result[i++] = left[0];\n",
    "            left = Arrays.copyOfRange(left, 1, left.length); // pop()\n",
    "        }\n",
    "        while (right.length > 0){ // 这部分不需要判断,如果为空则不会执行,把剩余部分直接扔到末尾\n",
    "            result[i++] = right[0];\n",
    "            right = Arrays.copyOfRange(right, 1, right.length); // pop()\n",
    "        }\n",
    "        return result;\n",
    "    }\n",
    "}\n",
    "\n",
    "Solution a = new Solution();\n",
    "int[] input = new int[]{4,2,3,5,1,7,6};\n",
    "int[] output = a.mergesort(input);\n",
    "for (int i: output){\n",
    "    System.out.printf(\" %d \", i);\n",
    "}"
   ]
  },
  {
   "cell_type": "markdown",
   "id": "276dece4",
   "metadata": {},
   "source": [
    "#### 快排\n",
    "其实和并归排序差不多,找到一个基点,快排左边,快排右边\n",
    "\n",
    "一般是用partition办法:\n",
    "\n",
    "找到一个值,使得左边的值全部小于他,右边的值全部大于他"
   ]
  },
  {
   "cell_type": "markdown",
   "id": "4b78112a",
   "metadata": {},
   "source": [
    "##### python:"
   ]
  },
  {
   "cell_type": "code",
   "execution_count": 3,
   "id": "c3ce8ff3",
   "metadata": {},
   "outputs": [
    {
     "data": {
      "text/plain": [
       "[2, 3, 4, 5, 6, 7]"
      ]
     },
     "execution_count": 3,
     "metadata": {},
     "output_type": "execute_result"
    }
   ],
   "source": [
    "class Solution:\n",
    "    def quickSort(self,arr, left=None, right=None):\n",
    "        left = left if left != None else 0\n",
    "        right = right if right != None else len(arr) - 1\n",
    "        if left < right:\n",
    "            partitionIndex = self.partition(arr, left, right) # 基点坐标\n",
    "            self.quickSort(arr, left, partitionIndex-1) # 快排左边\n",
    "            self.quickSort(arr, partitionIndex+1, right) # 快排右边\n",
    "        return arr\n",
    "    def partition(self,arr, left, right):\n",
    "        pivot = left # 基点\n",
    "        index = pivot + 1 # 从右边开始遍历,用来存放各种扔过去的数字\n",
    "        i = index \n",
    "        while i <= right: # 一直遍历到结尾\n",
    "            if arr[i] < arr[pivot]: \n",
    "                # 如果出现了小于基点并且不在基点右侧的数字,把他扔过去\n",
    "                arr[i], arr[index] = arr[index], arr[i] # 互换\n",
    "                index += 1 # 由于扔过去了一个数,下次扔数的时候就要把扔到index+1的位置\n",
    "            i += 1 # while循环的+1\n",
    "        arr[pivot], arr[index - 1] = arr[index - 1], arr[pivot] \n",
    "        # 这个时候基点在index-1的位置,把原本在pivot的基点移动到基点下标\n",
    "        return index - 1 # 基点下标为index - 1\n",
    "a = Solution()\n",
    "a.quickSort([4,7,2,3,5,6])"
   ]
  },
  {
   "cell_type": "markdown",
   "id": "4bce5a58",
   "metadata": {},
   "source": [
    "##### java:"
   ]
  },
  {
   "cell_type": "code",
   "execution_count": 2,
   "id": "bd17da88",
   "metadata": {},
   "outputs": [
    {
     "name": "stdout",
     "output_type": "stream",
     "text": [
      " 2  3  4  5  6  7 "
     ]
    }
   ],
   "source": [
    "class Solution{\n",
    "    public void quicksort(int[] nums){\n",
    "        quicksort(nums, 0, nums.length - 1);\n",
    "    }\n",
    "    public void quicksort(int[] nums, int left, int right){\n",
    "        if (left < right){\n",
    "            int partitionIndex = partition(nums, left, right);\n",
    "            quicksort(nums, left, partitionIndex - 1);\n",
    "            quicksort(nums, partitionIndex + 1, right);\n",
    "        }\n",
    "    }\n",
    "    public int partition(int[] nums, int left, int right){\n",
    "        int pivot = left; // 定义基点\n",
    "        int index = pivot+1; // 从右边开始遍历,用来存放各种扔过去的数字\n",
    "        int i = index;\n",
    "        for (; i <= right; i++){ // 一直遍历到结尾\n",
    "            if (nums[i] < nums[pivot]){\n",
    "                swap(nums, i, index); // 互换\n",
    "                index++; // 由于扔过去了一个数,下次扔数的时候就要把扔到index+1的位置\n",
    "            }\n",
    "        }\n",
    "        swap(nums, pivot, index - 1); \n",
    "        // 这个时候基点在index-1的位置,把原本在pivot的基点移动到基点下标\n",
    "        return index - 1; // 基点下标为index - 1\n",
    "    }\n",
    "    public void swap(int[] nums, int i, int j){\n",
    "        int temp = nums[i];\n",
    "        nums[i] = nums[j];\n",
    "        nums[j] = temp;\n",
    "    }\n",
    "}\n",
    "Solution a = new Solution();\n",
    "int[] input = new int[]{4,7,2,3,5,6};\n",
    "a.quicksort(input);\n",
    "for (int i: input){\n",
    "    System.out.printf(\" %d \",i);\n",
    "}"
   ]
  },
  {
   "cell_type": "markdown",
   "id": "5a24fff6",
   "metadata": {},
   "source": [
    "# 临时笔记区:\n",
    "暂时不知道放哪里的笔记,先堆在这里,如果这块清空了,差不多就等于全学完了\n",
    "## 栈:\n",
    "python的栈直接跳过\n",
    "\n",
    "之后会有栈的"
   ]
  },
  {
   "cell_type": "code",
   "execution_count": 56,
   "id": "98d236eb",
   "metadata": {},
   "outputs": [
    {
     "data": {
      "text/plain": [
       "98"
      ]
     },
     "execution_count": 56,
     "metadata": {},
     "output_type": "execute_result"
    }
   ],
   "source": [
    "char a = 'a';\n",
    "a + 1"
   ]
  },
  {
   "cell_type": "code",
   "execution_count": 14,
   "id": "c92eec84",
   "metadata": {},
   "outputs": [
    {
     "data": {
      "text/plain": [
       "23"
      ]
     },
     "execution_count": 14,
     "metadata": {},
     "output_type": "execute_result"
    }
   ],
   "source": [
    "String a = \"2\";\n",
    "a += \"3\""
   ]
  },
  {
   "cell_type": "code",
   "execution_count": 15,
   "id": "bac1141b",
   "metadata": {},
   "outputs": [
    {
     "data": {
      "text/plain": [
       "2"
      ]
     },
     "execution_count": 15,
     "metadata": {},
     "output_type": "execute_result"
    }
   ],
   "source": [
    "10 % 4"
   ]
  },
  {
   "cell_type": "code",
   "execution_count": 17,
   "id": "260fcfb3",
   "metadata": {},
   "outputs": [
    {
     "data": {
      "text/plain": [
       "2"
      ]
     },
     "execution_count": 17,
     "metadata": {},
     "output_type": "execute_result"
    }
   ],
   "source": [
    "int c = 10 / 4;\n",
    "c"
   ]
  },
  {
   "cell_type": "code",
   "execution_count": 12,
   "id": "7b21d65c",
   "metadata": {},
   "outputs": [
    {
     "name": "stdout",
     "output_type": "stream",
     "text": [
      "0\n"
     ]
    }
   ],
   "source": [
    "a = None or 0\n",
    "print(a)"
   ]
  },
  {
   "cell_type": "code",
   "execution_count": 5,
   "id": "85d4a28f",
   "metadata": {},
   "outputs": [
    {
     "name": "stdout",
     "output_type": "stream",
     "text": [
      "5\n",
      "[3, 4, 3, 2, 4, 6]\n"
     ]
    }
   ],
   "source": [
    "def partition(arr, left, right):\n",
    "    pivot = left\n",
    "    index = pivot+1\n",
    "    i = index\n",
    "    while  i <= right:\n",
    "        if arr[i] < arr[pivot]:\n",
    "            swap(arr, i, index)\n",
    "            index+=1\n",
    "        i+=1\n",
    "    swap(arr,pivot,index-1)\n",
    "    return index-1\n",
    "\n",
    "def swap(arr, i, j):\n",
    "    arr[i], arr[j] = arr[j], arr[i]\n",
    "nums = [6,4,3,2,4,3]\n",
    "print(partition(nums,0,len(nums)-1))\n",
    "print(nums)"
   ]
  },
  {
   "cell_type": "markdown",
   "id": "365f63d7",
   "metadata": {},
   "source": [
    "#### 如果只要求返回值的话直接从长度扣除要删的元素个数,但是和题目不符"
   ]
  }
 ],
 "metadata": {
  "hide_input": false,
  "kernelspec": {
   "display_name": "Java",
   "language": "java",
   "name": "java"
  },
  "language_info": {
   "codemirror_mode": "java",
   "file_extension": ".jshell",
   "mimetype": "text/x-java-source",
   "name": "Java",
   "pygments_lexer": "java",
   "version": "17.0.9+9-Ubuntu-122.04"
  },
  "toc": {
   "base_numbering": 1,
   "nav_menu": {},
   "number_sections": true,
   "sideBar": true,
   "skip_h1_title": false,
   "title_cell": "Table of Contents",
   "title_sidebar": "Contents",
   "toc_cell": false,
   "toc_position": {},
   "toc_section_display": true,
   "toc_window_display": false
  }
 },
 "nbformat": 4,
 "nbformat_minor": 5
}
