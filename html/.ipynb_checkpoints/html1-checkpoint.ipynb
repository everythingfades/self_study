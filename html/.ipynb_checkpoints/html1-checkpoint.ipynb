{
 "cells": [
  {
   "cell_type": "markdown",
   "id": "663bd1ed",
   "metadata": {},
   "source": [
    "## note\n",
    "某个傻子差点按照w3c去学,于是重启,部分基础知识可能一笔带过\n",
    "\n",
    "### important note:\n",
    "jupyter notebook的html渲染可能有问题,一切以在本地直接访问html文件渲染出的效果为准\n",
    "# html5\n",
    "## 基本结构"
   ]
  },
  {
   "cell_type": "code",
   "execution_count": 2,
   "id": "1a72cba9",
   "metadata": {},
   "outputs": [
    {
     "data": {
      "text/html": [
       "<!DOCTYPE html>\n",
       "<html>\n",
       "    <head>\n",
       "        <title>网页</title>\n",
       "    </head>\n",
       "    <body>\n",
       "        某个网页\n",
       "    </body>\n",
       "</html>\n"
      ],
      "text/plain": [
       "<IPython.core.display.HTML object>"
      ]
     },
     "metadata": {},
     "output_type": "display_data"
    }
   ],
   "source": [
    "%%html\n",
    "<!DOCTYPE html>\n",
    "<html>\n",
    "    <head>\n",
    "        <title>网页</title>\n",
    "    </head>\n",
    "    <body>\n",
    "        某个网页\n",
    "    </body>\n",
    "</html>\n"
   ]
  },
  {
   "cell_type": "markdown",
   "id": "76142e58",
   "metadata": {},
   "source": [
    "## 标签\n",
    "主要分为单标签和双标签\n",
    "- 双标签< html>< /html>\n",
    "- 单标签< img>\n",
    "### html基本骨架:\n",
    "#### <!DOCTYPE html>声明(必须有且只有第一行是这个)\n",
    "声明这个文档是一个html\n",
    "\n",
    "#### < html>< /html>(必须有且仅有一个)\n",
    "定义html文档\n",
    "\n",
    "#### < head>< /head>(必须有且仅有一个)\n",
    "定义头文件,定义超参数\n",
    "\n",
    "#### < body>< /body>(必须有且仅有一个)\n",
    "定义元素的主体,是直接能在网页里看到的东西\n",
    "\n",
    "#### < title>< /title>(必须在< head>中出现)\n",
    "定义这个网页的名称,\n",
    "\n",
    "#### < meta>(可以没有)\n",
    "描述一个html的属性,关键词等,比如< meta charset = \"UTF-8\">\n",
    "\n",
    "具体参数看这里:https://www.w3schools.com/tags/tag_meta.asp"
   ]
  },
  {
   "cell_type": "code",
   "execution_count": 3,
   "id": "560cbdf0",
   "metadata": {},
   "outputs": [
    {
     "data": {
      "text/html": [
       "<!DOCTYPE html>\n",
       "<html>\n",
       "    <head>\n",
       "        <title>网页</title>\n",
       "        <meta charset = \"UTF-8\">\n",
       "    </head>\n",
       "    <body>\n",
       "        某个网页\n",
       "    </body>\n",
       "</html>\n"
      ],
      "text/plain": [
       "<IPython.core.display.HTML object>"
      ]
     },
     "metadata": {},
     "output_type": "display_data"
    }
   ],
   "source": [
    "%%html\n",
    "<!DOCTYPE html>\n",
    "<html>\n",
    "    <head>\n",
    "        <title>网页</title>\n",
    "        <meta charset = \"UTF-8\">\n",
    "    </head>\n",
    "    <body>\n",
    "        某个网页\n",
    "    </body>\n",
    "</html>\n"
   ]
  },
  {
   "cell_type": "markdown",
   "id": "5b86fe0f",
   "metadata": {},
   "source": [
    "### 其他标签:\n",
    "#### < h>< /h>\n",
    "用于定义标题,从h1到h6\n",
    "- 选择位置: 增加align属性, align = \"left\"|\"center\"|\"right\""
   ]
  },
  {
   "cell_type": "code",
   "execution_count": 5,
   "id": "202bc231",
   "metadata": {},
   "outputs": [
    {
     "data": {
      "text/html": [
       "<!DOCTYPE html>\n",
       "<html>\n",
       "    <head>\n",
       "        <title>网页</title>\n",
       "    </head>\n",
       "    <body>\n",
       "        某个网页\n",
       "        <h1>标题1</h1>\n",
       "        <h2>标题2</h2>\n",
       "        <h3>标题3</h3>\n",
       "        <h4>标题4</h4>\n",
       "        <h5>标题5</h5>\n",
       "        <h6>标题6</h6>\n",
       "    </body>\n",
       "</html>\n"
      ],
      "text/plain": [
       "<IPython.core.display.HTML object>"
      ]
     },
     "metadata": {},
     "output_type": "display_data"
    }
   ],
   "source": [
    "%%html\n",
    "<!DOCTYPE html>\n",
    "<html>\n",
    "    <head>\n",
    "        <title>网页</title>\n",
    "    </head>\n",
    "    <body>\n",
    "        某个网页\n",
    "        <h1 align = \"center\">标题1</h1>\n",
    "        <h2 align = \"left\">标题2</h2>\n",
    "        <h3 align = \"right\">标题3</h3>\n",
    "        <h4>标题4</h4>\n",
    "        <h5>标题5</h5>\n",
    "        <h6>标题6</h6>\n",
    "    </body>\n",
    "</html>\n"
   ]
  },
  {
   "cell_type": "markdown",
   "id": "1300bf6a",
   "metadata": {},
   "source": [
    "#### < p>< /p>\n",
    "定义段落"
   ]
  },
  {
   "cell_type": "code",
   "execution_count": 11,
   "id": "ba3269f2",
   "metadata": {},
   "outputs": [
    {
     "data": {
      "text/html": [
       "<!DOCTYPE html>\n",
       "<html>\n",
       "    <head>\n",
       "        <title>网页</title>\n",
       "    </head>\n",
       "    <body>\n",
       "        某个网页\n",
       "        \n",
       "        <!--这里空再多空格也换不了行-->\n",
       "        something\n",
       "        <p>标题1</p>\n",
       "        <p>标题2</p>\n",
       "        <p>标题3</p>\n",
       "        <p>标题4</p>\n",
       "        <p>标题5</p>\n",
       "        <p>标题6</p>\n",
       "    </body>\n",
       "</html>\n"
      ],
      "text/plain": [
       "<IPython.core.display.HTML object>"
      ]
     },
     "metadata": {},
     "output_type": "display_data"
    }
   ],
   "source": [
    "%%html\n",
    "<!DOCTYPE html>\n",
    "<html>\n",
    "    <head>\n",
    "        <title>网页</title>\n",
    "    </head>\n",
    "    <body>\n",
    "        某个网页\n",
    "        \n",
    "        <!--这里空再多空格也换不了行-->\n",
    "        something\n",
    "        <p>标题1</p>\n",
    "        <p>标题2</p>\n",
    "        <p>标题3</p>\n",
    "        <p>标题4</p>\n",
    "        <p>标题5</p>\n",
    "        <p>标题6</p>\n",
    "    </body>\n",
    "</html>\n"
   ]
  },
  {
   "cell_type": "markdown",
   "id": "0bf7dd65",
   "metadata": {},
   "source": [
    "#### < br>\n",
    "换行,也可以写成< br/>\n"
   ]
  },
  {
   "cell_type": "code",
   "execution_count": 12,
   "id": "897f5a35",
   "metadata": {},
   "outputs": [
    {
     "data": {
      "text/html": [
       "<!DOCTYPE html>\n",
       "<html>\n",
       "    <head>\n",
       "        <title>网页</title>\n",
       "    </head>\n",
       "    <body>\n",
       "        某个网页\n",
       "        \n",
       "        <!--这里空再多空格也换不了行-->\n",
       "        something\n",
       "        <p>标<br>题1</p>\n",
       "        <p>标题2</p>\n",
       "    </body>\n",
       "</html>\n"
      ],
      "text/plain": [
       "<IPython.core.display.HTML object>"
      ]
     },
     "metadata": {},
     "output_type": "display_data"
    }
   ],
   "source": [
    "%%html\n",
    "<!DOCTYPE html>\n",
    "<html>\n",
    "    <head>\n",
    "        <title>网页</title>\n",
    "    </head>\n",
    "    <body>\n",
    "        某个网页\n",
    "        \n",
    "        <!--这里空再多空格也换不了行-->\n",
    "        something\n",
    "        <p>标<br>题1</p>\n",
    "        <p>标题2</p>\n",
    "    </body>\n",
    "</html>\n"
   ]
  },
  {
   "cell_type": "markdown",
   "id": "ff7a95ed",
   "metadata": {},
   "source": [
    "####  < hr>(这里显示不出来颜色,建议直接打开html文件)\n",
    "水平线\n",
    "属性(其实都是通用属性)\n",
    "- color:设置水平线的颜色\n",
    "- width:设置水平新的长度\n",
    "- size: 设置水平线的高度\n",
    "- align: 对齐方式"
   ]
  },
  {
   "cell_type": "code",
   "execution_count": 19,
   "id": "14151d88",
   "metadata": {},
   "outputs": [
    {
     "data": {
      "text/html": [
       "<!DOCTYPE html>\n",
       "<html>\n",
       "    <head>\n",
       "        <title>网页</title>\n",
       "    </head>\n",
       "    <body>\n",
       "        某个网页\n",
       "        \n",
       "        <!--这里空再多空格也换不了行-->\n",
       "        something\n",
       "        <p>标题1</p>\n",
       "        <hr color=\"red\">\n",
       "        <p>标题2</p>\n",
       "    </body>\n",
       "</html>\n"
      ],
      "text/plain": [
       "<IPython.core.display.HTML object>"
      ]
     },
     "metadata": {},
     "output_type": "display_data"
    }
   ],
   "source": [
    "%%html\n",
    "<!DOCTYPE html>\n",
    "<html>\n",
    "    <head>\n",
    "        <title>网页</title>\n",
    "    </head>\n",
    "    <body>\n",
    "        某个网页\n",
    "        \n",
    "        <!--这里空再多空格也换不了行-->\n",
    "        something\n",
    "        <p>标题1</p>\n",
    "        <hr color=\"red\">\n",
    "        <p>标题2</p>\n",
    "    </body>\n",
    "</html>\n"
   ]
  },
  {
   "cell_type": "markdown",
   "id": "e2a4b1ef",
   "metadata": {},
   "source": [
    "#### < img>\n",
    "用来显示图片\n",
    "\n",
    "属性:\n",
    "- src:图片地址,可以是网址\n",
    "- alt:在图片加载不出来的时候现实的文字\n",
    "- title:图片标题,鼠标位于图片上是会显示的文字\n",
    "- height:图片高度\n",
    "- width:图片宽度\n"
   ]
  },
  {
   "cell_type": "code",
   "execution_count": 20,
   "id": "dad2b177",
   "metadata": {},
   "outputs": [
    {
     "data": {
      "text/html": [
       "<!DOCTYPE html>\n",
       "<html>\n",
       "    <head>\n",
       "        <title>网页</title>\n",
       "    </head>\n",
       "    <body>\n",
       "         <img src=\"https://prts.wiki/images/ak.png?8efd0\" alt=\"测试图片\" width=\"100\" height=\"100\" style=\"color:red;background-color:powderblue\">\n",
       "        <img src=\"https://prts.wi_ki/images/ak.png?8efd0\" alt=\"测试图片\" width=\"100\" height=\"100\" style=\"color:red\">\n",
       "    </body>\n",
       "</html>\n"
      ],
      "text/plain": [
       "<IPython.core.display.HTML object>"
      ]
     },
     "metadata": {},
     "output_type": "display_data"
    }
   ],
   "source": [
    "%%html\n",
    "<!DOCTYPE html>\n",
    "<html>\n",
    "    <head>\n",
    "        <title>网页</title>\n",
    "    </head>\n",
    "    <body>\n",
    "         <img src=\"https://prts.wiki/images/ak.png?8efd0\" alt=\"测试图片\" width=\"100\" height=\"100\" style=\"color:red;background-color:powderblue\">\n",
    "        <img src=\"https://prts.wi_ki/images/ak.png?8efd0\" alt=\"测试图片\" width=\"100\" height=\"100\" style=\"color:red\">\n",
    "    </body>\n",
    "</html>\n"
   ]
  },
  {
   "cell_type": "markdown",
   "id": "2e41ccf8",
   "metadata": {},
   "source": [
    "#### < a>\n",
    "用来实现链接\n",
    "\n",
    "属性\n",
    "- href: 跳转的网页链接，如果不定义这个和文字没有区别\n"
   ]
  },
  {
   "cell_type": "code",
   "execution_count": 24,
   "id": "4ab32f6e",
   "metadata": {},
   "outputs": [
    {
     "data": {
      "text/html": [
       "<!DOCTYPE html>\n",
       "<html>\n",
       "    <head>\n",
       "        <title>Page Title</title>\n",
       "        <meta http-equiv=\"Content-Type\" content=\"text/html; charset=utf-8\" />\n",
       "    </head>\n",
       "    <body>\n",
       "        <a href=\"https://prts.wiki/w/%E5%B9%B2%E5%91%98%E4%B8%80%E8%A7%88\" style=\"color:red;background-color:powderblue\">\n",
       "            <img src=\"https://prts.wiki/images/ak.png?8efd0\" alt=\"测试图片\" width=\"100\" height=\"100\" style=\"color:red;background-color:powderblue\">\n",
       "        </a>\n",
       "    </body>\n",
       "</html>\n"
      ],
      "text/plain": [
       "<IPython.core.display.HTML object>"
      ]
     },
     "metadata": {},
     "output_type": "display_data"
    }
   ],
   "source": [
    "%%html\n",
    "<!DOCTYPE html>\n",
    "<html>\n",
    "    <head>\n",
    "        <title>Page Title</title>\n",
    "        <meta http-equiv=\"Content-Type\" content=\"text/html; charset=utf-8\" />\n",
    "    </head>\n",
    "    <body>\n",
    "        <a href=\"https://prts.wiki/w/%E5%B9%B2%E5%91%98%E4%B8%80%E8%A7%88\" style=\"color:red;background-color:powderblue\">\n",
    "            <img src=\"https://prts.wiki/images/ak.png?8efd0\" alt=\"测试图片\" width=\"100\" height=\"100\" style=\"color:red;background-color:powderblue\">\n",
    "        </a>\n",
    "    </body>\n",
    "</html>"
   ]
  },
  {
   "cell_type": "markdown",
   "id": "19d98b54",
   "metadata": {},
   "source": [
    "#### 文本标签类:\n",
    "##### < b>\n",
    "加粗"
   ]
  },
  {
   "cell_type": "code",
   "execution_count": 26,
   "id": "1e709de5",
   "metadata": {},
   "outputs": [
    {
     "data": {
      "text/html": [
       "<!DOCTYPE html>\n",
       "<html>\n",
       "    <head>\n",
       "        <title>Page Title</title>\n",
       "    </head>\n",
       "    <body>\n",
       "        <b style=\"text-align:center\" title=\"example\">段落1</b>\n",
       "        <p style=\"text-indent:30px;color:red\">段落2</p>\n",
       "        <div>这是不用p的样式</div>\n",
       "    </body>\n",
       "</html>\n"
      ],
      "text/plain": [
       "<IPython.core.display.HTML object>"
      ]
     },
     "metadata": {},
     "output_type": "display_data"
    }
   ],
   "source": [
    "%%html\n",
    "<!DOCTYPE html>\n",
    "<html>\n",
    "    <head>\n",
    "        <title>Page Title</title>\n",
    "    </head>\n",
    "    <body>\n",
    "        <b style=\"text-align:center\" title=\"example\">段落1</b>\n",
    "        <p style=\"text-indent:30px;color:red\">段落2</p>\n",
    "        <div>这是不用p的样式</div>\n",
    "    </body>\n",
    "</html>"
   ]
  },
  {
   "cell_type": "markdown",
   "id": "aac87ba0",
   "metadata": {},
   "source": [
    "##### < em>\n",
    "表强调"
   ]
  },
  {
   "cell_type": "code",
   "execution_count": 27,
   "id": "c4407ed3",
   "metadata": {},
   "outputs": [
    {
     "data": {
      "text/html": [
       "<!DOCTYPE html>\n",
       "<html>\n",
       "    <head>\n",
       "        <title>Page Title</title>\n",
       "    </head>\n",
       "    <body>\n",
       "        <em style=\"text-align:center\" title=\"example\">段落1</em>\n",
       "        <p style=\"text-indent:30px;color:red\">段落2</p>\n",
       "        <div>这是不用p的样式</div>\n",
       "    </body>\n",
       "</html>\n"
      ],
      "text/plain": [
       "<IPython.core.display.HTML object>"
      ]
     },
     "metadata": {},
     "output_type": "display_data"
    }
   ],
   "source": [
    "%%html\n",
    "<!DOCTYPE html>\n",
    "<html>\n",
    "    <head>\n",
    "        <title>Page Title</title>\n",
    "    </head>\n",
    "    <body>\n",
    "        <em style=\"text-align:center\" title=\"example\">段落1</em>\n",
    "        <p style=\"text-indent:30px;color:red\">段落2</p>\n",
    "        <div>这是不用p的样式</div>\n",
    "    </body>\n",
    "</html>"
   ]
  },
  {
   "cell_type": "markdown",
   "id": "453980ab",
   "metadata": {},
   "source": [
    "##### < del>\n",
    "划掉"
   ]
  },
  {
   "cell_type": "code",
   "execution_count": 28,
   "id": "718abaa6",
   "metadata": {},
   "outputs": [
    {
     "data": {
      "text/html": [
       "<!DOCTYPE html>\n",
       "<html>\n",
       "    <head>\n",
       "        <title>Page Title</title>\n",
       "    </head>\n",
       "    <body>\n",
       "        <del title=\"example\">段落1</del>\n",
       "        <p style=\"text-indent:30px;color:red\">段<mark>落</mark>2</p>\n",
       "        <div>这是不用p的样式</div>\n",
       "    </body>\n",
       "</html>\n"
      ],
      "text/plain": [
       "<IPython.core.display.HTML object>"
      ]
     },
     "metadata": {},
     "output_type": "display_data"
    }
   ],
   "source": [
    "%%html\n",
    "<!DOCTYPE html>\n",
    "<html>\n",
    "    <head>\n",
    "        <title>Page Title</title>\n",
    "    </head>\n",
    "    <body>\n",
    "        <del title=\"example\">段落1</del>\n",
    "        <p style=\"text-indent:30px;color:red\">段<mark>落</mark>2</p>\n",
    "        <div>这是不用p的样式</div>\n",
    "    </body>\n",
    "</html>"
   ]
  },
  {
   "cell_type": "markdown",
   "id": "98a9c2be",
   "metadata": {},
   "source": [
    "##### < i>\n",
    "斜体"
   ]
  },
  {
   "cell_type": "code",
   "execution_count": 29,
   "id": "5167f136",
   "metadata": {},
   "outputs": [
    {
     "data": {
      "text/html": [
       "<!DOCTYPE html>\n",
       "<html>\n",
       "    <head>\n",
       "        <title>Page Title</title>\n",
       "    </head>\n",
       "    <body>\n",
       "        <i style=\"text-align:center\" title=\"example\">段落1</i>\n",
       "        <p style=\"text-indent:30px;color:red\">段落2</p>\n",
       "        <div>这是不用p的样式</div>\n",
       "    </body>\n",
       "</html>\n"
      ],
      "text/plain": [
       "<IPython.core.display.HTML object>"
      ]
     },
     "metadata": {},
     "output_type": "display_data"
    }
   ],
   "source": [
    "%%html\n",
    "<!DOCTYPE html>\n",
    "<html>\n",
    "    <head>\n",
    "        <title>Page Title</title>\n",
    "    </head>\n",
    "    <body>\n",
    "        <i style=\"text-align:center\" title=\"example\">段落1</i>\n",
    "        <p style=\"text-indent:30px;color:red\">段落2</p>\n",
    "        <div>这是不用p的样式</div>\n",
    "    </body>\n",
    "</html>"
   ]
  },
  {
   "cell_type": "markdown",
   "id": "c5a8fd70",
   "metadata": {},
   "source": [
    "##### < span>\n",
    "元素没有特定的含义"
   ]
  },
  {
   "cell_type": "code",
   "execution_count": 30,
   "id": "2755ae56",
   "metadata": {},
   "outputs": [
    {
     "data": {
      "text/html": [
       "<!DOCTYPE html>\n",
       "<html>\n",
       "    <head>\n",
       "        <title>Page Title</title>\n",
       "    </head>\n",
       "    <body>\n",
       "        <span style=\"text-align:center\" title=\"example\">段落1</span>\n",
       "        <p style=\"text-indent:30px;color:red\">段落2</p>\n",
       "        <div>这是不用p的样式</div>\n",
       "    </body>\n",
       "</html>\n"
      ],
      "text/plain": [
       "<IPython.core.display.HTML object>"
      ]
     },
     "metadata": {},
     "output_type": "display_data"
    }
   ],
   "source": [
    "%%html\n",
    "<!DOCTYPE html>\n",
    "<html>\n",
    "    <head>\n",
    "        <title>Page Title</title>\n",
    "    </head>\n",
    "    <body>\n",
    "        <span style=\"text-align:center\" title=\"example\">段落1</span>\n",
    "        <p style=\"text-indent:30px;color:red\">段落2</p>\n",
    "        <div>这是不用p的样式</div>\n",
    "    </body>\n",
    "</html>"
   ]
  },
  {
   "cell_type": "code",
   "execution_count": 33,
   "id": "8730b47d",
   "metadata": {},
   "outputs": [
    {
     "data": {
      "text/html": [
       "<!DOCTYPE html>\n",
       "<html>\n",
       "    <head>\n",
       "        <title>Page Title</title>\n",
       "    </head>\n",
       "    <body>\n",
       "        <p>p:段落1</p>\n",
       "        <br>\n",
       "        <b>b:段落1</b>\n",
       "        <br>\n",
       "        <span>span:段落1</span>\n",
       "        <br>\n",
       "        <em>em:段落1</em>\n",
       "        <br>\n",
       "        <i>i:段落1</i>\n",
       "        <br>\n",
       "        <del>段落1</del>\n",
       "        <br>\n",
       "        <strong>段落1</strong>\n",
       "    </body>\n",
       "</html>\n"
      ],
      "text/plain": [
       "<IPython.core.display.HTML object>"
      ]
     },
     "metadata": {},
     "output_type": "display_data"
    }
   ],
   "source": [
    "%%html\n",
    "<!DOCTYPE html>\n",
    "<html>\n",
    "    <head>\n",
    "        <title>Page Title</title>\n",
    "    </head>\n",
    "    <body>\n",
    "        <p>p:段落1</p>\n",
    "        <br>\n",
    "        <b>b:段落1</b>\n",
    "        <br>\n",
    "        <span>span:段落1</span>\n",
    "        <br>\n",
    "        <em>em:段落1</em>\n",
    "        <br>\n",
    "        <i>i:段落1</i>\n",
    "        <br>\n",
    "        <del>段落1</del>\n",
    "        <br>\n",
    "        <strong>段落1</strong>\n",
    "    </body>\n",
    "</html>"
   ]
  },
  {
   "cell_type": "markdown",
   "id": "175d5c75",
   "metadata": {},
   "source": [
    "#### < ol>< /ol>(jupyter里显示可能有问题)\n",
    "有序(ordered list),中间的元素用< li>< /li>标签表示\n",
    "\n",
    "属性:\n",
    "- type:\n",
    "    - 1(数字标号)\n",
    "    - a(小写字母标号)\n",
    "    - A(大写字母标号)\n",
    "    - i(小写罗马字母标号)\n",
    "    - I(大写罗马数字标号)\n",
    "\n",
    "列表可以嵌套,但是同样需要< li>< /li>标签"
   ]
  },
  {
   "cell_type": "code",
   "execution_count": 45,
   "id": "9920d4fa",
   "metadata": {},
   "outputs": [
    {
     "data": {
      "text/html": [
       "<!DOCTYPE html>\n",
       "<html>\n",
       "    <head>\n",
       "        <title>Page Title</title>\n",
       "    </head>\n",
       "    <body>\n",
       "        <ol type = \"1\">\n",
       "            <li>\n",
       "                <ol type=\"1\">\n",
       "                    <li>popcat</li>\n",
       "                    <li>happycat</li>\n",
       "                </ol>\n",
       "            </li>\n",
       "            <li>\n",
       "                <ol type=\"a\">\n",
       "                    <li>popcat</li>\n",
       "                    <li>happycat</li>\n",
       "                </ol>\n",
       "            </li>\n",
       "            <li>\n",
       "                <ol type=\"A\">\n",
       "                    <li>popcat</li>\n",
       "                    <li>happycat</li>\n",
       "                </ol>\n",
       "            </li>\n",
       "            <li>\n",
       "                <ol type=\"i\">\n",
       "                    <li>popcat</li>\n",
       "                    <li>happycat</li>\n",
       "                </ol>\n",
       "            </li>\n",
       "            <li>\n",
       "                <ol type=\"I\">\n",
       "                    <li>popcat</li>\n",
       "                    <li>happycat</li>\n",
       "                </ol>\n",
       "            </li>\n",
       "        </ol>\n",
       "    </body>\n",
       "</html>\n"
      ],
      "text/plain": [
       "<IPython.core.display.HTML object>"
      ]
     },
     "metadata": {},
     "output_type": "display_data"
    }
   ],
   "source": [
    "%%html\n",
    "<!DOCTYPE html>\n",
    "<html>\n",
    "    <head>\n",
    "        <title>Page Title</title>\n",
    "    </head>\n",
    "    <body>\n",
    "        <ol type = \"1\">\n",
    "            <li>\n",
    "                <ol type=\"1\">\n",
    "                    <li>popcat</li>\n",
    "                    <li>happycat</li>\n",
    "                </ol>\n",
    "            </li>\n",
    "            <li>\n",
    "                <ol type=\"a\">\n",
    "                    <li>popcat</li>\n",
    "                    <li>happycat</li>\n",
    "                </ol>\n",
    "            </li>\n",
    "            <li>\n",
    "                <ol type=\"A\">\n",
    "                    <li>popcat</li>\n",
    "                    <li>happycat</li>\n",
    "                </ol>\n",
    "            </li>\n",
    "            <li>\n",
    "                <ol type=\"i\">\n",
    "                    <li>popcat</li>\n",
    "                    <li>happycat</li>\n",
    "                </ol>\n",
    "            </li>\n",
    "            <li>\n",
    "                <ol type=\"I\">\n",
    "                    <li>popcat</li>\n",
    "                    <li>happycat</li>\n",
    "                </ol>\n",
    "            </li>\n",
    "        </ol>\n",
    "    </body>\n",
    "</html>"
   ]
  },
  {
   "cell_type": "markdown",
   "id": "7e7314a9",
   "metadata": {},
   "source": [
    "#### < li>< /li>\n",
    "用来表示列表中的元素"
   ]
  },
  {
   "cell_type": "markdown",
   "id": "195f711b",
   "metadata": {},
   "source": [
    "#### < ul>< /ul>\n",
    "unordered list, 无序列表,不过< li>< /li>没有改变\n",
    "\n",
    "属性:\n",
    "- type:\n",
    "    - disc:实心圆\n",
    "    - circle:空心圆\n",
    "    - square:小方块\n",
    "    - none:不显示"
   ]
  },
  {
   "cell_type": "code",
   "execution_count": 49,
   "id": "0e0cc4ad",
   "metadata": {},
   "outputs": [
    {
     "data": {
      "text/html": [
       "<!DOCTYPE html>\n",
       "<html>\n",
       "    <head>\n",
       "        <title>Page Title</title>\n",
       "    </head>\n",
       "    <body>\n",
       "        <ul type=\"disc\">\n",
       "            <li>\n",
       "                <ul type=\"circle\">\n",
       "                    <li>popcat</li>\n",
       "                    <li>happycat</li>\n",
       "                </ul>\n",
       "            </li>\n",
       "            <li>\n",
       "                <ul type=\"circle\">\n",
       "                    <li>popcat</li>\n",
       "                    <li>happycat</li>\n",
       "                </ul>\n",
       "            </li>\n",
       "            <li>\n",
       "                <ul type=\"circle\">\n",
       "                    <li>popcat</li>\n",
       "                    <li>happycat</li>\n",
       "                </ul>\n",
       "            </li>\n",
       "            <li>\n",
       "                <ul type=\"circle\">\n",
       "                    <li>popcat</li>\n",
       "                    <li>happycat</li>\n",
       "                </ul>\n",
       "            </li>\n",
       "            <li>\n",
       "                <ul type=\"circle\">\n",
       "                    <li>popcat</li>\n",
       "                    <li>happycat</li>\n",
       "                </ul>\n",
       "            </li>\n",
       "        </ul>\n",
       "    </body>\n",
       "</html>\n"
      ],
      "text/plain": [
       "<IPython.core.display.HTML object>"
      ]
     },
     "metadata": {},
     "output_type": "display_data"
    }
   ],
   "source": [
    "%%html\n",
    "<!DOCTYPE html>\n",
    "<html>\n",
    "    <head>\n",
    "        <title>Page Title</title>\n",
    "    </head>\n",
    "    <body>\n",
    "        <ul type=\"disc\">\n",
    "            <li>\n",
    "                <ul type=\"circle\">\n",
    "                    <li>popcat</li>\n",
    "                    <li>happycat</li>\n",
    "                </ul>\n",
    "            </li>\n",
    "            <li>\n",
    "                <ul type=\"circle\">\n",
    "                    <li>popcat</li>\n",
    "                    <li>happycat</li>\n",
    "                </ul>\n",
    "            </li>\n",
    "            <li>\n",
    "                <ul type=\"circle\">\n",
    "                    <li>popcat</li>\n",
    "                    <li>happycat</li>\n",
    "                </ul>\n",
    "            </li>\n",
    "            <li>\n",
    "                <ul type=\"circle\">\n",
    "                    <li>popcat</li>\n",
    "                    <li>happycat</li>\n",
    "                </ul>\n",
    "            </li>\n",
    "            <li>\n",
    "                <ul type=\"circle\">\n",
    "                    <li>popcat</li>\n",
    "                    <li>happycat</li>\n",
    "                </ul>\n",
    "            </li>\n",
    "        </ul>\n",
    "    </body>\n",
    "</html>"
   ]
  },
  {
   "cell_type": "markdown",
   "id": "a9bf6851",
   "metadata": {},
   "source": [
    "#### < table>< /table>\n",
    "- 表格:< table>< /table>\n",
    "    - 属性:\n",
    "        - border:表格边框\n",
    "        - width:表格宽度\n",
    "        - height:表格高度\n",
    "- 行:< tr>< /tr>\n",
    "- 单元格(列):< td>< /td>\n",
    "\n",
    "vscode里可以用table>tr$*$5>td$*$5快捷生成一个5$*$5的表格"
   ]
  },
  {
   "cell_type": "code",
   "execution_count": 51,
   "id": "a403e4b0",
   "metadata": {},
   "outputs": [
    {
     "data": {
      "text/html": [
       "<!DOCTYPE html>\n",
       "<html>\n",
       "    <head>\n",
       "        <title>Page Title</title>\n",
       "    </head>\n",
       "    <body>\n",
       "        <table border=\"1\">\n",
       "            <tr>\n",
       "                <td>元素11</td>\n",
       "                <td>元素12</td>\n",
       "            </tr>\n",
       "            <tr>\n",
       "                <td>元素21</td>\n",
       "                <td>元素22</td>\n",
       "            </tr>\n",
       "        </table>\n",
       "    </body>\n",
       "</html>\n"
      ],
      "text/plain": [
       "<IPython.core.display.HTML object>"
      ]
     },
     "metadata": {},
     "output_type": "display_data"
    }
   ],
   "source": [
    "%%html\n",
    "<!DOCTYPE html>\n",
    "<html>\n",
    "    <head>\n",
    "        <title>Page Title</title>\n",
    "    </head>\n",
    "    <body>\n",
    "        <table border=\"1\">\n",
    "            <tr>\n",
    "                <td>元素11</td>\n",
    "                <td>元素12</td>\n",
    "            </tr>\n",
    "            <tr>\n",
    "                <td>元素21</td>\n",
    "                <td>元素22</td>\n",
    "            </tr>\n",
    "        </table>\n",
    "    </body>\n",
    "</html>"
   ]
  },
  {
   "cell_type": "markdown",
   "id": "0b935483",
   "metadata": {},
   "source": [
    "##### 合并单元格\n",
    "合并方案:\n",
    "- 水平合并:colspan\n",
    "- 垂直合并:rowspan"
   ]
  },
  {
   "cell_type": "code",
   "execution_count": 59,
   "id": "9f197767",
   "metadata": {},
   "outputs": [
    {
     "data": {
      "text/html": [
       "<!DOCTYPE html>\n",
       "<html>\n",
       "    <head>\n",
       "        <title>Page Title</title>\n",
       "    </head>\n",
       "    <body>\n",
       "        <p>合并21和22:rowspan</p>\n",
       "        <p>合并35和45:colspan</p>\n",
       "        <p>合并41,42,51,52:rowspan + colspan</p>\n",
       "        <br>\n",
       "        <table border=\"1\" width=\"600px\" height=\"400px\">\n",
       "            <tr>\n",
       "                <td>11</td>\n",
       "                <td>12</td>\n",
       "                <td>13</td>\n",
       "                <td>14</td>\n",
       "                <td>15</td>\n",
       "            </tr>\n",
       "            <!-- 原先是这样的\n",
       "            <tr>\n",
       "                <td>21</td>\n",
       "                <td>22</td>\n",
       "                <td>23</td>\n",
       "                <td>24</td>\n",
       "                <td>25</td>\n",
       "            </tr>\n",
       "            -->\n",
       "            <tr>\n",
       "                <td colspan=\"2\">21&22</td>\n",
       "                <td>23</td>\n",
       "                <td>24</td>\n",
       "                <td>25</td>\n",
       "            </tr>\n",
       "            <!-- 原先是这样的\n",
       "            <tr>\n",
       "                <td>31</td>\n",
       "                <td>32</td>\n",
       "                <td>33</td>\n",
       "                <td>34</td>\n",
       "                <td>35</td>\n",
       "            </tr>\n",
       "            -->\n",
       "            <tr>\n",
       "                <td>31</td>\n",
       "                <td>32</td>\n",
       "                <td>33</td>\n",
       "                <td>34</td>\n",
       "                <td rowspan=\"2\">35</td>\n",
       "            </tr>\n",
       "            <tr>\n",
       "                <td rowspan=\"2\" colspan=\"2\">41</td>\n",
       "                <td>43</td>\n",
       "                <td>44</td>\n",
       "            </tr>\n",
       "            <tr>\n",
       "                <td>53</td>\n",
       "                <td>54</td>\n",
       "                <td>55</td>\n",
       "            </tr>\n",
       "        </table>\n",
       "    </body>\n",
       "</html>\n"
      ],
      "text/plain": [
       "<IPython.core.display.HTML object>"
      ]
     },
     "metadata": {},
     "output_type": "display_data"
    }
   ],
   "source": [
    "%%html\n",
    "<!DOCTYPE html>\n",
    "<html>\n",
    "    <head>\n",
    "        <title>Page Title</title>\n",
    "    </head>\n",
    "    <body>\n",
    "        <p>合并21和22:rowspan</p>\n",
    "        <p>合并35和45:colspan</p>\n",
    "        <p>合并41,42,51,52:rowspan + colspan</p>\n",
    "        <br>\n",
    "        <table border=\"1\" width=\"600px\" height=\"400px\">\n",
    "            <tr>\n",
    "                <td>11</td>\n",
    "                <td>12</td>\n",
    "                <td>13</td>\n",
    "                <td>14</td>\n",
    "                <td>15</td>\n",
    "            </tr>\n",
    "            <!-- 原先是这样的\n",
    "            <tr>\n",
    "                <td>21</td>\n",
    "                <td>22</td>\n",
    "                <td>23</td>\n",
    "                <td>24</td>\n",
    "                <td>25</td>\n",
    "            </tr>\n",
    "            -->\n",
    "            <tr>\n",
    "                <td colspan=\"2\">21&22</td>\n",
    "                <td>23</td>\n",
    "                <td>24</td>\n",
    "                <td>25</td>\n",
    "            </tr>\n",
    "            <!-- 原先是这样的\n",
    "            <tr>\n",
    "                <td>31</td>\n",
    "                <td>32</td>\n",
    "                <td>33</td>\n",
    "                <td>34</td>\n",
    "                <td>35</td>\n",
    "            </tr>\n",
    "            -->\n",
    "            <tr>\n",
    "                <td>31</td>\n",
    "                <td>32</td>\n",
    "                <td>33</td>\n",
    "                <td>34</td>\n",
    "                <td rowspan=\"2\">35</td>\n",
    "            </tr>\n",
    "            <tr>\n",
    "                <td rowspan=\"2\" colspan=\"2\">41</td>\n",
    "                <td>43</td>\n",
    "                <td>44</td>\n",
    "            </tr>\n",
    "            <tr>\n",
    "                <td>53</td>\n",
    "                <td>54</td>\n",
    "                <td>55</td>\n",
    "            </tr>\n",
    "        </table>\n",
    "    </body>\n",
    "</html>"
   ]
  },
  {
   "cell_type": "markdown",
   "id": "6b75684e",
   "metadata": {},
   "source": [
    "#### < form>< /form>\n",
    "用于穿件可以提交的表单\n",
    "- action:网址\n",
    "- name:表单名称, get|post,因为要提交表单,所以自然不是delete那些\n",
    "\n",
    "表单内的元素用< input>< /input>表示\n",
    "\n",
    "一般来说表单包含以下三个组成部分\n",
    "- 表单标签\n",
    "- 表单域\n",
    "- 表单按钮"
   ]
  },
  {
   "cell_type": "code",
   "execution_count": 60,
   "id": "1014c793",
   "metadata": {},
   "outputs": [
    {
     "data": {
      "text/html": [
       "<!DOCTYPE html>\n",
       "<html>\n",
       "    <head>\n",
       "        <title>Page Title</title>\n",
       "    </head>\n",
       "    <body>\n",
       "        <form>\n",
       "            <input type=\"text\">请输入东西</input>\n",
       "            <input type=\"button\">按钮</input>\n",
       "            <input type=\"submit\">提交</input>\n",
       "        </form>\n",
       "    </body>\n",
       "</html>\n"
      ],
      "text/plain": [
       "<IPython.core.display.HTML object>"
      ]
     },
     "metadata": {},
     "output_type": "display_data"
    }
   ],
   "source": [
    "%%html\n",
    "<!DOCTYPE html>\n",
    "<html>\n",
    "    <head>\n",
    "        <title>Page Title</title>\n",
    "    </head>\n",
    "    <body>\n",
    "        <form>\n",
    "            <input type=\"text\">请输入东西</input>\n",
    "            <input type=\"button\">按钮</input>\n",
    "            <input type=\"submit\">提交</input>\n",
    "        </form>\n",
    "    </body>\n",
    "</html>"
   ]
  },
  {
   "cell_type": "markdown",
   "id": "3f1ad769",
   "metadata": {},
   "source": [
    "#### input\n",
    "属性:\n",
    "\n",
    "种类太多了,自己查:https://www.w3schools.com/tags/tag_input.asp"
   ]
  },
  {
   "cell_type": "code",
   "execution_count": null,
   "id": "6b1c0ef0",
   "metadata": {},
   "outputs": [],
   "source": []
  }
 ],
 "metadata": {
  "hide_input": false,
  "kernelspec": {
   "display_name": "Python 3 (ipykernel)",
   "language": "python",
   "name": "python3"
  },
  "language_info": {
   "codemirror_mode": {
    "name": "ipython",
    "version": 3
   },
   "file_extension": ".py",
   "mimetype": "text/x-python",
   "name": "python",
   "nbconvert_exporter": "python",
   "pygments_lexer": "ipython3",
   "version": "3.9.18"
  },
  "toc": {
   "base_numbering": 1,
   "nav_menu": {},
   "number_sections": true,
   "sideBar": true,
   "skip_h1_title": false,
   "title_cell": "Table of Contents",
   "title_sidebar": "Contents",
   "toc_cell": false,
   "toc_position": {},
   "toc_section_display": true,
   "toc_window_display": false
  }
 },
 "nbformat": 4,
 "nbformat_minor": 5
}
