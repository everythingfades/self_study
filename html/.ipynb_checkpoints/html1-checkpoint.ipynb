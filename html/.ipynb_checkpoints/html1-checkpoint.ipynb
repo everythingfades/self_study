{
 "cells": [
  {
   "cell_type": "markdown",
   "id": "663bd1ed",
   "metadata": {},
   "source": [
    "## note\n",
    "某个傻子差点按照w3c去学,于是重启,部分基础知识可能一笔带过\n",
    "\n",
    "### important note:\n",
    "jupyter notebook的html渲染可能有问题,一切以在本地直接访问html文件渲染出的效果为准\n",
    "# html5\n",
    "## 基本结构"
   ]
  },
  {
   "cell_type": "code",
   "execution_count": 2,
   "id": "1a72cba9",
   "metadata": {},
   "outputs": [
    {
     "data": {
      "text/html": [
       "<!DOCTYPE html>\n",
       "<html>\n",
       "    <head>\n",
       "        <title>网页</title>\n",
       "    </head>\n",
       "    <body>\n",
       "        某个网页\n",
       "    </body>\n",
       "</html>\n"
      ],
      "text/plain": [
       "<IPython.core.display.HTML object>"
      ]
     },
     "metadata": {},
     "output_type": "display_data"
    }
   ],
   "source": [
    "%%html\n",
    "<!DOCTYPE html>\n",
    "<html>\n",
    "    <head>\n",
    "        <title>网页</title>\n",
    "    </head>\n",
    "    <body>\n",
    "        某个网页\n",
    "    </body>\n",
    "</html>\n"
   ]
  },
  {
   "cell_type": "markdown",
   "id": "76142e58",
   "metadata": {},
   "source": [
    "## 标签\n",
    "主要分为单标签和双标签\n",
    "- 双标签< html>< /html>\n",
    "- 单标签< img>\n",
    "### html基本骨架:\n",
    "#### <!DOCTYPE html>声明(必须有且只有第一行是这个)\n",
    "声明这个文档是一个html\n",
    "\n",
    "#### < html>< /html>(必须有且仅有一个)\n",
    "定义html文档\n",
    "\n",
    "#### < head>< /head>(必须有且仅有一个)\n",
    "定义头文件,定义超参数\n",
    "\n",
    "#### < body>< /body>(必须有且仅有一个)\n",
    "定义元素的主体,是直接能在网页里看到的东西\n",
    "\n",
    "#### < title>< /title>(必须在< head>中出现)\n",
    "定义这个网页的名称,\n",
    "\n",
    "#### < meta>(可以没有)\n",
    "描述一个html的属性,关键词等,比如< meta charset = \"UTF-8\">\n",
    "\n",
    "具体参数看这里:https://www.w3schools.com/tags/tag_meta.asp"
   ]
  },
  {
   "cell_type": "code",
   "execution_count": 3,
   "id": "560cbdf0",
   "metadata": {},
   "outputs": [
    {
     "data": {
      "text/html": [
       "<!DOCTYPE html>\n",
       "<html>\n",
       "    <head>\n",
       "        <title>网页</title>\n",
       "        <meta charset = \"UTF-8\">\n",
       "    </head>\n",
       "    <body>\n",
       "        某个网页\n",
       "    </body>\n",
       "</html>\n"
      ],
      "text/plain": [
       "<IPython.core.display.HTML object>"
      ]
     },
     "metadata": {},
     "output_type": "display_data"
    }
   ],
   "source": [
    "%%html\n",
    "<!DOCTYPE html>\n",
    "<html>\n",
    "    <head>\n",
    "        <title>网页</title>\n",
    "        <meta charset = \"UTF-8\">\n",
    "    </head>\n",
    "    <body>\n",
    "        某个网页\n",
    "    </body>\n",
    "</html>\n"
   ]
  },
  {
   "cell_type": "markdown",
   "id": "5b86fe0f",
   "metadata": {},
   "source": [
    "### 其他标签:\n",
    "#### < h>< /h>\n",
    "用于定义标题,从h1到h6\n",
    "- 选择位置: 增加align属性, align = \"left\"|\"center\"|\"right\""
   ]
  },
  {
   "cell_type": "code",
   "execution_count": 5,
   "id": "202bc231",
   "metadata": {},
   "outputs": [
    {
     "data": {
      "text/html": [
       "<!DOCTYPE html>\n",
       "<html>\n",
       "    <head>\n",
       "        <title>网页</title>\n",
       "    </head>\n",
       "    <body>\n",
       "        某个网页\n",
       "        <h1>标题1</h1>\n",
       "        <h2>标题2</h2>\n",
       "        <h3>标题3</h3>\n",
       "        <h4>标题4</h4>\n",
       "        <h5>标题5</h5>\n",
       "        <h6>标题6</h6>\n",
       "    </body>\n",
       "</html>\n"
      ],
      "text/plain": [
       "<IPython.core.display.HTML object>"
      ]
     },
     "metadata": {},
     "output_type": "display_data"
    }
   ],
   "source": [
    "%%html\n",
    "<!DOCTYPE html>\n",
    "<html>\n",
    "    <head>\n",
    "        <title>网页</title>\n",
    "    </head>\n",
    "    <body>\n",
    "        某个网页\n",
    "        <h1 align = \"center\">标题1</h1>\n",
    "        <h2 align = \"left\">标题2</h2>\n",
    "        <h3 align = \"right\">标题3</h3>\n",
    "        <h4>标题4</h4>\n",
    "        <h5>标题5</h5>\n",
    "        <h6>标题6</h6>\n",
    "    </body>\n",
    "</html>\n"
   ]
  },
  {
   "cell_type": "markdown",
   "id": "1300bf6a",
   "metadata": {},
   "source": [
    "#### < p>< /p>\n",
    "定义段落"
   ]
  },
  {
   "cell_type": "code",
   "execution_count": 11,
   "id": "ba3269f2",
   "metadata": {},
   "outputs": [
    {
     "data": {
      "text/html": [
       "<!DOCTYPE html>\n",
       "<html>\n",
       "    <head>\n",
       "        <title>网页</title>\n",
       "    </head>\n",
       "    <body>\n",
       "        某个网页\n",
       "        \n",
       "        <!--这里空再多空格也换不了行-->\n",
       "        something\n",
       "        <p>标题1</p>\n",
       "        <p>标题2</p>\n",
       "        <p>标题3</p>\n",
       "        <p>标题4</p>\n",
       "        <p>标题5</p>\n",
       "        <p>标题6</p>\n",
       "    </body>\n",
       "</html>\n"
      ],
      "text/plain": [
       "<IPython.core.display.HTML object>"
      ]
     },
     "metadata": {},
     "output_type": "display_data"
    }
   ],
   "source": [
    "%%html\n",
    "<!DOCTYPE html>\n",
    "<html>\n",
    "    <head>\n",
    "        <title>网页</title>\n",
    "    </head>\n",
    "    <body>\n",
    "        某个网页\n",
    "        \n",
    "        <!--这里空再多空格也换不了行-->\n",
    "        something\n",
    "        <p>标题1</p>\n",
    "        <p>标题2</p>\n",
    "        <p>标题3</p>\n",
    "        <p>标题4</p>\n",
    "        <p>标题5</p>\n",
    "        <p>标题6</p>\n",
    "    </body>\n",
    "</html>\n"
   ]
  },
  {
   "cell_type": "markdown",
   "id": "0bf7dd65",
   "metadata": {},
   "source": [
    "#### < br>\n",
    "换行,也可以写成< br/>\n"
   ]
  },
  {
   "cell_type": "code",
   "execution_count": 12,
   "id": "897f5a35",
   "metadata": {},
   "outputs": [
    {
     "data": {
      "text/html": [
       "<!DOCTYPE html>\n",
       "<html>\n",
       "    <head>\n",
       "        <title>网页</title>\n",
       "    </head>\n",
       "    <body>\n",
       "        某个网页\n",
       "        \n",
       "        <!--这里空再多空格也换不了行-->\n",
       "        something\n",
       "        <p>标<br>题1</p>\n",
       "        <p>标题2</p>\n",
       "    </body>\n",
       "</html>\n"
      ],
      "text/plain": [
       "<IPython.core.display.HTML object>"
      ]
     },
     "metadata": {},
     "output_type": "display_data"
    }
   ],
   "source": [
    "%%html\n",
    "<!DOCTYPE html>\n",
    "<html>\n",
    "    <head>\n",
    "        <title>网页</title>\n",
    "    </head>\n",
    "    <body>\n",
    "        某个网页\n",
    "        \n",
    "        <!--这里空再多空格也换不了行-->\n",
    "        something\n",
    "        <p>标<br>题1</p>\n",
    "        <p>标题2</p>\n",
    "    </body>\n",
    "</html>\n"
   ]
  },
  {
   "cell_type": "markdown",
   "id": "ff7a95ed",
   "metadata": {},
   "source": [
    "####  < hr>(这里显示不出来颜色,建议直接打开html文件)\n",
    "水平线\n",
    "属性(其实都是通用属性)\n",
    "- color:设置水平线的颜色\n",
    "- width:设置水平新的长度\n",
    "- size: 设置水平线的高度\n",
    "- align: 对齐方式"
   ]
  },
  {
   "cell_type": "code",
   "execution_count": 19,
   "id": "14151d88",
   "metadata": {},
   "outputs": [
    {
     "data": {
      "text/html": [
       "<!DOCTYPE html>\n",
       "<html>\n",
       "    <head>\n",
       "        <title>网页</title>\n",
       "    </head>\n",
       "    <body>\n",
       "        某个网页\n",
       "        \n",
       "        <!--这里空再多空格也换不了行-->\n",
       "        something\n",
       "        <p>标题1</p>\n",
       "        <hr color=\"red\">\n",
       "        <p>标题2</p>\n",
       "    </body>\n",
       "</html>\n"
      ],
      "text/plain": [
       "<IPython.core.display.HTML object>"
      ]
     },
     "metadata": {},
     "output_type": "display_data"
    }
   ],
   "source": [
    "%%html\n",
    "<!DOCTYPE html>\n",
    "<html>\n",
    "    <head>\n",
    "        <title>网页</title>\n",
    "    </head>\n",
    "    <body>\n",
    "        某个网页\n",
    "        \n",
    "        <!--这里空再多空格也换不了行-->\n",
    "        something\n",
    "        <p>标题1</p>\n",
    "        <hr color=\"red\">\n",
    "        <p>标题2</p>\n",
    "    </body>\n",
    "</html>\n"
   ]
  },
  {
   "cell_type": "markdown",
   "id": "e2a4b1ef",
   "metadata": {},
   "source": [
    "#### < img>\n",
    "用来显示图片\n",
    "\n",
    "属性:\n",
    "- src:图片地址,可以是网址\n",
    "- alt:在图片加载不出来的时候现实的文字\n",
    "- title:图片标题,鼠标位于图片上是会显示的文字\n",
    "- height:图片高度\n",
    "- width:图片宽度\n"
   ]
  },
  {
   "cell_type": "code",
   "execution_count": 20,
   "id": "dad2b177",
   "metadata": {},
   "outputs": [
    {
     "data": {
      "text/html": [
       "<!DOCTYPE html>\n",
       "<html>\n",
       "    <head>\n",
       "        <title>网页</title>\n",
       "    </head>\n",
       "    <body>\n",
       "         <img src=\"https://prts.wiki/images/ak.png?8efd0\" alt=\"测试图片\" width=\"100\" height=\"100\" style=\"color:red;background-color:powderblue\">\n",
       "        <img src=\"https://prts.wi_ki/images/ak.png?8efd0\" alt=\"测试图片\" width=\"100\" height=\"100\" style=\"color:red\">\n",
       "    </body>\n",
       "</html>\n"
      ],
      "text/plain": [
       "<IPython.core.display.HTML object>"
      ]
     },
     "metadata": {},
     "output_type": "display_data"
    }
   ],
   "source": [
    "%%html\n",
    "<!DOCTYPE html>\n",
    "<html>\n",
    "    <head>\n",
    "        <title>网页</title>\n",
    "    </head>\n",
    "    <body>\n",
    "         <img src=\"https://prts.wiki/images/ak.png?8efd0\" alt=\"测试图片\" width=\"100\" height=\"100\" style=\"color:red;background-color:powderblue\">\n",
    "        <img src=\"https://prts.wi_ki/images/ak.png?8efd0\" alt=\"测试图片\" width=\"100\" height=\"100\" style=\"color:red\">\n",
    "    </body>\n",
    "</html>\n"
   ]
  },
  {
   "cell_type": "markdown",
   "id": "2e41ccf8",
   "metadata": {},
   "source": [
    "#### < a>\n",
    "用来实现链接\n",
    "\n",
    "属性\n",
    "- href: 跳转的网页链接，如果不定义这个和文字没有区别\n"
   ]
  },
  {
   "cell_type": "code",
   "execution_count": 24,
   "id": "4ab32f6e",
   "metadata": {},
   "outputs": [
    {
     "data": {
      "text/html": [
       "<!DOCTYPE html>\n",
       "<html>\n",
       "    <head>\n",
       "        <title>Page Title</title>\n",
       "        <meta http-equiv=\"Content-Type\" content=\"text/html; charset=utf-8\" />\n",
       "    </head>\n",
       "    <body>\n",
       "        <a href=\"https://prts.wiki/w/%E5%B9%B2%E5%91%98%E4%B8%80%E8%A7%88\" style=\"color:red;background-color:powderblue\">\n",
       "            <img src=\"https://prts.wiki/images/ak.png?8efd0\" alt=\"测试图片\" width=\"100\" height=\"100\" style=\"color:red;background-color:powderblue\">\n",
       "        </a>\n",
       "    </body>\n",
       "</html>\n"
      ],
      "text/plain": [
       "<IPython.core.display.HTML object>"
      ]
     },
     "metadata": {},
     "output_type": "display_data"
    }
   ],
   "source": [
    "%%html\n",
    "<!DOCTYPE html>\n",
    "<html>\n",
    "    <head>\n",
    "        <title>Page Title</title>\n",
    "        <meta http-equiv=\"Content-Type\" content=\"text/html; charset=utf-8\" />\n",
    "    </head>\n",
    "    <body>\n",
    "        <a href=\"https://prts.wiki/w/%E5%B9%B2%E5%91%98%E4%B8%80%E8%A7%88\" style=\"color:red;background-color:powderblue\">\n",
    "            <img src=\"https://prts.wiki/images/ak.png?8efd0\" alt=\"测试图片\" width=\"100\" height=\"100\" style=\"color:red;background-color:powderblue\">\n",
    "        </a>\n",
    "    </body>\n",
    "</html>"
   ]
  },
  {
   "cell_type": "markdown",
   "id": "19d98b54",
   "metadata": {},
   "source": [
    "#### 文本标签类:\n",
    "##### < b>\n",
    "加粗"
   ]
  },
  {
   "cell_type": "code",
   "execution_count": 26,
   "id": "1e709de5",
   "metadata": {},
   "outputs": [
    {
     "data": {
      "text/html": [
       "<!DOCTYPE html>\n",
       "<html>\n",
       "    <head>\n",
       "        <title>Page Title</title>\n",
       "    </head>\n",
       "    <body>\n",
       "        <b style=\"text-align:center\" title=\"example\">段落1</b>\n",
       "        <p style=\"text-indent:30px;color:red\">段落2</p>\n",
       "        <div>这是不用p的样式</div>\n",
       "    </body>\n",
       "</html>\n"
      ],
      "text/plain": [
       "<IPython.core.display.HTML object>"
      ]
     },
     "metadata": {},
     "output_type": "display_data"
    }
   ],
   "source": [
    "%%html\n",
    "<!DOCTYPE html>\n",
    "<html>\n",
    "    <head>\n",
    "        <title>Page Title</title>\n",
    "    </head>\n",
    "    <body>\n",
    "        <b style=\"text-align:center\" title=\"example\">段落1</b>\n",
    "        <p style=\"text-indent:30px;color:red\">段落2</p>\n",
    "        <div>这是不用p的样式</div>\n",
    "    </body>\n",
    "</html>"
   ]
  },
  {
   "cell_type": "markdown",
   "id": "aac87ba0",
   "metadata": {},
   "source": [
    "##### < em>\n",
    "表强调"
   ]
  },
  {
   "cell_type": "code",
   "execution_count": 27,
   "id": "c4407ed3",
   "metadata": {},
   "outputs": [
    {
     "data": {
      "text/html": [
       "<!DOCTYPE html>\n",
       "<html>\n",
       "    <head>\n",
       "        <title>Page Title</title>\n",
       "    </head>\n",
       "    <body>\n",
       "        <em style=\"text-align:center\" title=\"example\">段落1</em>\n",
       "        <p style=\"text-indent:30px;color:red\">段落2</p>\n",
       "        <div>这是不用p的样式</div>\n",
       "    </body>\n",
       "</html>\n"
      ],
      "text/plain": [
       "<IPython.core.display.HTML object>"
      ]
     },
     "metadata": {},
     "output_type": "display_data"
    }
   ],
   "source": [
    "%%html\n",
    "<!DOCTYPE html>\n",
    "<html>\n",
    "    <head>\n",
    "        <title>Page Title</title>\n",
    "    </head>\n",
    "    <body>\n",
    "        <em style=\"text-align:center\" title=\"example\">段落1</em>\n",
    "        <p style=\"text-indent:30px;color:red\">段落2</p>\n",
    "        <div>这是不用p的样式</div>\n",
    "    </body>\n",
    "</html>"
   ]
  },
  {
   "cell_type": "markdown",
   "id": "453980ab",
   "metadata": {},
   "source": [
    "##### < del>\n",
    "划掉"
   ]
  },
  {
   "cell_type": "code",
   "execution_count": 28,
   "id": "718abaa6",
   "metadata": {},
   "outputs": [
    {
     "data": {
      "text/html": [
       "<!DOCTYPE html>\n",
       "<html>\n",
       "    <head>\n",
       "        <title>Page Title</title>\n",
       "    </head>\n",
       "    <body>\n",
       "        <del title=\"example\">段落1</del>\n",
       "        <p style=\"text-indent:30px;color:red\">段<mark>落</mark>2</p>\n",
       "        <div>这是不用p的样式</div>\n",
       "    </body>\n",
       "</html>\n"
      ],
      "text/plain": [
       "<IPython.core.display.HTML object>"
      ]
     },
     "metadata": {},
     "output_type": "display_data"
    }
   ],
   "source": [
    "%%html\n",
    "<!DOCTYPE html>\n",
    "<html>\n",
    "    <head>\n",
    "        <title>Page Title</title>\n",
    "    </head>\n",
    "    <body>\n",
    "        <del title=\"example\">段落1</del>\n",
    "        <p style=\"text-indent:30px;color:red\">段<mark>落</mark>2</p>\n",
    "        <div>这是不用p的样式</div>\n",
    "    </body>\n",
    "</html>"
   ]
  },
  {
   "cell_type": "markdown",
   "id": "98a9c2be",
   "metadata": {},
   "source": [
    "##### < i>\n",
    "斜体"
   ]
  },
  {
   "cell_type": "code",
   "execution_count": 29,
   "id": "5167f136",
   "metadata": {},
   "outputs": [
    {
     "data": {
      "text/html": [
       "<!DOCTYPE html>\n",
       "<html>\n",
       "    <head>\n",
       "        <title>Page Title</title>\n",
       "    </head>\n",
       "    <body>\n",
       "        <i style=\"text-align:center\" title=\"example\">段落1</i>\n",
       "        <p style=\"text-indent:30px;color:red\">段落2</p>\n",
       "        <div>这是不用p的样式</div>\n",
       "    </body>\n",
       "</html>\n"
      ],
      "text/plain": [
       "<IPython.core.display.HTML object>"
      ]
     },
     "metadata": {},
     "output_type": "display_data"
    }
   ],
   "source": [
    "%%html\n",
    "<!DOCTYPE html>\n",
    "<html>\n",
    "    <head>\n",
    "        <title>Page Title</title>\n",
    "    </head>\n",
    "    <body>\n",
    "        <i style=\"text-align:center\" title=\"example\">段落1</i>\n",
    "        <p style=\"text-indent:30px;color:red\">段落2</p>\n",
    "        <div>这是不用p的样式</div>\n",
    "    </body>\n",
    "</html>"
   ]
  },
  {
   "cell_type": "markdown",
   "id": "c5a8fd70",
   "metadata": {},
   "source": [
    "##### < span>\n",
    "元素没有特定的含义"
   ]
  },
  {
   "cell_type": "code",
   "execution_count": 30,
   "id": "2755ae56",
   "metadata": {},
   "outputs": [
    {
     "data": {
      "text/html": [
       "<!DOCTYPE html>\n",
       "<html>\n",
       "    <head>\n",
       "        <title>Page Title</title>\n",
       "    </head>\n",
       "    <body>\n",
       "        <span style=\"text-align:center\" title=\"example\">段落1</span>\n",
       "        <p style=\"text-indent:30px;color:red\">段落2</p>\n",
       "        <div>这是不用p的样式</div>\n",
       "    </body>\n",
       "</html>\n"
      ],
      "text/plain": [
       "<IPython.core.display.HTML object>"
      ]
     },
     "metadata": {},
     "output_type": "display_data"
    }
   ],
   "source": [
    "%%html\n",
    "<!DOCTYPE html>\n",
    "<html>\n",
    "    <head>\n",
    "        <title>Page Title</title>\n",
    "    </head>\n",
    "    <body>\n",
    "        <span style=\"text-align:center\" title=\"example\">段落1</span>\n",
    "        <p style=\"text-indent:30px;color:red\">段落2</p>\n",
    "        <div>这是不用p的样式</div>\n",
    "    </body>\n",
    "</html>"
   ]
  },
  {
   "cell_type": "code",
   "execution_count": 33,
   "id": "8730b47d",
   "metadata": {},
   "outputs": [
    {
     "data": {
      "text/html": [
       "<!DOCTYPE html>\n",
       "<html>\n",
       "    <head>\n",
       "        <title>Page Title</title>\n",
       "    </head>\n",
       "    <body>\n",
       "        <p>p:段落1</p>\n",
       "        <br>\n",
       "        <b>b:段落1</b>\n",
       "        <br>\n",
       "        <span>span:段落1</span>\n",
       "        <br>\n",
       "        <em>em:段落1</em>\n",
       "        <br>\n",
       "        <i>i:段落1</i>\n",
       "        <br>\n",
       "        <del>段落1</del>\n",
       "        <br>\n",
       "        <strong>段落1</strong>\n",
       "    </body>\n",
       "</html>\n"
      ],
      "text/plain": [
       "<IPython.core.display.HTML object>"
      ]
     },
     "metadata": {},
     "output_type": "display_data"
    }
   ],
   "source": [
    "%%html\n",
    "<!DOCTYPE html>\n",
    "<html>\n",
    "    <head>\n",
    "        <title>Page Title</title>\n",
    "    </head>\n",
    "    <body>\n",
    "        <p>p:段落1</p>\n",
    "        <br>\n",
    "        <b>b:段落1</b>\n",
    "        <br>\n",
    "        <span>span:段落1</span>\n",
    "        <br>\n",
    "        <em>em:段落1</em>\n",
    "        <br>\n",
    "        <i>i:段落1</i>\n",
    "        <br>\n",
    "        <del>段落1</del>\n",
    "        <br>\n",
    "        <strong>段落1</strong>\n",
    "    </body>\n",
    "</html>"
   ]
  },
  {
   "cell_type": "markdown",
   "id": "175d5c75",
   "metadata": {},
   "source": [
    "#### < ol>< /ol>(jupyter里显示可能有问题)\n",
    "有序(ordered list),中间的元素用< li>< /li>标签表示\n",
    "\n",
    "属性:\n",
    "- type:\n",
    "    - 1(数字标号)\n",
    "    - a(小写字母标号)\n",
    "    - A(大写字母标号)\n",
    "    - i(小写罗马字母标号)\n",
    "    - I(大写罗马数字标号)\n",
    "\n",
    "列表可以嵌套,但是同样需要< li>< /li>标签"
   ]
  },
  {
   "cell_type": "code",
   "execution_count": 45,
   "id": "9920d4fa",
   "metadata": {},
   "outputs": [
    {
     "data": {
      "text/html": [
       "<!DOCTYPE html>\n",
       "<html>\n",
       "    <head>\n",
       "        <title>Page Title</title>\n",
       "    </head>\n",
       "    <body>\n",
       "        <ol type = \"1\">\n",
       "            <li>\n",
       "                <ol type=\"1\">\n",
       "                    <li>popcat</li>\n",
       "                    <li>happycat</li>\n",
       "                </ol>\n",
       "            </li>\n",
       "            <li>\n",
       "                <ol type=\"a\">\n",
       "                    <li>popcat</li>\n",
       "                    <li>happycat</li>\n",
       "                </ol>\n",
       "            </li>\n",
       "            <li>\n",
       "                <ol type=\"A\">\n",
       "                    <li>popcat</li>\n",
       "                    <li>happycat</li>\n",
       "                </ol>\n",
       "            </li>\n",
       "            <li>\n",
       "                <ol type=\"i\">\n",
       "                    <li>popcat</li>\n",
       "                    <li>happycat</li>\n",
       "                </ol>\n",
       "            </li>\n",
       "            <li>\n",
       "                <ol type=\"I\">\n",
       "                    <li>popcat</li>\n",
       "                    <li>happycat</li>\n",
       "                </ol>\n",
       "            </li>\n",
       "        </ol>\n",
       "    </body>\n",
       "</html>\n"
      ],
      "text/plain": [
       "<IPython.core.display.HTML object>"
      ]
     },
     "metadata": {},
     "output_type": "display_data"
    }
   ],
   "source": [
    "%%html\n",
    "<!DOCTYPE html>\n",
    "<html>\n",
    "    <head>\n",
    "        <title>Page Title</title>\n",
    "    </head>\n",
    "    <body>\n",
    "        <ol type = \"1\">\n",
    "            <li>\n",
    "                <ol type=\"1\">\n",
    "                    <li>popcat</li>\n",
    "                    <li>happycat</li>\n",
    "                </ol>\n",
    "            </li>\n",
    "            <li>\n",
    "                <ol type=\"a\">\n",
    "                    <li>popcat</li>\n",
    "                    <li>happycat</li>\n",
    "                </ol>\n",
    "            </li>\n",
    "            <li>\n",
    "                <ol type=\"A\">\n",
    "                    <li>popcat</li>\n",
    "                    <li>happycat</li>\n",
    "                </ol>\n",
    "            </li>\n",
    "            <li>\n",
    "                <ol type=\"i\">\n",
    "                    <li>popcat</li>\n",
    "                    <li>happycat</li>\n",
    "                </ol>\n",
    "            </li>\n",
    "            <li>\n",
    "                <ol type=\"I\">\n",
    "                    <li>popcat</li>\n",
    "                    <li>happycat</li>\n",
    "                </ol>\n",
    "            </li>\n",
    "        </ol>\n",
    "    </body>\n",
    "</html>"
   ]
  },
  {
   "cell_type": "markdown",
   "id": "7e7314a9",
   "metadata": {},
   "source": [
    "#### < li>< /li>\n",
    "用来表示列表中的元素"
   ]
  },
  {
   "cell_type": "markdown",
   "id": "195f711b",
   "metadata": {},
   "source": [
    "#### < ul>< /ul>\n",
    "unordered list, 无序列表,不过< li>< /li>没有改变\n",
    "\n",
    "属性:\n",
    "- type:\n",
    "    - disc:实心圆\n",
    "    - circle:空心圆\n",
    "    - square:小方块\n",
    "    - none:不显示"
   ]
  },
  {
   "cell_type": "code",
   "execution_count": 49,
   "id": "0e0cc4ad",
   "metadata": {},
   "outputs": [
    {
     "data": {
      "text/html": [
       "<!DOCTYPE html>\n",
       "<html>\n",
       "    <head>\n",
       "        <title>Page Title</title>\n",
       "    </head>\n",
       "    <body>\n",
       "        <ul type=\"disc\">\n",
       "            <li>\n",
       "                <ul type=\"circle\">\n",
       "                    <li>popcat</li>\n",
       "                    <li>happycat</li>\n",
       "                </ul>\n",
       "            </li>\n",
       "            <li>\n",
       "                <ul type=\"circle\">\n",
       "                    <li>popcat</li>\n",
       "                    <li>happycat</li>\n",
       "                </ul>\n",
       "            </li>\n",
       "            <li>\n",
       "                <ul type=\"circle\">\n",
       "                    <li>popcat</li>\n",
       "                    <li>happycat</li>\n",
       "                </ul>\n",
       "            </li>\n",
       "            <li>\n",
       "                <ul type=\"circle\">\n",
       "                    <li>popcat</li>\n",
       "                    <li>happycat</li>\n",
       "                </ul>\n",
       "            </li>\n",
       "            <li>\n",
       "                <ul type=\"circle\">\n",
       "                    <li>popcat</li>\n",
       "                    <li>happycat</li>\n",
       "                </ul>\n",
       "            </li>\n",
       "        </ul>\n",
       "    </body>\n",
       "</html>\n"
      ],
      "text/plain": [
       "<IPython.core.display.HTML object>"
      ]
     },
     "metadata": {},
     "output_type": "display_data"
    }
   ],
   "source": [
    "%%html\n",
    "<!DOCTYPE html>\n",
    "<html>\n",
    "    <head>\n",
    "        <title>Page Title</title>\n",
    "    </head>\n",
    "    <body>\n",
    "        <ul type=\"disc\">\n",
    "            <li>\n",
    "                <ul type=\"circle\">\n",
    "                    <li>popcat</li>\n",
    "                    <li>happycat</li>\n",
    "                </ul>\n",
    "            </li>\n",
    "            <li>\n",
    "                <ul type=\"circle\">\n",
    "                    <li>popcat</li>\n",
    "                    <li>happycat</li>\n",
    "                </ul>\n",
    "            </li>\n",
    "            <li>\n",
    "                <ul type=\"circle\">\n",
    "                    <li>popcat</li>\n",
    "                    <li>happycat</li>\n",
    "                </ul>\n",
    "            </li>\n",
    "            <li>\n",
    "                <ul type=\"circle\">\n",
    "                    <li>popcat</li>\n",
    "                    <li>happycat</li>\n",
    "                </ul>\n",
    "            </li>\n",
    "            <li>\n",
    "                <ul type=\"circle\">\n",
    "                    <li>popcat</li>\n",
    "                    <li>happycat</li>\n",
    "                </ul>\n",
    "            </li>\n",
    "        </ul>\n",
    "    </body>\n",
    "</html>"
   ]
  },
  {
   "cell_type": "markdown",
   "id": "a9bf6851",
   "metadata": {},
   "source": [
    "#### < table>< /table>\n",
    "- 表格:< table>< /table>\n",
    "    - 属性:\n",
    "        - border:表格边框\n",
    "        - width:表格宽度\n",
    "        - height:表格高度\n",
    "- 行:< tr>< /tr>\n",
    "- 单元格(列):< td>< /td>\n",
    "\n",
    "vscode里可以用table>tr$*$5>td$*$5快捷生成一个5$*$5的表格"
   ]
  },
  {
   "cell_type": "code",
   "execution_count": 51,
   "id": "a403e4b0",
   "metadata": {},
   "outputs": [
    {
     "data": {
      "text/html": [
       "<!DOCTYPE html>\n",
       "<html>\n",
       "    <head>\n",
       "        <title>Page Title</title>\n",
       "    </head>\n",
       "    <body>\n",
       "        <table border=\"1\">\n",
       "            <tr>\n",
       "                <td>元素11</td>\n",
       "                <td>元素12</td>\n",
       "            </tr>\n",
       "            <tr>\n",
       "                <td>元素21</td>\n",
       "                <td>元素22</td>\n",
       "            </tr>\n",
       "        </table>\n",
       "    </body>\n",
       "</html>\n"
      ],
      "text/plain": [
       "<IPython.core.display.HTML object>"
      ]
     },
     "metadata": {},
     "output_type": "display_data"
    }
   ],
   "source": [
    "%%html\n",
    "<!DOCTYPE html>\n",
    "<html>\n",
    "    <head>\n",
    "        <title>Page Title</title>\n",
    "    </head>\n",
    "    <body>\n",
    "        <table border=\"1\">\n",
    "            <tr>\n",
    "                <td>元素11</td>\n",
    "                <td>元素12</td>\n",
    "            </tr>\n",
    "            <tr>\n",
    "                <td>元素21</td>\n",
    "                <td>元素22</td>\n",
    "            </tr>\n",
    "        </table>\n",
    "    </body>\n",
    "</html>"
   ]
  },
  {
   "cell_type": "markdown",
   "id": "0b935483",
   "metadata": {},
   "source": [
    "##### 合并单元格\n",
    "合并方案:\n",
    "- 水平合并:colspan\n",
    "- 垂直合并:rowspan"
   ]
  },
  {
   "cell_type": "code",
   "execution_count": 59,
   "id": "9f197767",
   "metadata": {},
   "outputs": [
    {
     "data": {
      "text/html": [
       "<!DOCTYPE html>\n",
       "<html>\n",
       "    <head>\n",
       "        <title>Page Title</title>\n",
       "    </head>\n",
       "    <body>\n",
       "        <p>合并21和22:rowspan</p>\n",
       "        <p>合并35和45:colspan</p>\n",
       "        <p>合并41,42,51,52:rowspan + colspan</p>\n",
       "        <br>\n",
       "        <table border=\"1\" width=\"600px\" height=\"400px\">\n",
       "            <tr>\n",
       "                <td>11</td>\n",
       "                <td>12</td>\n",
       "                <td>13</td>\n",
       "                <td>14</td>\n",
       "                <td>15</td>\n",
       "            </tr>\n",
       "            <!-- 原先是这样的\n",
       "            <tr>\n",
       "                <td>21</td>\n",
       "                <td>22</td>\n",
       "                <td>23</td>\n",
       "                <td>24</td>\n",
       "                <td>25</td>\n",
       "            </tr>\n",
       "            -->\n",
       "            <tr>\n",
       "                <td colspan=\"2\">21&22</td>\n",
       "                <td>23</td>\n",
       "                <td>24</td>\n",
       "                <td>25</td>\n",
       "            </tr>\n",
       "            <!-- 原先是这样的\n",
       "            <tr>\n",
       "                <td>31</td>\n",
       "                <td>32</td>\n",
       "                <td>33</td>\n",
       "                <td>34</td>\n",
       "                <td>35</td>\n",
       "            </tr>\n",
       "            -->\n",
       "            <tr>\n",
       "                <td>31</td>\n",
       "                <td>32</td>\n",
       "                <td>33</td>\n",
       "                <td>34</td>\n",
       "                <td rowspan=\"2\">35</td>\n",
       "            </tr>\n",
       "            <tr>\n",
       "                <td rowspan=\"2\" colspan=\"2\">41</td>\n",
       "                <td>43</td>\n",
       "                <td>44</td>\n",
       "            </tr>\n",
       "            <tr>\n",
       "                <td>53</td>\n",
       "                <td>54</td>\n",
       "                <td>55</td>\n",
       "            </tr>\n",
       "        </table>\n",
       "    </body>\n",
       "</html>\n"
      ],
      "text/plain": [
       "<IPython.core.display.HTML object>"
      ]
     },
     "metadata": {},
     "output_type": "display_data"
    }
   ],
   "source": [
    "%%html\n",
    "<!DOCTYPE html>\n",
    "<html>\n",
    "    <head>\n",
    "        <title>Page Title</title>\n",
    "    </head>\n",
    "    <body>\n",
    "        <p>合并21和22:rowspan</p>\n",
    "        <p>合并35和45:colspan</p>\n",
    "        <p>合并41,42,51,52:rowspan + colspan</p>\n",
    "        <br>\n",
    "        <table border=\"1\" width=\"600px\" height=\"400px\">\n",
    "            <tr>\n",
    "                <td>11</td>\n",
    "                <td>12</td>\n",
    "                <td>13</td>\n",
    "                <td>14</td>\n",
    "                <td>15</td>\n",
    "            </tr>\n",
    "            <!-- 原先是这样的\n",
    "            <tr>\n",
    "                <td>21</td>\n",
    "                <td>22</td>\n",
    "                <td>23</td>\n",
    "                <td>24</td>\n",
    "                <td>25</td>\n",
    "            </tr>\n",
    "            -->\n",
    "            <tr>\n",
    "                <td colspan=\"2\">21&22</td>\n",
    "                <td>23</td>\n",
    "                <td>24</td>\n",
    "                <td>25</td>\n",
    "            </tr>\n",
    "            <!-- 原先是这样的\n",
    "            <tr>\n",
    "                <td>31</td>\n",
    "                <td>32</td>\n",
    "                <td>33</td>\n",
    "                <td>34</td>\n",
    "                <td>35</td>\n",
    "            </tr>\n",
    "            -->\n",
    "            <tr>\n",
    "                <td>31</td>\n",
    "                <td>32</td>\n",
    "                <td>33</td>\n",
    "                <td>34</td>\n",
    "                <td rowspan=\"2\">35</td>\n",
    "            </tr>\n",
    "            <tr>\n",
    "                <td rowspan=\"2\" colspan=\"2\">41</td>\n",
    "                <td>43</td>\n",
    "                <td>44</td>\n",
    "            </tr>\n",
    "            <tr>\n",
    "                <td>53</td>\n",
    "                <td>54</td>\n",
    "                <td>55</td>\n",
    "            </tr>\n",
    "        </table>\n",
    "    </body>\n",
    "</html>"
   ]
  },
  {
   "cell_type": "markdown",
   "id": "6b75684e",
   "metadata": {},
   "source": [
    "#### < form>< /form>\n",
    "用于穿件可以提交的表单\n",
    "- action:网址\n",
    "- name:表单名称, get|post,因为要提交表单,所以自然不是delete那些\n",
    "\n",
    "表单内的元素用< input>< /input>表示\n",
    "\n",
    "一般来说表单包含以下三个组成部分\n",
    "- 表单标签\n",
    "- 表单域\n",
    "- 表单按钮"
   ]
  },
  {
   "cell_type": "code",
   "execution_count": 62,
   "id": "1014c793",
   "metadata": {},
   "outputs": [
    {
     "data": {
      "text/html": [
       "<!DOCTYPE html>\n",
       "<html>\n",
       "    <head>\n",
       "        <title>Page Title</title>\n",
       "    </head>\n",
       "    <body>\n",
       "        <form>\n",
       "            <input type=\"text\">请输入东西\n",
       "            <input type=\"button\">按钮\n",
       "            <!--也可以是button标签-->\n",
       "            <input type=\"submit\">提交\n",
       "        </form>\n",
       "    </body>\n",
       "</html>\n"
      ],
      "text/plain": [
       "<IPython.core.display.HTML object>"
      ]
     },
     "metadata": {},
     "output_type": "display_data"
    }
   ],
   "source": [
    "0"
   ]
  },
  {
   "cell_type": "markdown",
   "id": "3f1ad769",
   "metadata": {},
   "source": [
    "#### input\n",
    "属性:\n",
    "\n",
    "种类太多了,自己查:https://www.w3schools.com/tags/tag_input.asp"
   ]
  },
  {
   "cell_type": "markdown",
   "id": "a0c80915",
   "metadata": {},
   "source": [
    "## 块元素和行内元素:\n",
    "https://www.runoob.com/html/html-blocks.html#:~:text=HTML%20%3Cdiv%3E%20%E5%85%83%E7%B4%A0%E6%98%AF%E5%9D%97%E7%BA%A7%E5%85%83%E7%B4%A0%EF%BC%8C%E5%AE%83%E5%8F%AF%E7%94%A8%E4%BA%8E%E7%BB%84%E5%90%88%E5%85%B6%E4%BB%96%20HTML%20%E5%85%83%E7%B4%A0%E7%9A%84%E5%AE%B9%E5%99%A8%E3%80%82%20%3Cdiv%3E%20%E5%85%83%E7%B4%A0%E6%B2%A1%E6%9C%89%E7%89%B9%E5%AE%9A%E7%9A%84%E5%90%AB%E4%B9%89%E3%80%82%20%E9%99%A4%E6%AD%A4%E4%B9%8B%E5%A4%96%EF%BC%8C%E7%94%B1%E4%BA%8E%E5%AE%83%E5%B1%9E%E4%BA%8E%E5%9D%97%E7%BA%A7%E5%85%83%E7%B4%A0%EF%BC%8C%E6%B5%8F%E8%A7%88%E5%99%A8%E4%BC%9A%E5%9C%A8%E5%85%B6%E5%89%8D%E5%90%8E%E6%98%BE%E7%A4%BA%E6%8A%98%E8%A1%8C%E3%80%82,%3Cdiv%3E%20%E5%85%83%E7%B4%A0%E7%9A%84%E5%8F%A6%E4%B8%80%E4%B8%AA%E5%B8%B8%E8%A7%81%E7%9A%84%E7%94%A8%E9%80%94%E6%98%AF%E6%96%87%E6%A1%A3%E5%B8%83%E5%B1%80%E3%80%82%20%E5%AE%83%E5%8F%96%E4%BB%A3%E4%BA%86%E4%BD%BF%E7%94%A8%E8%A1%A8%E6%A0%BC%E5%AE%9A%E4%B9%89%E5%B8%83%E5%B1%80%E7%9A%84%E8%80%81%E5%BC%8F%E6%96%B9%E6%B3%95%E3%80%82%20%E4%BD%BF%E7%94%A8%20%3Ctable%3E%20%E5%85%83%E7%B4%A0%E8%BF%9B%E8%A1%8C%E6%96%87%E6%A1%A3%E5%B8%83%E5%B1%80%E4%B8%8D%E6%98%AF%E8%A1%A8%E6%A0%BC%E7%9A%84%E6%AD%A3%E7%A1%AE%E7%94%A8%E6%B3%95%E3%80%82%20%3Ctable%3E%20%E5%85%83%E7%B4%A0%E7%9A%84%E4%BD%9C%E7%94%A8%E6%98%AF%E6%98%BE%E7%A4%BA%E8%A1%A8%E6%A0%BC%E5%8C%96%E7%9A%84%E6%95%B0%E6%8D%AE%E3%80%82"
   ]
  },
  {
   "cell_type": "markdown",
   "id": "f9868db5",
   "metadata": {},
   "source": [
    "# css\n",
    "## 一般格式:\n",
    "选择器 {属性1:值;属性2:值}\n",
    "\n",
    "差不多和json很像\n",
    "\n",
    "例:(这里直接写入html)\n",
    "\n",
    "### 注意:由于jupyter notebook直接使用html,更改css可能会导致jupyter notebook整个格式错乱,记得重置\n"
   ]
  },
  {
   "cell_type": "code",
   "execution_count": 7,
   "id": "fc60b82a",
   "metadata": {},
   "outputs": [
    {
     "name": "stdout",
     "output_type": "stream",
     "text": [
      "Reset css and font defaults in:\r\n",
      "/root/.jupyter/custom &\r\n",
      "/root/.local/share/jupyter/nbextensions\r\n"
     ]
    }
   ],
   "source": [
    "#! pip install --upgrade jupyterthemes\n",
    "# 也可以用这个设置jupyter风格,不过我习惯默认\n",
    "!jt -r\n",
    "# refresh the page to reload css\n",
    "# remember to save!!!"
   ]
  },
  {
   "cell_type": "code",
   "execution_count": 3,
   "id": "59842d3d",
   "metadata": {},
   "outputs": [
    {
     "data": {
      "text/html": [
       "<!DOCTYPE html>\n",
       "<html>\n",
       "    <head>\n",
       "        <title>网页</title>\n",
       "        <style>\n",
       "            h1 {\n",
       "                color: blue;\n",
       "                font-size: 12px;\n",
       "                font-family: SimSun;\n",
       "                background-color: red;\n",
       "            }\n",
       "        </style>\n",
       "    </head>\n",
       "    <body>\n",
       "        某个网页\n",
       "        <h1 align = \"center\">标题1</h1>\n",
       "        <h2 align = \"left\">标题2</h2>\n",
       "        <h3 align = \"right\">标题3</h3>\n",
       "        <h4>标题4</h4>\n",
       "        <h5>标题5</h5>\n",
       "        <h6>标题6</h6>\n",
       "    </body>\n",
       "</html>\n"
      ],
      "text/plain": [
       "<IPython.core.display.HTML object>"
      ]
     },
     "metadata": {},
     "output_type": "display_data"
    }
   ],
   "source": [
    "%%html\n",
    "<!DOCTYPE html>\n",
    "<html>\n",
    "    <head>\n",
    "        <title>网页</title>\n",
    "        <style>\n",
    "            h1 {\n",
    "                color: blue;\n",
    "                font-size: 12px;\n",
    "                font-family: SimSun;\n",
    "                background-color: red;\n",
    "            }\n",
    "        </style>\n",
    "    </head>\n",
    "    <body>\n",
    "        某个网页\n",
    "        <h1 align = \"center\">标题1</h1>\n",
    "        <h2 align = \"left\">标题2</h2>\n",
    "        <h3 align = \"right\">标题3</h3>\n",
    "        <h4>标题4</h4>\n",
    "        <h5>标题5</h5>\n",
    "        <h6>标题6</h6>\n",
    "    </body>\n",
    "</html>\n"
   ]
  },
  {
   "cell_type": "markdown",
   "id": "3d1af713",
   "metadata": {},
   "source": [
    "## css的引入方式:\n",
    "### 行内(不建议)\n",
    "通过style通用html标签属性直接写在标签里(不建议使用)"
   ]
  },
  {
   "cell_type": "code",
   "execution_count": 5,
   "id": "b63b819c",
   "metadata": {},
   "outputs": [
    {
     "data": {
      "text/html": [
       "<!DOCTYPE html>\n",
       "<html>\n",
       "    <head>\n",
       "        <title>Page Title</title>\n",
       "    </head>\n",
       "    <body>\n",
       "        <p style=\"text-indent:30px;color:red\">行内css</p>\n",
       "        <p>不用css</p>\n",
       "    </body>\n",
       "</html>\n"
      ],
      "text/plain": [
       "<IPython.core.display.HTML object>"
      ]
     },
     "metadata": {},
     "output_type": "display_data"
    }
   ],
   "source": [
    "%%html\n",
    "<!DOCTYPE html>\n",
    "<html>\n",
    "    <head>\n",
    "        <title>Page Title</title>\n",
    "    </head>\n",
    "    <body>\n",
    "        <p style=\"text-indent:30px;color:red\">行内css</p>\n",
    "        <p>不用css</p>\n",
    "    </body>\n",
    "</html>"
   ]
  },
  {
   "cell_type": "markdown",
   "id": "f7f61ce2",
   "metadata": {},
   "source": [
    "### < style>< /style>\n",
    "可以直接在< head>< /head>中添加< style>< /style>来定义整个html的css\n",
    "\n",
    "注意:如果通过< a>跳转到其他页面< style>< /style>里的格式不会生效"
   ]
  },
  {
   "cell_type": "code",
   "execution_count": null,
   "id": "c7a3a40a",
   "metadata": {},
   "outputs": [],
   "source": [
    "%%html\n",
    "<!DOCTYPE html>\n",
    "<html>\n",
    "    <head>\n",
    "        <title>网页</title>\n",
    "        <style>\n",
    "            h1 {\n",
    "                color: blue;\n",
    "                font-size: 12px;\n",
    "                font-family: SimSun;\n",
    "                background-color: red;\n",
    "            }\n",
    "        </style>\n",
    "    </head>\n",
    "    <body>\n",
    "        某个网页\n",
    "        <h1 align = \"center\">标题1</h1>\n",
    "        <h2 align = \"left\">标题2</h2>\n",
    "        <h3 align = \"right\">标题3</h3>\n",
    "        <h4>标题4</h4>\n",
    "        <h5>标题5</h5>\n",
    "        <h6>标题6</h6>\n",
    "    </body>\n",
    "</html>\n"
   ]
  },
  {
   "cell_type": "markdown",
   "id": "5ba565dc",
   "metadata": {},
   "source": [
    "### < link>\n",
    "通过< link>引入外部css文件\n",
    "\n",
    "同样,跳转到其他页面不会生效\n",
    "\n",
    "注意,虽然是外部文件,但是这里加载依然会改变整个jupyter notebook的css,不建议在这里运行"
   ]
  },
  {
   "cell_type": "code",
   "execution_count": 6,
   "id": "28fd1757",
   "metadata": {},
   "outputs": [
    {
     "data": {
      "text/html": [
       "<!DOCTYPE html>\n",
       "<html>\n",
       "    <head>\n",
       "        <link rel=\"stylesheet\" type=\"text/css\" href=\"./examples/css_involved/css/example.css\">\n",
       "        <title>网页</title>\n",
       "    </head>\n",
       "    <body>\n",
       "        <p>某个网页</p>\n",
       "        <h1 align = \"center\">标题1</h1>\n",
       "        <h2 align = \"left\">标题2</h2>\n",
       "        <h3 align = \"right\">标题3</h3>\n",
       "        <h4>标题4</h4>\n",
       "        <h5>标题5</h5>\n",
       "        <h6>标题6</h6>\n",
       "    </body>\n",
       "</html>\n"
      ],
      "text/plain": [
       "<IPython.core.display.HTML object>"
      ]
     },
     "metadata": {},
     "output_type": "display_data"
    }
   ],
   "source": [
    "%%html\n",
    "<!DOCTYPE html>\n",
    "<html>\n",
    "    <head>\n",
    "        <link rel=\"stylesheet\" type=\"text/css\" href=\"./examples/css_involved/css/example.css\">\n",
    "        <title>网页</title>\n",
    "    </head>\n",
    "    <body>\n",
    "        <p>某个网页</p>\n",
    "        <h1 align = \"center\">标题1</h1>\n",
    "        <h2 align = \"left\">标题2</h2>\n",
    "        <h3 align = \"right\">标题3</h3>\n",
    "        <h4>标题4</h4>\n",
    "        <h5>标题5</h5>\n",
    "        <h6>标题6</h6>\n",
    "    </body>\n",
    "</html>\n"
   ]
  },
  {
   "cell_type": "markdown",
   "id": "1a429016",
   "metadata": {},
   "source": [
    "## css选择器\n",
    "### 全局选择器:\n",
    "应用到所有元素上,优先级最低,一般是样式初始化"
   ]
  },
  {
   "cell_type": "code",
   "execution_count": null,
   "id": "571599ff",
   "metadata": {},
   "outputs": [],
   "source": [
    "*{\n",
    "    margin: 0;\n",
    "    padding: 0;\n",
    "}"
   ]
  },
  {
   "cell_type": "markdown",
   "id": "0a408b3b",
   "metadata": {},
   "source": [
    "### 元素选择器:\n",
    "标签名 {属性:值;}\n",
    "\n",
    "可以是任何html文档中的标签,但是只能同时改变所有这种标签的样式\n",
    "\n",
    "之前已经有很多这种例子了"
   ]
  },
  {
   "cell_type": "code",
   "execution_count": null,
   "id": "6131cde7",
   "metadata": {},
   "outputs": [],
   "source": [
    "p{\n",
    "    font-size:14px;\n",
    "    color:red;\n",
    "}"
   ]
  },
  {
   "cell_type": "markdown",
   "id": "4f6ca40c",
   "metadata": {},
   "source": [
    "### 类选择器:\n",
    "需要现在要改样式的标签里定义class属性,然后根据class名写css\n",
    "\n",
    "- 可以对多种标签使用\n",
    "- 类名不能以数字开头\n",
    "- 同一个标签可以用多个类选择器,加上空格隔开的多个class属性就行,如果属性冲突,会优先使用第一个可适用的属性定义"
   ]
  },
  {
   "cell_type": "code",
   "execution_count": null,
   "id": "c91a3c0b",
   "metadata": {},
   "outputs": [],
   "source": [
    "# 假设我们有一个class叫example\n",
    ".example{\n",
    "    color:purple;\n",
    "}\n",
    "# 会应用到如下tag上,注:something这个标签不存在,可以是任意标签\n",
    "<something class=\"example\">...</something>\n",
    "<something class=\"example\" class=\"example1\">...</something>"
   ]
  },
  {
   "cell_type": "markdown",
   "id": "cca5da57",
   "metadata": {},
   "source": [
    "### id选择器\n",
    "针对一个特定的标签使用,只能使用一次,css中用#定义 \n",
    "- id是唯一的(规范上不能重复,语法上可行)\n",
    "- id不能以数字开头"
   ]
  },
  {
   "cell_type": "code",
   "execution_count": null,
   "id": "f7d3c4db",
   "metadata": {},
   "outputs": [],
   "source": [
    "#something{\n",
    "    border:3px dashed green;\n",
    "}"
   ]
  },
  {
   "cell_type": "markdown",
   "id": "022df6c7",
   "metadata": {},
   "source": [
    "### 合并选择器\n",
    "提取相同的样式,减少重复代码\n",
    "\n",
    "选择器1,选择器2{}"
   ]
  },
  {
   "cell_type": "code",
   "execution_count": null,
   "id": "022fd6b4",
   "metadata": {},
   "outputs": [],
   "source": [
    ".h1.p{\n",
    "    color:green;\n",
    "}"
   ]
  },
  {
   "cell_type": "markdown",
   "id": "fe2e7647",
   "metadata": {},
   "source": [
    "### 其他选择器\n",
    "#### 后代选择器\n",
    "选择所有被符合选择器1的标签包含的选择器2类标签"
   ]
  },
  {
   "cell_type": "code",
   "execution_count": null,
   "id": "71f406a9",
   "metadata": {},
   "outputs": [],
   "source": [
    "ul li{\n",
    "    color:green\n",
    "}"
   ]
  },
  {
   "cell_type": "markdown",
   "id": "7df636d5",
   "metadata": {},
   "source": [
    "#### >选择器：\n",
    "只选择直接作为选择器1的标签的选择器2类标签应用css,不对更深的标签起作用\n",
    "\n",
    "可以和上面的选择器一起用"
   ]
  },
  {
   "cell_type": "code",
   "execution_count": null,
   "id": "93ff6a98",
   "metadata": {},
   "outputs": [],
   "source": [
    "ul>li{\n",
    "    color:green;\n",
    "}"
   ]
  },
  {
   "cell_type": "markdown",
   "id": "e9af85c6",
   "metadata": {},
   "source": [
    "#### +选择器:\n",
    "选择跟在符合选择器1条件的标签之后的选择器2类标签应用css\n",
    "\n",
    "可以和上面的选择器一起用"
   ]
  },
  {
   "cell_type": "code",
   "execution_count": null,
   "id": "b7b1f7fc",
   "metadata": {},
   "outputs": [],
   "source": [
    ".example+p{\n",
    "    color:red;\n",
    "}"
   ]
  },
  {
   "cell_type": "markdown",
   "id": "273521d2",
   "metadata": {},
   "source": [
    "#### ~选择器:\n",
    "选择跟在符合选择器1条件的标签之后的所有选择器2元素,和后代选择器不同的是这个不在选择器1标签里\n"
   ]
  },
  {
   "cell_type": "code",
   "execution_count": null,
   "id": "66ff649a",
   "metadata": {},
   "outputs": [],
   "source": [
    ".example~p{\n",
    "    color:red;\n",
    "}"
   ]
  },
  {
   "cell_type": "markdown",
   "id": "2053cf92",
   "metadata": {},
   "source": [
    "### 伪对象选择器:\n",
    "给元素追加一个虚拟标签,可以节省html的资源开销\n",
    "- ::after在后面添加一个对象\n",
    "- ::before在前面添加一个对象\n",
    "- content(必须有,否则伪对象无效)\n",
    "\n",
    "其他查表:https://www.w3schools.com/cssref/css_selectors.php"
   ]
  },
  {
   "cell_type": "markdown",
   "id": "1b297e82",
   "metadata": {},
   "source": [
    "### 优先级\n",
    "行内样式>ID选择器>类选择器>元素选择器"
   ]
  },
  {
   "cell_type": "markdown",
   "id": "f07708ab",
   "metadata": {},
   "source": [
    "## 字体属性:\n",
    "### color:\n",
    "- color\n",
    "    - 各种颜色: 查表https://www.w3schools.com/colors/colors_names.asp\n",
    "    - 色值:(茴香豆有4种写法,色值有5种写法)\n",
    "      - RGB值:rgb(255,99,71),三个值分别对应rgb三个值,取值范围0-255\n",
    "        - < p style=\"background-color:rgb(255, 99, 71)\">html< /p>:<p style=\"background-color:rgb(255,99,71)\">rgb(255,99,71)</p>\n",
    "      - HEX值:#ff6347,和上面差不多,每两位表示RGB中的一个值,前面加上井号\n",
    "        - < p style=\"background-color:#ff6347\">html< /p>:<p style=\"background-color:#ff6347\">#ff6347</p>\n",
    "      - RGBA值:rgba(255,99,71,1),rgba加上透明度(这个应该是可以的,但是jupyter不知道为什么会把style吞掉,如果%%html没问题,直接markdown不显示颜色)\n",
    "        - < p style=\"background-color:rgba(255, 99, 71, 0.5)\">< /p>:<p style=\"background-color:hsla(9, 100%, 64%, 0.5)\">rgba(9, 100%, 64%, 0.5)</p>"
   ]
  },
  {
   "cell_type": "code",
   "execution_count": null,
   "id": "7f5d7aa6",
   "metadata": {},
   "outputs": [],
   "source": [
    "div{color:red;}\n",
    "div{color:#ff0000;}\n",
    "div{color:rgb(255,0,0)}\n",
    "div{color:rgba(255.0,0,.5)}"
   ]
  },
  {
   "cell_type": "markdown",
   "id": "4f31678b",
   "metadata": {},
   "source": [
    "### font-size\n",
    "某些浏览器有最小字体大小"
   ]
  },
  {
   "cell_type": "code",
   "execution_count": null,
   "id": "ddf62147",
   "metadata": {},
   "outputs": [],
   "source": [
    "div{font-size:10px;}"
   ]
  },
  {
   "cell_type": "markdown",
   "id": "81f05be5",
   "metadata": {},
   "source": [
    "### font-weight:\n",
    "设置文本的粗细\n",
    "- bold:加粗\n",
    "- bolder:更粗\n",
    "- lighter:更细\n",
    "- 100-900:默认400,bold700"
   ]
  },
  {
   "cell_type": "code",
   "execution_count": null,
   "id": "97c3a9e4",
   "metadata": {},
   "outputs": [],
   "source": [
    "#5 {font-weight:normal}\n",
    "#6 {font-weight:bold}\n",
    "#7 {font-weight:bolder}\n",
    "#8 {font-weight:lighter}\n",
    "#9 {font-weight:360}"
   ]
  },
  {
   "cell_type": "markdown",
   "id": "558142b6",
   "metadata": {},
   "source": [
    "### font-style:\n",
    "设置文本的字体样式\n",
    "- normal:默认\n",
    "- italic:斜体字"
   ]
  },
  {
   "cell_type": "code",
   "execution_count": null,
   "id": "9a4afe3c",
   "metadata": {},
   "outputs": [],
   "source": [
    "#10 {font-style:normal}\n",
    "#11 {font-style:italic}"
   ]
  },
  {
   "cell_type": "markdown",
   "id": "2d0ca073",
   "metadata": {},
   "source": [
    "### font-family:\n",
    "用来指定一个元素的字体,如果字体名称包含空格,则必须用引号包裹"
   ]
  },
  {
   "cell_type": "markdown",
   "id": "f9be62e5",
   "metadata": {},
   "source": [
    "## 背景\n",
    "### background-color\n",
    "和color一样\n",
    "### background-image\n",
    "那个url()里面可以填本地地址,直接从本地访问图片"
   ]
  },
  {
   "cell_type": "code",
   "execution_count": null,
   "id": "ea667b17",
   "metadata": {},
   "outputs": [],
   "source": [
    ".box{\n",
    "    width: 600px;\n",
    "    height: 600px;\n",
    "    background-image: url(\"some url\")\n",
    "}"
   ]
  },
  {
   "cell_type": "markdown",
   "id": "d066665d",
   "metadata": {},
   "source": [
    "### background-repeat:\n",
    "设置图片如何重复:\n",
    "- repeat:默认属性,在分配的空间大于图片大小的时候会像两个方向重复图片\n",
    "- repeat-x:只在x方向上重复图片\n",
    "- repeat-y:只在y方向上重复图片\n",
    "- no-repeat:不重复图片"
   ]
  },
  {
   "cell_type": "code",
   "execution_count": null,
   "id": "ffead7a3",
   "metadata": {},
   "outputs": [],
   "source": [
    ".box{\n",
    "    background-image:url(\"something\");\n",
    "    background-repeat:no-repeat;\n",
    "}"
   ]
  },
  {
   "cell_type": "markdown",
   "id": "9ac9a0be",
   "metadata": {},
   "source": [
    "### background-size:\n",
    "设置背景图片的大小\n",
    "- length:设置背景图片的宽度和高度,可以只设置一个值,另一个会默认成auto\n",
    "- percentage:设置图片占相对区域面积的百分比,可以只设置一个值,另一个会默认成auto\n",
    "- cover:将图片设置成能完全覆盖背景区域的最大大小\n",
    "- contain:保持图片和总比并且放缩成适合背景定位的最大大小"
   ]
  },
  {
   "cell_type": "code",
   "execution_count": null,
   "id": "69894cf4",
   "metadata": {},
   "outputs": [],
   "source": [
    ".box{\n",
    "    background-image: url(\"something\");\n",
    "    background-size 100% 100%;\n",
    "}"
   ]
  },
  {
   "cell_type": "markdown",
   "id": "3006f41c",
   "metadata": {},
   "source": [
    "### background-position:\n",
    "以下都是第一个位置为水平位置,第二个为垂直位置,英文字面意思,不要多想\n",
    "- left top\n",
    "- left center\n",
    "- left bottom\n",
    "- right center\n",
    "- right bottom\n",
    "- center top\n",
    "- center center\n",
    "- center bottom\n",
    "- x% y%\n",
    "- xpos ypos"
   ]
  },
  {
   "cell_type": "code",
   "execution_count": null,
   "id": "11247233",
   "metadata": {},
   "outputs": [],
   "source": [
    ".box{\n",
    "    background-image: url(\"something\");\n",
    "    background-position: left top;\n",
    "}"
   ]
  },
  {
   "cell_type": "markdown",
   "id": "9c808ccb",
   "metadata": {},
   "source": [
    "## 文本属性\n",
    "### text-align\n",
    "文本对齐方式,英文字面意思\n",
    "- left\n",
    "- right\n",
    "- center"
   ]
  },
  {
   "cell_type": "code",
   "execution_count": null,
   "id": "7ec93ca2",
   "metadata": {},
   "outputs": [],
   "source": [
    "h1 {\n",
    "    text-align:center\n",
    "}"
   ]
  },
  {
   "cell_type": "markdown",
   "id": "532f4e2e",
   "metadata": {},
   "source": [
    "### text-decoration:\n",
    "添加到文本的修饰,下划线,上划线,删除线等,英文字面意思?\n",
    "- underline\n",
    "- overline\n",
    "- line-through"
   ]
  },
  {
   "cell_type": "code",
   "execution_count": null,
   "id": "f3381354",
   "metadata": {},
   "outputs": [],
   "source": [
    "h1 {\n",
    "    text-decoration:underline;\n",
    "}"
   ]
  },
  {
   "cell_type": "markdown",
   "id": "60e87a9c",
   "metadata": {},
   "source": [
    "### text-transform\n",
    "还是英文字面意思\n",
    "- captialize\n",
    "- uppercase\n",
    "- lowercase"
   ]
  },
  {
   "cell_type": "code",
   "execution_count": null,
   "id": "da2db597",
   "metadata": {},
   "outputs": [],
   "source": [
    "h1 {\n",
    "    text-transform:uppercase;\n",
    "}"
   ]
  },
  {
   "cell_type": "markdown",
   "id": "6bcbca87",
   "metadata": {},
   "source": [
    "### text-indent:\n",
    "定义缩进,直接是x px"
   ]
  },
  {
   "cell_type": "code",
   "execution_count": null,
   "id": "96eb31a5",
   "metadata": {},
   "outputs": [],
   "source": [
    "h1 {\n",
    "    text-indent:30px;\n",
    "}"
   ]
  },
  {
   "cell_type": "markdown",
   "id": "48a2ac88",
   "metadata": {},
   "source": [
    "## 表格属性\n",
    "### border：\n",
    "定义表格边框：\n",
    "- 边框距离\n",
    "- 边框样式\n",
    "- 边框颜色"
   ]
  },
  {
   "cell_type": "code",
   "execution_count": null,
   "id": "1400b7ae",
   "metadata": {},
   "outputs": [],
   "source": [
    "table,td{\n",
    "    border: 1px solid black;\n",
    "}"
   ]
  },
  {
   "cell_type": "markdown",
   "id": "0601a210",
   "metadata": {},
   "source": [
    "### border-collapse:\n",
    "设置边框是折叠成一个单一的边框还是隔开"
   ]
  },
  {
   "cell_type": "code",
   "execution_count": null,
   "id": "069744dd",
   "metadata": {},
   "outputs": [],
   "source": [
    "table{\n",
    "    border-collapse:collapse;\n",
    "}"
   ]
  },
  {
   "cell_type": "markdown",
   "id": "6641a25e",
   "metadata": {},
   "source": [
    "### padding:< td>< /td>和< th>< /th>的属性\n",
    "填充四周"
   ]
  },
  {
   "cell_type": "code",
   "execution_count": null,
   "id": "bde9e340",
   "metadata": {},
   "outputs": [],
   "source": [
    "td{\n",
    "    padding:15px;\n",
    "}"
   ]
  },
  {
   "cell_type": "markdown",
   "id": "304af529",
   "metadata": {},
   "source": [
    "## css盒子模型:\n",
    "封装周围的html元素的整体框架\n",
    "- margin 外边距,透明的\n",
    "- border 边框\n",
    "- padding 内边距,透明的\n",
    "- content 实际内容,编辑weight和height的时候实际编辑的是content部分的大小\n",
    "\n",
    "针对这几个有一堆的css属性,具体自己查https://www.w3schools.com/cssref/index.php\n",
    "\n",
    "一般border属性都以border开头\n",
    "\n",
    "常用的对于以上四个都适用的,英文字面意思\n",
    "- margin-top\n",
    "- margin-bottom\n",
    "- margin-left\n",
    "- margin-right\n",
    "- border-top\n",
    "- border-bottom\n",
    "- border-left\n",
    "- border-right\n",
    "- padding-top\n",
    "- padding-bottom\n",
    "- padding-left\n",
    "- padding-right\n",
    "\n",
    "\n",
    "\n",
    "\n"
   ]
  },
  {
   "cell_type": "markdown",
   "id": "d5ede64c",
   "metadata": {},
   "source": [
    "## css弹性盒子\n",
    "弹性元素由弹性容器和弹性子元素组成,通过设置display的属性将其定义为弹性容器\n",
    "\n",
    "弹性盒子默认横向摆放\n",
    "### 父元素上的属性:\n",
    "- display:flex 启用弹性盒子,默认为水平排列\n",
    "\n",
    "#### flex-direction:\n",
    "- row 横向从左到右摆放\n",
    "- row-reverse 横向从右到左摆放\n",
    "- column 纵向从上到下排列\n",
    "- column-reverse 纵向从下到上排列\n",
    "\n",
    "#### justify-content:\n",
    "- flex-start\n",
    "- flex-end\n",
    "- center\n",
    "把元素在哪边对齐,英文字面意思,注意这个是垂直方向的布局,一次被放在最上面,最下面和中间\n",
    "\n",
    "#### align-items:\n",
    "- flex-start\n",
    "- flex-end\n",
    "- center\n",
    "### 子元素上的属性:\n",
    "#### flex-grow:\n",
    "设置扩展因子,会根据弹性盒子的扩展因子分配剩余空间\n",
    "\n",
    "可以设置扩展因子让各个元素大小自动按比例分配\n",
    "\n",
    "各个元素的比例=扩展因子+1"
   ]
  },
  {
   "cell_type": "markdown",
   "id": "e26f8f41",
   "metadata": {},
   "source": [
    "## 文档流:\n",
    "### 问题:\n",
    "#### 空格折叠\n",
    "无论放多少个空格都会被折叠成一个空格\n",
    "#### 元素无间隙:\n",
    "如果有两个并排的图片一起放置,中间是没有间隙的\n",
    "### 解决:\n",
    "脱离文档流:\n",
    "- 浮动\n",
    "- 绝对定位\n",
    "- 固定定位\n",
    "#### 浮动:\n",
    "float属性:(只有左右浮动,没有上下浮动),可以是元素拖了文档流\n",
    "- left(向左浮动)\n",
    "- right(向右浮动)\n",
    "\n",
    "元素同时向一方向浮动的时候,会变成水平摆放,向左或者向右\n",
    "\n",
    "当容器大小不足的时候会在下一行摆放\n",
    "\n",
    "#### 清除浮动:\n",
    "清除浮动会导致某些元素的位置发生变化,后续元素会收到影响\n",
    "- 父元素设置相应属性\n",
    "- 增加clear属性\n",
    "- overflow清除浮动\n",
    "- 伪对象方式\n",
    "##### clear\n",
    "- left(清除左浮动)\n",
    "- right(清除右浮动)\n",
    "- both(清除左右浮动,如果有的话)\n",
    "##### overflow:\n",
    "如果父元素出了问题,同级元素受到影响,可以用overflow清除浮动,这种情况下不能设置父元素的高度\n",
    "- visible(全部铺在页面上)\n",
    "- hidden(隐藏)\n",
    "- clip(把多的部分隐藏)\n",
    "- scroll(增加一个可滚动的轴,大小不调整)\n",
    "- auto(自适应)"
   ]
  },
  {
   "cell_type": "markdown",
   "id": "3a0a7928",
   "metadata": {},
   "source": [
    "## 定位:\n",
    "position属性\n",
    "- relative\n",
    "- absolute(脱离文档流)\n",
    "- fixed(脱离文档流)\n",
    "\n",
    "可以使用left,top,right,bottom四个属性调整位置\n",
    "\n",
    "对于absolute可以理解成每一个absolute的元素都在一个新的图层上\n",
    "\n",
    "fixed一般来说不会有这个问题,因为fixed元素会跟着页面滚动\n",
    "\n",
    "设置定位后定位随着能定位的父元素决定,直到顶层文档\n",
    "\n",
    "### z-index:\n",
    "解决图层问题"
   ]
  },
  {
   "cell_type": "markdown",
   "id": "40695ac4",
   "metadata": {},
   "source": [
    "## css3新特性:\n",
    "### border-radius\n",
    "创建圆角\n",
    "- 设置一个值:四个角圆角相同\n",
    "- 设置两个值:第一个为左上角和右下角,第二个值为右上角和左下角\n",
    "- 设置三个值:第一个为左上角,第二个为右上角和左下角,第三个是右下角\n",
    "- 设置四个值:第一个为左上角,第二个为右上角,第三个为左下角,第四个是右下角"
   ]
  },
  {
   "cell_type": "code",
   "execution_count": null,
   "id": "a98b6851",
   "metadata": {},
   "outputs": [],
   "source": [
    "#border-radius1{\n",
    "            width:200px;\n",
    "            height:200px;\n",
    "            background:violet;\n",
    "            border-radius:20px;\n",
    "        }"
   ]
  },
  {
   "cell_type": "markdown",
   "id": "5f365a5d",
   "metadata": {},
   "source": [
    "### box-shadow\n",
    "一共四个值:\n",
    "- h-shadow(必选):水平阴影的位置\n",
    "- v-shadow(必选):垂直阴影的位置\n",
    "- blur(可选):模糊距离\n",
    "- color(可选):阴影的颜色"
   ]
  },
  {
   "cell_type": "code",
   "execution_count": null,
   "id": "682e8886",
   "metadata": {},
   "outputs": [],
   "source": [
    "#box-shadow1{\n",
    "            width:200px;\n",
    "            height:200px;\n",
    "            background:aqua;\n",
    "            box-shadow: 10px 20px\n",
    "        }"
   ]
  },
  {
   "cell_type": "markdown",
   "id": "4dccf316",
   "metadata": {},
   "source": [
    "### 动画:\n",
    "用@keyframes创建动画\n",
    "\n",
    "属性太多了,建议自己查表https://www.w3schools.com/css/css3_animations.asp"
   ]
  },
  {
   "cell_type": "code",
   "execution_count": null,
   "id": "c8ffc6b4",
   "metadata": {},
   "outputs": [],
   "source": [
    "@keyframes rainbow{\n",
    "                0%{\n",
    "                    height:25px;\n",
    "                    width:25px;\n",
    "                    background-color:red;\n",
    "                }\n",
    "                16%{\n",
    "                    height:50px;\n",
    "                    width:50px;\n",
    "                    background-color:orange;\n",
    "                }\n",
    "                33%{\n",
    "                    height:75px;\n",
    "                    width:75px;\n",
    "                    background-color:yellow\n",
    "                }\n",
    "                50%{\n",
    "                    height:100px;\n",
    "                    width:100px;\n",
    "                    background-color:green\n",
    "                }\n",
    "                67%{\n",
    "                    height:125px;\n",
    "                    width:125px;\n",
    "                    background-color:aquamarine;\n",
    "                }\n",
    "                83%{\n",
    "                    height:150px;\n",
    "                    width:150px;\n",
    "                    background-color:blue\n",
    "                }\n",
    "                100%{\n",
    "                    height:175px;\n",
    "                    width:175px;\n",
    "                    background-color:purple;\n",
    "                }\n",
    "            }"
   ]
  },
  {
   "cell_type": "markdown",
   "id": "a490edfc",
   "metadata": {},
   "source": [
    "### 媒体查询:\n",
    "先设置< meta>\n",
    "\n",
    "用@media创建媒体查询,在不同屏幕大小下设置不同比例"
   ]
  },
  {
   "cell_type": "code",
   "execution_count": null,
   "id": "96314867",
   "metadata": {},
   "outputs": [],
   "source": [
    "@media screen and (max-width:768px) and (min-width:996px){\n",
    "                #box{\n",
    "                    background-color:aqua;\n",
    "                }\n",
    "                #p{\n",
    "                    display:none;\n",
    "                }\n",
    "            }"
   ]
  },
  {
   "cell_type": "markdown",
   "id": "cc726d0e",
   "metadata": {},
   "source": [
    "### 雪碧图/精灵图\n",
    "减少图片大小,减少http请求,提高性能\n",
    "\n",
    "通过把图片设置到background-image里调整位置可以把一堆图片整合进一张,需要用哪个就调整到哪个的位置"
   ]
  },
  {
   "cell_type": "code",
   "execution_count": null,
   "id": "a9b1c1e5",
   "metadata": {},
   "outputs": [],
   "source": [
    "#icon{\n",
    "                display: block; \n",
    "                width: 45px;\n",
    "                height: 70px;\n",
    "                background-image: url(https://prts.wiki/images/ak.png?8efd0);\n",
    "                border: 3px solid red;\n",
    "            }"
   ]
  },
  {
   "cell_type": "markdown",
   "id": "9beb162d",
   "metadata": {},
   "source": [
    "### 字体图标:\n",
    "相当于把图标通过unicode编码变成字体,省内存"
   ]
  }
 ],
 "metadata": {
  "hide_input": false,
  "kernelspec": {
   "display_name": "Python 3 (ipykernel)",
   "language": "python",
   "name": "python3"
  },
  "language_info": {
   "codemirror_mode": {
    "name": "ipython",
    "version": 3
   },
   "file_extension": ".py",
   "mimetype": "text/x-python",
   "name": "python",
   "nbconvert_exporter": "python",
   "pygments_lexer": "ipython3",
   "version": "3.9.18"
  },
  "toc": {
   "base_numbering": 1,
   "nav_menu": {},
   "number_sections": true,
   "sideBar": true,
   "skip_h1_title": false,
   "title_cell": "Table of Contents",
   "title_sidebar": "Contents",
   "toc_cell": false,
   "toc_position": {},
   "toc_section_display": true,
   "toc_window_display": false
  }
 },
 "nbformat": 4,
 "nbformat_minor": 5
}
