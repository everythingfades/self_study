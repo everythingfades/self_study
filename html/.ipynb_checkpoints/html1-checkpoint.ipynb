{
 "cells": [
  {
   "cell_type": "markdown",
   "id": "663bd1ed",
   "metadata": {},
   "source": [
    "## note\n",
    "某个傻子差点按照w3c去学,于是重启,部分基础知识可能一笔带过\n",
    "\n",
    "建议是把这个jupyter服务在vscode里打开,会方便一些\n",
    "# html5\n",
    "## 基本结构"
   ]
  },
  {
   "cell_type": "code",
   "execution_count": 2,
   "id": "1a72cba9",
   "metadata": {},
   "outputs": [
    {
     "data": {
      "text/html": [
       "<!DOCTYPE html>\n",
       "<html>\n",
       "    <head>\n",
       "        <title>网页</title>\n",
       "    </head>\n",
       "    <body>\n",
       "        某个网页\n",
       "    </body>\n",
       "</html>\n"
      ],
      "text/plain": [
       "<IPython.core.display.HTML object>"
      ]
     },
     "metadata": {},
     "output_type": "display_data"
    }
   ],
   "source": [
    "%%html\n",
    "<!DOCTYPE html>\n",
    "<html>\n",
    "    <head>\n",
    "        <title>网页</title>\n",
    "    </head>\n",
    "    <body>\n",
    "        某个网页\n",
    "    </body>\n",
    "</html>\n"
   ]
  },
  {
   "cell_type": "markdown",
   "id": "76142e58",
   "metadata": {},
   "source": [
    "## 标签\n",
    "主要分为单标签和双标签\n",
    "- 双标签< html>< /html>\n",
    "- 单标签< img>\n",
    "### html基本骨架:\n",
    "#### <!DOCTYPE html>声明(必须有且只有第一行是这个)\n",
    "声明这个文档是一个html\n",
    "\n",
    "#### < html>< /html>(必须有且仅有一个)\n",
    "定义html文档\n",
    "\n",
    "#### < head>< /head>(必须有且仅有一个)\n",
    "定义头文件,定义超参数\n",
    "\n",
    "#### < body>< /body>(必须有且仅有一个)\n",
    "定义元素的主体,是直接能在网页里看到的东西\n",
    "\n",
    "#### < title>< /title>(必须在< head>中出现)\n",
    "定义这个网页的名称,\n",
    "\n",
    "#### < meta>(可以没有)\n",
    "描述一个html的属性,关键词等,比如< meta charset = \"UTF-8\">\n",
    "\n",
    "具体参数看这里:https://www.w3schools.com/tags/tag_meta.asp"
   ]
  },
  {
   "cell_type": "code",
   "execution_count": 3,
   "id": "560cbdf0",
   "metadata": {},
   "outputs": [
    {
     "data": {
      "text/html": [
       "<!DOCTYPE html>\n",
       "<html>\n",
       "    <head>\n",
       "        <title>网页</title>\n",
       "        <meta charset = \"UTF-8\">\n",
       "    </head>\n",
       "    <body>\n",
       "        某个网页\n",
       "    </body>\n",
       "</html>\n"
      ],
      "text/plain": [
       "<IPython.core.display.HTML object>"
      ]
     },
     "metadata": {},
     "output_type": "display_data"
    }
   ],
   "source": [
    "%%html\n",
    "<!DOCTYPE html>\n",
    "<html>\n",
    "    <head>\n",
    "        <title>网页</title>\n",
    "        <meta charset = \"UTF-8\">\n",
    "    </head>\n",
    "    <body>\n",
    "        某个网页\n",
    "    </body>\n",
    "</html>\n"
   ]
  },
  {
   "cell_type": "markdown",
   "id": "5b86fe0f",
   "metadata": {},
   "source": [
    "### 其他标签:\n",
    "#### < h>< /h>\n",
    "用于定义标题,从h1到h6\n"
   ]
  },
  {
   "cell_type": "code",
   "execution_count": 5,
   "id": "202bc231",
   "metadata": {},
   "outputs": [
    {
     "data": {
      "text/html": [
       "<!DOCTYPE html>\n",
       "<html>\n",
       "    <head>\n",
       "        <title>网页</title>\n",
       "    </head>\n",
       "    <body>\n",
       "        某个网页\n",
       "        <h1>标题1</h1>\n",
       "        <h2>标题2</h2>\n",
       "        <h3>标题3</h3>\n",
       "        <h4>标题4</h4>\n",
       "        <h5>标题5</h5>\n",
       "        <h6>标题6</h6>\n",
       "    </body>\n",
       "</html>\n"
      ],
      "text/plain": [
       "<IPython.core.display.HTML object>"
      ]
     },
     "metadata": {},
     "output_type": "display_data"
    }
   ],
   "source": [
    "%%html\n",
    "<!DOCTYPE html>\n",
    "<html>\n",
    "    <head>\n",
    "        <title>网页</title>\n",
    "    </head>\n",
    "    <body>\n",
    "        某个网页\n",
    "        <h1>标题1</h1>\n",
    "        <h2>标题2</h2>\n",
    "        <h3>标题3</h3>\n",
    "        <h4>标题4</h4>\n",
    "        <h5>标题5</h5>\n",
    "        <h6>标题6</h6>\n",
    "    </body>\n",
    "</html>\n"
   ]
  },
  {
   "cell_type": "code",
   "execution_count": null,
   "id": "efdb0cf4",
   "metadata": {},
   "outputs": [],
   "source": []
  }
 ],
 "metadata": {
  "hide_input": false,
  "kernelspec": {
   "display_name": "Python 3 (ipykernel)",
   "language": "python",
   "name": "python3"
  },
  "language_info": {
   "codemirror_mode": {
    "name": "ipython",
    "version": 3
   },
   "file_extension": ".py",
   "mimetype": "text/x-python",
   "name": "python",
   "nbconvert_exporter": "python",
   "pygments_lexer": "ipython3",
   "version": "3.9.18"
  },
  "toc": {
   "base_numbering": 1,
   "nav_menu": {},
   "number_sections": true,
   "sideBar": true,
   "skip_h1_title": false,
   "title_cell": "Table of Contents",
   "title_sidebar": "Contents",
   "toc_cell": false,
   "toc_position": {},
   "toc_section_display": true,
   "toc_window_display": false
  }
 },
 "nbformat": 4,
 "nbformat_minor": 5
}
