{
 "cells": [
  {
   "cell_type": "markdown",
   "id": "663bd1ed",
   "metadata": {},
   "source": [
    "## note\n",
    "某个傻子差点按照w3c去学,于是重启,部分基础知识可能一笔带过\n",
    "\n",
    "### important note:\n",
    "<p style=\"color:red;font-size:20px;font-family:SimHei\">jupyter notebook的html渲染可能有问题,一切以在本地直接访问html文件渲染出的效果为准</p>\n",
    "# html5\n",
    "## 基本结构"
   ]
  },
  {
   "cell_type": "code",
   "execution_count": 2,
   "id": "1a72cba9",
   "metadata": {},
   "outputs": [
    {
     "data": {
      "text/html": [
       "<!DOCTYPE html>\n",
       "<html>\n",
       "    <head>\n",
       "        <title>网页</title>\n",
       "    </head>\n",
       "    <body>\n",
       "        某个网页\n",
       "    </body>\n",
       "</html>\n"
      ],
      "text/plain": [
       "<IPython.core.display.HTML object>"
      ]
     },
     "metadata": {},
     "output_type": "display_data"
    }
   ],
   "source": [
    "%%html\n",
    "<!DOCTYPE html>\n",
    "<html>\n",
    "    <head>\n",
    "        <title>网页</title>\n",
    "    </head>\n",
    "    <body>\n",
    "        某个网页\n",
    "    </body>\n",
    "</html>\n"
   ]
  },
  {
   "cell_type": "markdown",
   "id": "76142e58",
   "metadata": {},
   "source": [
    "# html\n",
    "## 标签\n",
    "主要分为单标签和双标签\n",
    "- 双标签< html>< /html>\n",
    "- 单标签< img>\n",
    "### html基本骨架:\n",
    "#### <!DOCTYPE html>声明(必须有且只有第一行是这个)\n",
    "声明这个文档是一个html\n",
    "\n",
    "#### < html>< /html>(必须有且仅有一个)\n",
    "定义html文档\n",
    "\n",
    "#### < head>< /head>(必须有且仅有一个)\n",
    "定义头文件,定义超参数\n",
    "\n",
    "#### < body>< /body>(必须有且仅有一个)\n",
    "定义元素的主体,是直接能在网页里看到的东西\n",
    "\n",
    "#### < title>< /title>(必须在< head>中出现)\n",
    "定义这个网页的名称,\n",
    "\n",
    "#### < meta>(可以没有)\n",
    "描述一个html的属性,关键词等,比如< meta charset = \"UTF-8\">\n",
    "\n",
    "具体参数看这里:https://www.w3schools.com/tags/tag_meta.asp"
   ]
  },
  {
   "cell_type": "code",
   "execution_count": 3,
   "id": "560cbdf0",
   "metadata": {},
   "outputs": [
    {
     "data": {
      "text/html": [
       "<!DOCTYPE html>\n",
       "<html>\n",
       "    <head>\n",
       "        <title>网页</title>\n",
       "        <meta charset = \"UTF-8\">\n",
       "    </head>\n",
       "    <body>\n",
       "        某个网页\n",
       "    </body>\n",
       "</html>\n"
      ],
      "text/plain": [
       "<IPython.core.display.HTML object>"
      ]
     },
     "metadata": {},
     "output_type": "display_data"
    }
   ],
   "source": [
    "%%html\n",
    "<!DOCTYPE html>\n",
    "<html>\n",
    "    <head>\n",
    "        <title>网页</title>\n",
    "        <meta charset = \"UTF-8\">\n",
    "    </head>\n",
    "    <body>\n",
    "        某个网页\n",
    "    </body>\n",
    "</html>\n"
   ]
  },
  {
   "cell_type": "markdown",
   "id": "5b86fe0f",
   "metadata": {},
   "source": [
    "### 其他标签:\n",
    "#### < h>< /h>\n",
    "用于定义标题,从h1到h6\n",
    "- 选择位置: 增加align属性, align = \"left\"|\"center\"|\"right\""
   ]
  },
  {
   "cell_type": "code",
   "execution_count": 5,
   "id": "202bc231",
   "metadata": {},
   "outputs": [
    {
     "data": {
      "text/html": [
       "<!DOCTYPE html>\n",
       "<html>\n",
       "    <head>\n",
       "        <title>网页</title>\n",
       "    </head>\n",
       "    <body>\n",
       "        某个网页\n",
       "        <h1>标题1</h1>\n",
       "        <h2>标题2</h2>\n",
       "        <h3>标题3</h3>\n",
       "        <h4>标题4</h4>\n",
       "        <h5>标题5</h5>\n",
       "        <h6>标题6</h6>\n",
       "    </body>\n",
       "</html>\n"
      ],
      "text/plain": [
       "<IPython.core.display.HTML object>"
      ]
     },
     "metadata": {},
     "output_type": "display_data"
    }
   ],
   "source": [
    "%%html\n",
    "<!DOCTYPE html>\n",
    "<html>\n",
    "    <head>\n",
    "        <title>网页</title>\n",
    "    </head>\n",
    "    <body>\n",
    "        某个网页\n",
    "        <h1 align = \"center\">标题1</h1>\n",
    "        <h2 align = \"left\">标题2</h2>\n",
    "        <h3 align = \"right\">标题3</h3>\n",
    "        <h4>标题4</h4>\n",
    "        <h5>标题5</h5>\n",
    "        <h6>标题6</h6>\n",
    "    </body>\n",
    "</html>\n"
   ]
  },
  {
   "cell_type": "markdown",
   "id": "1300bf6a",
   "metadata": {},
   "source": [
    "#### < p>< /p>\n",
    "定义段落"
   ]
  },
  {
   "cell_type": "code",
   "execution_count": 11,
   "id": "ba3269f2",
   "metadata": {},
   "outputs": [
    {
     "data": {
      "text/html": [
       "<!DOCTYPE html>\n",
       "<html>\n",
       "    <head>\n",
       "        <title>网页</title>\n",
       "    </head>\n",
       "    <body>\n",
       "        某个网页\n",
       "        \n",
       "        <!--这里空再多空格也换不了行-->\n",
       "        something\n",
       "        <p>标题1</p>\n",
       "        <p>标题2</p>\n",
       "        <p>标题3</p>\n",
       "        <p>标题4</p>\n",
       "        <p>标题5</p>\n",
       "        <p>标题6</p>\n",
       "    </body>\n",
       "</html>\n"
      ],
      "text/plain": [
       "<IPython.core.display.HTML object>"
      ]
     },
     "metadata": {},
     "output_type": "display_data"
    }
   ],
   "source": [
    "%%html\n",
    "<!DOCTYPE html>\n",
    "<html>\n",
    "    <head>\n",
    "        <title>网页</title>\n",
    "    </head>\n",
    "    <body>\n",
    "        某个网页\n",
    "        \n",
    "        <!--这里空再多空格也换不了行-->\n",
    "        something\n",
    "        <p>标题1</p>\n",
    "        <p>标题2</p>\n",
    "        <p>标题3</p>\n",
    "        <p>标题4</p>\n",
    "        <p>标题5</p>\n",
    "        <p>标题6</p>\n",
    "    </body>\n",
    "</html>\n"
   ]
  },
  {
   "cell_type": "markdown",
   "id": "0bf7dd65",
   "metadata": {},
   "source": [
    "#### < br>\n",
    "换行,也可以写成< br/>\n"
   ]
  },
  {
   "cell_type": "code",
   "execution_count": 12,
   "id": "897f5a35",
   "metadata": {},
   "outputs": [
    {
     "data": {
      "text/html": [
       "<!DOCTYPE html>\n",
       "<html>\n",
       "    <head>\n",
       "        <title>网页</title>\n",
       "    </head>\n",
       "    <body>\n",
       "        某个网页\n",
       "        \n",
       "        <!--这里空再多空格也换不了行-->\n",
       "        something\n",
       "        <p>标<br>题1</p>\n",
       "        <p>标题2</p>\n",
       "    </body>\n",
       "</html>\n"
      ],
      "text/plain": [
       "<IPython.core.display.HTML object>"
      ]
     },
     "metadata": {},
     "output_type": "display_data"
    }
   ],
   "source": [
    "%%html\n",
    "<!DOCTYPE html>\n",
    "<html>\n",
    "    <head>\n",
    "        <title>网页</title>\n",
    "    </head>\n",
    "    <body>\n",
    "        某个网页\n",
    "        \n",
    "        <!--这里空再多空格也换不了行-->\n",
    "        something\n",
    "        <p>标<br>题1</p>\n",
    "        <p>标题2</p>\n",
    "    </body>\n",
    "</html>\n"
   ]
  },
  {
   "cell_type": "markdown",
   "id": "ff7a95ed",
   "metadata": {},
   "source": [
    "####  < hr>(这里显示不出来颜色,建议直接打开html文件)\n",
    "水平线\n",
    "属性(其实都是通用属性)\n",
    "- color:设置水平线的颜色\n",
    "- width:设置水平新的长度\n",
    "- size: 设置水平线的高度\n",
    "- align: 对齐方式"
   ]
  },
  {
   "cell_type": "code",
   "execution_count": 19,
   "id": "14151d88",
   "metadata": {},
   "outputs": [
    {
     "data": {
      "text/html": [
       "<!DOCTYPE html>\n",
       "<html>\n",
       "    <head>\n",
       "        <title>网页</title>\n",
       "    </head>\n",
       "    <body>\n",
       "        某个网页\n",
       "        \n",
       "        <!--这里空再多空格也换不了行-->\n",
       "        something\n",
       "        <p>标题1</p>\n",
       "        <hr color=\"red\">\n",
       "        <p>标题2</p>\n",
       "    </body>\n",
       "</html>\n"
      ],
      "text/plain": [
       "<IPython.core.display.HTML object>"
      ]
     },
     "metadata": {},
     "output_type": "display_data"
    }
   ],
   "source": [
    "%%html\n",
    "<!DOCTYPE html>\n",
    "<html>\n",
    "    <head>\n",
    "        <title>网页</title>\n",
    "    </head>\n",
    "    <body>\n",
    "        某个网页\n",
    "        \n",
    "        <!--这里空再多空格也换不了行-->\n",
    "        something\n",
    "        <p>标题1</p>\n",
    "        <hr color=\"red\">\n",
    "        <p>标题2</p>\n",
    "    </body>\n",
    "</html>\n"
   ]
  },
  {
   "cell_type": "markdown",
   "id": "e2a4b1ef",
   "metadata": {},
   "source": [
    "#### < img>\n",
    "用来显示图片\n",
    "\n",
    "属性:\n",
    "- src:图片地址,可以是网址\n",
    "- alt:在图片加载不出来的时候现实的文字\n",
    "- title:图片标题,鼠标位于图片上是会显示的文字\n",
    "- height:图片高度\n",
    "- width:图片宽度\n"
   ]
  },
  {
   "cell_type": "code",
   "execution_count": 20,
   "id": "dad2b177",
   "metadata": {},
   "outputs": [
    {
     "data": {
      "text/html": [
       "<!DOCTYPE html>\n",
       "<html>\n",
       "    <head>\n",
       "        <title>网页</title>\n",
       "    </head>\n",
       "    <body>\n",
       "         <img src=\"https://prts.wiki/images/ak.png?8efd0\" alt=\"测试图片\" width=\"100\" height=\"100\" style=\"color:red;background-color:powderblue\">\n",
       "        <img src=\"https://prts.wi_ki/images/ak.png?8efd0\" alt=\"测试图片\" width=\"100\" height=\"100\" style=\"color:red\">\n",
       "    </body>\n",
       "</html>\n"
      ],
      "text/plain": [
       "<IPython.core.display.HTML object>"
      ]
     },
     "metadata": {},
     "output_type": "display_data"
    }
   ],
   "source": [
    "%%html\n",
    "<!DOCTYPE html>\n",
    "<html>\n",
    "    <head>\n",
    "        <title>网页</title>\n",
    "    </head>\n",
    "    <body>\n",
    "         <img src=\"https://prts.wiki/images/ak.png?8efd0\" alt=\"测试图片\" width=\"100\" height=\"100\" style=\"color:red;background-color:powderblue\">\n",
    "        <img src=\"https://prts.wi_ki/images/ak.png?8efd0\" alt=\"测试图片\" width=\"100\" height=\"100\" style=\"color:red\">\n",
    "    </body>\n",
    "</html>\n"
   ]
  },
  {
   "cell_type": "markdown",
   "id": "2e41ccf8",
   "metadata": {},
   "source": [
    "#### < a>\n",
    "用来实现链接\n",
    "\n",
    "属性\n",
    "- href: 跳转的网页链接，如果不定义这个和文字没有区别\n"
   ]
  },
  {
   "cell_type": "code",
   "execution_count": 24,
   "id": "4ab32f6e",
   "metadata": {},
   "outputs": [
    {
     "data": {
      "text/html": [
       "<!DOCTYPE html>\n",
       "<html>\n",
       "    <head>\n",
       "        <title>Page Title</title>\n",
       "        <meta http-equiv=\"Content-Type\" content=\"text/html; charset=utf-8\" />\n",
       "    </head>\n",
       "    <body>\n",
       "        <a href=\"https://prts.wiki/w/%E5%B9%B2%E5%91%98%E4%B8%80%E8%A7%88\" style=\"color:red;background-color:powderblue\">\n",
       "            <img src=\"https://prts.wiki/images/ak.png?8efd0\" alt=\"测试图片\" width=\"100\" height=\"100\" style=\"color:red;background-color:powderblue\">\n",
       "        </a>\n",
       "    </body>\n",
       "</html>\n"
      ],
      "text/plain": [
       "<IPython.core.display.HTML object>"
      ]
     },
     "metadata": {},
     "output_type": "display_data"
    }
   ],
   "source": [
    "%%html\n",
    "<!DOCTYPE html>\n",
    "<html>\n",
    "    <head>\n",
    "        <title>Page Title</title>\n",
    "        <meta http-equiv=\"Content-Type\" content=\"text/html; charset=utf-8\" />\n",
    "    </head>\n",
    "    <body>\n",
    "        <a href=\"https://prts.wiki/w/%E5%B9%B2%E5%91%98%E4%B8%80%E8%A7%88\" style=\"color:red;background-color:powderblue\">\n",
    "            <img src=\"https://prts.wiki/images/ak.png?8efd0\" alt=\"测试图片\" width=\"100\" height=\"100\" style=\"color:red;background-color:powderblue\">\n",
    "        </a>\n",
    "    </body>\n",
    "</html>"
   ]
  },
  {
   "cell_type": "markdown",
   "id": "19d98b54",
   "metadata": {},
   "source": [
    "#### 文本标签类:\n",
    "##### < b>\n",
    "加粗"
   ]
  },
  {
   "cell_type": "code",
   "execution_count": 26,
   "id": "1e709de5",
   "metadata": {},
   "outputs": [
    {
     "data": {
      "text/html": [
       "<!DOCTYPE html>\n",
       "<html>\n",
       "    <head>\n",
       "        <title>Page Title</title>\n",
       "    </head>\n",
       "    <body>\n",
       "        <b style=\"text-align:center\" title=\"example\">段落1</b>\n",
       "        <p style=\"text-indent:30px;color:red\">段落2</p>\n",
       "        <div>这是不用p的样式</div>\n",
       "    </body>\n",
       "</html>\n"
      ],
      "text/plain": [
       "<IPython.core.display.HTML object>"
      ]
     },
     "metadata": {},
     "output_type": "display_data"
    }
   ],
   "source": [
    "%%html\n",
    "<!DOCTYPE html>\n",
    "<html>\n",
    "    <head>\n",
    "        <title>Page Title</title>\n",
    "    </head>\n",
    "    <body>\n",
    "        <b style=\"text-align:center\" title=\"example\">段落1</b>\n",
    "        <p style=\"text-indent:30px;color:red\">段落2</p>\n",
    "        <div>这是不用p的样式</div>\n",
    "    </body>\n",
    "</html>"
   ]
  },
  {
   "cell_type": "markdown",
   "id": "aac87ba0",
   "metadata": {},
   "source": [
    "##### < em>\n",
    "表强调"
   ]
  },
  {
   "cell_type": "code",
   "execution_count": 27,
   "id": "c4407ed3",
   "metadata": {},
   "outputs": [
    {
     "data": {
      "text/html": [
       "<!DOCTYPE html>\n",
       "<html>\n",
       "    <head>\n",
       "        <title>Page Title</title>\n",
       "    </head>\n",
       "    <body>\n",
       "        <em style=\"text-align:center\" title=\"example\">段落1</em>\n",
       "        <p style=\"text-indent:30px;color:red\">段落2</p>\n",
       "        <div>这是不用p的样式</div>\n",
       "    </body>\n",
       "</html>\n"
      ],
      "text/plain": [
       "<IPython.core.display.HTML object>"
      ]
     },
     "metadata": {},
     "output_type": "display_data"
    }
   ],
   "source": [
    "%%html\n",
    "<!DOCTYPE html>\n",
    "<html>\n",
    "    <head>\n",
    "        <title>Page Title</title>\n",
    "    </head>\n",
    "    <body>\n",
    "        <em style=\"text-align:center\" title=\"example\">段落1</em>\n",
    "        <p style=\"text-indent:30px;color:red\">段落2</p>\n",
    "        <div>这是不用p的样式</div>\n",
    "    </body>\n",
    "</html>"
   ]
  },
  {
   "cell_type": "markdown",
   "id": "453980ab",
   "metadata": {},
   "source": [
    "##### < del>\n",
    "划掉"
   ]
  },
  {
   "cell_type": "code",
   "execution_count": 28,
   "id": "718abaa6",
   "metadata": {},
   "outputs": [
    {
     "data": {
      "text/html": [
       "<!DOCTYPE html>\n",
       "<html>\n",
       "    <head>\n",
       "        <title>Page Title</title>\n",
       "    </head>\n",
       "    <body>\n",
       "        <del title=\"example\">段落1</del>\n",
       "        <p style=\"text-indent:30px;color:red\">段<mark>落</mark>2</p>\n",
       "        <div>这是不用p的样式</div>\n",
       "    </body>\n",
       "</html>\n"
      ],
      "text/plain": [
       "<IPython.core.display.HTML object>"
      ]
     },
     "metadata": {},
     "output_type": "display_data"
    }
   ],
   "source": [
    "%%html\n",
    "<!DOCTYPE html>\n",
    "<html>\n",
    "    <head>\n",
    "        <title>Page Title</title>\n",
    "    </head>\n",
    "    <body>\n",
    "        <del title=\"example\">段落1</del>\n",
    "        <p style=\"text-indent:30px;color:red\">段<mark>落</mark>2</p>\n",
    "        <div>这是不用p的样式</div>\n",
    "    </body>\n",
    "</html>"
   ]
  },
  {
   "cell_type": "markdown",
   "id": "98a9c2be",
   "metadata": {},
   "source": [
    "##### < i>\n",
    "斜体"
   ]
  },
  {
   "cell_type": "code",
   "execution_count": 29,
   "id": "5167f136",
   "metadata": {},
   "outputs": [
    {
     "data": {
      "text/html": [
       "<!DOCTYPE html>\n",
       "<html>\n",
       "    <head>\n",
       "        <title>Page Title</title>\n",
       "    </head>\n",
       "    <body>\n",
       "        <i style=\"text-align:center\" title=\"example\">段落1</i>\n",
       "        <p style=\"text-indent:30px;color:red\">段落2</p>\n",
       "        <div>这是不用p的样式</div>\n",
       "    </body>\n",
       "</html>\n"
      ],
      "text/plain": [
       "<IPython.core.display.HTML object>"
      ]
     },
     "metadata": {},
     "output_type": "display_data"
    }
   ],
   "source": [
    "%%html\n",
    "<!DOCTYPE html>\n",
    "<html>\n",
    "    <head>\n",
    "        <title>Page Title</title>\n",
    "    </head>\n",
    "    <body>\n",
    "        <i style=\"text-align:center\" title=\"example\">段落1</i>\n",
    "        <p style=\"text-indent:30px;color:red\">段落2</p>\n",
    "        <div>这是不用p的样式</div>\n",
    "    </body>\n",
    "</html>"
   ]
  },
  {
   "cell_type": "markdown",
   "id": "c5a8fd70",
   "metadata": {},
   "source": [
    "##### < span>\n",
    "元素没有特定的含义"
   ]
  },
  {
   "cell_type": "code",
   "execution_count": 30,
   "id": "2755ae56",
   "metadata": {},
   "outputs": [
    {
     "data": {
      "text/html": [
       "<!DOCTYPE html>\n",
       "<html>\n",
       "    <head>\n",
       "        <title>Page Title</title>\n",
       "    </head>\n",
       "    <body>\n",
       "        <span style=\"text-align:center\" title=\"example\">段落1</span>\n",
       "        <p style=\"text-indent:30px;color:red\">段落2</p>\n",
       "        <div>这是不用p的样式</div>\n",
       "    </body>\n",
       "</html>\n"
      ],
      "text/plain": [
       "<IPython.core.display.HTML object>"
      ]
     },
     "metadata": {},
     "output_type": "display_data"
    }
   ],
   "source": [
    "%%html\n",
    "<!DOCTYPE html>\n",
    "<html>\n",
    "    <head>\n",
    "        <title>Page Title</title>\n",
    "    </head>\n",
    "    <body>\n",
    "        <span style=\"text-align:center\" title=\"example\">段落1</span>\n",
    "        <p style=\"text-indent:30px;color:red\">段落2</p>\n",
    "        <div>这是不用p的样式</div>\n",
    "    </body>\n",
    "</html>"
   ]
  },
  {
   "cell_type": "code",
   "execution_count": 33,
   "id": "8730b47d",
   "metadata": {},
   "outputs": [
    {
     "data": {
      "text/html": [
       "<!DOCTYPE html>\n",
       "<html>\n",
       "    <head>\n",
       "        <title>Page Title</title>\n",
       "    </head>\n",
       "    <body>\n",
       "        <p>p:段落1</p>\n",
       "        <br>\n",
       "        <b>b:段落1</b>\n",
       "        <br>\n",
       "        <span>span:段落1</span>\n",
       "        <br>\n",
       "        <em>em:段落1</em>\n",
       "        <br>\n",
       "        <i>i:段落1</i>\n",
       "        <br>\n",
       "        <del>段落1</del>\n",
       "        <br>\n",
       "        <strong>段落1</strong>\n",
       "    </body>\n",
       "</html>\n"
      ],
      "text/plain": [
       "<IPython.core.display.HTML object>"
      ]
     },
     "metadata": {},
     "output_type": "display_data"
    }
   ],
   "source": [
    "%%html\n",
    "<!DOCTYPE html>\n",
    "<html>\n",
    "    <head>\n",
    "        <title>Page Title</title>\n",
    "    </head>\n",
    "    <body>\n",
    "        <p>p:段落1</p>\n",
    "        <br>\n",
    "        <b>b:段落1</b>\n",
    "        <br>\n",
    "        <span>span:段落1</span>\n",
    "        <br>\n",
    "        <em>em:段落1</em>\n",
    "        <br>\n",
    "        <i>i:段落1</i>\n",
    "        <br>\n",
    "        <del>段落1</del>\n",
    "        <br>\n",
    "        <strong>段落1</strong>\n",
    "    </body>\n",
    "</html>"
   ]
  },
  {
   "cell_type": "markdown",
   "id": "175d5c75",
   "metadata": {},
   "source": [
    "#### < ol>< /ol>(jupyter里显示可能有问题)\n",
    "有序(ordered list),中间的元素用< li>< /li>标签表示\n",
    "\n",
    "属性:\n",
    "- type:\n",
    "    - 1(数字标号)\n",
    "    - a(小写字母标号)\n",
    "    - A(大写字母标号)\n",
    "    - i(小写罗马字母标号)\n",
    "    - I(大写罗马数字标号)\n",
    "\n",
    "列表可以嵌套,但是同样需要< li>< /li>标签"
   ]
  },
  {
   "cell_type": "code",
   "execution_count": 45,
   "id": "9920d4fa",
   "metadata": {},
   "outputs": [
    {
     "data": {
      "text/html": [
       "<!DOCTYPE html>\n",
       "<html>\n",
       "    <head>\n",
       "        <title>Page Title</title>\n",
       "    </head>\n",
       "    <body>\n",
       "        <ol type = \"1\">\n",
       "            <li>\n",
       "                <ol type=\"1\">\n",
       "                    <li>popcat</li>\n",
       "                    <li>happycat</li>\n",
       "                </ol>\n",
       "            </li>\n",
       "            <li>\n",
       "                <ol type=\"a\">\n",
       "                    <li>popcat</li>\n",
       "                    <li>happycat</li>\n",
       "                </ol>\n",
       "            </li>\n",
       "            <li>\n",
       "                <ol type=\"A\">\n",
       "                    <li>popcat</li>\n",
       "                    <li>happycat</li>\n",
       "                </ol>\n",
       "            </li>\n",
       "            <li>\n",
       "                <ol type=\"i\">\n",
       "                    <li>popcat</li>\n",
       "                    <li>happycat</li>\n",
       "                </ol>\n",
       "            </li>\n",
       "            <li>\n",
       "                <ol type=\"I\">\n",
       "                    <li>popcat</li>\n",
       "                    <li>happycat</li>\n",
       "                </ol>\n",
       "            </li>\n",
       "        </ol>\n",
       "    </body>\n",
       "</html>\n"
      ],
      "text/plain": [
       "<IPython.core.display.HTML object>"
      ]
     },
     "metadata": {},
     "output_type": "display_data"
    }
   ],
   "source": [
    "%%html\n",
    "<!DOCTYPE html>\n",
    "<html>\n",
    "    <head>\n",
    "        <title>Page Title</title>\n",
    "    </head>\n",
    "    <body>\n",
    "        <ol type = \"1\">\n",
    "            <li>\n",
    "                <ol type=\"1\">\n",
    "                    <li>popcat</li>\n",
    "                    <li>happycat</li>\n",
    "                </ol>\n",
    "            </li>\n",
    "            <li>\n",
    "                <ol type=\"a\">\n",
    "                    <li>popcat</li>\n",
    "                    <li>happycat</li>\n",
    "                </ol>\n",
    "            </li>\n",
    "            <li>\n",
    "                <ol type=\"A\">\n",
    "                    <li>popcat</li>\n",
    "                    <li>happycat</li>\n",
    "                </ol>\n",
    "            </li>\n",
    "            <li>\n",
    "                <ol type=\"i\">\n",
    "                    <li>popcat</li>\n",
    "                    <li>happycat</li>\n",
    "                </ol>\n",
    "            </li>\n",
    "            <li>\n",
    "                <ol type=\"I\">\n",
    "                    <li>popcat</li>\n",
    "                    <li>happycat</li>\n",
    "                </ol>\n",
    "            </li>\n",
    "        </ol>\n",
    "    </body>\n",
    "</html>"
   ]
  },
  {
   "cell_type": "markdown",
   "id": "7e7314a9",
   "metadata": {},
   "source": [
    "#### < li>< /li>\n",
    "用来表示列表中的元素"
   ]
  },
  {
   "cell_type": "markdown",
   "id": "195f711b",
   "metadata": {},
   "source": [
    "#### < ul>< /ul>\n",
    "unordered list, 无序列表,不过< li>< /li>没有改变\n",
    "\n",
    "属性:\n",
    "- type:\n",
    "    - disc:实心圆\n",
    "    - circle:空心圆\n",
    "    - square:小方块\n",
    "    - none:不显示"
   ]
  },
  {
   "cell_type": "code",
   "execution_count": 49,
   "id": "0e0cc4ad",
   "metadata": {},
   "outputs": [
    {
     "data": {
      "text/html": [
       "<!DOCTYPE html>\n",
       "<html>\n",
       "    <head>\n",
       "        <title>Page Title</title>\n",
       "    </head>\n",
       "    <body>\n",
       "        <ul type=\"disc\">\n",
       "            <li>\n",
       "                <ul type=\"circle\">\n",
       "                    <li>popcat</li>\n",
       "                    <li>happycat</li>\n",
       "                </ul>\n",
       "            </li>\n",
       "            <li>\n",
       "                <ul type=\"circle\">\n",
       "                    <li>popcat</li>\n",
       "                    <li>happycat</li>\n",
       "                </ul>\n",
       "            </li>\n",
       "            <li>\n",
       "                <ul type=\"circle\">\n",
       "                    <li>popcat</li>\n",
       "                    <li>happycat</li>\n",
       "                </ul>\n",
       "            </li>\n",
       "            <li>\n",
       "                <ul type=\"circle\">\n",
       "                    <li>popcat</li>\n",
       "                    <li>happycat</li>\n",
       "                </ul>\n",
       "            </li>\n",
       "            <li>\n",
       "                <ul type=\"circle\">\n",
       "                    <li>popcat</li>\n",
       "                    <li>happycat</li>\n",
       "                </ul>\n",
       "            </li>\n",
       "        </ul>\n",
       "    </body>\n",
       "</html>\n"
      ],
      "text/plain": [
       "<IPython.core.display.HTML object>"
      ]
     },
     "metadata": {},
     "output_type": "display_data"
    }
   ],
   "source": [
    "%%html\n",
    "<!DOCTYPE html>\n",
    "<html>\n",
    "    <head>\n",
    "        <title>Page Title</title>\n",
    "    </head>\n",
    "    <body>\n",
    "        <ul type=\"disc\">\n",
    "            <li>\n",
    "                <ul type=\"circle\">\n",
    "                    <li>popcat</li>\n",
    "                    <li>happycat</li>\n",
    "                </ul>\n",
    "            </li>\n",
    "            <li>\n",
    "                <ul type=\"circle\">\n",
    "                    <li>popcat</li>\n",
    "                    <li>happycat</li>\n",
    "                </ul>\n",
    "            </li>\n",
    "            <li>\n",
    "                <ul type=\"circle\">\n",
    "                    <li>popcat</li>\n",
    "                    <li>happycat</li>\n",
    "                </ul>\n",
    "            </li>\n",
    "            <li>\n",
    "                <ul type=\"circle\">\n",
    "                    <li>popcat</li>\n",
    "                    <li>happycat</li>\n",
    "                </ul>\n",
    "            </li>\n",
    "            <li>\n",
    "                <ul type=\"circle\">\n",
    "                    <li>popcat</li>\n",
    "                    <li>happycat</li>\n",
    "                </ul>\n",
    "            </li>\n",
    "        </ul>\n",
    "    </body>\n",
    "</html>"
   ]
  },
  {
   "cell_type": "markdown",
   "id": "a9bf6851",
   "metadata": {},
   "source": [
    "#### < table>< /table>\n",
    "- 表格:< table>< /table>\n",
    "    - 属性:\n",
    "        - border:表格边框\n",
    "        - width:表格宽度\n",
    "        - height:表格高度\n",
    "- 行:< tr>< /tr>\n",
    "- 单元格(列):< td>< /td>\n",
    "\n",
    "vscode里可以用table>tr$*$5>td$*$5快捷生成一个5$*$5的表格"
   ]
  },
  {
   "cell_type": "code",
   "execution_count": 51,
   "id": "a403e4b0",
   "metadata": {},
   "outputs": [
    {
     "data": {
      "text/html": [
       "<!DOCTYPE html>\n",
       "<html>\n",
       "    <head>\n",
       "        <title>Page Title</title>\n",
       "    </head>\n",
       "    <body>\n",
       "        <table border=\"1\">\n",
       "            <tr>\n",
       "                <td>元素11</td>\n",
       "                <td>元素12</td>\n",
       "            </tr>\n",
       "            <tr>\n",
       "                <td>元素21</td>\n",
       "                <td>元素22</td>\n",
       "            </tr>\n",
       "        </table>\n",
       "    </body>\n",
       "</html>\n"
      ],
      "text/plain": [
       "<IPython.core.display.HTML object>"
      ]
     },
     "metadata": {},
     "output_type": "display_data"
    }
   ],
   "source": [
    "%%html\n",
    "<!DOCTYPE html>\n",
    "<html>\n",
    "    <head>\n",
    "        <title>Page Title</title>\n",
    "    </head>\n",
    "    <body>\n",
    "        <table border=\"1\">\n",
    "            <tr>\n",
    "                <td>元素11</td>\n",
    "                <td>元素12</td>\n",
    "            </tr>\n",
    "            <tr>\n",
    "                <td>元素21</td>\n",
    "                <td>元素22</td>\n",
    "            </tr>\n",
    "        </table>\n",
    "    </body>\n",
    "</html>"
   ]
  },
  {
   "cell_type": "markdown",
   "id": "0b935483",
   "metadata": {},
   "source": [
    "##### 合并单元格\n",
    "合并方案:\n",
    "- 水平合并:colspan\n",
    "- 垂直合并:rowspan"
   ]
  },
  {
   "cell_type": "code",
   "execution_count": 59,
   "id": "9f197767",
   "metadata": {},
   "outputs": [
    {
     "data": {
      "text/html": [
       "<!DOCTYPE html>\n",
       "<html>\n",
       "    <head>\n",
       "        <title>Page Title</title>\n",
       "    </head>\n",
       "    <body>\n",
       "        <p>合并21和22:rowspan</p>\n",
       "        <p>合并35和45:colspan</p>\n",
       "        <p>合并41,42,51,52:rowspan + colspan</p>\n",
       "        <br>\n",
       "        <table border=\"1\" width=\"600px\" height=\"400px\">\n",
       "            <tr>\n",
       "                <td>11</td>\n",
       "                <td>12</td>\n",
       "                <td>13</td>\n",
       "                <td>14</td>\n",
       "                <td>15</td>\n",
       "            </tr>\n",
       "            <!-- 原先是这样的\n",
       "            <tr>\n",
       "                <td>21</td>\n",
       "                <td>22</td>\n",
       "                <td>23</td>\n",
       "                <td>24</td>\n",
       "                <td>25</td>\n",
       "            </tr>\n",
       "            -->\n",
       "            <tr>\n",
       "                <td colspan=\"2\">21&22</td>\n",
       "                <td>23</td>\n",
       "                <td>24</td>\n",
       "                <td>25</td>\n",
       "            </tr>\n",
       "            <!-- 原先是这样的\n",
       "            <tr>\n",
       "                <td>31</td>\n",
       "                <td>32</td>\n",
       "                <td>33</td>\n",
       "                <td>34</td>\n",
       "                <td>35</td>\n",
       "            </tr>\n",
       "            -->\n",
       "            <tr>\n",
       "                <td>31</td>\n",
       "                <td>32</td>\n",
       "                <td>33</td>\n",
       "                <td>34</td>\n",
       "                <td rowspan=\"2\">35</td>\n",
       "            </tr>\n",
       "            <tr>\n",
       "                <td rowspan=\"2\" colspan=\"2\">41</td>\n",
       "                <td>43</td>\n",
       "                <td>44</td>\n",
       "            </tr>\n",
       "            <tr>\n",
       "                <td>53</td>\n",
       "                <td>54</td>\n",
       "                <td>55</td>\n",
       "            </tr>\n",
       "        </table>\n",
       "    </body>\n",
       "</html>\n"
      ],
      "text/plain": [
       "<IPython.core.display.HTML object>"
      ]
     },
     "metadata": {},
     "output_type": "display_data"
    }
   ],
   "source": [
    "%%html\n",
    "<!DOCTYPE html>\n",
    "<html>\n",
    "    <head>\n",
    "        <title>Page Title</title>\n",
    "    </head>\n",
    "    <body>\n",
    "        <p>合并21和22:rowspan</p>\n",
    "        <p>合并35和45:colspan</p>\n",
    "        <p>合并41,42,51,52:rowspan + colspan</p>\n",
    "        <br>\n",
    "        <table border=\"1\" width=\"600px\" height=\"400px\">\n",
    "            <tr>\n",
    "                <td>11</td>\n",
    "                <td>12</td>\n",
    "                <td>13</td>\n",
    "                <td>14</td>\n",
    "                <td>15</td>\n",
    "            </tr>\n",
    "            <!-- 原先是这样的\n",
    "            <tr>\n",
    "                <td>21</td>\n",
    "                <td>22</td>\n",
    "                <td>23</td>\n",
    "                <td>24</td>\n",
    "                <td>25</td>\n",
    "            </tr>\n",
    "            -->\n",
    "            <tr>\n",
    "                <td colspan=\"2\">21&22</td>\n",
    "                <td>23</td>\n",
    "                <td>24</td>\n",
    "                <td>25</td>\n",
    "            </tr>\n",
    "            <!-- 原先是这样的\n",
    "            <tr>\n",
    "                <td>31</td>\n",
    "                <td>32</td>\n",
    "                <td>33</td>\n",
    "                <td>34</td>\n",
    "                <td>35</td>\n",
    "            </tr>\n",
    "            -->\n",
    "            <tr>\n",
    "                <td>31</td>\n",
    "                <td>32</td>\n",
    "                <td>33</td>\n",
    "                <td>34</td>\n",
    "                <td rowspan=\"2\">35</td>\n",
    "            </tr>\n",
    "            <tr>\n",
    "                <td rowspan=\"2\" colspan=\"2\">41</td>\n",
    "                <td>43</td>\n",
    "                <td>44</td>\n",
    "            </tr>\n",
    "            <tr>\n",
    "                <td>53</td>\n",
    "                <td>54</td>\n",
    "                <td>55</td>\n",
    "            </tr>\n",
    "        </table>\n",
    "    </body>\n",
    "</html>"
   ]
  },
  {
   "cell_type": "markdown",
   "id": "6b75684e",
   "metadata": {},
   "source": [
    "#### < form>< /form>\n",
    "用于穿件可以提交的表单\n",
    "- action:网址\n",
    "- name:表单名称, get|post,因为要提交表单,所以自然不是delete那些\n",
    "\n",
    "表单内的元素用< input>< /input>表示\n",
    "\n",
    "一般来说表单包含以下三个组成部分\n",
    "- 表单标签\n",
    "- 表单域\n",
    "- 表单按钮"
   ]
  },
  {
   "cell_type": "code",
   "execution_count": 1,
   "id": "e5a92334",
   "metadata": {},
   "outputs": [
    {
     "data": {
      "text/html": [
       "<form>\n",
       "    <input type=\"text\">请输入东西\n",
       "    <input type=\"submit\" value = \"提交\">\n",
       "</form>\n"
      ],
      "text/plain": [
       "<IPython.core.display.HTML object>"
      ]
     },
     "metadata": {},
     "output_type": "display_data"
    }
   ],
   "source": [
    "%%html\n",
    "<form>\n",
    "    <input type=\"text\">请输入东西\n",
    "    <input type=\"submit\" value = \"提交\">\n",
    "</form>"
   ]
  },
  {
   "cell_type": "markdown",
   "id": "3f1ad769",
   "metadata": {},
   "source": [
    "#### input\n",
    "属性:\n",
    "\n",
    "种类太多了,自己查:https://www.w3schools.com/tags/tag_input.asp"
   ]
  },
  {
   "cell_type": "markdown",
   "id": "a0c80915",
   "metadata": {},
   "source": [
    "## 块元素和行内元素:\n",
    "https://www.runoob.com/html/html-blocks.html#:~:text=HTML%20%3Cdiv%3E%20%E5%85%83%E7%B4%A0%E6%98%AF%E5%9D%97%E7%BA%A7%E5%85%83%E7%B4%A0%EF%BC%8C%E5%AE%83%E5%8F%AF%E7%94%A8%E4%BA%8E%E7%BB%84%E5%90%88%E5%85%B6%E4%BB%96%20HTML%20%E5%85%83%E7%B4%A0%E7%9A%84%E5%AE%B9%E5%99%A8%E3%80%82%20%3Cdiv%3E%20%E5%85%83%E7%B4%A0%E6%B2%A1%E6%9C%89%E7%89%B9%E5%AE%9A%E7%9A%84%E5%90%AB%E4%B9%89%E3%80%82%20%E9%99%A4%E6%AD%A4%E4%B9%8B%E5%A4%96%EF%BC%8C%E7%94%B1%E4%BA%8E%E5%AE%83%E5%B1%9E%E4%BA%8E%E5%9D%97%E7%BA%A7%E5%85%83%E7%B4%A0%EF%BC%8C%E6%B5%8F%E8%A7%88%E5%99%A8%E4%BC%9A%E5%9C%A8%E5%85%B6%E5%89%8D%E5%90%8E%E6%98%BE%E7%A4%BA%E6%8A%98%E8%A1%8C%E3%80%82,%3Cdiv%3E%20%E5%85%83%E7%B4%A0%E7%9A%84%E5%8F%A6%E4%B8%80%E4%B8%AA%E5%B8%B8%E8%A7%81%E7%9A%84%E7%94%A8%E9%80%94%E6%98%AF%E6%96%87%E6%A1%A3%E5%B8%83%E5%B1%80%E3%80%82%20%E5%AE%83%E5%8F%96%E4%BB%A3%E4%BA%86%E4%BD%BF%E7%94%A8%E8%A1%A8%E6%A0%BC%E5%AE%9A%E4%B9%89%E5%B8%83%E5%B1%80%E7%9A%84%E8%80%81%E5%BC%8F%E6%96%B9%E6%B3%95%E3%80%82%20%E4%BD%BF%E7%94%A8%20%3Ctable%3E%20%E5%85%83%E7%B4%A0%E8%BF%9B%E8%A1%8C%E6%96%87%E6%A1%A3%E5%B8%83%E5%B1%80%E4%B8%8D%E6%98%AF%E8%A1%A8%E6%A0%BC%E7%9A%84%E6%AD%A3%E7%A1%AE%E7%94%A8%E6%B3%95%E3%80%82%20%3Ctable%3E%20%E5%85%83%E7%B4%A0%E7%9A%84%E4%BD%9C%E7%94%A8%E6%98%AF%E6%98%BE%E7%A4%BA%E8%A1%A8%E6%A0%BC%E5%8C%96%E7%9A%84%E6%95%B0%E6%8D%AE%E3%80%82"
   ]
  },
  {
   "cell_type": "markdown",
   "id": "f9868db5",
   "metadata": {},
   "source": [
    "# css\n",
    "## 一般格式:\n",
    "选择器 {属性1:值;属性2:值}\n",
    "\n",
    "差不多和json很像\n",
    "\n",
    "例:(这里直接写入html)\n",
    "\n",
    "### 注意:由于jupyter notebook直接使用html,更改css可能会导致jupyter notebook整个格式错乱,记得重置\n"
   ]
  },
  {
   "cell_type": "code",
   "execution_count": 7,
   "id": "fc60b82a",
   "metadata": {},
   "outputs": [
    {
     "name": "stdout",
     "output_type": "stream",
     "text": [
      "Reset css and font defaults in:\r\n",
      "/root/.jupyter/custom &\r\n",
      "/root/.local/share/jupyter/nbextensions\r\n"
     ]
    }
   ],
   "source": [
    "#! pip install --upgrade jupyterthemes\n",
    "# 也可以用这个设置jupyter风格,不过我习惯默认\n",
    "!jt -r\n",
    "# refresh the page to reload css\n",
    "# remember to save!!!"
   ]
  },
  {
   "cell_type": "code",
   "execution_count": 3,
   "id": "59842d3d",
   "metadata": {},
   "outputs": [
    {
     "data": {
      "text/html": [
       "<!DOCTYPE html>\n",
       "<html>\n",
       "    <head>\n",
       "        <title>网页</title>\n",
       "        <style>\n",
       "            h1 {\n",
       "                color: blue;\n",
       "                font-size: 12px;\n",
       "                font-family: SimSun;\n",
       "                background-color: red;\n",
       "            }\n",
       "        </style>\n",
       "    </head>\n",
       "    <body>\n",
       "        某个网页\n",
       "        <h1 align = \"center\">标题1</h1>\n",
       "        <h2 align = \"left\">标题2</h2>\n",
       "        <h3 align = \"right\">标题3</h3>\n",
       "        <h4>标题4</h4>\n",
       "        <h5>标题5</h5>\n",
       "        <h6>标题6</h6>\n",
       "    </body>\n",
       "</html>\n"
      ],
      "text/plain": [
       "<IPython.core.display.HTML object>"
      ]
     },
     "metadata": {},
     "output_type": "display_data"
    }
   ],
   "source": [
    "%%html\n",
    "<!DOCTYPE html>\n",
    "<html>\n",
    "    <head>\n",
    "        <title>网页</title>\n",
    "        <style>\n",
    "            h1 {\n",
    "                color: blue;\n",
    "                font-size: 12px;\n",
    "                font-family: SimSun;\n",
    "                background-color: red;\n",
    "            }\n",
    "        </style>\n",
    "    </head>\n",
    "    <body>\n",
    "        某个网页\n",
    "        <h1 align = \"center\">标题1</h1>\n",
    "        <h2 align = \"left\">标题2</h2>\n",
    "        <h3 align = \"right\">标题3</h3>\n",
    "        <h4>标题4</h4>\n",
    "        <h5>标题5</h5>\n",
    "        <h6>标题6</h6>\n",
    "    </body>\n",
    "</html>\n"
   ]
  },
  {
   "cell_type": "markdown",
   "id": "3d1af713",
   "metadata": {},
   "source": [
    "## css的引入方式:\n",
    "### 行内(不建议)\n",
    "通过style通用html标签属性直接写在标签里(不建议使用)"
   ]
  },
  {
   "cell_type": "code",
   "execution_count": 5,
   "id": "b63b819c",
   "metadata": {},
   "outputs": [
    {
     "data": {
      "text/html": [
       "<!DOCTYPE html>\n",
       "<html>\n",
       "    <head>\n",
       "        <title>Page Title</title>\n",
       "    </head>\n",
       "    <body>\n",
       "        <p style=\"text-indent:30px;color:red\">行内css</p>\n",
       "        <p>不用css</p>\n",
       "    </body>\n",
       "</html>\n"
      ],
      "text/plain": [
       "<IPython.core.display.HTML object>"
      ]
     },
     "metadata": {},
     "output_type": "display_data"
    }
   ],
   "source": [
    "%%html\n",
    "<!DOCTYPE html>\n",
    "<html>\n",
    "    <head>\n",
    "        <title>Page Title</title>\n",
    "    </head>\n",
    "    <body>\n",
    "        <p style=\"text-indent:30px;color:red\">行内css</p>\n",
    "        <p>不用css</p>\n",
    "    </body>\n",
    "</html>"
   ]
  },
  {
   "cell_type": "markdown",
   "id": "f7f61ce2",
   "metadata": {},
   "source": [
    "### < style>< /style>\n",
    "可以直接在< head>< /head>中添加< style>< /style>来定义整个html的css\n",
    "\n",
    "注意:如果通过< a>跳转到其他页面< style>< /style>里的格式不会生效"
   ]
  },
  {
   "cell_type": "code",
   "execution_count": null,
   "id": "c7a3a40a",
   "metadata": {},
   "outputs": [],
   "source": [
    "%%html\n",
    "<!DOCTYPE html>\n",
    "<html>\n",
    "    <head>\n",
    "        <title>网页</title>\n",
    "        <style>\n",
    "            h1 {\n",
    "                color: blue;\n",
    "                font-size: 12px;\n",
    "                font-family: SimSun;\n",
    "                background-color: red;\n",
    "            }\n",
    "        </style>\n",
    "    </head>\n",
    "    <body>\n",
    "        某个网页\n",
    "        <h1 align = \"center\">标题1</h1>\n",
    "        <h2 align = \"left\">标题2</h2>\n",
    "        <h3 align = \"right\">标题3</h3>\n",
    "        <h4>标题4</h4>\n",
    "        <h5>标题5</h5>\n",
    "        <h6>标题6</h6>\n",
    "    </body>\n",
    "</html>\n"
   ]
  },
  {
   "cell_type": "markdown",
   "id": "5ba565dc",
   "metadata": {},
   "source": [
    "### < link>\n",
    "通过< link>引入外部css文件\n",
    "\n",
    "同样,跳转到其他页面不会生效\n",
    "\n",
    "注意,虽然是外部文件,但是这里加载依然会改变整个jupyter notebook的css,不建议在这里运行"
   ]
  },
  {
   "cell_type": "code",
   "execution_count": 6,
   "id": "28fd1757",
   "metadata": {},
   "outputs": [
    {
     "data": {
      "text/html": [
       "<!DOCTYPE html>\n",
       "<html>\n",
       "    <head>\n",
       "        <link rel=\"stylesheet\" type=\"text/css\" href=\"./examples/css_involved/css/example.css\">\n",
       "        <title>网页</title>\n",
       "    </head>\n",
       "    <body>\n",
       "        <p>某个网页</p>\n",
       "        <h1 align = \"center\">标题1</h1>\n",
       "        <h2 align = \"left\">标题2</h2>\n",
       "        <h3 align = \"right\">标题3</h3>\n",
       "        <h4>标题4</h4>\n",
       "        <h5>标题5</h5>\n",
       "        <h6>标题6</h6>\n",
       "    </body>\n",
       "</html>\n"
      ],
      "text/plain": [
       "<IPython.core.display.HTML object>"
      ]
     },
     "metadata": {},
     "output_type": "display_data"
    }
   ],
   "source": [
    "%%html\n",
    "<!DOCTYPE html>\n",
    "<html>\n",
    "    <head>\n",
    "        <link rel=\"stylesheet\" type=\"text/css\" href=\"./examples/css_involved/css/example.css\">\n",
    "        <title>网页</title>\n",
    "    </head>\n",
    "    <body>\n",
    "        <p>某个网页</p>\n",
    "        <h1 align = \"center\">标题1</h1>\n",
    "        <h2 align = \"left\">标题2</h2>\n",
    "        <h3 align = \"right\">标题3</h3>\n",
    "        <h4>标题4</h4>\n",
    "        <h5>标题5</h5>\n",
    "        <h6>标题6</h6>\n",
    "    </body>\n",
    "</html>\n"
   ]
  },
  {
   "cell_type": "markdown",
   "id": "1a429016",
   "metadata": {},
   "source": [
    "## css选择器\n",
    "### 全局选择器:\n",
    "应用到所有元素上,优先级最低,一般是样式初始化"
   ]
  },
  {
   "cell_type": "code",
   "execution_count": null,
   "id": "571599ff",
   "metadata": {},
   "outputs": [],
   "source": [
    "*{\n",
    "    margin: 0;\n",
    "    padding: 0;\n",
    "}"
   ]
  },
  {
   "cell_type": "markdown",
   "id": "0a408b3b",
   "metadata": {},
   "source": [
    "### 元素选择器:\n",
    "标签名 {属性:值;}\n",
    "\n",
    "可以是任何html文档中的标签,但是只能同时改变所有这种标签的样式\n",
    "\n",
    "之前已经有很多这种例子了"
   ]
  },
  {
   "cell_type": "code",
   "execution_count": null,
   "id": "6131cde7",
   "metadata": {},
   "outputs": [],
   "source": [
    "p{\n",
    "    font-size:14px;\n",
    "    color:red;\n",
    "}"
   ]
  },
  {
   "cell_type": "markdown",
   "id": "4f6ca40c",
   "metadata": {},
   "source": [
    "### 类选择器:\n",
    "需要现在要改样式的标签里定义class属性,然后根据class名写css\n",
    "\n",
    "- 可以对多种标签使用\n",
    "- 类名不能以数字开头\n",
    "- 同一个标签可以用多个类选择器,加上空格隔开的多个class属性就行,如果属性冲突,会优先使用第一个可适用的属性定义"
   ]
  },
  {
   "cell_type": "code",
   "execution_count": null,
   "id": "c91a3c0b",
   "metadata": {},
   "outputs": [],
   "source": [
    "# 假设我们有一个class叫example\n",
    ".example{\n",
    "    color:purple;\n",
    "}\n",
    "# 会应用到如下tag上,注:something这个标签不存在,可以是任意标签\n",
    "<something class=\"example\">...</something>\n",
    "<something class=\"example\" class=\"example1\">...</something>"
   ]
  },
  {
   "cell_type": "markdown",
   "id": "cca5da57",
   "metadata": {},
   "source": [
    "### id选择器\n",
    "针对一个特定的标签使用,只能使用一次,css中用#定义 \n",
    "- id是唯一的(规范上不能重复,语法上可行)\n",
    "- id不能以数字开头"
   ]
  },
  {
   "cell_type": "code",
   "execution_count": null,
   "id": "f7d3c4db",
   "metadata": {},
   "outputs": [],
   "source": [
    "#something{\n",
    "    border:3px dashed green;\n",
    "}"
   ]
  },
  {
   "cell_type": "markdown",
   "id": "022df6c7",
   "metadata": {},
   "source": [
    "### 合并选择器\n",
    "提取相同的样式,减少重复代码\n",
    "\n",
    "选择器1,选择器2{}"
   ]
  },
  {
   "cell_type": "code",
   "execution_count": null,
   "id": "022fd6b4",
   "metadata": {},
   "outputs": [],
   "source": [
    ".h1.p{\n",
    "    color:green;\n",
    "}"
   ]
  },
  {
   "cell_type": "markdown",
   "id": "fe2e7647",
   "metadata": {},
   "source": [
    "### 其他选择器\n",
    "#### 后代选择器\n",
    "选择所有被符合选择器1的标签包含的选择器2类标签"
   ]
  },
  {
   "cell_type": "code",
   "execution_count": null,
   "id": "71f406a9",
   "metadata": {},
   "outputs": [],
   "source": [
    "ul li{\n",
    "    color:green\n",
    "}"
   ]
  },
  {
   "cell_type": "markdown",
   "id": "7df636d5",
   "metadata": {},
   "source": [
    "#### >选择器：\n",
    "只选择直接作为选择器1的标签的选择器2类标签应用css,不对更深的标签起作用\n",
    "\n",
    "可以和上面的选择器一起用"
   ]
  },
  {
   "cell_type": "code",
   "execution_count": null,
   "id": "93ff6a98",
   "metadata": {},
   "outputs": [],
   "source": [
    "ul>li{\n",
    "    color:green;\n",
    "}"
   ]
  },
  {
   "cell_type": "markdown",
   "id": "e9af85c6",
   "metadata": {},
   "source": [
    "#### +选择器:\n",
    "选择跟在符合选择器1条件的标签之后的选择器2类标签应用css\n",
    "\n",
    "可以和上面的选择器一起用"
   ]
  },
  {
   "cell_type": "code",
   "execution_count": null,
   "id": "b7b1f7fc",
   "metadata": {},
   "outputs": [],
   "source": [
    ".example+p{\n",
    "    color:red;\n",
    "}"
   ]
  },
  {
   "cell_type": "markdown",
   "id": "273521d2",
   "metadata": {},
   "source": [
    "#### ~选择器:\n",
    "选择跟在符合选择器1条件的标签之后的所有选择器2元素,和后代选择器不同的是这个不在选择器1标签里\n"
   ]
  },
  {
   "cell_type": "code",
   "execution_count": null,
   "id": "66ff649a",
   "metadata": {},
   "outputs": [],
   "source": [
    ".example~p{\n",
    "    color:red;\n",
    "}"
   ]
  },
  {
   "cell_type": "markdown",
   "id": "2053cf92",
   "metadata": {},
   "source": [
    "### 伪对象选择器:\n",
    "给元素追加一个虚拟标签,可以节省html的资源开销\n",
    "- ::after在后面添加一个对象\n",
    "- ::before在前面添加一个对象\n",
    "- content(必须有,否则伪对象无效)\n",
    "\n",
    "其他查表:https://www.w3schools.com/cssref/css_selectors.php"
   ]
  },
  {
   "cell_type": "markdown",
   "id": "1b297e82",
   "metadata": {},
   "source": [
    "### 优先级\n",
    "行内样式>ID选择器>类选择器>元素选择器"
   ]
  },
  {
   "cell_type": "markdown",
   "id": "f07708ab",
   "metadata": {},
   "source": [
    "## 字体属性:\n",
    "### color:\n",
    "- color\n",
    "    - 各种颜色: 查表https://www.w3schools.com/colors/colors_names.asp\n",
    "    - 色值:(茴香豆有4种写法,色值有5种写法)\n",
    "      - RGB值:rgb(255,99,71),三个值分别对应rgb三个值,取值范围0-255\n",
    "        - < p style=\"background-color:rgb(255, 99, 71)\">html< /p>:<p style=\"background-color:rgb(255,99,71)\">rgb(255,99,71)</p>\n",
    "      - HEX值:#ff6347,和上面差不多,每两位表示RGB中的一个值,前面加上井号\n",
    "        - < p style=\"background-color:#ff6347\">html< /p>:<p style=\"background-color:#ff6347\">#ff6347</p>\n",
    "      - RGBA值:rgba(255,99,71,1),rgba加上透明度(这个应该是可以的,但是jupyter不知道为什么会把style吞掉,如果%%html没问题,直接markdown不显示颜色)\n",
    "        - < p style=\"background-color:rgba(255, 99, 71, 0.5)\">< /p>:<p style=\"background-color:hsla(9, 100%, 64%, 0.5)\">rgba(9, 100%, 64%, 0.5)</p>"
   ]
  },
  {
   "cell_type": "code",
   "execution_count": null,
   "id": "7f5d7aa6",
   "metadata": {},
   "outputs": [],
   "source": [
    "div{color:red;}\n",
    "div{color:#ff0000;}\n",
    "div{color:rgb(255,0,0)}\n",
    "div{color:rgba(255.0,0,.5)}"
   ]
  },
  {
   "cell_type": "markdown",
   "id": "4f31678b",
   "metadata": {},
   "source": [
    "### font-size\n",
    "某些浏览器有最小字体大小"
   ]
  },
  {
   "cell_type": "code",
   "execution_count": null,
   "id": "ddf62147",
   "metadata": {},
   "outputs": [],
   "source": [
    "div{font-size:10px;}"
   ]
  },
  {
   "cell_type": "markdown",
   "id": "81f05be5",
   "metadata": {},
   "source": [
    "### font-weight:\n",
    "设置文本的粗细\n",
    "- bold:加粗\n",
    "- bolder:更粗\n",
    "- lighter:更细\n",
    "- 100-900:默认400,bold700"
   ]
  },
  {
   "cell_type": "code",
   "execution_count": null,
   "id": "97c3a9e4",
   "metadata": {},
   "outputs": [],
   "source": [
    "#5 {font-weight:normal}\n",
    "#6 {font-weight:bold}\n",
    "#7 {font-weight:bolder}\n",
    "#8 {font-weight:lighter}\n",
    "#9 {font-weight:360}"
   ]
  },
  {
   "cell_type": "markdown",
   "id": "558142b6",
   "metadata": {},
   "source": [
    "### font-style:\n",
    "设置文本的字体样式\n",
    "- normal:默认\n",
    "- italic:斜体字"
   ]
  },
  {
   "cell_type": "code",
   "execution_count": null,
   "id": "9a4afe3c",
   "metadata": {},
   "outputs": [],
   "source": [
    "#10 {font-style:normal}\n",
    "#11 {font-style:italic}"
   ]
  },
  {
   "cell_type": "markdown",
   "id": "2d0ca073",
   "metadata": {},
   "source": [
    "### font-family:\n",
    "用来指定一个元素的字体,如果字体名称包含空格,则必须用引号包裹"
   ]
  },
  {
   "cell_type": "markdown",
   "id": "f9be62e5",
   "metadata": {},
   "source": [
    "## 背景\n",
    "### background-color\n",
    "和color一样\n",
    "### background-image\n",
    "那个url()里面可以填本地地址,直接从本地访问图片"
   ]
  },
  {
   "cell_type": "code",
   "execution_count": null,
   "id": "ea667b17",
   "metadata": {},
   "outputs": [],
   "source": [
    ".box{\n",
    "    width: 600px;\n",
    "    height: 600px;\n",
    "    background-image: url(\"some url\")\n",
    "}"
   ]
  },
  {
   "cell_type": "markdown",
   "id": "d066665d",
   "metadata": {},
   "source": [
    "### background-repeat:\n",
    "设置图片如何重复:\n",
    "- repeat:默认属性,在分配的空间大于图片大小的时候会像两个方向重复图片\n",
    "- repeat-x:只在x方向上重复图片\n",
    "- repeat-y:只在y方向上重复图片\n",
    "- no-repeat:不重复图片"
   ]
  },
  {
   "cell_type": "code",
   "execution_count": null,
   "id": "ffead7a3",
   "metadata": {},
   "outputs": [],
   "source": [
    ".box{\n",
    "    background-image:url(\"something\");\n",
    "    background-repeat:no-repeat;\n",
    "}"
   ]
  },
  {
   "cell_type": "markdown",
   "id": "9ac9a0be",
   "metadata": {},
   "source": [
    "### background-size:\n",
    "设置背景图片的大小\n",
    "- length:设置背景图片的宽度和高度,可以只设置一个值,另一个会默认成auto\n",
    "- percentage:设置图片占相对区域面积的百分比,可以只设置一个值,另一个会默认成auto\n",
    "- cover:将图片设置成能完全覆盖背景区域的最大大小\n",
    "- contain:保持图片和总比并且放缩成适合背景定位的最大大小"
   ]
  },
  {
   "cell_type": "code",
   "execution_count": null,
   "id": "69894cf4",
   "metadata": {},
   "outputs": [],
   "source": [
    ".box{\n",
    "    background-image: url(\"something\");\n",
    "    background-size 100% 100%;\n",
    "}"
   ]
  },
  {
   "cell_type": "markdown",
   "id": "3006f41c",
   "metadata": {},
   "source": [
    "### background-position:\n",
    "以下都是第一个位置为水平位置,第二个为垂直位置,英文字面意思,不要多想\n",
    "- left top\n",
    "- left center\n",
    "- left bottom\n",
    "- right center\n",
    "- right bottom\n",
    "- center top\n",
    "- center center\n",
    "- center bottom\n",
    "- x% y%\n",
    "- xpos ypos"
   ]
  },
  {
   "cell_type": "code",
   "execution_count": null,
   "id": "11247233",
   "metadata": {},
   "outputs": [],
   "source": [
    ".box{\n",
    "    background-image: url(\"something\");\n",
    "    background-position: left top;\n",
    "}"
   ]
  },
  {
   "cell_type": "markdown",
   "id": "9c808ccb",
   "metadata": {},
   "source": [
    "## 文本属性\n",
    "### text-align\n",
    "文本对齐方式,英文字面意思\n",
    "- left\n",
    "- right\n",
    "- center"
   ]
  },
  {
   "cell_type": "code",
   "execution_count": null,
   "id": "7ec93ca2",
   "metadata": {},
   "outputs": [],
   "source": [
    "h1 {\n",
    "    text-align:center\n",
    "}"
   ]
  },
  {
   "cell_type": "markdown",
   "id": "532f4e2e",
   "metadata": {},
   "source": [
    "### text-decoration:\n",
    "添加到文本的修饰,下划线,上划线,删除线等,英文字面意思?\n",
    "- underline\n",
    "- overline\n",
    "- line-through"
   ]
  },
  {
   "cell_type": "code",
   "execution_count": null,
   "id": "f3381354",
   "metadata": {},
   "outputs": [],
   "source": [
    "h1 {\n",
    "    text-decoration:underline;\n",
    "}"
   ]
  },
  {
   "cell_type": "markdown",
   "id": "60e87a9c",
   "metadata": {},
   "source": [
    "### text-transform\n",
    "还是英文字面意思\n",
    "- captialize\n",
    "- uppercase\n",
    "- lowercase"
   ]
  },
  {
   "cell_type": "code",
   "execution_count": null,
   "id": "da2db597",
   "metadata": {},
   "outputs": [],
   "source": [
    "h1 {\n",
    "    text-transform:uppercase;\n",
    "}"
   ]
  },
  {
   "cell_type": "markdown",
   "id": "6bcbca87",
   "metadata": {},
   "source": [
    "### text-indent:\n",
    "定义缩进,直接是x px"
   ]
  },
  {
   "cell_type": "code",
   "execution_count": null,
   "id": "96eb31a5",
   "metadata": {},
   "outputs": [],
   "source": [
    "h1 {\n",
    "    text-indent:30px;\n",
    "}"
   ]
  },
  {
   "cell_type": "markdown",
   "id": "48a2ac88",
   "metadata": {},
   "source": [
    "## 表格属性\n",
    "### border：\n",
    "定义表格边框：\n",
    "- 边框距离\n",
    "- 边框样式\n",
    "- 边框颜色"
   ]
  },
  {
   "cell_type": "code",
   "execution_count": null,
   "id": "1400b7ae",
   "metadata": {},
   "outputs": [],
   "source": [
    "table,td{\n",
    "    border: 1px solid black;\n",
    "}"
   ]
  },
  {
   "cell_type": "markdown",
   "id": "0601a210",
   "metadata": {},
   "source": [
    "### border-collapse:\n",
    "设置边框是折叠成一个单一的边框还是隔开"
   ]
  },
  {
   "cell_type": "code",
   "execution_count": null,
   "id": "069744dd",
   "metadata": {},
   "outputs": [],
   "source": [
    "table{\n",
    "    border-collapse:collapse;\n",
    "}"
   ]
  },
  {
   "cell_type": "markdown",
   "id": "6641a25e",
   "metadata": {},
   "source": [
    "### padding:< td>< /td>和< th>< /th>的属性\n",
    "填充四周"
   ]
  },
  {
   "cell_type": "code",
   "execution_count": null,
   "id": "bde9e340",
   "metadata": {},
   "outputs": [],
   "source": [
    "td{\n",
    "    padding:15px;\n",
    "}"
   ]
  },
  {
   "cell_type": "markdown",
   "id": "304af529",
   "metadata": {},
   "source": [
    "## css盒子模型:\n",
    "封装周围的html元素的整体框架\n",
    "- margin 外边距,透明的\n",
    "- border 边框\n",
    "- padding 内边距,透明的\n",
    "- content 实际内容,编辑weight和height的时候实际编辑的是content部分的大小\n",
    "\n",
    "针对这几个有一堆的css属性,具体自己查https://www.w3schools.com/cssref/index.php\n",
    "\n",
    "一般border属性都以border开头\n",
    "\n",
    "常用的对于以上四个都适用的,英文字面意思\n",
    "- margin-top\n",
    "- margin-bottom\n",
    "- margin-left\n",
    "- margin-right\n",
    "- border-top\n",
    "- border-bottom\n",
    "- border-left\n",
    "- border-right\n",
    "- padding-top\n",
    "- padding-bottom\n",
    "- padding-left\n",
    "- padding-right\n",
    "\n",
    "\n",
    "\n",
    "\n"
   ]
  },
  {
   "cell_type": "markdown",
   "id": "d5ede64c",
   "metadata": {},
   "source": [
    "## css弹性盒子\n",
    "弹性元素由弹性容器和弹性子元素组成,通过设置display的属性将其定义为弹性容器\n",
    "\n",
    "弹性盒子默认横向摆放\n",
    "### 父元素上的属性:\n",
    "- display:flex 启用弹性盒子,默认为水平排列\n",
    "\n",
    "#### flex-direction:\n",
    "- row 横向从左到右摆放\n",
    "- row-reverse 横向从右到左摆放\n",
    "- column 纵向从上到下排列\n",
    "- column-reverse 纵向从下到上排列\n",
    "\n",
    "#### justify-content:\n",
    "- flex-start\n",
    "- flex-end\n",
    "- center\n",
    "把元素在哪边对齐,英文字面意思,注意这个是垂直方向的布局,一次被放在最上面,最下面和中间\n",
    "\n",
    "#### align-items:\n",
    "- flex-start\n",
    "- flex-end\n",
    "- center\n",
    "### 子元素上的属性:\n",
    "#### flex-grow:\n",
    "设置扩展因子,会根据弹性盒子的扩展因子分配剩余空间\n",
    "\n",
    "可以设置扩展因子让各个元素大小自动按比例分配\n",
    "\n",
    "各个元素的比例=扩展因子+1"
   ]
  },
  {
   "cell_type": "markdown",
   "id": "e26f8f41",
   "metadata": {},
   "source": [
    "## 文档流:\n",
    "### 问题:\n",
    "#### 空格折叠\n",
    "无论放多少个空格都会被折叠成一个空格\n",
    "#### 元素无间隙:\n",
    "如果有两个并排的图片一起放置,中间是没有间隙的\n",
    "### 解决:\n",
    "脱离文档流:\n",
    "- 浮动\n",
    "- 绝对定位\n",
    "- 固定定位\n",
    "#### 浮动:\n",
    "float属性:(只有左右浮动,没有上下浮动),可以是元素拖了文档流\n",
    "- left(向左浮动)\n",
    "- right(向右浮动)\n",
    "\n",
    "元素同时向一方向浮动的时候,会变成水平摆放,向左或者向右\n",
    "\n",
    "当容器大小不足的时候会在下一行摆放\n",
    "\n",
    "#### 清除浮动:\n",
    "清除浮动会导致某些元素的位置发生变化,后续元素会收到影响\n",
    "- 父元素设置相应属性\n",
    "- 增加clear属性\n",
    "- overflow清除浮动\n",
    "- 伪对象方式\n",
    "##### clear\n",
    "- left(清除左浮动)\n",
    "- right(清除右浮动)\n",
    "- both(清除左右浮动,如果有的话)\n",
    "##### overflow:\n",
    "如果父元素出了问题,同级元素受到影响,可以用overflow清除浮动,这种情况下不能设置父元素的高度\n",
    "- visible(全部铺在页面上)\n",
    "- hidden(隐藏)\n",
    "- clip(把多的部分隐藏)\n",
    "- scroll(增加一个可滚动的轴,大小不调整)\n",
    "- auto(自适应)"
   ]
  },
  {
   "cell_type": "markdown",
   "id": "3a0a7928",
   "metadata": {},
   "source": [
    "## 定位:\n",
    "position属性\n",
    "- relative\n",
    "- absolute(脱离文档流)\n",
    "- fixed(脱离文档流)\n",
    "\n",
    "可以使用left,top,right,bottom四个属性调整位置\n",
    "\n",
    "对于absolute可以理解成每一个absolute的元素都在一个新的图层上\n",
    "\n",
    "fixed一般来说不会有这个问题,因为fixed元素会跟着页面滚动\n",
    "\n",
    "设置定位后定位随着能定位的父元素决定,直到顶层文档\n",
    "\n",
    "### z-index:\n",
    "解决图层问题"
   ]
  },
  {
   "cell_type": "markdown",
   "id": "40695ac4",
   "metadata": {},
   "source": [
    "## css3新特性:\n",
    "### border-radius\n",
    "创建圆角\n",
    "- 设置一个值:四个角圆角相同\n",
    "- 设置两个值:第一个为左上角和右下角,第二个值为右上角和左下角\n",
    "- 设置三个值:第一个为左上角,第二个为右上角和左下角,第三个是右下角\n",
    "- 设置四个值:第一个为左上角,第二个为右上角,第三个为左下角,第四个是右下角"
   ]
  },
  {
   "cell_type": "code",
   "execution_count": null,
   "id": "a98b6851",
   "metadata": {},
   "outputs": [],
   "source": [
    "#border-radius1{\n",
    "            width:200px;\n",
    "            height:200px;\n",
    "            background:violet;\n",
    "            border-radius:20px;\n",
    "        }"
   ]
  },
  {
   "cell_type": "markdown",
   "id": "5f365a5d",
   "metadata": {},
   "source": [
    "### box-shadow\n",
    "一共四个值:\n",
    "- h-shadow(必选):水平阴影的位置\n",
    "- v-shadow(必选):垂直阴影的位置\n",
    "- blur(可选):模糊距离\n",
    "- color(可选):阴影的颜色"
   ]
  },
  {
   "cell_type": "code",
   "execution_count": null,
   "id": "682e8886",
   "metadata": {},
   "outputs": [],
   "source": [
    "#box-shadow1{\n",
    "            width:200px;\n",
    "            height:200px;\n",
    "            background:aqua;\n",
    "            box-shadow: 10px 20px\n",
    "        }"
   ]
  },
  {
   "cell_type": "markdown",
   "id": "4dccf316",
   "metadata": {},
   "source": [
    "### 动画:\n",
    "用@keyframes创建动画\n",
    "\n",
    "属性太多了,建议自己查表https://www.w3schools.com/css/css3_animations.asp"
   ]
  },
  {
   "cell_type": "code",
   "execution_count": null,
   "id": "c8ffc6b4",
   "metadata": {},
   "outputs": [],
   "source": [
    "@keyframes rainbow{\n",
    "                0%{\n",
    "                    height:25px;\n",
    "                    width:25px;\n",
    "                    background-color:red;\n",
    "                }\n",
    "                16%{\n",
    "                    height:50px;\n",
    "                    width:50px;\n",
    "                    background-color:orange;\n",
    "                }\n",
    "                33%{\n",
    "                    height:75px;\n",
    "                    width:75px;\n",
    "                    background-color:yellow\n",
    "                }\n",
    "                50%{\n",
    "                    height:100px;\n",
    "                    width:100px;\n",
    "                    background-color:green\n",
    "                }\n",
    "                67%{\n",
    "                    height:125px;\n",
    "                    width:125px;\n",
    "                    background-color:aquamarine;\n",
    "                }\n",
    "                83%{\n",
    "                    height:150px;\n",
    "                    width:150px;\n",
    "                    background-color:blue\n",
    "                }\n",
    "                100%{\n",
    "                    height:175px;\n",
    "                    width:175px;\n",
    "                    background-color:purple;\n",
    "                }\n",
    "            }"
   ]
  },
  {
   "cell_type": "markdown",
   "id": "a490edfc",
   "metadata": {},
   "source": [
    "### 媒体查询:\n",
    "先设置< meta>\n",
    "\n",
    "用@media创建媒体查询,在不同屏幕大小下设置不同比例"
   ]
  },
  {
   "cell_type": "code",
   "execution_count": null,
   "id": "96314867",
   "metadata": {},
   "outputs": [],
   "source": [
    "@media screen and (max-width:768px) and (min-width:996px){\n",
    "                #box{\n",
    "                    background-color:aqua;\n",
    "                }\n",
    "                #p{\n",
    "                    display:none;\n",
    "                }\n",
    "            }"
   ]
  },
  {
   "cell_type": "markdown",
   "id": "cc726d0e",
   "metadata": {},
   "source": [
    "### 雪碧图/精灵图\n",
    "减少图片大小,减少http请求,提高性能\n",
    "\n",
    "通过把图片设置到background-image里调整位置可以把一堆图片整合进一张,需要用哪个就调整到哪个的位置"
   ]
  },
  {
   "cell_type": "code",
   "execution_count": null,
   "id": "a9b1c1e5",
   "metadata": {},
   "outputs": [],
   "source": [
    "#icon{\n",
    "                display: block; \n",
    "                width: 45px;\n",
    "                height: 70px;\n",
    "                background-image: url(https://prts.wiki/images/ak.png?8efd0);\n",
    "                border: 3px solid red;\n",
    "            }"
   ]
  },
  {
   "cell_type": "markdown",
   "id": "9beb162d",
   "metadata": {},
   "source": [
    "### 字体图标:\n",
    "相当于把图标通过unicode编码变成字体,省内存"
   ]
  },
  {
   "cell_type": "markdown",
   "id": "28c8ffa1",
   "metadata": {},
   "source": [
    "# js:\n",
    "有的用es5,有的用es6,看情况\n",
    "\n",
    "<p style=\"color:red;font-size:20px;font-family:SimHei\">由于notebook里经常会由于手残多次运行一个cell里的代码,用let定义变量不方便,于是以下代码经常有用var的情况,实际开发似乎let居多</p>\n",
    "\n",
    "## 书写位置\n",
    "### 直接写在html里面< script>< /script>\n",
    "规范问题把js的< script>< /script>写到< body>< /body>里面的最下面\n",
    "### 引入外部js\n",
    "还是< script>< /script>,引用和之前一样,相对引用和绝对应用,通过src属性定义js文件路径,如果有src属性,< script>< /script>之间的js语句不会被执行\n",
    "### 内联js:\n",
    "可以写入标签内部,vue会用这种模式"
   ]
  },
  {
   "cell_type": "markdown",
   "id": "0050b42a",
   "metadata": {},
   "source": [
    "## 注释:\n",
    "### 单行注释"
   ]
  },
  {
   "cell_type": "code",
   "execution_count": null,
   "id": "8dbfb8e8",
   "metadata": {},
   "outputs": [],
   "source": [
    "// 我是单行注释"
   ]
  },
  {
   "cell_type": "markdown",
   "id": "0a274d06",
   "metadata": {},
   "source": [
    "### 块注释"
   ]
  },
  {
   "cell_type": "code",
   "execution_count": null,
   "id": "4dc0d09e",
   "metadata": {},
   "outputs": [],
   "source": [
    "/*\n",
    "我是块注释\n",
    "*/"
   ]
  },
  {
   "cell_type": "markdown",
   "id": "8a97af5b",
   "metadata": {},
   "source": [
    "js语句末尾要加分号,不过实际开发中可写可不写,但是尽量要格式统一"
   ]
  },
  {
   "cell_type": "markdown",
   "id": "57be94cb",
   "metadata": {},
   "source": [
    "## 输入输出\n",
    "### document.write()\n",
    "相当于把html当做txt直接写"
   ]
  },
  {
   "cell_type": "code",
   "execution_count": null,
   "id": "8ab2168d",
   "metadata": {},
   "outputs": [],
   "source": [
    "document.write('我是div标签')//这个不会有标签\n",
    "document.write('<h1>我是标题</h1>')//这个会直接变成h1标签"
   ]
  },
  {
   "cell_type": "markdown",
   "id": "8b69714e",
   "metadata": {},
   "source": [
    "### alert\n",
    "直接在浏览器弹出警告"
   ]
  },
  {
   "cell_type": "code",
   "execution_count": null,
   "id": "541cbbc4",
   "metadata": {},
   "outputs": [],
   "source": [
    "alert(\"alert\")"
   ]
  },
  {
   "cell_type": "markdown",
   "id": "c130f231",
   "metadata": {},
   "source": [
    "### console.log()\n",
    "在控制台打印,网页上不可见"
   ]
  },
  {
   "cell_type": "code",
   "execution_count": 3,
   "id": "ae6c64dc",
   "metadata": {},
   "outputs": [
    {
     "name": "stdout",
     "output_type": "stream",
     "text": [
      "console\n"
     ]
    }
   ],
   "source": [
    "console.log(\"console\")"
   ]
  },
  {
   "cell_type": "markdown",
   "id": "fac81594",
   "metadata": {},
   "source": [
    "### prompt\n",
    "让用户输入东西"
   ]
  },
  {
   "cell_type": "code",
   "execution_count": 4,
   "id": "b15c67de",
   "metadata": {},
   "outputs": [
    {
     "ename": "ReferenceError",
     "evalue": "prompt is not defined",
     "output_type": "error",
     "traceback": [
      "evalmachine.<anonymous>:1",
      "prompt(\"输入东西:\")",
      "^",
      "",
      "ReferenceError: prompt is not defined",
      "    at evalmachine.<anonymous>:1:1",
      "    at Script.runInThisContext (vm.js:120:18)",
      "    at Object.runInThisContext (vm.js:309:38)",
      "    at run ([eval]:1020:15)",
      "    at onRunRequest ([eval]:864:18)",
      "    at onMessage ([eval]:828:13)",
      "    at process.emit (events.js:314:20)",
      "    at emit (internal/child_process.js:877:12)",
      "    at processTicksAndRejections (internal/process/task_queues.js:85:21)"
     ]
    }
   ],
   "source": [
    "prompt(\"输入东西:\")"
   ]
  },
  {
   "cell_type": "markdown",
   "id": "1c6002b5",
   "metadata": {},
   "source": [
    "## 各种量\n",
    "### 变量赋值:\n",
    "- let\n",
    "- var\n",
    "\n",
    "相当于kotlin的var和val,val不允许重新赋值\n",
    "\n",
    "let可以一行声明多个变量但是不推荐"
   ]
  },
  {
   "cell_type": "markdown",
   "id": "db26a41c",
   "metadata": {},
   "source": [
    "### 常量:\n",
    "const\n",
    "\n",
    "相当于java的final,kotlin的const"
   ]
  },
  {
   "cell_type": "code",
   "execution_count": 2,
   "id": "fcb2f9c2",
   "metadata": {},
   "outputs": [
    {
     "ename": "TypeError",
     "evalue": "Assignment to constant variable.",
     "output_type": "error",
     "traceback": [
      "evalmachine.<anonymous>:2",
      "a =5",
      "  ^",
      "",
      "TypeError: Assignment to constant variable.",
      "    at evalmachine.<anonymous>:2:3",
      "    at Script.runInThisContext (vm.js:120:18)",
      "    at Object.runInThisContext (vm.js:309:38)",
      "    at run ([eval]:1020:15)",
      "    at onRunRequest ([eval]:864:18)",
      "    at onMessage ([eval]:828:13)",
      "    at process.emit (events.js:314:20)",
      "    at emit (internal/child_process.js:877:12)",
      "    at processTicksAndRejections (internal/process/task_queues.js:85:21)"
     ]
    }
   ],
   "source": [
    "const a =10\n",
    "a =5"
   ]
  },
  {
   "cell_type": "markdown",
   "id": "e5b3e1af",
   "metadata": {},
   "source": [
    "## 数据类型:\n",
    "- number\n",
    "- string\n",
    "- boolean\n",
    "- undefined\n",
    "- null\n",
    "\n",
    "### number:\n",
    "js的数字部分浮点和整型\n",
    "\n",
    "常见运算符和python,java等一致\n",
    "\n",
    "#### NAN:\n",
    "如果出现数据类型的错误,比如字符串减数组会得到NAN(熟悉的not a number)\n",
    "\n",
    "任何和NaN的运算都会返回NaN\n"
   ]
  },
  {
   "cell_type": "code",
   "execution_count": 1,
   "id": "07776c7d",
   "metadata": {},
   "outputs": [
    {
     "name": "stdout",
     "output_type": "stream",
     "text": [
      "NaN\n",
      "NaN\n"
     ]
    }
   ],
   "source": [
    "let a = \"string\"\n",
    "console.log(a - 2)\n",
    "console.log((a - 2) + 1)"
   ]
  },
  {
   "cell_type": "markdown",
   "id": "48b296e6",
   "metadata": {},
   "source": [
    "### string:\n",
    "比python,java等多一个可以用``包裹\n",
    "\n",
    "同时,js是弱类型语言,可以实现字符串加数字等让某些魔怔人发出尖锐爆鸣声的操作"
   ]
  },
  {
   "cell_type": "code",
   "execution_count": 1,
   "id": "db31dfba",
   "metadata": {},
   "outputs": [
    {
     "name": "stdout",
     "output_type": "stream",
     "text": [
      "string19\n"
     ]
    }
   ],
   "source": [
    "let str = `string`\n",
    "console.log(str + 19)"
   ]
  },
  {
   "cell_type": "markdown",
   "id": "60bd59ed",
   "metadata": {},
   "source": [
    "#### 反引号包裹的模版\n",
    "和.format,printf,以及kotlin的$差不多,但是模板字符串只能用反引号包裹"
   ]
  },
  {
   "cell_type": "code",
   "execution_count": 2,
   "id": "70fc9bd2",
   "metadata": {},
   "outputs": [
    {
     "name": "stdout",
     "output_type": "stream",
     "text": [
      "这里有19个人\n"
     ]
    }
   ],
   "source": [
    "var a = 19\n",
    "console.log(`这里有${a}个人`)"
   ]
  },
  {
   "cell_type": "markdown",
   "id": "a66766b3",
   "metadata": {},
   "source": [
    "### boolean\n",
    "熟悉的boolean,在哪里都差不多\n",
    "\n",
    "在js里 '',0,undefined, null, false, NaN在逻辑运算上和false等价,其余都是True"
   ]
  },
  {
   "cell_type": "markdown",
   "id": "6aa24519",
   "metadata": {},
   "source": [
    "### undefined:\n",
    "Java和kotlin的null,python的None\n",
    "\n",
    "### null:\n",
    "这个和上面的区别在于\n",
    "- undefined表示没有赋值\n",
    "- null是赋值了,但是内容为空"
   ]
  },
  {
   "cell_type": "code",
   "execution_count": 3,
   "id": "d607ae95",
   "metadata": {},
   "outputs": [
    {
     "name": "stdout",
     "output_type": "stream",
     "text": [
      "NaN\n",
      "1\n"
     ]
    }
   ],
   "source": [
    "console.log(undefined + 1)\n",
    "console.log(null + 1)"
   ]
  },
  {
   "cell_type": "markdown",
   "id": "f49e8a22",
   "metadata": {},
   "source": [
    "### 监测数据类型:\n",
    "typeof函数,理论上这个函数可以不写括号,但是可能会被强迫症打死"
   ]
  },
  {
   "cell_type": "code",
   "execution_count": 4,
   "id": "35cc73e4",
   "metadata": {},
   "outputs": [
    {
     "name": "stdout",
     "output_type": "stream",
     "text": [
      "undefined\n",
      "number\n"
     ]
    }
   ],
   "source": [
    "console.log(typeof(undefined))\n",
    "console.log(typeof(1))"
   ]
  },
  {
   "cell_type": "markdown",
   "id": "1af72dad",
   "metadata": {},
   "source": [
    "### 类型转换:\n",
    "同样有两种类型转换\n",
    "#### 隐式类型转换:\n",
    "某些运算符执行的时候会自动转变类型,比如字符串加数字的时候会自动把数字变成字符串,+可以转换成数字型\n",
    "\n",
    "#### 显示类型转换:\n",
    "python的写法,js的类型\n",
    "- Number()\n",
    "  - 如果字符串内容理由非数字,会返回NaN\n",
    "  - NaN的类型是number\n",
    "- parseInt()\n",
    "  - 只留整数\n",
    "- parseFloat()\n",
    "  - 可以保留小数"
   ]
  },
  {
   "cell_type": "code",
   "execution_count": 14,
   "id": "1dc4c33f",
   "metadata": {},
   "outputs": [
    {
     "name": "stdout",
     "output_type": "stream",
     "text": [
      "num1\n",
      "string 2.89\n",
      "number 2.89\n",
      "number 2\n",
      "number 2.89\n",
      "num2\n",
      "string 2.89px\n",
      "number NaN\n",
      "number 2\n",
      "number 2.89\n"
     ]
    }
   ],
   "source": [
    "var num1 = \"2.89\"\n",
    "var num2 = \"2.89px\"\n",
    "console.log(\"num1\")\n",
    "console.log(typeof(num1),num1)\n",
    "console.log(typeof(Number(num1)),Number(num1))\n",
    "console.log(typeof(parseInt(num1)),parseInt(num1))\n",
    "console.log(typeof(parseFloat(num1)),parseFloat(num1))\n",
    "console.log(\"num2\")\n",
    "console.log(typeof(num2),num2)\n",
    "console.log(typeof(Number(num2)),Number(num2))\n",
    "console.log(typeof(parseInt(num2)),parseInt(num2))\n",
    "console.log(typeof(parseFloat(num2)),parseFloat(num2))"
   ]
  },
  {
   "cell_type": "markdown",
   "id": "b8fa0ab7",
   "metadata": {},
   "source": [
    "## 运算符\n",
    "### 赋值运算符:\n",
    "和python,jave那些都差不多\n",
    "- =\n",
    "- +=\n",
    "- -=\n",
    "- /=\n",
    "- $\\dots$\n",
    "### 自增自减\n",
    "- i++\n",
    "- i--\n",
    "- --i\n",
    "- i--\n",
    "\n",
    "java里念了好几遍了,一个先输入后赋值,一个先赋值后输入\n",
    "### 比较运算符:\n",
    "- $>$\n",
    "- $<$\n",
    "- $>=$\n",
    "- $<=$\n",
    "- $==$ 左右两边值是否相等\n",
    "- $===$ 左右两边是否之和类型都相等\n",
    "- $!==$ 左右两边是否不全等\n",
    "\n",
    "会有隐式数据转换"
   ]
  },
  {
   "cell_type": "code",
   "execution_count": 18,
   "id": "8978cf28",
   "metadata": {},
   "outputs": [
    {
     "name": "stdout",
     "output_type": "stream",
     "text": [
      "true\n",
      "false\n",
      "false\n",
      "true\n"
     ]
    }
   ],
   "source": [
    "console.log(2==\"2\")\n",
    "console.log(2===\"2\")\n",
    "console.log(2!=\"2\")\n",
    "console.log(2!==\"2\")"
   ]
  },
  {
   "cell_type": "markdown",
   "id": "9653aa30",
   "metadata": {},
   "source": [
    "### 逻辑运算符:\n",
    "- &&\n",
    "- ||\n",
    "- !\n",
    "\n",
    "和java一样\n",
    "\n",
    "js是有和Python一样的or None语法的"
   ]
  },
  {
   "cell_type": "code",
   "execution_count": 15,
   "id": "d2cd5529",
   "metadata": {},
   "outputs": [
    {
     "name": "stdout",
     "output_type": "stream",
     "text": [
      "5\n",
      "0\n"
     ]
    }
   ],
   "source": [
    "var x = null\n",
    "var a = 5\n",
    "console.log(a || 0)\n",
    "console.log(x || 0)"
   ]
  },
  {
   "cell_type": "markdown",
   "id": "d746ae46",
   "metadata": {},
   "source": [
    "一般是用来处理null的,并且python,java,js等语言\n",
    "- a || b, a为真则不判断b\n",
    "- a && b, a为假则不判断b\n",
    "\n",
    "## 语句:\n",
    "### 条件:\n",
    "#### if:\n",
    "```javascript\n",
    "'' == false // ''在逻辑判断里可以当做false\n",
    "0 == false\n",
    "1 == true // 除了0以外的所有数字都是true\n",
    "```"
   ]
  },
  {
   "cell_type": "code",
   "execution_count": 29,
   "id": "ada70c74",
   "metadata": {},
   "outputs": [
    {
     "name": "stdout",
     "output_type": "stream",
     "text": [
      "我没执行\n"
     ]
    }
   ],
   "source": [
    "if (0){\n",
    "    console.log(\"我执行了\")\n",
    "}\n",
    "else if(''){\n",
    "    console.log(\"如执行\")\n",
    "}\n",
    "else{\n",
    "    console.log(\"我没执行\")\n",
    "}"
   ]
  },
  {
   "cell_type": "markdown",
   "id": "afdbf601",
   "metadata": {},
   "source": [
    "#### 三元运算符:\n",
    "和java完全一样\n"
   ]
  },
  {
   "cell_type": "code",
   "execution_count": 31,
   "id": "3bd89e1d",
   "metadata": {},
   "outputs": [
    {
     "name": "stdout",
     "output_type": "stream",
     "text": [
      "2345\n"
     ]
    }
   ],
   "source": [
    "var a = '' ? 1000 : 2345\n",
    "console.log(a)"
   ]
  },
  {
   "cell_type": "markdown",
   "id": "296fa793",
   "metadata": {},
   "source": [
    "#### switch:\n",
    "没记错的话好像也适合java的,但是就算是java里也不常用,kotlin里是when\n",
    "\n",
    "就是注意switch要求的是值和数据类型全部相等,不是只有值相等就行\n",
    "\n",
    "一般要搭配break使用,不然会每个条件都判断一次"
   ]
  },
  {
   "cell_type": "code",
   "execution_count": 34,
   "id": "a3728a57",
   "metadata": {},
   "outputs": [
    {
     "name": "stdout",
     "output_type": "stream",
     "text": [
      "2\n"
     ]
    }
   ],
   "source": [
    "var a = 2\n",
    "switch(a){\n",
    "    case 1:\n",
    "        console.log(\"1\");\n",
    "        break\n",
    "    case \"2\":\n",
    "        console.log(\"'2'\")\n",
    "        break\n",
    "    case 2:\n",
    "        console.log(\"2\")\n",
    "        break\n",
    "}"
   ]
  },
  {
   "cell_type": "markdown",
   "id": "1a55fa4a",
   "metadata": {},
   "source": [
    "### 循环:\n",
    "#### while:\n",
    "这东西真的有人不会用吗?"
   ]
  },
  {
   "cell_type": "code",
   "execution_count": 36,
   "id": "a89ef806",
   "metadata": {},
   "outputs": [
    {
     "name": "stdout",
     "output_type": "stream",
     "text": [
      "1\n",
      "2\n",
      "3\n",
      "4\n",
      "5\n",
      "6\n",
      "7\n",
      "8\n",
      "9\n",
      "10\n"
     ]
    }
   ],
   "source": [
    "var a = 0\n",
    "while(++a <= 10){\n",
    "    console.log(a);\n",
    "}"
   ]
  },
  {
   "cell_type": "markdown",
   "id": "eef6049a",
   "metadata": {},
   "source": [
    "#### do while:\n",
    "有点多此一举的样子,就算是java里也不常用"
   ]
  },
  {
   "cell_type": "code",
   "execution_count": 40,
   "id": "f199fbaf",
   "metadata": {},
   "outputs": [
    {
     "name": "stdout",
     "output_type": "stream",
     "text": [
      "1\n",
      "2\n",
      "3\n",
      "4\n",
      "5\n",
      "6\n",
      "7\n",
      "8\n",
      "9\n",
      "10\n"
     ]
    }
   ],
   "source": [
    "var a = 0\n",
    "do{\n",
    "    console.log(++a)\n",
    "}\n",
    "while(a < 10)"
   ]
  },
  {
   "cell_type": "markdown",
   "id": "029ba0d9",
   "metadata": {},
   "source": [
    "#### for\n",
    "和java的一致"
   ]
  },
  {
   "cell_type": "code",
   "execution_count": 9,
   "id": "6bd137b7",
   "metadata": {},
   "outputs": [
    {
     "name": "stdout",
     "output_type": "stream",
     "text": [
      "0\n",
      "1\n",
      "2\n",
      "3\n",
      "4\n",
      "5\n"
     ]
    }
   ],
   "source": [
    "for(var a = 0; a <= 5; a++){\n",
    "    console.log(a)\n",
    "}"
   ]
  },
  {
   "cell_type": "code",
   "execution_count": 11,
   "id": "4366384a",
   "metadata": {},
   "outputs": [
    {
     "name": "stdout",
     "output_type": "stream",
     "text": [
      "1\n",
      "2\n",
      "3\n",
      "4\n",
      "5\n"
     ]
    }
   ],
   "source": [
    "var a = 0\n",
    "for(;++a <=5;){\n",
    "    console.log(a)\n",
    "}"
   ]
  },
  {
   "cell_type": "markdown",
   "id": "987d0463",
   "metadata": {},
   "source": [
    "#### break continue\n",
    "break是直接跳出整个循环\n",
    "\n",
    "continue是进入下一次循环\n",
    "\n",
    "和java类似,可以 锚点1:固定一个点之后直接continue锚点实现类似goto的效果"
   ]
  },
  {
   "cell_type": "code",
   "execution_count": 6,
   "id": "90fd23ad",
   "metadata": {},
   "outputs": [
    {
     "name": "stdout",
     "output_type": "stream",
     "text": [
      "1\n",
      "2\n",
      "3\n",
      "4\n"
     ]
    }
   ],
   "source": [
    "var a = 0\n",
    "while(++a < 10){\n",
    "    if (a == 5){\n",
    "        break\n",
    "    }\n",
    "    console.log(a);\n",
    "}"
   ]
  },
  {
   "cell_type": "code",
   "execution_count": 7,
   "id": "061d6276",
   "metadata": {},
   "outputs": [
    {
     "name": "stdout",
     "output_type": "stream",
     "text": [
      "1\n",
      "2\n",
      "3\n",
      "4\n",
      "我跳出去了\n",
      "6\n",
      "7\n",
      "8\n",
      "9\n"
     ]
    }
   ],
   "source": [
    "var a = 0\n",
    "while(++a < 10){\n",
    "    if (a == 5){\n",
    "        console.log(\"我跳出去了\")\n",
    "        continue\n",
    "    }\n",
    "    console.log(a);\n",
    "}"
   ]
  },
  {
   "cell_type": "markdown",
   "id": "37b835bb",
   "metadata": {},
   "source": [
    "## 数组:\n",
    "### 声明:\n",
    "虽然js应该和java是一家人,但是js是弱类型语言,和python一样不用再new数组的时候声明变量类型,数组内可以存任何东西"
   ]
  },
  {
   "cell_type": "code",
   "execution_count": 17,
   "id": "6e8f061c",
   "metadata": {},
   "outputs": [
    {
     "name": "stdout",
     "output_type": "stream",
     "text": [
      "[ 1, 2, 3, 4 ]\n",
      "[ 1, 2, 3, 4 ]\n"
     ]
    }
   ],
   "source": [
    "var a = [1,2,3,4]\n",
    "console.log(a)\n",
    "var b = new Array(1,2,3,4)\n",
    "console.log(b)"
   ]
  },
  {
   "cell_type": "markdown",
   "id": "b770d32f",
   "metadata": {},
   "source": [
    "### 索引:\n",
    "这个世界上难道存在索引值不从0开始的语言?"
   ]
  },
  {
   "cell_type": "code",
   "execution_count": 18,
   "id": "8c15f569",
   "metadata": {},
   "outputs": [
    {
     "data": {
      "text/plain": [
       "1"
      ]
     },
     "execution_count": 18,
     "metadata": {},
     "output_type": "execute_result"
    }
   ],
   "source": [
    "a[0]"
   ]
  },
  {
   "cell_type": "markdown",
   "id": "d573c884",
   "metadata": {},
   "source": [
    "### 遍历:"
   ]
  },
  {
   "cell_type": "code",
   "execution_count": 19,
   "id": "b243a683",
   "metadata": {},
   "outputs": [
    {
     "name": "stdout",
     "output_type": "stream",
     "text": [
      "1\n",
      "2\n",
      "3\n",
      "4\n"
     ]
    }
   ],
   "source": [
    "for (let i = 0; i < a.length; i++){\n",
    "    console.log(a[i])\n",
    "}"
   ]
  },
  {
   "cell_type": "markdown",
   "id": "74e1e089",
   "metadata": {},
   "source": [
    "### 增:"
   ]
  },
  {
   "cell_type": "code",
   "execution_count": 33,
   "id": "d2804832",
   "metadata": {},
   "outputs": [
    {
     "name": "stdout",
     "output_type": "stream",
     "text": [
      "[\n",
      "     1, 2, 3, 4, 5,\n",
      "     6, 7, 8, 9, 0,\n",
      "  1008, 6\n",
      "]\n",
      "[\n",
      "  1008, 6,    1, 2, 3,\n",
      "     4, 5,    6, 7, 8,\n",
      "     9, 0, 1008, 6\n",
      "]\n"
     ]
    }
   ],
   "source": [
    "var a = [1,2,3,4,5,6,7,8,9,0]\n",
    "a.push(1008,6) // 在末尾加元素\n",
    "console.log(a)\n",
    "a.unshift(1008,6) // 在头部加元素\n",
    "console.log(a)"
   ]
  },
  {
   "cell_type": "markdown",
   "id": "4705fe97",
   "metadata": {},
   "source": [
    "### 删:"
   ]
  },
  {
   "cell_type": "code",
   "execution_count": 10,
   "id": "3bec81dc",
   "metadata": {},
   "outputs": [
    {
     "name": "stdout",
     "output_type": "stream",
     "text": [
      "[\n",
      "  1, 2, 3, 4, 5,\n",
      "  6, 7, 8, 9\n",
      "]\n",
      "[\n",
      "  2, 3, 4, 5,\n",
      "  6, 7, 8, 9\n",
      "]\n",
      "[ 2, 3, 6, 7, 8, 9 ]\n"
     ]
    }
   ],
   "source": [
    "var a = [1,2,3,4,5,6,7,8,9,0]\n",
    "a.pop() // 和python一样,返回并删除最后一个值\n",
    "console.log(a)\n",
    "a.shift()\n",
    "console.log(a) // 返回并删除第一个值\n",
    "a.splice(2,2)\n",
    "console.log(a) // 返回并删除n到m的元素"
   ]
  },
  {
   "cell_type": "markdown",
   "id": "7cfca8af",
   "metadata": {},
   "source": [
    "## 函数:\n",
    "用function定义, 参数和python一样不用声明类型"
   ]
  },
  {
   "cell_type": "code",
   "execution_count": 41,
   "id": "a7ca4768",
   "metadata": {},
   "outputs": [
    {
     "name": "stdout",
     "output_type": "stream",
     "text": [
      "1 * 1 = 1 \n",
      "2 * 1 = 2 2 * 2 = 4 \n",
      "3 * 1 = 3 3 * 2 = 6 3 * 3 = 9 \n",
      "4 * 1 = 4 4 * 2 = 8 4 * 3 = 12 4 * 4 = 16 \n",
      "5 * 1 = 5 5 * 2 = 10 5 * 3 = 15 5 * 4 = 20 5 * 5 = 25 \n",
      "6 * 1 = 6 6 * 2 = 12 6 * 3 = 18 6 * 4 = 24 6 * 5 = 30 6 * 6 = 36 \n",
      "7 * 1 = 7 7 * 2 = 14 7 * 3 = 21 7 * 4 = 28 7 * 5 = 35 7 * 6 = 42 7 * 7 = 49 \n",
      "8 * 1 = 8 8 * 2 = 16 8 * 3 = 24 8 * 4 = 32 8 * 5 = 40 8 * 6 = 48 8 * 7 = 56 8 * 8 = 64 \n",
      "9 * 1 = 9 9 * 2 = 18 9 * 3 = 27 9 * 4 = 36 9 * 5 = 45 9 * 6 = 54 9 * 7 = 63 9 * 8 = 72 9 * 9 = 81 \n"
     ]
    }
   ],
   "source": [
    "function print99(){\n",
    "    for (let i = 1; i <= 9; i++){\n",
    "        str = \"\"\n",
    "        for (let j = 1; j <= i; j++){\n",
    "            str += `${i} * ${j} = ${i*j} `\n",
    "        }\n",
    "        console.log(str)\n",
    "    }\n",
    "}\n",
    "print99()"
   ]
  },
  {
   "cell_type": "code",
   "execution_count": 44,
   "id": "53545a6e",
   "metadata": {},
   "outputs": [
    {
     "name": "stdout",
     "output_type": "stream",
     "text": [
      "1 * 1 = 1 \n",
      "2 * 1 = 2 2 * 2 = 4 \n",
      "3 * 1 = 3 3 * 2 = 6 3 * 3 = 9 \n",
      "4 * 1 = 4 4 * 2 = 8 4 * 3 = 12 4 * 4 = 16 \n",
      "5 * 1 = 5 5 * 2 = 10 5 * 3 = 15 5 * 4 = 20 5 * 5 = 25 \n"
     ]
    }
   ],
   "source": [
    "function printnn(n){\n",
    "    for (let i = 1; i <= n; i++){\n",
    "        str = \"\"\n",
    "        for (let j = 1; j <= i; j++){\n",
    "            str += `${i} * ${j} = ${i*j} `\n",
    "        }\n",
    "        console.log(str)\n",
    "    }\n",
    "}\n",
    "printnn(5)"
   ]
  },
  {
   "cell_type": "code",
   "execution_count": 46,
   "id": "94822ff4",
   "metadata": {},
   "outputs": [
    {
     "name": "stdout",
     "output_type": "stream",
     "text": [
      "20\n"
     ]
    }
   ],
   "source": [
    "function double(a){\n",
    "    return 2*a\n",
    "}\n",
    "let n = double(10)\n",
    "console.log(n)"
   ]
  },
  {
   "cell_type": "markdown",
   "id": "a05cc65f",
   "metadata": {},
   "source": [
    "### 作用域:\n",
    "好奇究竟是有多闲得没事才会有这种问题\n",
    "\n",
    "别的和python,java那些一样,如果函数内部有局部变量名字和全局变量一样,用就近原则"
   ]
  },
  {
   "cell_type": "code",
   "execution_count": 1,
   "id": "1399b613",
   "metadata": {},
   "outputs": [
    {
     "name": "stdout",
     "output_type": "stream",
     "text": [
      "5\n",
      "30\n"
     ]
    }
   ],
   "source": [
    "function f(){\n",
    "    let num = 5\n",
    "    return num\n",
    "}\n",
    "let num = 10\n",
    "function g(){\n",
    "    let num = 20\n",
    "    function fun(){\n",
    "        let num = 30\n",
    "        return num\n",
    "    }\n",
    "    return fun()\n",
    "}\n",
    "console.log(f())\n",
    "console.log(g())"
   ]
  },
  {
   "cell_type": "markdown",
   "id": "14813b97",
   "metadata": {},
   "source": [
    "### 匿名函数\n",
    "#### 将函数赋值给一个变量:"
   ]
  },
  {
   "cell_type": "code",
   "execution_count": 2,
   "id": "c829dabe",
   "metadata": {},
   "outputs": [
    {
     "name": "stdout",
     "output_type": "stream",
     "text": [
      "[Function: a]\n",
      "10\n"
     ]
    }
   ],
   "source": [
    "var a = function(n){\n",
    "    return n+1\n",
    "}\n",
    "console.log(a)\n",
    "console.log(a(9))"
   ]
  },
  {
   "cell_type": "markdown",
   "id": "929b55eb",
   "metadata": {},
   "source": [
    "#### 立即执行函数\n",
    "没有名字,不调用也会立即执行,不过相邻两个立即执行函数需要用分号隔开"
   ]
  },
  {
   "cell_type": "code",
   "execution_count": 8,
   "id": "29b41fbd",
   "metadata": {},
   "outputs": [
    {
     "name": "stdout",
     "output_type": "stream",
     "text": [
      "5\n"
     ]
    },
    {
     "ename": "TypeError",
     "evalue": "(intermediate value)(...) is not a function",
     "output_type": "error",
     "traceback": [
      "evalmachine.<anonymous>:2",
      "(function(){console.log(6)})()",
      "^",
      "",
      "TypeError: (intermediate value)(...) is not a function",
      "    at evalmachine.<anonymous>:2:1",
      "    at Script.runInThisContext (vm.js:120:18)",
      "    at Object.runInThisContext (vm.js:309:38)",
      "    at run ([eval]:1020:15)",
      "    at onRunRequest ([eval]:864:18)",
      "    at onMessage ([eval]:828:13)",
      "    at process.emit (events.js:314:20)",
      "    at emit (internal/child_process.js:877:12)",
      "    at processTicksAndRejections (internal/process/task_queues.js:85:21)"
     ]
    }
   ],
   "source": [
    "(function(){console.log(5)})()\n",
    "(function(){console.log(6)})()"
   ]
  },
  {
   "cell_type": "code",
   "execution_count": 11,
   "id": "e0e0e6ff",
   "metadata": {},
   "outputs": [
    {
     "name": "stdout",
     "output_type": "stream",
     "text": [
      "90\n",
      "6\n"
     ]
    }
   ],
   "source": [
    "(function(n){console.log(n)})(90);\n",
    "(function(){console.log(6)})()"
   ]
  },
  {
   "cell_type": "markdown",
   "id": "8af241d7",
   "metadata": {},
   "source": [
    "#### 其他:\n",
    "不知道放哪里了,先写这里吧\n",
    "\n",
    "js是有和Python一样的or None语法的\n",
    "\n",
    "一般是用来处理null的,并且python,java,js等语言\n",
    "- a || b, a为真则不判断b\n",
    "- a && b, a为假则不判断b"
   ]
  },
  {
   "cell_type": "code",
   "execution_count": 14,
   "id": "d293c3a1",
   "metadata": {},
   "outputs": [
    {
     "name": "stdout",
     "output_type": "stream",
     "text": [
      "5\n",
      "0\n"
     ]
    }
   ],
   "source": [
    "var x = null\n",
    "var a = 5\n",
    "console.log(a || 0)\n",
    "console.log(x || 0)"
   ]
  },
  {
   "cell_type": "markdown",
   "id": "5c85463b",
   "metadata": {},
   "source": [
    "## 对象:\n",
    "是一种无需的数据类型,类似字典,json"
   ]
  },
  {
   "cell_type": "code",
   "execution_count": 16,
   "id": "20eae3f9",
   "metadata": {},
   "outputs": [],
   "source": [
    "var person = {\n",
    "    name: \"someone\",\n",
    "    gender: \"armed walmart helicopter\",\n",
    "    age: \"unknown\"\n",
    "}"
   ]
  },
  {
   "cell_type": "code",
   "execution_count": 18,
   "id": "70eb72a8",
   "metadata": {},
   "outputs": [
    {
     "name": "stdout",
     "output_type": "stream",
     "text": [
      "someone\n",
      "object\n"
     ]
    }
   ],
   "source": [
    "console.log(person.name)\n",
    "console.log(typeof(person))"
   ]
  },
  {
   "cell_type": "markdown",
   "id": "dce5b399",
   "metadata": {},
   "source": [
    "### 一些基本操作"
   ]
  },
  {
   "cell_type": "code",
   "execution_count": 22,
   "id": "e51b7a17",
   "metadata": {},
   "outputs": [
    {
     "name": "stdout",
     "output_type": "stream",
     "text": [
      "armed walmart shopping bag\n",
      "armed walmart shopping bag\n",
      "{\n",
      "  name: 'someone',\n",
      "  gender: 'armed walmart shopping bag',\n",
      "  age: 'unknown'\n",
      "}\n",
      "{\n",
      "  name: 'someone',\n",
      "  gender: 'armed walmart shopping bag',\n",
      "  age: 'unknown',\n",
      "  job: 'shopping bag'\n",
      "}\n",
      "{\n",
      "  name: 'someone',\n",
      "  gender: 'armed walmart shopping bag',\n",
      "  age: 'unknown'\n",
      "}\n"
     ]
    }
   ],
   "source": [
    "// 查属性\n",
    "console.log(person.gender)\n",
    "console.log(person['gender'])\n",
    "// 改属性\n",
    "person.gender = \"armed walmart shopping bag\"\n",
    "console.log(person)\n",
    "// 增加属性:\n",
    "person.job = \"shopping bag\"\n",
    "console.log(person)\n",
    "// 删属性\n",
    "delete person.job\n",
    "console.log(person)"
   ]
  },
  {
   "cell_type": "markdown",
   "id": "5e6cca53",
   "metadata": {},
   "source": [
    "### 对象内可以使用函数:\n"
   ]
  },
  {
   "cell_type": "code",
   "execution_count": 1,
   "id": "4756d915",
   "metadata": {},
   "outputs": [],
   "source": [
    "var person = {\n",
    "    name: \"someone\",\n",
    "    gender: \"armed walmart helicopter\",\n",
    "    age: \"unknown\",\n",
    "    getage: function(n){\n",
    "        console.log(n)\n",
    "    }\n",
    "}"
   ]
  },
  {
   "cell_type": "code",
   "execution_count": 4,
   "id": "eebebdb7",
   "metadata": {},
   "outputs": [
    {
     "name": "stdout",
     "output_type": "stream",
     "text": [
      "20\n"
     ]
    }
   ],
   "source": [
    "person.getage(20)"
   ]
  },
  {
   "cell_type": "markdown",
   "id": "bebc9aee",
   "metadata": {},
   "source": [
    "### 遍历对象:\n",
    "不过注意,如果是遍历数组返回的是下标,如果是遍历对象返回的是属性名称\n",
    "\n",
    "这种情况下循环里只能写obj[k]的形式"
   ]
  },
  {
   "cell_type": "code",
   "execution_count": 6,
   "id": "fe60c89c",
   "metadata": {},
   "outputs": [
    {
     "name": "stdout",
     "output_type": "stream",
     "text": [
      "name someone\n",
      "gender armed walmart helicopter\n",
      "age unknown\n",
      "getage [Function: getage]\n"
     ]
    }
   ],
   "source": [
    "for (i in person){\n",
    "    console.log(i,person[i])\n",
    "}"
   ]
  },
  {
   "cell_type": "markdown",
   "id": "d69cc698",
   "metadata": {},
   "source": [
    "### 案例: object2table.html"
   ]
  },
  {
   "cell_type": "markdown",
   "id": "5a657dd5",
   "metadata": {},
   "source": [
    "### 内置对象\n",
    "例如document,console,Math等相当于内置库\n",
    "#### Math:\n",
    "- random:0-1的随机数\n",
    "- ceil\n",
    "- floor\n",
    "- max\n",
    "- min\n",
    "- pow\n",
    "- abs\n",
    "- ..."
   ]
  },
  {
   "cell_type": "markdown",
   "id": "1eb5d59a",
   "metadata": {},
   "source": [
    "## 正则表达式\n",
    "### 语法:\n",
    "#### 新建正则表达式\n",
    "```\n",
    "const 变量名 = /表达式/\n",
    "```\n",
    "#### test()\n",
    "```\n",
    "正则表达式.test(被检测的字符串)\n",
    "```\n",
    "\n",
    "#### exec()\n",
    "```\n",
    "正则表达式.exec(字符串)\n",
    "```\n",
    "### 字符:\n",
    "#### 边界符:\n",
    "- ^ 表示以什么开始\n",
    "- $\\$$表示以什么结束\n",
    "\n",
    "#### 量词:\n",
    "$\\begin{array}{c}\n",
    "* & 重复零次或者更多次\\\\\n",
    "+ & 重复一次或更多次\\\\\n",
    "? & 重复0次或者一次\\\\\n",
    "\\{n\\} & 重复n次\\\\\n",
    "\\{n,\\} & 重复n次或者更多次\\\\\n",
    "\\{n,m\\} & 重复n到m次\n",
    "\\end{array}$\n",
    "\n",
    "#### 元字符:\n",
    "- [abc]匹配一个字符是否是abc\n",
    "- [a-z]可以用连字符表示一个范围\n",
    "  - [a-z]所有小写字母\n",
    "  - [a-zA-Z]所有字母\n",
    "- ^写到中括号里表示取反\n",
    "\n",
    "预定类:\n",
    "$\\begin{array}{c}\n",
    "\\text{\\d} & 匹配0-9之间的任意数字[0-9]\\\\\n",
    "\\text{\\D} & 匹配所有0-9以外的数字[^0-9]\\\\\n",
    "\\text{\\w} & 匹配任意的字符,数字和下划线[A-Za-z0-9_]\\\\\n",
    "\\text{\\W} & 除字符数字,下划线外所有的字符[^{} A-Za-z0-9]\\\\\n",
    "\\text{\\s} & 匹配空格(包括换行符,制表符,空格符等)[\\text{\\t\\n\\v\\f}]\\\\\n",
    "\\text{\\S} & 匹配非空格的字符[^{} \\text{\\t\\r\\n\\v\\f}]\n",
    "\\end{array}$"
   ]
  },
  {
   "cell_type": "code",
   "execution_count": 24,
   "id": "b810eb77",
   "metadata": {},
   "outputs": [
    {
     "data": {
      "text/plain": [
       "true"
      ]
     },
     "execution_count": 24,
     "metadata": {},
     "output_type": "execute_result"
    }
   ],
   "source": [
    "var str = \"abc\"\n",
    "var pattern = /[A-Z]/\n",
    "pattern.test(\"1000A0000\")"
   ]
  },
  {
   "cell_type": "markdown",
   "id": "59a1df0f",
   "metadata": {},
   "source": [
    "# API DOM:\n",
    "<p style=\"color:red;font-size:20px;font-family:SimHei\">实际开发尽可能用const,之后发现要改在改成let,jupyter里为了方便暂时先用var(let不能重新赋值)</p>\n",
    "\n",
    "每个html标签在js里都是一个对象\n",
    "## DOM元素:\n",
    "### 获取DOM元素:\n",
    "```javascript\n",
    "document.querySelector('css选择器') // 这个只选择一个,如果有多个符合条件的只会返回第一个\n",
    "document.querySelectorAll('css选择器') // 这个选择所有,以伪数组形式返回,有长度有索引,但是没有pop(),push()等方法\n",
    "\n",
    "// 返回的对象可以直接更改属性\n",
    "\n",
    "// 其他:\n",
    "// 根据id获取一个元素\n",
    "document.getElementById(\"id\")\n",
    "// 根据标签获取一个元素\n",
    "document.getElementByTagName(\"div\")\n",
    "// 根据类名获取所有符合条件的元素\n",
    "document.getElementsByClassName(\"w\")\n",
    "```\n",
    "### 操作元素内容:\n",
    ".innerText属性可以获取文字内容\n",
    "\n",
    ".innerHTML属性可以获取HTML文本\n",
    "\n",
    "### 更改属性:\n",
    "直接赋值就行,以下是几个常用的\n",
    "\n",
    "如果属性名称用连字符连接,改写成驼峰命名法的格式, obj.style.fontFamily = \"SimHei\"\n",
    "- obj.style.(相当于更改这个标签的css,更改样式)\n",
    "  - eg. obj.style.color = \"red\"\n",
    "- obj.src (更改标签的src属性,可以换图片之类的)\n",
    "- obj.href (更改标签的href属性,可以换链接之类的)\n",
    "\n",
    "对于document,由于一个html只会有一个body,可以通过document.body直接获取页面的body标签,然后进行修改\n",
    "#### className\n",
    "如果修改的样式很多,直接通过style属性修改会比较麻烦,于是可以通过借助css类名的形式改属性\n",
    "\n",
    "其实就是修改一个标签的class属性,把他变成某个class从而应用那个类的css\n",
    "\n",
    "```javascript\n",
    "元素.className = \"active\"\n",
    "```\n",
    "\n",
    "见案例className.html\n",
    "\n",
    "可以用css的选择器使得改完类名之后应用css不会覆盖原先的样式而是应用新类的新增样式\n",
    "#### classList:\n",
    "\n",
    "```javascript\n",
    "元素.classList.add('类名') //增加类名\n",
    "\n",
    "元素.classList.remove('类名') //删除类名\n",
    "\n",
    "元素.classList.toggle('类名') // 切换类名,存在就删,没有就加\n",
    "```\n",
    "\n",
    "如果classlist里的css有重复的,则会显示最有一个可用的属性\n",
    "\n",
    "#### 表单类\n",
    "其实差不多,见案例form.html\n",
    "\n",
    "如果获取innerHTML是空,需要通过表单名称.value获取所有的值\n",
    "\n",
    "### 自定义属性:\n",
    "自定义属性名称以data-开头\n",
    "\n",
    "## 间歇函数/计时器:\n",
    "```javascript\n",
    "setInterval(函数,间隔时间)\n",
    "```\n",
    "\n",
    "- 间隔时间是毫秒,表示美国间隔时间执行一次函数,一旦开启就一直执行,注意函数的位置写的是函数名,也就是不加参数\n",
    "\n",
    "- setInteval函数会返回一个id\n",
    "\n",
    "- 用clearInterval(id)暂停执行"
   ]
  },
  {
   "cell_type": "code",
   "execution_count": 3,
   "id": "c84421e4",
   "metadata": {},
   "outputs": [
    {
     "name": "stdout",
     "output_type": "stream",
     "text": [
      "undefined\n"
     ]
    }
   ],
   "source": [
    "var a = [0,1]\n",
    "console.log(a[])"
   ]
  },
  {
   "cell_type": "markdown",
   "id": "c8fd0e6a",
   "metadata": {},
   "source": [
    "## 事件监听\n",
    "```\n",
    "元素对象.addEventListener('事件类型',执行函数)\n",
    "```\n",
    "- 事件类型要加引号\n",
    "- 每次按按钮触发一次函数"
   ]
  },
  {
   "cell_type": "code",
   "execution_count": 16,
   "id": "bea97145",
   "metadata": {},
   "outputs": [
    {
     "data": {
      "text/plain": [
       "0.532913478743734"
      ]
     },
     "execution_count": 16,
     "metadata": {},
     "output_type": "execute_result"
    }
   ],
   "source": [
    "Math.random()"
   ]
  },
  {
   "cell_type": "markdown",
   "id": "8fb09e2c",
   "metadata": {},
   "source": [
    "### 事件类型:\n",
    "- 鼠标\n",
    "  - click 鼠标点击\n",
    "  - mouseenter 鼠标经过\n",
    "  - mouseleave 鼠标离开\n",
    "- 焦点\n",
    "  - focus 获得焦点\n",
    "  - blur 失去焦点\n",
    "- 键盘事件\n",
    "  - Keydown 键盘按下触发\n",
    "  - Keyup 键盘抬起触发\n",
    "- 文本事件:\n",
    "  - input 用户输入事件"
   ]
  },
  {
   "cell_type": "markdown",
   "id": "d66e7c27",
   "metadata": {},
   "source": [
    "### 事件对象:\n",
    "一个存储时间执行是的相关参数的一个对象,是事件监听绑定函数传入的参数,差不多就是一个json\n",
    "- type:\n",
    "  - 获取当前的时间类型\n",
    "- clientX/clientY\n",
    "  - 获取光标相对于浏览器课件窗口左上角的位置\n",
    "- offsetX/offsetY\n",
    "  - 获取光标相对当前DOM元素左上角的位置\n",
    "- key\n",
    "  - 用户按下键的数值\n",
    "  - (keyCode已经废弃)"
   ]
  },
  {
   "cell_type": "markdown",
   "id": "b9df4597",
   "metadata": {},
   "source": [
    "### 环境对象：\n",
    "this, java的this\n",
    "\n",
    "普通事件里this指的是window\n",
    "\n",
    "如果是addEventListener返回调用的元素\n",
    "\n",
    "可以用this.style之类的改参数\n",
    "\n",
    "### 回调函数:\n",
    "就是把一个A函数传给另一个B函数,此时A是回调函数\n",
    "\n",
    "常见的回调函数:\n",
    "- setInterval\n",
    "- addEventListener\n"
   ]
  },
  {
   "cell_type": "markdown",
   "id": "bb45078a",
   "metadata": {},
   "source": [
    "## 事件流:\n",
    "分成两个阶段,捕获和冒泡\n",
    "\n",
    "捕获阶段冲大往小,冒泡反着来\n",
    "### 事件捕获:\n",
    "- 在addEventListener里传入第三个参数,true为使用捕获机制,false为不使用捕获机制\n",
    "- 如果是用onclick绑定的则没有捕获阶段\n",
    "\n",
    "### 事件冒泡\n",
    "- 相当于子类父类继承,如果点击的部分在子类里,他也在父类里,这个时候绑定的同名函数将会按照冒泡阶段从小向大依次执行\n",
    "\n",
    "### 阻止冒泡:\n",
    "```\n",
    "事件对象.stopPropagation()\n",
    "```\n",
    "\n",
    "这个是阻断事件流传播, 同时阻止冒泡和捕获\n",
    "\n",
    "### 解绑事件:\n",
    "- 如果是onclick,直接把onclick属性赋值成null即可\n",
    "- addEventListener使用removeEventListener(事件,函数名),(匿名函数无法被解绑)\n",
    "\n",
    "### 特殊事件:\n",
    "- mouseover和mouseout有冒泡效果\n",
    "- mouseenter和眸色leave没有冒泡效果\n",
    "\n",
    "### 事件委托\n",
    "同时给多个元素注册事件\n",
    "\n",
    "就是定义一个父对象,触发子对象的时候会通过冒泡触发父对象的事件"
   ]
  },
  {
   "cell_type": "markdown",
   "id": "9b28ae29",
   "metadata": {},
   "source": [
    "### 阻止事件默认行为:\n",
    "```javascript\n",
    "e.preventDefault()\n",
    "```\n",
    "\n",
    "### 其他事件:\n",
    "#### 页面加载事件\n",
    "##### load\n",
    "加载外部资源的加载完毕的时候触发的事件\n",
    "- 等资源加载完处理事情\n",
    "- 老代码script放在head中,直接找dom找不到\n",
    "```\n",
    "window.addEventListener(\"load\", function(){\n",
    "    // 等页面加载完在处理回调函数\n",
    "})\n",
    "```\n",
    "window是document的更上一级\n",
    "\n",
    "也可以对元素加load,等这个文件加载完的时候在处理回调函数\n",
    "\n",
    "##### DOMContentLoaded:\n",
    "当初是的html被加载,就触发,不需要等待所有的元素都完全加载\n",
    "\n",
    "这会是给document加这个事件\n",
    "\n",
    "#### 元素滚动事件\n",
    "##### scroll\n",
    "滚动到某个区域的时候会触发的东西\n",
    "\n",
    "还是给window加scroll事件\n",
    "##### scroll获取滚动位置:\n",
    "- scorllLeft\n",
    "- scorllTop\n",
    "\n",
    "##### scrollTo\n",
    "```javascript\n",
    "windows.scrollTo(x坐标,y坐标)\n",
    "```\n",
    "\n",
    "#### resize事件\n",
    "当浏览器窗口大小发生变化的时候触发\n",
    "```javascript\n",
    "window.addEventListener('resize',function)\n",
    "```\n",
    "##### clientWidth clientHeight\n",
    "获取元素的课件的宽和高(不包含border和margin等,但是包含padding)\n",
    "\n",
    "##### offsetLeft offsetTop\n",
    "获取元素距离自己定位父级元素的左,上距离,这个会包含border很margin等\n",
    "\n",
    "这个父级元素是有position属性的最近的父元素,直到document"
   ]
  },
  {
   "cell_type": "markdown",
   "id": "da82e5d2",
   "metadata": {},
   "source": [
    "## 日期对象:\n",
    "### 实例化:\n",
    "java里的new关键字仙剑一个对象(js这么久居然没有新建过对象)\n",
    "\n",
    "\n",
    "```javascript\n",
    "const date = new Date()\n",
    "```\n",
    "\n",
    "也可以\n",
    "```javascript\n",
    "const data = new Date(\"2022-5-1 8:30:00\")\n",
    "```\n",
    "### 日期对象方法:\n",
    "- getFullYear() 获得四位年份\n",
    "- getMonth() 获得月份 0-11\n",
    "- getDate() 获得约分钟的某一天\n",
    "- getDay() 获得星期 0-6\n",
    "- getHours() 获得小时 0-23\n",
    "- getMinutes() 获得分钟 0-59\n",
    "- getSeconds() 获得秒 0-59\n",
    "\n",
    "### 时间戳:\n",
    "是指从1970年01月01日00分00秒开始到现在的毫秒数\n",
    "```javascript\n",
    "const date = new Date()\n",
    "date.getTime()\n",
    "```\n",
    "\n",
    "```javascript\n",
    "+new Date()\n",
    "```\n",
    "\n",
    "```javascript\n",
    "Date.now()\n",
    "```"
   ]
  },
  {
   "cell_type": "code",
   "execution_count": 1,
   "id": "1bf3f9e2",
   "metadata": {},
   "outputs": [
    {
     "data": {
      "text/plain": [
       "1709423469005"
      ]
     },
     "execution_count": 1,
     "metadata": {},
     "output_type": "execute_result"
    }
   ],
   "source": [
    "+new Date()"
   ]
  },
  {
   "cell_type": "markdown",
   "id": "61a662dd",
   "metadata": {},
   "source": [
    "## 节点操作:\n",
    "### DOM 节点\n",
    "- 元素节点\n",
    "  - 所有的标签, body, div\n",
    "  - html是根节点\n",
    "- 属性节点\n",
    "  - href等\n",
    "- 文本节点:\n",
    "  - 标签里的字\n",
    "- 其他类\n",
    "\n",
    "主要操作元素节点\n",
    "### 查找节点:\n",
    "根据关系找\n",
    "\n",
    "#### 父节点:\n",
    "```javascript\n",
    "e.parentNode\n",
    "```\n",
    "\n",
    "#### 子节点:\n",
    "```javascript\n",
    "e.children\n",
    "```\n",
    "#### 兄弟节点:\n",
    "##### 下一个兄弟节点:\n",
    "```javascript\n",
    "e.nextElementSibling\n",
    "```\n",
    "##### 上一个兄弟节点:\n",
    "```javascript\n",
    "e.previousElementSibling\n",
    "```\n",
    "### 添加节点\n",
    "\n",
    "- 先新建一个新的节点,\n",
    "\n",
    "  - \n",
    "    ```\n",
    "    document.createElement()\n",
    "    ```\n",
    "- 然后在放到文档之中\n",
    "  - 插入到父元素中作为最后一个子元素\n",
    "  ```\n",
    "  父元素.appenChild()\n",
    "  ```\n",
    "  - 插入到某个元素之前\n",
    "  ```\n",
    "  父元素.insertBefore(要插入的元素, 在哪个元素前面)\n",
    "  ```\n",
    "  \n",
    "### 克隆节点:\n",
    "```\n",
    "元素.cloneNode(Bool)\n",
    "```\n",
    "\n",
    "如果参数是True,则会和后代一起克隆\n",
    "\n",
    "如果是False,则不克隆后代节点\n",
    "\n",
    "默认是False\n",
    "\n",
    "注意克隆之后还需要追加节点\n",
    "\n",
    "### 删除节点\n",
    "\n",
    "```\n",
    "父元素.deleteNode(要删除的元素)\n",
    "```\n",
    "\n",
    "## M端事件:\n",
    "移动端特殊事件:\n",
    "\n",
    "touch事件:\n",
    "\n",
    "- touchstart\n",
    "- touchmove\n",
    "- touchend"
   ]
  },
  {
   "cell_type": "markdown",
   "id": "7b498a76",
   "metadata": {},
   "source": [
    "## JS插件:\n",
    "swiper:移动端插件 具体的建议去查api文档\n",
    "\n",
    "ctrl cv全栈工程师上线"
   ]
  },
  {
   "cell_type": "markdown",
   "id": "144a6501",
   "metadata": {},
   "source": [
    "# API BOM\n",
    "## BOM:\n",
    "Browser Object Model\n",
    "\n",
    "$\\text{window}\\begin{cases}\n",
    "\\text{navigator}\\\\\n",
    "\\text{location}\\\\\n",
    "\\text{document}\\\\\n",
    "\\text{history}\\\\\n",
    "\\text{screen}\n",
    "\\end{cases}$\n",
    "\n",
    "document, alert(), console.log()等都是window的属性,基本BOM的属性和方法都是window的\n",
    "\n",
    "在window对象下的属性和方法调用的时候可以省略window\n",
    "\n",
    "## 定时器-延时函数:\n",
    "```javascript\n",
    "setTimeout(回调函数, 等待的毫秒数)\n",
    "```\n",
    "是一次性的\n",
    "\n",
    "\n",
    "清除延时函数:\n",
    "```javascript\n",
    "let timer = setTimeout(回调函数, 等待的毫秒数)\n",
    "clearTimeout(timer)\n",
    "```\n",
    "\n",
    "- 延时器需要等待所以后面的代码先执行\n",
    "- 每次调用演示器都会产生一个新的延时器\n",
    "## js执行机制:\n",
    "单线程,于是有了同步和异步\n",
    "- 异步任务:\n",
    "  - 普通事件: click resize\n",
    "  - 资源加载: load error\n",
    "  - 定时器: setInterval, setTimeout\n",
    "- 同步任务:\n",
    "  - 基本上就是其他\n",
    "  \n",
    " \n",
    "先执行同步任务,然后异步任务排队,然后执行完所有同步任务之后执行队列里的异步任务,等时间到了放入执行栈里执行,不断循环\n",
    "## 各种对象\n",
    "### location 对象:\n",
    "location本身是个对象,可以获取一些属性\n",
    "- href: 当前网页的url,可以用于跳转页面,只需要更改href就可以跳转页面\n",
    "- search: post方法穿的参数,但是是字符串格式,获取问号后面的东西\n",
    "- hash: 同上,但是是井号后面的东西\n",
    "- reload(): 刷新页面\n",
    "\n",
    "### navigator 对象:\n",
    "获取浏览器相关信息:\n",
    "- userAgent: 获取当前浏览器,可以判断是否是手机端页面\n"
   ]
  },
  {
   "cell_type": "markdown",
   "id": "6ec5e5ba",
   "metadata": {},
   "source": [
    "### history对象:\n",
    "一般来说就是\n",
    "```\n",
    "forward() // 前进\n",
    "back() // 后退\n",
    "go(1) // 1为前进,-1为后退\n",
    "```\n",
    "\n",
    "## 本地储存:\n",
    "就是把数据直接存进浏览器,这样更改网页内容的时候,本地数据不会被改动\n",
    "\n",
    "### localStorage:\n",
    "永久性的把数据存储进浏览器中\n",
    "\n",
    "可以多窗口共享:\n",
    "\n",
    "#### 存储:\n",
    "```javascript\n",
    "localStorage.setItem(key,value)\n",
    "```\n",
    "只能存字符串,如果存其他复杂数据类型则无法直接使用, 需要把字符串存成对象的字符串\n",
    "\n",
    "```\n",
    "JSON.stringify()\n",
    "```\n",
    "\n",
    "可以用\n",
    "\n",
    "```\n",
    "JSON.parse()\n",
    "```\n",
    "从字符串转换成Json,\n",
    "\n",
    "#### 获取:\n",
    "```javascript\n",
    "localStorage.getItem(key)\n",
    "```\n",
    "### sessionStorage:\n",
    "生命周期为关闭浏览器窗口\n",
    "\n",
    "在同一个页面下数据可以共享\n",
    "\n",
    "以键值对的形式存储使用\n",
    "\n",
    "用法和localStorage基本相同"
   ]
  },
  {
   "cell_type": "markdown",
   "id": "de107247",
   "metadata": {},
   "source": [
    "# JS进阶\n",
    "## 作用域:\n",
    "### 局部作用域:\n",
    "#### 函数作用域:\n",
    "在函数内生命的变量只能在函数内部被访问\n",
    "- 函数的参数也是函数的局部变量\n",
    "- 不同函数内声明的变量无法互相访问"
   ]
  },
  {
   "cell_type": "code",
   "execution_count": 3,
   "id": "40f4ce51",
   "metadata": {},
   "outputs": [
    {
     "ename": "ReferenceError",
     "evalue": "a is not defined",
     "output_type": "error",
     "traceback": [
      "evalmachine.<anonymous>:5",
      "    const b = a + 1",
      "              ^",
      "",
      "ReferenceError: a is not defined",
      "    at fooz (evalmachine.<anonymous>:5:15)",
      "    at evalmachine.<anonymous>:8:1",
      "    at Script.runInThisContext (vm.js:120:18)",
      "    at Object.runInThisContext (vm.js:309:38)",
      "    at run ([eval]:1020:15)",
      "    at onRunRequest ([eval]:864:18)",
      "    at onMessage ([eval]:828:13)",
      "    at process.emit (events.js:314:20)",
      "    at emit (internal/child_process.js:877:12)",
      "    at processTicksAndRejections (internal/process/task_queues.js:85:21)"
     ]
    }
   ],
   "source": [
    "function foo(){\n",
    "    const a = 1\n",
    "}\n",
    "function fooz(){\n",
    "    const b = a + 1\n",
    "}\n",
    "foo()\n",
    "fooz()"
   ]
  },
  {
   "cell_type": "markdown",
   "id": "038ee312",
   "metadata": {},
   "source": [
    "#### 块作用域:\n",
    "在js中使用{}包裹的代码称为代码块,代码块内部声明的变量外部有可能无法被访问\n",
    "- let const 会产生作用域, var不会\n",
    "- 不同代码块之间的变量无法互相访问\n",
    "\n",
    "经典实例: for循环\n",
    "### 全局作用域:\n",
    ".js文件以及< script>标签内部会产生全局作用域\n",
    "\n",
    "### 作用域链:\n",
    "变量查找机制\n",
    "- 优先查找当前作用域的变量\n",
    "- 入股偶查不到会逐级往上找\n",
    "\n",
    "## 垃圾回收:\n",
    "应该和java一样,不用就回收:\n",
    "\n",
    "内存:\n",
    "- 内存分配: 声明变量函数对象的时候会自动分配内存\n",
    "- 内存使用: 读写内存\n",
    "- 内存回收: 使用完被垃圾回收期自动回收\n",
    "\n",
    "说明:\n",
    "- 全局变量一般不会回收\n",
    "- 局部变量的值不用了会自动回收\n",
    "\n",
    "\n",
    "内存泄露: 程序中的内存无法回收等\n",
    "\n",
    "- 栈: 操作系统自动分配, 基本数据类型\n",
    "- 堆: 存复杂类型,程序员或垃圾回收机制回收\n",
    "\n",
    "### 引用计数法:\n",
    "- 跟踪记录变量使用次数\n",
    "- 引用一次就++\n",
    "- 减少引用就--\n",
    "- 引用次数为0, 释放内存\n",
    "\n",
    "\n",
    "### 标记计数法:\n",
    "- 计算无法到达的对象\n",
    "- 从根部定期草庙内存中的对象,如果到达不了则回收\n",
    "\n",
    "## 闭包:\n",
    "内层函数+外层函数的变量\n",
    "\n",
    "实现数据私用,回忆一下作用域就懂了"
   ]
  },
  {
   "cell_type": "code",
   "execution_count": 8,
   "id": "0c29bd8e",
   "metadata": {},
   "outputs": [],
   "source": [
    "function outer(){\n",
    "    const a = 1\n",
    "    function fn(){\n",
    "        console.log(a)\n",
    "    }\n",
    "    return fn\n",
    "}\n",
    "outer()"
   ]
  },
  {
   "cell_type": "markdown",
   "id": "fbc21215",
   "metadata": {},
   "source": [
    "## 变量提升:\n",
    "仅存在于var变量, let和const没有\n",
    "\n",
    "把所有var声明的变量提升到当前作用域的最前面,只提升声明,不提升赋值,这样在之前访问变量的时候会是undefined,这样不会出现一下情况:\n",
    "\n",
    "一般来说python玩家不太会有这个问题\n",
    "\n",
    "同理函数提升就是把函数声明提升到当前作用域的最前面,如果是直接声明函数不会出错,但是函数表达式必须先声明后赋值否则报错"
   ]
  },
  {
   "cell_type": "code",
   "execution_count": 9,
   "id": "f0bdcfc7",
   "metadata": {},
   "outputs": [
    {
     "name": "stdout",
     "output_type": "stream",
     "text": [
      "undefinedworld\n"
     ]
    }
   ],
   "source": [
    "console.log(str + \"world\")\n",
    "var str = \"fuck \""
   ]
  },
  {
   "cell_type": "markdown",
   "id": "69209ede",
   "metadata": {},
   "source": [
    "## 函数参数:\n",
    "### 动态参数\n",
    "\n",
    "但是javascript直接不写就行\n",
    "\n",
    "相当于函数默认是这个样子:\n",
    "```java\n",
    "public static void main(String[] args){\n",
    "}\n",
    "```"
   ]
  },
  {
   "cell_type": "code",
   "execution_count": 12,
   "id": "066f521b",
   "metadata": {},
   "outputs": [
    {
     "name": "stdout",
     "output_type": "stream",
     "text": [
      "[Arguments] { '0': 1, '1': 2, '2': 3, '3': 4, '4': 5, '5': 6 }\n"
     ]
    }
   ],
   "source": [
    "function getSum(){\n",
    "    console.log(arguments) // 这个arguments是动态参数,只存在域函数内部\n",
    "}\n",
    "getSum(1,2,3,4,5,6)"
   ]
  },
  {
   "cell_type": "markdown",
   "id": "36d0eb89",
   "metadata": {},
   "source": [
    "### 剩余参数:\n",
    "可以将不定数量的参数表示为一个数组\n",
    "\n",
    "python的**kwargs等\n",
    "\n",
    "这个是实参上面,那个只是形参\n"
   ]
  },
  {
   "cell_type": "code",
   "execution_count": 14,
   "id": "fcfcdcfd",
   "metadata": {},
   "outputs": [
    {
     "name": "stdout",
     "output_type": "stream",
     "text": [
      "[ 3, 4, 5, 6, 7, 8, 9, 0, [ 1, 2, 3 ] ]\n"
     ]
    }
   ],
   "source": [
    "function getSum(a,b,...other){\n",
    "    console.log(other)\n",
    "}\n",
    "getSum(1,2,3,4,5,6,7,8,9,0,[1,2,3])"
   ]
  },
  {
   "cell_type": "markdown",
   "id": "48645e2a",
   "metadata": {},
   "source": [
    "## 展开运算符:\n",
    "...数组 进行展开\n",
    "\n",
    "好处在Max等必须要输入元素而不是数组的时候\n",
    "\n",
    "## 箭头函数:\n",
    "一般是在函数表达式的时候用\n",
    "\n",
    "只有一个形参的时候可以省略小括号\n",
    "\n",
    "如果只有一行代码,可以直接写到一行上,不需要写return,也不需要写大括号\n",
    "\n",
    "箭头函数可以直接返回一个对象\n",
    "\n",
    "### 参数:\n",
    "箭头函数没有arguments动态参数,但是有剩余参数..args\n",
    "\n",
    "\n",
    "### this:\n",
    "箭头函数没有自己的this,调用this会返回作用域的上一层\n"
   ]
  },
  {
   "cell_type": "code",
   "execution_count": 1,
   "id": "6baec036",
   "metadata": {},
   "outputs": [
    {
     "name": "stdout",
     "output_type": "stream",
     "text": [
      "[ 1, 2, 3, 4 ]\n",
      "Object [global] {\n",
      "  global: [Circular],\n",
      "  clearInterval: [Function: clearInterval],\n",
      "  clearTimeout: [Function: clearTimeout],\n",
      "  setInterval: [Function: setInterval],\n",
      "  setTimeout: [Function: setTimeout] {\n",
      "    [Symbol(nodejs.util.promisify.custom)]: [Function]\n",
      "  },\n",
      "  queueMicrotask: [Function: queueMicrotask],\n",
      "  clearImmediate: [Function: clearImmediate],\n",
      "  setImmediate: [Function: setImmediate] {\n",
      "    [Symbol(nodejs.util.promisify.custom)]: [Function]\n",
      "  },\n",
      "  __filename: '[eval]',\n",
      "  exports: {},\n",
      "  module: Module {\n",
      "    id: '[eval]',\n",
      "    path: '.',\n",
      "    exports: {},\n",
      "    parent: undefined,\n",
      "    filename: '/mnt/d/Desktop/study/notes/selfstudy/html/[eval]',\n",
      "    loaded: false,\n",
      "    children: [],\n",
      "    paths: [\n",
      "      '/mnt/d/Desktop/study/notes/selfstudy/html/node_modules',\n",
      "      '/mnt/d/Desktop/study/notes/selfstudy/node_modules',\n",
      "      '/mnt/d/Desktop/study/notes/node_modules',\n",
      "      '/mnt/d/Desktop/study/node_modules',\n",
      "      '/mnt/d/Desktop/node_modules',\n",
      "      '/mnt/d/node_modules',\n",
      "      '/mnt/node_modules',\n",
      "      '/node_modules'\n",
      "    ]\n",
      "  },\n",
      "  __dirname: '.',\n",
      "  require: [Function: require] {\n",
      "    resolve: [Function: resolve] { paths: [Function: paths] },\n",
      "    main: undefined,\n",
      "    extensions: [Object: null prototype] {\n",
      "      '.js': [Function],\n",
      "      '.json': [Function],\n",
      "      '.node': [Function]\n",
      "    },\n",
      "    cache: [Object: null prototype] {}\n",
      "  },\n",
      "  '$$mimer$$': [Function: defaultMimer],\n",
      "  '$$done$$': [Function: bound bound done],\n",
      "  console: Console [console] {\n",
      "    log: [Function: log],\n",
      "    warn: [Function: warn],\n",
      "    dir: [Function: dir],\n",
      "    time: [Function: time],\n",
      "    timeEnd: [Function: timeEnd],\n",
      "    timeLog: [Function: timeLog],\n",
      "    trace: [Function: trace],\n",
      "    assert: [Function: assert],\n",
      "    clear: [Function: clear],\n",
      "    count: [Function: count],\n",
      "    countReset: [Function: countReset],\n",
      "    group: [Function: group],\n",
      "    groupEnd: [Function: groupEnd],\n",
      "    table: [Function: table],\n",
      "    debug: [Function: debug],\n",
      "    info: [Function: info],\n",
      "    dirxml: [Function: dirxml],\n",
      "    error: [Function: error],\n",
      "    groupCollapsed: [Function: groupCollapsed],\n",
      "    Console: [Function: Console]\n",
      "  },\n",
      "  '$$': [Object: null prototype] {\n",
      "    async: [Function: bound async],\n",
      "    done: [Function: bound done],\n",
      "    sendResult: [Function: bound ],\n",
      "    sendError: [Function: bound ],\n",
      "    mime: [Function: bound ],\n",
      "    text: [Function: bound ],\n",
      "    html: [Function: bound ],\n",
      "    svg: [Function: bound ],\n",
      "    png: [Function: bound ],\n",
      "    jpeg: [Function: bound ],\n",
      "    json: [Function: bound ],\n",
      "    input: [Function: bound input],\n",
      "    display: [Function: bound createDisplay],\n",
      "    clear: [Function: bound clear]\n",
      "  }\n",
      "}\n"
     ]
    }
   ],
   "source": [
    "const fn = function(){\n",
    "    console.log(1)\n",
    "}\n",
    "const f = () => {\n",
    "    console.log(1)\n",
    "}\n",
    "const a = (...arr) => {\n",
    "    console.log(arr)\n",
    "    console.log(this)\n",
    "}\n",
    "\n",
    "a(1,2,3,4)"
   ]
  },
  {
   "cell_type": "markdown",
   "id": "f0eb1ff3",
   "metadata": {},
   "source": [
    "### 对象方法的箭头函数:\n"
   ]
  },
  {
   "cell_type": "code",
   "execution_count": 3,
   "id": "7aef992d",
   "metadata": {},
   "outputs": [
    {
     "ename": "SyntaxError",
     "evalue": "Identifier 'obj' has already been declared",
     "output_type": "error",
     "traceback": [
      "evalmachine.<anonymous>:1",
      "const obj = {",
      "^",
      "",
      "SyntaxError: Identifier 'obj' has already been declared",
      "    at evalmachine.<anonymous>:1:1",
      "    at Script.runInThisContext (vm.js:120:18)",
      "    at Object.runInThisContext (vm.js:309:38)",
      "    at run ([eval]:1020:15)",
      "    at onRunRequest ([eval]:864:18)",
      "    at onMessage ([eval]:828:13)",
      "    at process.emit (events.js:314:20)",
      "    at emit (internal/child_process.js:877:12)",
      "    at processTicksAndRejections (internal/process/task_queues.js:85:21)"
     ]
    }
   ],
   "source": [
    "const obj = {\n",
    "    name: \"ifjeijf\",\n",
    "    sayHi: ()=>{\n",
    "        console.log(this)\n",
    "        const i = 10\n",
    "        const count = () => {\n",
    "            console.log(this)\n",
    "        }\n",
    "        count()\n",
    "    }\n",
    "}\n",
    "// obj的sayHi没有this,会返回上一层(obj)的this\n",
    "obj.sayHi()\n",
    "// window调用obj的sayHi方法,返回window而不是obj\n",
    "// jupyter里的window比较奇怪\n",
    "\n",
    "//count里没有this,找上一层的sayHi,但是sayHi也没有this.接着找,最后找到window"
   ]
  },
  {
   "cell_type": "markdown",
   "id": "90fd03d4",
   "metadata": {},
   "source": [
    "## 解构赋值:\n",
    "### 数组:"
   ]
  },
  {
   "cell_type": "code",
   "execution_count": 4,
   "id": "624a7966",
   "metadata": {},
   "outputs": [
    {
     "name": "stdout",
     "output_type": "stream",
     "text": [
      "1\n",
      "2\n",
      "3\n"
     ]
    }
   ],
   "source": [
    "const arr = [1,2,3]\n",
    "const [a,b,c] = arr\n",
    "console.log(a)\n",
    "console.log(b)\n",
    "console.log(c)"
   ]
  },
  {
   "cell_type": "code",
   "execution_count": 2,
   "id": "9e20db5b",
   "metadata": {},
   "outputs": [
    {
     "name": "stdout",
     "output_type": "stream",
     "text": [
      "2\n",
      "1\n"
     ]
    }
   ],
   "source": [
    "let a = 1\n",
    "let b = 2; //这里必须有分号, 如果没有编译器会把下一行代码混淆到这一行,\n",
    "           //就是解构之前哪一行必须要分号\n",
    "[b,a] = [a,b]\n",
    "console.log(a)\n",
    "console.log(b)"
   ]
  },
  {
   "cell_type": "code",
   "execution_count": 1,
   "id": "09d27164",
   "metadata": {},
   "outputs": [
    {
     "name": "stdout",
     "output_type": "stream",
     "text": [
      "1\n",
      "2\n",
      "3\n",
      "undefined\n"
     ]
    }
   ],
   "source": [
    "// 同时\n",
    "const [a,b,c,d] = [1,2,3]\n",
    "\n",
    "console.log(a)\n",
    "console.log(b)\n",
    "console.log(c)\n",
    "console.log(d)"
   ]
  },
  {
   "cell_type": "code",
   "execution_count": 1,
   "id": "fcb61fe7",
   "metadata": {},
   "outputs": [
    {
     "name": "stdout",
     "output_type": "stream",
     "text": [
      "1\n",
      "2\n",
      "3\n",
      "40\n"
     ]
    }
   ],
   "source": [
    "// 为了防止这种情况,可以设置默认值\n",
    "const [a = 10, b = 20, c = 30, d = 40] = [1,2,3]\n",
    "\n",
    "console.log(a)\n",
    "console.log(b)\n",
    "console.log(c)\n",
    "console.log(d)"
   ]
  },
  {
   "cell_type": "code",
   "execution_count": 1,
   "id": "9c02610e",
   "metadata": {},
   "outputs": [
    {
     "name": "stdout",
     "output_type": "stream",
     "text": [
      "1\n",
      "2\n",
      "[ 3, 4 ]\n",
      "40\n"
     ]
    }
   ],
   "source": [
    "// 支持多维数组\n",
    "const [a = 10, b = 20, c = 30, d = 40] = [1,2,[3,4]]\n",
    "\n",
    "console.log(a)\n",
    "console.log(b)\n",
    "console.log(c)\n",
    "console.log(d)"
   ]
  },
  {
   "cell_type": "markdown",
   "id": "3f276df7",
   "metadata": {},
   "source": [
    "### 对象:\n"
   ]
  },
  {
   "cell_type": "code",
   "execution_count": 3,
   "id": "500b10a8",
   "metadata": {},
   "outputs": [
    {
     "name": "stdout",
     "output_type": "stream",
     "text": [
      "a\n",
      "12\n"
     ]
    }
   ],
   "source": [
    "const {name, age} = {\n",
    "    name : \"a\",\n",
    "    age: 12\n",
    "}\n",
    "console.log(name)\n",
    "console.log(age)"
   ]
  },
  {
   "cell_type": "code",
   "execution_count": 1,
   "id": "377f2e26",
   "metadata": {},
   "outputs": [
    {
     "ename": "SyntaxError",
     "evalue": "Identifier 'uname' has already been declared",
     "output_type": "error",
     "traceback": [
      "evalmachine.<anonymous>:4",
      "const {uname, age} = {",
      "       ^",
      "",
      "SyntaxError: Identifier 'uname' has already been declared",
      "    at new Script (vm.js:88:7)",
      "    at createScript (vm.js:261:10)",
      "    at Object.runInThisContext (vm.js:309:10)",
      "    at run ([eval]:1020:15)",
      "    at onRunRequest ([eval]:864:18)",
      "    at onMessage ([eval]:828:13)",
      "    at process.emit (events.js:314:20)",
      "    at emit (internal/child_process.js:877:12)",
      "    at processTicksAndRejections (internal/process/task_queues.js:85:21)"
     ]
    }
   ],
   "source": [
    "// 属性名必须完全对应,\n",
    "// 不要和外面有冲突,不然会报错\n",
    "const uname = 10\n",
    "const {uname, age} = {\n",
    "    // 这里相当于两个const赋值语句\n",
    "    name : \"a\",\n",
    "    age: 12\n",
    "}\n",
    "console.log(name)\n",
    "console.log(age)"
   ]
  },
  {
   "cell_type": "code",
   "execution_count": 1,
   "id": "3471f38b",
   "metadata": {},
   "outputs": [
    {
     "name": "stdout",
     "output_type": "stream",
     "text": [
      "a\n",
      "12\n"
     ]
    }
   ],
   "source": [
    "const {name: uname, age} = {\n",
    "    name : \"a\",\n",
    "    age: 12\n",
    "}\n",
    "console.log(uname)\n",
    "console.log(age)"
   ]
  },
  {
   "cell_type": "code",
   "execution_count": 2,
   "id": "891d26ac",
   "metadata": {},
   "outputs": [
    {
     "name": "stdout",
     "output_type": "stream",
     "text": [
      "aaa\n",
      "16\n"
     ]
    }
   ],
   "source": [
    "// 数组对象解构:\n",
    "const pig = [{\n",
    "    \"name\":\"aaa\",\n",
    "    \"age\": 16\n",
    "}]\n",
    "const [{name, age}] = pig\n",
    "console.log(name)\n",
    "console.log(age)"
   ]
  },
  {
   "cell_type": "code",
   "execution_count": 1,
   "id": "f6f498a7",
   "metadata": {},
   "outputs": [
    {
     "name": "stdout",
     "output_type": "stream",
     "text": [
      "aaa\n",
      "mother\n",
      "father\n",
      "sister\n"
     ]
    }
   ],
   "source": [
    "const pig = {\n",
    "    name: \"aaa\",\n",
    "    family: {\n",
    "        mother: \"mother\",\n",
    "        father: \"father\",\n",
    "        sister: \"sister\"\n",
    "    },\n",
    "    age: 6\n",
    "}\n",
    "const {name, family:{mother, father, sister}} = pig\n",
    "console.log(name)\n",
    "console.log(mother)\n",
    "console.log(father)\n",
    "console.log(sister)"
   ]
  },
  {
   "cell_type": "code",
   "execution_count": 1,
   "id": "c06ab123",
   "metadata": {},
   "outputs": [
    {
     "name": "stdout",
     "output_type": "stream",
     "text": [
      "aaa\n",
      "mother\n",
      "father\n",
      "sister\n"
     ]
    }
   ],
   "source": [
    "// 也可以在函数传参的时候解构\n",
    "const pig = {\n",
    "    name: \"aaa\",\n",
    "    family: {\n",
    "        mother: \"mother\",\n",
    "        father: \"father\",\n",
    "        sister: \"sister\"\n",
    "    },\n",
    "    age: 6\n",
    "}\n",
    "function f({name, family:{mother, father, sister}}){\n",
    "    console.log(name)\n",
    "    console.log(mother)\n",
    "    console.log(father)\n",
    "    console.log(sister)\n",
    "}\n",
    "f(pig)"
   ]
  },
  {
   "cell_type": "markdown",
   "id": "e10c0f62",
   "metadata": {},
   "source": [
    "## 一些函数:\n",
    ".map() .forEach(), kotlin的老熟人了,用法也差不多"
   ]
  },
  {
   "cell_type": "code",
   "execution_count": 1,
   "id": "028ef68d",
   "metadata": {},
   "outputs": [
    {
     "name": "stdout",
     "output_type": "stream",
     "text": [
      "[ 2, 3, 4 ]\n"
     ]
    }
   ],
   "source": [
    "const a = [1,2,3].map(b=>b+1)\n",
    "console.log(a)"
   ]
  },
  {
   "cell_type": "code",
   "execution_count": 1,
   "id": "b8ba694d",
   "metadata": {},
   "outputs": [
    {
     "ename": "TypeError",
     "evalue": "pig is not iterable",
     "output_type": "error",
     "traceback": [
      "evalmachine.<anonymous>:10",
      "for (i of pig){",
      "          ^",
      "",
      "TypeError: pig is not iterable",
      "    at evalmachine.<anonymous>:10:11",
      "    at Script.runInThisContext (vm.js:120:18)",
      "    at Object.runInThisContext (vm.js:309:38)",
      "    at run ([eval]:1020:15)",
      "    at onRunRequest ([eval]:864:18)",
      "    at onMessage ([eval]:828:13)",
      "    at process.emit (events.js:314:20)",
      "    at emit (internal/child_process.js:877:12)",
      "    at processTicksAndRejections (internal/process/task_queues.js:85:21)"
     ]
    }
   ],
   "source": [
    "const pig = {\n",
    "    name: \"aaa\",\n",
    "    family: {\n",
    "        mother: \"mother\",\n",
    "        father: \"father\",\n",
    "        sister: \"sister\"\n",
    "    },\n",
    "    age: 6\n",
    "}\n"
   ]
  },
  {
   "cell_type": "code",
   "execution_count": 4,
   "id": "ccd4937b",
   "metadata": {},
   "outputs": [
    {
     "name": "stdout",
     "output_type": "stream",
     "text": [
      "[ 'name', 'aaa' ]\n",
      "[ 'family', { mother: 'mother', father: 'father', sister: 'sister' } ]\n",
      "[ 'age', 6 ]\n"
     ]
    }
   ],
   "source": [
    "for (i of Object.entries(pig)){\n",
    "    console.log(i)\n",
    "}"
   ]
  },
  {
   "cell_type": "markdown",
   "id": "d26915b2",
   "metadata": {},
   "source": [
    "## 对象:\n",
    "### 创建对象三种方式\n",
    "#### 直接创建"
   ]
  },
  {
   "cell_type": "code",
   "execution_count": 5,
   "id": "4c355a21",
   "metadata": {},
   "outputs": [],
   "source": [
    "const obj = {\n",
    "    \"name\": \"aaa\"\n",
    "}"
   ]
  },
  {
   "cell_type": "markdown",
   "id": "14d41a3a",
   "metadata": {},
   "source": [
    "#### new Object(系统默认构造函数)"
   ]
  },
  {
   "cell_type": "code",
   "execution_count": 6,
   "id": "ff278657",
   "metadata": {},
   "outputs": [
    {
     "name": "stdout",
     "output_type": "stream",
     "text": [
      "{ nam2: 'aaa' }\n"
     ]
    }
   ],
   "source": [
    "const obj1 = new Object()\n",
    "obj1.name = \"aaa\"\n",
    "console.log(obj1)"
   ]
  },
  {
   "cell_type": "markdown",
   "id": "97962c78",
   "metadata": {},
   "source": [
    "#### 自定义构造函数:\n",
    "约定: \n",
    "- 函数名称首字母大写\n",
    "- 只能用new操作\n",
    "\n",
    "说明:\n",
    "- 构造函数内没有参数的时候可以省略括号\n",
    "- 构造函数内部无需return,return返回值无效\n",
    "- 系统内置的Object和Date也是构造函数"
   ]
  },
  {
   "cell_type": "code",
   "execution_count": 8,
   "id": "f6074b79",
   "metadata": {},
   "outputs": [
    {
     "name": "stdout",
     "output_type": "stream",
     "text": [
      "Pig { name: 'aaa' }\n"
     ]
    }
   ],
   "source": [
    "function Pig(name){\n",
    "    this.name = name\n",
    "}\n",
    "obj2 = new Pig(\"aaa\")\n",
    "console.log(obj2)"
   ]
  },
  {
   "cell_type": "code",
   "execution_count": null,
   "id": "0f52cec2",
   "metadata": {},
   "outputs": [],
   "source": []
  },
  {
   "cell_type": "markdown",
   "id": "fbf22111",
   "metadata": {},
   "source": [
    "### 成员:\n",
    "#### 实例成员:\n",
    "通过构造函数创建的对象是实例对象.实例对象中的属性和方法称为实例成员\n",
    "\n",
    "- 为构造函数传入参数,结构相同但对象不同,(和java一样,new就是一个全新的地址不同的对象)\n",
    "- 创建的对象彼此独立,互不影响\n",
    "\n",
    "#### 静态成员:\n",
    "构造函数的属性和方法称为静态成员,就想象有个看不到的java static关键字\n",
    "\n",
    "只能通过构造函数调用"
   ]
  },
  {
   "cell_type": "code",
   "execution_count": 11,
   "id": "8a28aa0b",
   "metadata": {},
   "outputs": [
    {
     "name": "stdout",
     "output_type": "stream",
     "text": [
      "2\n",
      "[Function: Pig] { eyes: 2, legs: 4, sayHi: [Function] }\n"
     ]
    },
    {
     "ename": "ReferenceError",
     "evalue": "eyes is not defined",
     "output_type": "error",
     "traceback": [
      "evalmachine.<anonymous>:8",
      "console.log(eyes)",
      "            ^",
      "",
      "ReferenceError: eyes is not defined",
      "    at evalmachine.<anonymous>:8:13",
      "    at Script.runInThisContext (vm.js:120:18)",
      "    at Object.runInThisContext (vm.js:309:38)",
      "    at run ([eval]:1020:15)",
      "    at onRunRequest ([eval]:864:18)",
      "    at onMessage ([eval]:828:13)",
      "    at process.emit (events.js:314:20)",
      "    at emit (internal/child_process.js:877:12)",
      "    at processTicksAndRejections (internal/process/task_queues.js:85:21)"
     ]
    }
   ],
   "source": [
    "Pig.eyes = 2\n",
    "Pig.legs = 4\n",
    "Pig.sayHi = function(){\n",
    "    console.log(this)\n",
    "}\n",
    "console.log(Pig.eyes)\n",
    "Pig.sayHi()\n",
    "console.log(eyes)"
   ]
  },
  {
   "cell_type": "markdown",
   "id": "15a2d28b",
   "metadata": {},
   "source": [
    "### 包装类型"
   ]
  },
  {
   "cell_type": "markdown",
   "id": "4fb6ed23",
   "metadata": {},
   "source": [
    "#### 基本包装类型:\n",
    "字符串, 数值, boolean, undefined, null\n",
    "\n",
    "字符串比较特殊:\n",
    "\n",
    "一般来说只有对象才有属性方法,但是可以调用string.length\n",
    "\n",
    "在js底层自动包装乘复杂数据类型, 相当于java的int数据类型被自动变成Integer类"
   ]
  },
  {
   "cell_type": "code",
   "execution_count": 13,
   "id": "3e840a89",
   "metadata": {},
   "outputs": [
    {
     "ename": "SyntaxError",
     "evalue": "Identifier 'str' has already been declared",
     "output_type": "error",
     "traceback": [
      "evalmachine.<anonymous>:1",
      "const str = new String(\"aaa\")",
      "^",
      "",
      "SyntaxError: Identifier 'str' has already been declared",
      "    at evalmachine.<anonymous>:1:1",
      "    at Script.runInThisContext (vm.js:120:18)",
      "    at Object.runInThisContext (vm.js:309:38)",
      "    at run ([eval]:1020:15)",
      "    at onRunRequest ([eval]:864:18)",
      "    at onMessage ([eval]:828:13)",
      "    at process.emit (events.js:314:20)",
      "    at emit (internal/child_process.js:877:12)",
      "    at processTicksAndRejections (internal/process/task_queues.js:85:21)"
     ]
    }
   ],
   "source": [
    "const str = new String(\"aaa\")\n",
    "const string = \"aaa\""
   ]
  },
  {
   "cell_type": "markdown",
   "id": "c86d549d",
   "metadata": {},
   "source": [
    "#### 内置构造函数:\n",
    "引用类型:\n",
    "- Object. Array, RegExp, Date......\n",
    "\n",
    "包装类型:\n",
    "- String, Number, Boolean......"
   ]
  },
  {
   "cell_type": "markdown",
   "id": "b8ba7a79",
   "metadata": {},
   "source": [
    "### 内置构造函数:\n",
    "#### Object:\n",
    "##### 静态方法 Object.keys() \n",
    "python的字典.keys()\n",
    "##### 静态方法 Object.values()\n",
    "python的字典.values()\n",
    "##### 静态方法 Object.entries()\n",
    "python的字典.entries()"
   ]
  },
  {
   "cell_type": "code",
   "execution_count": 1,
   "id": "95b1c263",
   "metadata": {},
   "outputs": [
    {
     "data": {
      "text/plain": [
       "'aaa'"
      ]
     },
     "execution_count": 1,
     "metadata": {},
     "output_type": "execute_result"
    }
   ],
   "source": [
    "const o = {name:\"aaa\",val: 12}\n",
    "Object.entries(o)[0][1]"
   ]
  },
  {
   "cell_type": "markdown",
   "id": "237cf629",
   "metadata": {},
   "source": [
    "##### 静态方法 Object.assign()\n",
    "对象拷贝"
   ]
  },
  {
   "cell_type": "code",
   "execution_count": 1,
   "id": "1a433099",
   "metadata": {},
   "outputs": [
    {
     "name": "stdout",
     "output_type": "stream",
     "text": [
      "{ age: 111, name: 'aaa', val: 12 }\n"
     ]
    }
   ],
   "source": [
    "const o = {name:\"aaa\",val: 12}\n",
    "const oo = {age: 111}\n",
    "Object.assign(oo,o)\n",
    "console.log(oo)"
   ]
  },
  {
   "cell_type": "markdown",
   "id": "8ba7aeeb",
   "metadata": {},
   "source": [
    "#### Array:\n",
    "可以new Array,也可以直接写数组\n",
    "\n",
    "##### forEach:\n",
    "##### map:\n",
    "##### filter:\n",
    "##### reduce:\n",
    "```javascript:\n",
    "arr.reduce(function(上一次的值,当前值){},初始值)\n",
    "```"
   ]
  },
  {
   "cell_type": "code",
   "execution_count": null,
   "id": "7a404588",
   "metadata": {},
   "outputs": [],
   "source": [
    "const arr = [1,2,3,4]\n",
    "arr.reduce(function(){},0)"
   ]
  },
  {
   "cell_type": "markdown",
   "id": "6f5881eb",
   "metadata": {},
   "source": [
    "想象有个haskell程序"
   ]
  },
  {
   "cell_type": "code",
   "execution_count": null,
   "id": "33a7381d",
   "metadata": {},
   "outputs": [
    {
     "data": {
      "text/plain": [
       "15"
      ]
     },
     "metadata": {},
     "output_type": "display_data"
    }
   ],
   "source": [
    "-- haskell\n",
    "add::Int -> Int -> Int\n",
    "add a b = a + b\n",
    "foldr add 0 [1,2,3,4,5]"
   ]
  },
  {
   "cell_type": "markdown",
   "id": "c87068a6",
   "metadata": {},
   "source": [
    "等价于:"
   ]
  },
  {
   "cell_type": "code",
   "execution_count": 1,
   "id": "abe9d9f3",
   "metadata": {},
   "outputs": [
    {
     "data": {
      "text/plain": [
       "15"
      ]
     },
     "execution_count": 1,
     "metadata": {},
     "output_type": "execute_result"
    }
   ],
   "source": [
    "function add(a,b){\n",
    "    return a + b\n",
    "}\n",
    "[1,2,3,4,5].reduce(add, 0)"
   ]
  },
  {
   "cell_type": "markdown",
   "id": "29d325a3",
   "metadata": {},
   "source": [
    "##### join\n",
    "和python的join差不多,但是反过来"
   ]
  },
  {
   "cell_type": "code",
   "execution_count": 2,
   "id": "03d99564",
   "metadata": {},
   "outputs": [
    {
     "data": {
      "text/plain": [
       "'1,,,,,2,,,,,3,,,,,4,,,,,5'"
      ]
     },
     "execution_count": 2,
     "metadata": {},
     "output_type": "execute_result"
    }
   ],
   "source": [
    "# python\n",
    "(\",,,,,\").join([\"1\",\"2\",\"3\",\"4\",\"5\"])"
   ]
  },
  {
   "cell_type": "code",
   "execution_count": 1,
   "id": "973e6f0f",
   "metadata": {},
   "outputs": [
    {
     "data": {
      "text/plain": [
       "'1,,,,,2,,,,,3,,,,,4,,,,,5'"
      ]
     },
     "execution_count": 1,
     "metadata": {},
     "output_type": "execute_result"
    }
   ],
   "source": [
    "// javascript\n",
    "[1,2,3,4,5].join(\",,,,,\")"
   ]
  },
  {
   "cell_type": "markdown",
   "id": "9fac978e",
   "metadata": {},
   "source": [
    "##### find"
   ]
  },
  {
   "cell_type": "code",
   "execution_count": 34,
   "id": "c2b3bb1b",
   "metadata": {},
   "outputs": [
    {
     "ename": "SyntaxError",
     "evalue": "Unexpected token '{'",
     "output_type": "error",
     "traceback": [
      "evalmachine.<anonymous>:2",
      "listOf(1,2,3,4,5).first {it % 6 == 0}",
      "                        ^",
      "",
      "SyntaxError: Unexpected token '{'",
      "    at new Script (vm.js:88:7)",
      "    at createScript (vm.js:261:10)",
      "    at Object.runInThisContext (vm.js:309:10)",
      "    at run ([eval]:1020:15)",
      "    at onRunRequest ([eval]:864:18)",
      "    at onMessage ([eval]:828:13)",
      "    at process.emit (events.js:314:20)",
      "    at emit (internal/child_process.js:877:12)",
      "    at processTicksAndRejections (internal/process/task_queues.js:85:21)"
     ]
    }
   ],
   "source": [
    "// kotlin\n",
    "listOf(1,2,3,4,5).first {it % 6 == 0}"
   ]
  },
  {
   "cell_type": "code",
   "execution_count": 37,
   "id": "bf1670c3",
   "metadata": {},
   "outputs": [
    {
     "data": {
      "text/plain": [
       "true"
      ]
     },
     "execution_count": 37,
     "metadata": {},
     "output_type": "execute_result"
    }
   ],
   "source": [
    "// javascript\n",
    "[1,2,3,4,5].find((it) => it % 6 == 0) == undefined"
   ]
  },
  {
   "cell_type": "markdown",
   "id": "6676f083",
   "metadata": {},
   "source": [
    "##### every"
   ]
  },
  {
   "cell_type": "code",
   "execution_count": 1,
   "id": "f30e1d8e",
   "metadata": {},
   "outputs": [
    {
     "data": {
      "text/plain": [
       "false"
      ]
     },
     "execution_count": 1,
     "metadata": {},
     "output_type": "execute_result"
    }
   ],
   "source": [
    "// javascript\n",
    "[1,2,3,4,5].every((it) => it % 2 == 0)"
   ]
  },
  {
   "cell_type": "code",
   "execution_count": 1,
   "id": "19ee3666",
   "metadata": {},
   "outputs": [
    {
     "data": {
      "text/plain": [
       "false"
      ]
     },
     "execution_count": 1,
     "metadata": {},
     "output_type": "execute_result"
    }
   ],
   "source": [
    "// kotlin\n",
    "listOf(1,2,3,4,5).all{it % 2 == 0}"
   ]
  },
  {
   "cell_type": "markdown",
   "id": "25cc7b90",
   "metadata": {},
   "source": [
    "##### some"
   ]
  },
  {
   "cell_type": "code",
   "execution_count": null,
   "id": "9eb98ba9",
   "metadata": {},
   "outputs": [],
   "source": [
    "// javascript\n",
    "[1,2,3,4,5].some((it) => it % 2 == 0)"
   ]
  },
  {
   "cell_type": "code",
   "execution_count": 2,
   "id": "45d42ca0",
   "metadata": {},
   "outputs": [
    {
     "data": {
      "text/plain": [
       "true"
      ]
     },
     "execution_count": 2,
     "metadata": {},
     "output_type": "execute_result"
    }
   ],
   "source": [
    "// kotlin\n",
    "listOf(1,2,3,4,5).any{it % 2 == 0}"
   ]
  },
  {
   "cell_type": "markdown",
   "id": "d93c40a0",
   "metadata": {},
   "source": [
    "##### concat"
   ]
  },
  {
   "cell_type": "code",
   "execution_count": 3,
   "id": "dde3be08",
   "metadata": {},
   "outputs": [
    {
     "data": {
      "text/plain": [
       "[\n",
       "  1, 2, 3, 4,\n",
       "  5, 6, 7\n",
       "]"
      ]
     },
     "execution_count": 3,
     "metadata": {},
     "output_type": "execute_result"
    }
   ],
   "source": [
    "// javascript\n",
    "[1,2,3,4].concat([5,6,7])"
   ]
  },
  {
   "cell_type": "code",
   "execution_count": 7,
   "id": "e7f17ad9",
   "metadata": {},
   "outputs": [
    {
     "data": {
      "text/plain": [
       "[1, 2, 3, 4, 1, 2, 3, 4, 5]"
      ]
     },
     "execution_count": 7,
     "metadata": {},
     "output_type": "execute_result"
    }
   ],
   "source": [
    "# python\n",
    "[1,2,3,4] + [1,2,3,4,5]"
   ]
  },
  {
   "cell_type": "markdown",
   "id": "68ce7927",
   "metadata": {},
   "source": [
    "##### sort"
   ]
  },
  {
   "cell_type": "code",
   "execution_count": 4,
   "id": "34b4e459",
   "metadata": {},
   "outputs": [
    {
     "data": {
      "text/plain": [
       "[ 1, 2, 3, 4 ]"
      ]
     },
     "execution_count": 4,
     "metadata": {},
     "output_type": "execute_result"
    }
   ],
   "source": [
    "// javascript\n",
    "[4,2,3,1].sort()"
   ]
  },
  {
   "cell_type": "code",
   "execution_count": null,
   "id": "2f3eb945",
   "metadata": {},
   "outputs": [],
   "source": [
    "# python\n",
    "sorted([4,2,3,1])"
   ]
  },
  {
   "cell_type": "markdown",
   "id": "24ac65ef",
   "metadata": {},
   "source": [
    "##### reverse"
   ]
  },
  {
   "cell_type": "code",
   "execution_count": 6,
   "id": "97171c47",
   "metadata": {},
   "outputs": [
    {
     "data": {
      "text/plain": [
       "[ 5, 4, 3, 2, 1 ]"
      ]
     },
     "execution_count": 6,
     "metadata": {},
     "output_type": "execute_result"
    }
   ],
   "source": [
    "// javascript\n",
    "[1,2,3,4,5].reverse()"
   ]
  },
  {
   "cell_type": "code",
   "execution_count": 10,
   "id": "39d8d5e6",
   "metadata": {},
   "outputs": [
    {
     "data": {
      "text/plain": [
       "[5, 4, 3, 2, 1]"
      ]
     },
     "execution_count": 10,
     "metadata": {},
     "output_type": "execute_result"
    }
   ],
   "source": [
    "# python\n",
    "list(reversed([1,2,3,4,5]))"
   ]
  },
  {
   "cell_type": "markdown",
   "id": "c2680f1b",
   "metadata": {},
   "source": [
    "##### findIndex"
   ]
  },
  {
   "cell_type": "code",
   "execution_count": 8,
   "id": "5fa8795d",
   "metadata": {},
   "outputs": [
    {
     "data": {
      "text/plain": [
       "1"
      ]
     },
     "execution_count": 8,
     "metadata": {},
     "output_type": "execute_result"
    }
   ],
   "source": [
    "// javascript\n",
    "[1,2,3,4,5].findIndex((it) => it== 2)"
   ]
  },
  {
   "cell_type": "code",
   "execution_count": 11,
   "id": "36a278d4",
   "metadata": {},
   "outputs": [
    {
     "data": {
      "text/plain": [
       "2"
      ]
     },
     "execution_count": 11,
     "metadata": {},
     "output_type": "execute_result"
    }
   ],
   "source": [
    "# python\n",
    "[1,2,3,4,5].index(3)"
   ]
  },
  {
   "cell_type": "markdown",
   "id": "b89f2f6f",
   "metadata": {},
   "source": [
    "#### String"
   ]
  },
  {
   "cell_type": "markdown",
   "id": "62193bd0",
   "metadata": {},
   "source": [
    "##### length"
   ]
  },
  {
   "cell_type": "code",
   "execution_count": 1,
   "id": "579116d7",
   "metadata": {},
   "outputs": [
    {
     "data": {
      "text/plain": [
       "5"
      ]
     },
     "execution_count": 1,
     "metadata": {},
     "output_type": "execute_result"
    }
   ],
   "source": [
    "//javascript\n",
    "\"hello\".length"
   ]
  },
  {
   "cell_type": "markdown",
   "id": "66a9be14",
   "metadata": {},
   "source": [
    "##### split"
   ]
  },
  {
   "cell_type": "code",
   "execution_count": 2,
   "id": "80ecc689",
   "metadata": {},
   "outputs": [
    {
     "data": {
      "text/plain": [
       "[ 'he', '', 'o' ]"
      ]
     },
     "execution_count": 2,
     "metadata": {},
     "output_type": "execute_result"
    }
   ],
   "source": [
    "//javascript\n",
    "\"hello\".split(\"l\")"
   ]
  },
  {
   "cell_type": "markdown",
   "id": "ff339115",
   "metadata": {},
   "source": [
    "##### substring"
   ]
  },
  {
   "cell_type": "code",
   "execution_count": 4,
   "id": "9f0f854f",
   "metadata": {},
   "outputs": [
    {
     "data": {
      "text/plain": [
       "'lo'"
      ]
     },
     "execution_count": 4,
     "metadata": {},
     "output_type": "execute_result"
    }
   ],
   "source": [
    "//javascript\n",
    "\"hello\".substring(3)"
   ]
  },
  {
   "cell_type": "markdown",
   "id": "d8067451",
   "metadata": {},
   "source": [
    "##### startsWith"
   ]
  },
  {
   "cell_type": "code",
   "execution_count": 5,
   "id": "40f6e71d",
   "metadata": {},
   "outputs": [
    {
     "data": {
      "text/plain": [
       "true"
      ]
     },
     "execution_count": 5,
     "metadata": {},
     "output_type": "execute_result"
    }
   ],
   "source": [
    "//javascript\n",
    "\"hello\".startsWith(\"he\")"
   ]
  },
  {
   "cell_type": "markdown",
   "id": "d79e9ca7",
   "metadata": {},
   "source": [
    "##### includes"
   ]
  },
  {
   "cell_type": "code",
   "execution_count": 33,
   "id": "0811d975",
   "metadata": {},
   "outputs": [
    {
     "data": {
      "text/plain": [
       "true"
      ]
     },
     "execution_count": 33,
     "metadata": {},
     "output_type": "execute_result"
    }
   ],
   "source": [
    "\"hello\".includes(\"ll\")"
   ]
  },
  {
   "cell_type": "markdown",
   "id": "c5492e8b",
   "metadata": {},
   "source": [
    "##### toUpperCase"
   ]
  },
  {
   "cell_type": "code",
   "execution_count": 6,
   "id": "7faf8a3d",
   "metadata": {},
   "outputs": [
    {
     "data": {
      "text/plain": [
       "'HELLO'"
      ]
     },
     "execution_count": 6,
     "metadata": {},
     "output_type": "execute_result"
    }
   ],
   "source": [
    "//javascript\n",
    "\"hello\".toUpperCase()"
   ]
  },
  {
   "cell_type": "markdown",
   "id": "7b9f5836",
   "metadata": {},
   "source": [
    "##### toLowerCase"
   ]
  },
  {
   "cell_type": "code",
   "execution_count": 7,
   "id": "e3b50845",
   "metadata": {},
   "outputs": [
    {
     "data": {
      "text/plain": [
       "'hello'"
      ]
     },
     "execution_count": 7,
     "metadata": {},
     "output_type": "execute_result"
    }
   ],
   "source": [
    "//javascript\n",
    "\"HEllO\".toLowerCase()"
   ]
  },
  {
   "cell_type": "markdown",
   "id": "54898f39",
   "metadata": {},
   "source": [
    "##### indexOf"
   ]
  },
  {
   "cell_type": "code",
   "execution_count": 9,
   "id": "cfdbccca",
   "metadata": {},
   "outputs": [
    {
     "data": {
      "text/plain": [
       "2"
      ]
     },
     "execution_count": 9,
     "metadata": {},
     "output_type": "execute_result"
    }
   ],
   "source": [
    "//javascript\n",
    "\"Hello\".indexOf(\"l\")"
   ]
  },
  {
   "cell_type": "code",
   "execution_count": 24,
   "id": "cc666e16",
   "metadata": {},
   "outputs": [
    {
     "data": {
      "text/plain": [
       "2"
      ]
     },
     "execution_count": 24,
     "metadata": {},
     "output_type": "execute_result"
    }
   ],
   "source": [
    "//javascript\n",
    "\"He111111o\".indexOf(\"111\")"
   ]
  },
  {
   "cell_type": "markdown",
   "id": "f33c8663",
   "metadata": {},
   "source": [
    "##### replace"
   ]
  },
  {
   "cell_type": "code",
   "execution_count": 12,
   "id": "56c34bb8",
   "metadata": {},
   "outputs": [
    {
     "data": {
      "text/plain": [
       "'Healo'"
      ]
     },
     "execution_count": 12,
     "metadata": {},
     "output_type": "execute_result"
    }
   ],
   "source": [
    "//javascript\n",
    "\"Hello\".replace(\"l\",\"a\")"
   ]
  },
  {
   "cell_type": "code",
   "execution_count": 26,
   "id": "cf707873",
   "metadata": {},
   "outputs": [
    {
     "data": {
      "text/plain": [
       "'Heao'"
      ]
     },
     "execution_count": 26,
     "metadata": {},
     "output_type": "execute_result"
    }
   ],
   "source": [
    "//javascript\n",
    "\"He199o\".replace(/[0-9]+/,\"a\")"
   ]
  },
  {
   "cell_type": "markdown",
   "id": "7dd2d366",
   "metadata": {},
   "source": [
    "##### match"
   ]
  },
  {
   "cell_type": "code",
   "execution_count": 15,
   "id": "e77c840c",
   "metadata": {},
   "outputs": [
    {
     "data": {
      "text/plain": [
       "[ 'l', index: 2, input: 'Hello', groups: undefined ]"
      ]
     },
     "execution_count": 15,
     "metadata": {},
     "output_type": "execute_result"
    }
   ],
   "source": [
    "//javascript\n",
    "\"Hello\".match(\"l\")\n"
   ]
  },
  {
   "cell_type": "code",
   "execution_count": 32,
   "id": "8c7eb26f",
   "metadata": {},
   "outputs": [
    {
     "name": "stdout",
     "output_type": "stream",
     "text": [
      "[ '199', '222' ]\n",
      "[ '199', index: 2, input: 'He199o222', groups: undefined ]\n"
     ]
    }
   ],
   "source": [
    "//javascript\n",
    "console.log(\"He199o222\".match(/[0-9]+/g))\n",
    "console.log(\"He199o222\".match(/[0-9]+/i))"
   ]
  },
  {
   "cell_type": "markdown",
   "id": "5e05f5ea",
   "metadata": {},
   "source": [
    "### oop:\n",
    "#### 构造函数:\n",
    "通过构造函数实现封装\n",
    "#### 原型:\n",
    "构造函数通过圆形分配的函数所有该对象公用,可以节省内存\n",
    "\n",
    "prototype是js对象的一个属性.只想另一个对象\n",
    "\n",
    "这个对象可以挂载函数\n",
    "\n",
    "原型对象里的this和构造函数里的this都指向实例化的对象"
   ]
  },
  {
   "cell_type": "code",
   "execution_count": 1,
   "id": "2b38c9e8",
   "metadata": {},
   "outputs": [
    {
     "name": "stdout",
     "output_type": "stream",
     "text": [
      "true\n"
     ]
    }
   ],
   "source": [
    "function Star(uname, age){\n",
    "    this.uname = uname\n",
    "    this.age = age\n",
    "}\n",
    "Star.prototype.sing = function(){\n",
    "    console.log(\"sing\")\n",
    "}\n",
    "const a = new Star(\"a\",12)\n",
    "const b = new Star(\"b\",13)\n",
    "console.log(a.sing == b.sing)\n",
    "// 方法公用"
   ]
  },
  {
   "cell_type": "code",
   "execution_count": 1,
   "id": "62970f42",
   "metadata": {},
   "outputs": [
    {
     "data": {
      "text/plain": [
       "6"
      ]
     },
     "execution_count": 1,
     "metadata": {},
     "output_type": "execute_result"
    }
   ],
   "source": [
    "Array.prototype.sum = function(){\n",
    "    return this.reduce((prev, item) => prev + item, 0)\n",
    "}\n",
    "const a = new Array(1,2,3)\n",
    "a.sum()"
   ]
  },
  {
   "cell_type": "markdown",
   "id": "7258c043",
   "metadata": {},
   "source": [
    "#### constructor:\n",
    "是个prototype的属性,指向原型对象的构造函数"
   ]
  },
  {
   "cell_type": "code",
   "execution_count": 1,
   "id": "56a14301",
   "metadata": {},
   "outputs": [
    {
     "name": "stdout",
     "output_type": "stream",
     "text": [
      "[Function: Star]\n"
     ]
    }
   ],
   "source": [
    "function Star(){\n",
    "}\n",
    "console.log(Star.prototype.constructor)"
   ]
  },
  {
   "cell_type": "code",
   "execution_count": 2,
   "id": "7dcdd84d",
   "metadata": {},
   "outputs": [
    {
     "name": "stdout",
     "output_type": "stream",
     "text": [
      "[Function: Star]\n",
      "----------------------------\n",
      "[Function: Object]\n"
     ]
    }
   ],
   "source": [
    "console.log(Star.prototype.constructor)\n",
    "console.log(\"----------------------------\")\n",
    "Star.prototype = {\n",
    "    sing: function(){\n",
    "        console.log(\"唱歌\")\n",
    "    },\n",
    "    dance: function(){\n",
    "        console.log(\"跳舞\")\n",
    "    }\n",
    "}\n",
    "\n",
    "console.log(Star.prototype.constructor)\n",
    "// 在赋值之后constructor消失"
   ]
  },
  {
   "cell_type": "code",
   "execution_count": 2,
   "id": "074ec98c",
   "metadata": {},
   "outputs": [
    {
     "name": "stdout",
     "output_type": "stream",
     "text": [
      "[Function: Star]\n",
      "----------------------------\n",
      "[Function: Star]\n"
     ]
    }
   ],
   "source": [
    "// 所以这样:\n",
    "console.log(Star.prototype.constructor)\n",
    "console.log(\"----------------------------\")\n",
    "Star.prototype = {\n",
    "    constructor: Star,\n",
    "    sing: function(){\n",
    "        console.log(\"唱歌\")\n",
    "    },\n",
    "    dance: function(){\n",
    "        console.log(\"跳舞\")\n",
    "    }\n",
    "}\n",
    "\n",
    "console.log(Star.prototype.constructor)\n",
    "// 再赋值之后constructor消失"
   ]
  },
  {
   "cell_type": "markdown",
   "id": "19899132",
   "metadata": {},
   "source": [
    "#### 对象原型__proto__\n",
    "是js的非标准属性\n",
    "\n",
    "[[Prototype]]和__proto__是一个意思\n",
    "\n",
    "只读不改,\n",
    "\n",
    "指向构造函数的原型对象,对象原型和原型对象在值上是一个东西"
   ]
  },
  {
   "cell_type": "code",
   "execution_count": 1,
   "id": "564dbef3",
   "metadata": {},
   "outputs": [
    {
     "name": "stdout",
     "output_type": "stream",
     "text": [
      "[Function: Star]\n"
     ]
    }
   ],
   "source": [
    "function Star(){\n",
    "}\n",
    "const a = new Star()\n",
    "console.log(a.__proto__.constructor)"
   ]
  },
  {
   "cell_type": "markdown",
   "id": "4b144d78",
   "metadata": {},
   "source": [
    "#### 原型继承\n"
   ]
  },
  {
   "cell_type": "code",
   "execution_count": 1,
   "id": "6af0efe3",
   "metadata": {},
   "outputs": [
    {
     "name": "stdout",
     "output_type": "stream",
     "text": [
      "6\n",
      "undefined\n"
     ]
    }
   ],
   "source": [
    "function Human(){\n",
    "    this.sense = 5\n",
    "    this.head = 1\n",
    "}\n",
    "function Women(){\n",
    "    this.sense = 6\n",
    "}\n",
    "function Men(){\n",
    "}\n",
    "Women.prototype = Human\n",
    "Women.prototype.constructor = Women\n",
    "Men.prototype = Human\n",
    "Men.prototype.constructor = Men\n",
    "const w = new Women()\n",
    "const m = new Men()\n",
    "console.log(w.sense)\n",
    "console.log(m.sense)"
   ]
  },
  {
   "cell_type": "code",
   "execution_count": 2,
   "id": "785f44a6",
   "metadata": {},
   "outputs": [
    {
     "ename": "SyntaxError",
     "evalue": "Identifier 'w' has already been declared",
     "output_type": "error",
     "traceback": [
      "evalmachine.<anonymous>:1",
      "function Human(){",
      "^",
      "",
      "SyntaxError: Identifier 'w' has already been declared",
      "    at evalmachine.<anonymous>:1:1",
      "    at Script.runInThisContext (vm.js:120:18)",
      "    at Object.runInThisContext (vm.js:309:38)",
      "    at run ([eval]:1020:15)",
      "    at onRunRequest ([eval]:864:18)",
      "    at onMessage ([eval]:828:13)",
      "    at process.emit (events.js:314:20)",
      "    at emit (internal/child_process.js:877:12)",
      "    at processTicksAndRejections (internal/process/task_queues.js:85:21)"
     ]
    }
   ],
   "source": [
    "function Human(){\n",
    "    this.sense = 5\n",
    "    this.head = 1\n",
    "}\n",
    "function Women(){\n",
    "    this.sense = 6\n",
    "}\n",
    "function Men(){\n",
    "}\n",
    "Women.prototype = Human\n",
    "Women.prototype.constructor = Women\n",
    "Men.prototype = Human\n",
    "Men.prototype.constructor = Men\n",
    "const w = new Women()\n",
    "const m = new Men()\n",
    "console.log(w.sense)\n",
    "console.log(m.sense)\n",
    "// 这里两个构造函数指向同一个地址,改一个就都会改"
   ]
  },
  {
   "cell_type": "code",
   "execution_count": null,
   "id": "e1fee349",
   "metadata": {},
   "outputs": [],
   "source": [
    "function Human(){\n",
    "    this.sense = 5\n",
    "    this.head = 1\n",
    "}\n",
    "function Women(){\n",
    "    this.sense = 6\n",
    "}\n",
    "function Men(){\n",
    "}\n",
    "Women.prototype = new Human()\n",
    "Women.prototype.constructor = Women\n",
    "Men.prototype = new Human()\n",
    "Men.prototype.constructor = Men\n",
    "const w = new Women()\n",
    "console.log(w.sense)\n",
    "console.log(m.sense)\n",
    "// 这里两个对象是两个不同的对象"
   ]
  },
  {
   "cell_type": "markdown",
   "id": "96b3a38a",
   "metadata": {},
   "source": [
    "#### 原型链:\n",
    "相当于不断地继承关系"
   ]
  },
  {
   "cell_type": "code",
   "execution_count": 1,
   "id": "f7d40862",
   "metadata": {},
   "outputs": [
    {
     "name": "stdout",
     "output_type": "stream",
     "text": [
      "[Function: Human]\n",
      "[Function: Object]\n"
     ]
    }
   ],
   "source": [
    "function Human(){\n",
    "    \n",
    "}\n",
    "const a = new Human()\n",
    "console.log(Human.prototype.constructor)\n",
    "console.log(Human.prototype.__proto__.constructor)"
   ]
  },
  {
   "cell_type": "markdown",
   "id": "9d4af838",
   "metadata": {},
   "source": [
    "只要是对象就有__proto__指向原型对象\n",
    "\n",
    "只要是圆形对象就有consturctor\n",
    "\n",
    "继承关系为所有->Object->null\n",
    "\n",
    "访问一个对象的属性的时候首先查找自身,然后差上一层原型,一直查到Object为止,__proto__为null\n",
    "\n",
    "可以使用instanceof判断prototype属性是否出现在摸个原形链上"
   ]
  },
  {
   "cell_type": "code",
   "execution_count": 2,
   "id": "e6842c61",
   "metadata": {},
   "outputs": [
    {
     "data": {
      "text/plain": [
       "[ 1, 3, 4, 5 ]"
      ]
     },
     "execution_count": 2,
     "metadata": {},
     "output_type": "execute_result"
    }
   ],
   "source": [
    "var a = [1,2,3,4,5]\n",
    "a.splice(1,1)\n",
    "a"
   ]
  },
  {
   "cell_type": "markdown",
   "id": "3156057a",
   "metadata": {},
   "source": [
    "## 深浅拷贝\n",
    "这样只是设置了一个指针"
   ]
  },
  {
   "cell_type": "code",
   "execution_count": 1,
   "id": "7e25b4e5",
   "metadata": {},
   "outputs": [
    {
     "name": "stdout",
     "output_type": "stream",
     "text": [
      "29\n"
     ]
    }
   ],
   "source": [
    "const obj = {\n",
    "    name: \"aaa\",\n",
    "    age: 20\n",
    "}\n",
    "const o = obj\n",
    "o.age = 29\n",
    "console.log(obj.age)"
   ]
  },
  {
   "cell_type": "markdown",
   "id": "64027349",
   "metadata": {},
   "source": [
    "### 浅拷贝\n",
    "新建 一个对象,对于引用对象还是存一个指针,但是非引用对象正常\n",
    "\n",
    "- Object.assign()\n",
    "- {..obj}\n",
    "- Array.prototype.concat()\n",
    "- [..arr]\n",
    "\n",
    "\n"
   ]
  },
  {
   "cell_type": "code",
   "execution_count": 1,
   "id": "75602bb7",
   "metadata": {},
   "outputs": [
    {
     "name": "stdout",
     "output_type": "stream",
     "text": [
      "{ name: 'aaa', age: 20, family: { a: 'a', b: 'b' } }\n",
      "{ name: 'aaa', age: 12, family: { a: 'a', b: 'b' } }\n"
     ]
    }
   ],
   "source": [
    "const obj = {\n",
    "    name: \"aaa\",\n",
    "    age: 20,\n",
    "    family: {\n",
    "    a: \"a\",\n",
    "    b:\"b\"\n",
    "}\n",
    "}\n",
    "const o = {...obj}\n",
    "o.age=12\n",
    "console.log(obj)\n",
    "console.log(o)"
   ]
  },
  {
   "cell_type": "code",
   "execution_count": 1,
   "id": "0b73997d",
   "metadata": {},
   "outputs": [
    {
     "name": "stdout",
     "output_type": "stream",
     "text": [
      "{ name: 'aaa', age: 20, family: { a: 'aksk', b: 'b' } }\n",
      "{ name: 'aaa', age: 20, family: { a: 'aksk', b: 'b' } }\n"
     ]
    }
   ],
   "source": [
    "const obj = {\n",
    "    name: \"aaa\",\n",
    "    age: 20,\n",
    "    family: {\n",
    "    a: \"a\",\n",
    "    b:\"b\"\n",
    "}\n",
    "}\n",
    "const o = {...obj}\n",
    "o.family.a = \"aksk\"\n",
    "console.log(obj)\n",
    "console.log(o)"
   ]
  },
  {
   "cell_type": "markdown",
   "id": "73ab061b",
   "metadata": {},
   "source": [
    "### 深拷贝:\n",
    "#### 递归"
   ]
  },
  {
   "cell_type": "code",
   "execution_count": null,
   "id": "7019fe84",
   "metadata": {},
   "outputs": [],
   "source": [
    "function deepcopy(o, obj){\n",
    "    \n",
    "    for (let k in Object.entries(obj)){\n",
    "        if (obj[k] instanceof Array){\n",
    "            // 数组instanceof Object == true\n",
    "            \n",
    "            o[k] = []\n",
    "            deepcopy(o[k], obj[k])\n",
    "        } else if (obj[k] instanceof Object){\n",
    "            o[k] = {}\n",
    "            deepcopy(o[k], obj[k])\n",
    "        } else {\n",
    "            o[k] = obj[k]\n",
    "        }\n",
    "    }\n",
    "}"
   ]
  },
  {
   "cell_type": "markdown",
   "id": "871610ae",
   "metadata": {},
   "source": [
    "#### lodash/cloneDeep"
   ]
  },
  {
   "cell_type": "markdown",
   "id": "08d4acce",
   "metadata": {},
   "source": [
    "#### JSON.stringify"
   ]
  },
  {
   "cell_type": "code",
   "execution_count": 1,
   "id": "913ff58c",
   "metadata": {},
   "outputs": [
    {
     "name": "stdout",
     "output_type": "stream",
     "text": [
      "{ name: 'aaa', age: 20, family: { a: 'a', b: 'b' } }\n",
      "{ name: 'aaa', age: 20, family: { a: 'aksk', b: 'b' } }\n"
     ]
    }
   ],
   "source": [
    "const obj = {\n",
    "    name: \"aaa\",\n",
    "    age: 20,\n",
    "    family: {\n",
    "    a: \"a\",\n",
    "    b:\"b\"\n",
    "}\n",
    "}\n",
    "const o = JSON.parse(JSON.stringify(obj))\n",
    "o.family.a = \"aksk\"\n",
    "console.log(obj)\n",
    "console.log(o)"
   ]
  },
  {
   "cell_type": "markdown",
   "id": "d80b341b",
   "metadata": {},
   "source": [
    "## 异常:\n",
    "### throw\n",
    "和java一样, throw new Error()\n",
    "### try/catch\n",
    "### debugger:\n",
    "带要调试的代码框里写debugger,然后在f12里调试\n",
    "\n",
    "## this:\n",
    "### 普通函数:\n",
    "谁调用指向谁\n",
    "\n",
    "#### 箭头函数:\n",
    "不存在this,获取最近可用作用域的this\n",
    "\n",
    "#### 改变this:\n",
    "##### call()\n",
    "```\n",
    "fun.call(thisArg, arg1, arg2.....)\n",
    "```\n",
    "thisArg就是fun函数在运行的时候指定的this值\n",
    "\n",
    "args1,2,3是正常fun的参数\n",
    "\n",
    "返回值就是fun的返回值\n",
    "##### apply()\n",
    "\n",
    "\n",
    "```\n",
    "fun.apply(thisArgs,[argsArray])\n",
    "```\n",
    "\n",
    "\n",
    "相当于\n",
    "\n",
    "```\n",
    "fun.call(thisArgs, ...[argsArray])\n",
    "```\n",
    "##### bind()\n",
    "不会调用函数,但是可以改变this指向\n",
    "\n",
    "```\n",
    "fun.bind(thisArg, arg1, arg2.....)\n",
    "```"
   ]
  },
  {
   "cell_type": "markdown",
   "id": "0f62f3e7",
   "metadata": {},
   "source": [
    "## 防抖:\n",
    "单位时间内频繁触发时间只执行最后一次, 回城,被打断重新来\n",
    "### lodash\n",
    "```\n",
    "_.debounce(fun, [wait = 0], [option = ])\n",
    "```\n",
    "\n",
    "### 手写:\n",
    "debounce.html"
   ]
  },
  {
   "cell_type": "markdown",
   "id": "958c55bd",
   "metadata": {},
   "source": [
    "## 节流:\n",
    "单位时间内,频繁出发时间,只执行一次,就是设置技能cd\n",
    "### lodash\n",
    "```\n",
    "_.throttle(fun, [wait = 0], [option=])\n",
    "```"
   ]
  },
  {
   "cell_type": "code",
   "execution_count": null,
   "id": "e2da18bf",
   "metadata": {},
   "outputs": [],
   "source": []
  }
 ],
 "metadata": {
  "hide_input": false,
  "kernelspec": {
   "display_name": "JavaScript (Node.js)",
   "language": "javascript",
   "name": "javascript"
  },
  "language_info": {
   "file_extension": ".js",
   "mimetype": "application/javascript",
   "name": "javascript",
   "version": "12.22.9"
  },
  "toc": {
   "base_numbering": 1,
   "nav_menu": {},
   "number_sections": true,
   "sideBar": true,
   "skip_h1_title": false,
   "title_cell": "Table of Contents",
   "title_sidebar": "Contents",
   "toc_cell": false,
   "toc_position": {},
   "toc_section_display": true,
   "toc_window_display": false
  }
 },
 "nbformat": 4,
 "nbformat_minor": 5
}
